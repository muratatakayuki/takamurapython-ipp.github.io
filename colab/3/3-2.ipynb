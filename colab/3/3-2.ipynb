{
  "cells": [
    {
      "cell_type": "markdown",
      "metadata": {
        "id": "4Eq6ueGsWfAV"
      },
      "source": [
        "# 3-2. 繰り返し\n",
        "\n",
        "制御構造のうち**繰り返し**について説明します。\n",
        "\n",
        "参考:\n",
        "\n",
        "- https://docs.python.org/ja/3/tutorial/controlflow.html#for-statements\n",
        "- https://docs.python.org/ja/3/tutorial/controlflow.html#the-range-function\n",
        "- https://docs.python.org/ja/3/tutorial/introduction.html#first-steps-towards-programming\n",
        "- https://docs.python.org/ja/3/tutorial/controlflow.html#break-and-continue-statements-and-else-clauses-on-loops\n",
        "- https://docs.python.org/ja/3/tutorial/controlflow.html#pass-statements\n",
        "\n",
        "繰り返しを行う制御構造 `for` や `while` によって、同じ処理の繰り返しを簡単にプログラムすることができます。\n",
        "\n",
        "## for文による繰り返し\n",
        "\n",
        "2-2で、リストと文字列に対するfor文の繰り返しについて説明しました。\n",
        "Pythonにおける**for文**の一般的な文法は以下のとおりです。\n",
        "\n",
        "---\n",
        "```Python\n",
        "for 変数 in 文字列・リスト・辞書など:\n",
        "    実行文\n",
        "```\n",
        "\n",
        "---\n",
        "\n",
        "if文と同様、 実行文のインデントは深くなっていることに注意してください。\n",
        "\n",
        "for文では `in` 以降に与えられる、`文字列・リスト・辞書など` にわたって、\n",
        "`実行文` のグループを繰り返します。\n",
        "一般に繰り返しの順番は文字列・リスト・辞書などに要素が現れる順番で、\n",
        "要素は **`for`** と **`in`** の間の `変数` に代入されます。"
      ]
    },
    {
      "cell_type": "markdown",
      "metadata": {
        "id": "_3ak-PukWfAY"
      },
      "source": [
        "リストの場合、リストの要素が最初から順番に取り出されます。以下に具体例を示します。関数 `len` は文字列の長さを返します。"
      ]
    },
    {
      "cell_type": "code",
      "execution_count": 1,
      "metadata": {
        "id": "FDjBhnFRWfAa",
        "outputId": "81491c41-7798-416d-9b29-b01ad683ff12",
        "colab": {
          "base_uri": "https://localhost:8080/"
        }
      },
      "outputs": [
        {
          "output_type": "stream",
          "name": "stdout",
          "text": [
            "dog 3\n",
            "cat 3\n",
            "mouse 5\n",
            "finish\n"
          ]
        }
      ],
      "source": [
        "words = ['dog', 'cat', 'mouse']\n",
        "for w in words:\n",
        "    print(w, len(w))\n",
        "print('finish')"
      ]
    },
    {
      "cell_type": "markdown",
      "metadata": {
        "id": "EO7THy_1WfAc"
      },
      "source": [
        "このプログラムで、for文には3つの文字列で構成されるリスト `words` が与えられています。\n",
        "リストの要素は変数 `w` に順番に代入され、文字列とその長さが印字されます。\n",
        "そして、最後の要素の処理がおわればfor文の繰り返し（**ループ**）を抜け、完了メッセージを印字します。"
      ]
    },
    {
      "cell_type": "markdown",
      "metadata": {
        "id": "hO1BgkViWfAd"
      },
      "source": [
        "次は文字列に対する for文の例です。文字列を構成する文字が先頭から一文字ずつ文字列として取り出されます。"
      ]
    },
    {
      "cell_type": "code",
      "execution_count": 2,
      "metadata": {
        "id": "zBtCQ5cuWfAd",
        "outputId": "d80b450a-2d14-44de-f81e-a8101720843d",
        "colab": {
          "base_uri": "https://localhost:8080/"
        }
      },
      "outputs": [
        {
          "output_type": "stream",
          "name": "stdout",
          "text": [
            "s\n",
            "u\n",
            "p\n",
            "e\n",
            "r\n",
            "c\n",
            "a\n",
            "l\n",
            "i\n",
            "f\n",
            "r\n",
            "a\n",
            "g\n",
            "i\n",
            "l\n",
            "i\n",
            "s\n",
            "t\n",
            "i\n",
            "c\n",
            "e\n",
            "x\n",
            "p\n",
            "i\n",
            "a\n",
            "l\n",
            "i\n",
            "d\n",
            "o\n",
            "c\n",
            "i\n",
            "o\n",
            "u\n",
            "s\n"
          ]
        }
      ],
      "source": [
        "word = 'supercalifragilisticexpialidocious'\n",
        "for c in word:\n",
        "    print(c)"
      ]
    },
    {
      "cell_type": "markdown",
      "metadata": {
        "id": "Tpmzzh7lWfAe"
      },
      "source": [
        "組み込み関数 **`ord`** は与えられた文字の番号（コード）を整数として返します。\n",
        "組み込み関数 **`chr`** は逆に与えられた整数をコードとする文字を返します。"
      ]
    },
    {
      "cell_type": "code",
      "execution_count": 8,
      "metadata": {
        "id": "flAzrAUbWfAe",
        "outputId": "cb8ddb99-ba31-4c09-c4dd-bef27ab60201",
        "colab": {
          "base_uri": "https://localhost:8080/"
        }
      },
      "outputs": [
        {
          "output_type": "stream",
          "name": "stdout",
          "text": [
            "97\n",
            "98\n",
            "122\n",
            "&\n"
          ]
        }
      ],
      "source": [
        "print(ord('a'))\n",
        "print(ord('b'))\n",
        "print(ord('z'))\n",
        "\n",
        "print(chr(38))"
      ]
    },
    {
      "cell_type": "markdown",
      "metadata": {
        "id": "gyo2DcMcWfAf"
      },
      "source": [
        "上で確認しているように、文字 `'a'`, `'b'`, `'z'` のコードはそれぞれ `97`, `98`, `112` です。文字のコードは `'a'` から `'z'` までは連続して `1` ずつ増えていきます。\n",
        "\n",
        "これを用いて以下のように英小文字から成る文字列の中の各文字の頻度を求めることができます。"
      ]
    },
    {
      "cell_type": "code",
      "execution_count": 9,
      "metadata": {
        "id": "WmHT66olWfAg",
        "outputId": "e831d875-fcaf-4892-f92f-e9a62f96d9d4",
        "colab": {
          "base_uri": "https://localhost:8080/"
        }
      },
      "outputs": [
        {
          "output_type": "stream",
          "name": "stdout",
          "text": [
            "[3, 0, 3, 1, 2, 1, 1, 0, 7, 0, 0, 3, 0, 0, 2, 2, 0, 2, 3, 1, 2, 0, 0, 1, 0, 0]\n"
          ]
        }
      ],
      "source": [
        "height = [0] * 26\n",
        "for c in word:\n",
        "    height[ord(c) - ord('a')] += 1\n",
        "\n",
        "print(height)"
      ]
    },
    {
      "cell_type": "markdown",
      "metadata": {
        "id": "YKqQhAp7WfAg"
      },
      "source": [
        "`height` を視覚化してみましょう。詳しくは、付録の 5-matplotlib を参照してください。"
      ]
    },
    {
      "cell_type": "code",
      "execution_count": 10,
      "metadata": {
        "id": "fMQhOjwBWfAh",
        "outputId": "4d16e02d-f51e-47d8-89ce-adad25bc4769",
        "colab": {
          "base_uri": "https://localhost:8080/",
          "height": 447
        }
      },
      "outputs": [
        {
          "output_type": "execute_result",
          "data": {
            "text/plain": [
              "[<matplotlib.lines.Line2D at 0x7eb7bc9774a0>]"
            ]
          },
          "metadata": {},
          "execution_count": 10
        },
        {
          "output_type": "display_data",
          "data": {
            "text/plain": [
              "<Figure size 640x480 with 1 Axes>"
            ],
            "image/png": "[encoded data removed]"
          },
          "metadata": {}
        }
      ],
      "source": [
        "import matplotlib.pyplot as plt\n",
        "\n",
        "plt.plot(height)"
      ]
    },
    {
      "cell_type": "code",
      "execution_count": 11,
      "metadata": {
        "id": "xPJZpjwbWfAh",
        "outputId": "0127ca95-5de4-4538-980d-6c6dd41204af",
        "colab": {
          "base_uri": "https://localhost:8080/",
          "height": 447
        }
      },
      "outputs": [
        {
          "output_type": "execute_result",
          "data": {
            "text/plain": [
              "<BarContainer object of 26 artists>"
            ]
          },
          "metadata": {},
          "execution_count": 11
        },
        {
          "output_type": "display_data",
          "data": {
            "text/plain": [
              "<Figure size 640x480 with 1 Axes>"
            ],
            "image/png": "[encoded data removed]"
          },
          "metadata": {}
        }
      ],
      "source": [
        "left = list(range(26))  # range関数については以下を参照してください。\n",
        "labels = [chr(i + ord('a')) for i in range(26)]  # 内包表記については 6-1 を参照ください。\n",
        "plt.bar(left,height,tick_label=labels)"
      ]
    },
    {
      "cell_type": "markdown",
      "metadata": {
        "id": "Wx-jHGk8WfAi"
      },
      "source": [
        "## for文による繰り返しと辞書\n",
        "\n",
        "辞書の要素にわたって操作を繰り返したい場合もfor文を用います。\n",
        "辞書 `dic1` の全てのキーを変数 `key` に代入しながら、`実行文` を繰り返すには次のように書きます。\n",
        "\n",
        "---\n",
        "```Python\n",
        "for key in dic1:\n",
        "    実行文\n",
        "```\n",
        "---\n",
        "\n",
        "`for` の行の `in` の後を、`dic1` の代わりに `dic1.keys()` としても振舞いは同等であり、辞書のキー一覧を返す **`keys`** メソッドが自動的に使われます。\n",
        "\n",
        "次の例では、キーを1つずつ取り出し、`key` に代入した後、\n",
        "`key` に対応する値を参照しています。"
      ]
    },
    {
      "cell_type": "code",
      "execution_count": 12,
      "metadata": {
        "id": "LTTRdglyWfAi",
        "outputId": "08f50566-6508-4f02-b8ee-3d88d6762a16",
        "colab": {
          "base_uri": "https://localhost:8080/"
        }
      },
      "outputs": [
        {
          "output_type": "stream",
          "name": "stdout",
          "text": [
            "key: cat , value: 3\n",
            "key: dog , value: 3\n",
            "key: elephant , value: 8\n"
          ]
        }
      ],
      "source": [
        "dic1 = {'cat': 3, 'dog': 3, 'elephant': 8}\n",
        "for key in dic1:\n",
        "    print('key:', key, ', value:', dic1[key])"
      ]
    },
    {
      "cell_type": "markdown",
      "metadata": {
        "id": "XeBUDDGVWfAj"
      },
      "source": [
        "**`values`** メソッドを使えば（キーを使わずに）値を1つずつ取り出すこともできます。"
      ]
    },
    {
      "cell_type": "code",
      "execution_count": 13,
      "metadata": {
        "id": "TnzS_9_IWfAj",
        "outputId": "647c2b36-71ab-49ac-a7dc-7d56a7076989",
        "colab": {
          "base_uri": "https://localhost:8080/"
        }
      },
      "outputs": [
        {
          "output_type": "stream",
          "name": "stdout",
          "text": [
            "value: 3\n",
            "value: 3\n",
            "value: 8\n"
          ]
        }
      ],
      "source": [
        "dic1 = {'cat': 3, 'dog': 3, 'elephant': 8}\n",
        "for value in dic1.values():\n",
        "    print('value:', value)"
      ]
    },
    {
      "cell_type": "markdown",
      "metadata": {
        "id": "amZPRjA6WfAj"
      },
      "source": [
        "**`items`** メソッドを使えばキーと値を一度に取り出すこともできます。\n",
        "次の例では、`in` の左辺に複数の変数を指定し多重代入を行っています。"
      ]
    },
    {
      "cell_type": "code",
      "execution_count": 14,
      "metadata": {
        "id": "-oVeauolWfAk",
        "outputId": "51d0adc4-0c7b-43aa-ba20-505fd7e4c447",
        "colab": {
          "base_uri": "https://localhost:8080/"
        }
      },
      "outputs": [
        {
          "output_type": "stream",
          "name": "stdout",
          "text": [
            "key: cat value: 3\n",
            "key: dog value: 3\n",
            "key: elephant value: 8\n"
          ]
        }
      ],
      "source": [
        "dic1 = {'cat': 3, 'dog': 3, 'elephant': 8}\n",
        "for key, value in dic1.items():\n",
        "    print('key:', key, 'value:', value)"
      ]
    },
    {
      "cell_type": "markdown",
      "metadata": {
        "id": "VtznrCg8WfAk"
      },
      "source": [
        "実は、辞書の `items` でなくとも、タプルのリストもしくはリストのリストに対しても、同様に複数の変数を指定することができます。"
      ]
    },
    {
      "cell_type": "code",
      "execution_count": 15,
      "metadata": {
        "id": "1V3yaHyrWfAk",
        "outputId": "b38cfd2e-8ae3-4028-fcc9-1d578ffe32b1",
        "colab": {
          "base_uri": "https://localhost:8080/"
        }
      },
      "outputs": [
        {
          "output_type": "stream",
          "name": "stdout",
          "text": [
            "0 10\n",
            "1 20\n",
            "2 30\n"
          ]
        }
      ],
      "source": [
        "list1 = [[0, 10], [1, 20], [2, 30]]\n",
        "for i, j in list1:\n",
        "    print(i, j)"
      ]
    },
    {
      "cell_type": "markdown",
      "metadata": {
        "id": "-yBXD8pJWfAl"
      },
      "source": [
        "## 練習\n",
        "\n",
        "辞書 `dic1` が引数として与えられたとき、次のような辞書 `dic2` を返す関数 `reverse_lookup2` を作成してください。ただし、 `dic1` のキー `key` の値が `value` である場合、 `dic2` には `value` というキーが登録されており、その値は `key` であるとします。また、 `dic1` は異なる2つのキーに対応する値は必ず異なるとします。\n",
        "\n",
        "以下のセルの `...` のところを書き換えて `reverse_lookup2` を作成してください。"
      ]
    },
    {
      "cell_type": "code",
      "execution_count": 37,
      "metadata": {
        "id": "N9mpJ3iMWfAl"
      },
      "outputs": [],
      "source": [
        "def reverse_lookup2(dic1):\n",
        "    dic2 = {}\n",
        "    for key, value in dic1.items():\n",
        "        dic2[value] = key\n",
        "    return dic2"
      ]
    },
    {
      "cell_type": "markdown",
      "metadata": {
        "id": "Aje-XoJGWfAl"
      },
      "source": [
        "上のセルで解答を作成した後、以下のセルを実行し、実行結果が `True` になることを確認してください。"
      ]
    },
    {
      "cell_type": "code",
      "execution_count": 38,
      "metadata": {
        "tags": [
          "raises-exception"
        ],
        "id": "kRQ8bW7GWfAm",
        "outputId": "4735bf79-f667-476d-ae15-bbf9da63f268",
        "colab": {
          "base_uri": "https://localhost:8080/"
        }
      },
      "outputs": [
        {
          "output_type": "stream",
          "name": "stdout",
          "text": [
            "True\n",
            "{3: 'apple', 5: 'pen', 7: 'orange'}\n"
          ]
        }
      ],
      "source": [
        "print(reverse_lookup2({'apple': 3, 'pen': 5, 'orange': 7}) == { 3:'apple', 5: 'pen', 7: 'orange'})\n",
        "print(reverse_lookup2({'apple': 3, 'pen': 5, 'orange': 7}))"
      ]
    },
    {
      "cell_type": "markdown",
      "metadata": {
        "id": "9tfqwGpiWfAm"
      },
      "source": [
        "## `range`\n",
        "\n",
        "特定の回数の繰り返し処理が必要なときは、**`range`** 関数を用います。\n",
        "\n",
        "---\n",
        "```Python\n",
        "for value in range(j):\n",
        "    実行文\n",
        "```\n",
        "---\n",
        "\n",
        "これによって実行文を `j` 回実行します。具体例を見てみましょう。"
      ]
    },
    {
      "cell_type": "code",
      "execution_count": 2,
      "metadata": {
        "id": "DksVz5zrWfAm",
        "outputId": "a37cd8a8-b75d-44a7-c155-d5dcae666320",
        "colab": {
          "base_uri": "https://localhost:8080/"
        }
      },
      "outputs": [
        {
          "output_type": "stream",
          "name": "stdout",
          "text": [
            "Hi!\n",
            "Hi!\n",
            "Hi!\n",
            "Hi!\n",
            "Hi!\n"
          ]
        }
      ],
      "source": [
        "for value in range(5):\n",
        "    print('Hi!')"
      ]
    },
    {
      "cell_type": "markdown",
      "metadata": {
        "id": "Yd6DKMQxWfAm"
      },
      "source": [
        "さて、`for` と `in` の間の `value` は変数ですが、 `value` には何が入っているのか確認してみましょう。"
      ]
    },
    {
      "cell_type": "code",
      "execution_count": 3,
      "metadata": {
        "id": "JecNT_CEWfAm",
        "outputId": "e4da8142-c8c8-4d0c-b78d-3ef107f2fdd5",
        "colab": {
          "base_uri": "https://localhost:8080/"
        }
      },
      "outputs": [
        {
          "output_type": "stream",
          "name": "stdout",
          "text": [
            "0\n",
            "1\n",
            "2\n",
            "3\n",
            "4\n"
          ]
        }
      ],
      "source": [
        "for value in range(5):\n",
        "    print(value)"
      ]
    },
    {
      "cell_type": "markdown",
      "metadata": {
        "id": "nVJCrq3eWfAm"
      },
      "source": [
        "すなわち、`value` は `0` ～ `4` を動くことがわかります。\n",
        "\n",
        "この `value` の値を用いることでリスト `ln` の要素を順番に用いることもできます。\n",
        "回数としてリストの長さ `len(ln)` を指定します。"
      ]
    },
    {
      "cell_type": "code",
      "execution_count": 4,
      "metadata": {
        "id": "hS9ez7neWfAn",
        "outputId": "f80aebfa-e656-465e-a42b-1aa176d43c0f",
        "colab": {
          "base_uri": "https://localhost:8080/"
        }
      },
      "outputs": [
        {
          "output_type": "stream",
          "name": "stdout",
          "text": [
            "e\n",
            "d\n",
            "a\n",
            "c\n",
            "f\n",
            "b\n"
          ]
        }
      ],
      "source": [
        "ln = ['e', 'd', 'a', 'c', 'f', 'b']\n",
        "for value in range(len(ln)):\n",
        "    print(ln[value])"
      ]
    },
    {
      "cell_type": "markdown",
      "metadata": {
        "id": "pIpRV60EWfAn"
      },
      "source": [
        "`range()` 関数は:\n",
        "\n",
        "1. 引数を1つ与えると `0` から引数までの整数列を返します。\n",
        "    このとき引数の値は含まれないことの注意してください。\n",
        "2. 引数を2つあるいは3つ与えると:\n",
        "    * 最初の引数を数列の開始 (start)、2番目を停止 (stop)、3番目を数列の刻み (step) とする整数列を返します。\n",
        "    * 3番目の引数は省略可能で、既定値は `1` となっています。\n",
        "    * 2番目の引数の値は含まれないことの注意してください。\n",
        "\n",
        "以下の例は、`0` から `9` までの整数列の総和を計算、印字するプログラムです:"
      ]
    },
    {
      "cell_type": "code",
      "execution_count": 5,
      "metadata": {
        "id": "vGUGGqmTWfAn",
        "outputId": "edcc48ee-c0f2-4b66-f5c3-feeb95f56d3d",
        "colab": {
          "base_uri": "https://localhost:8080/"
        }
      },
      "outputs": [
        {
          "output_type": "stream",
          "name": "stdout",
          "text": [
            "45\n"
          ]
        }
      ],
      "source": [
        "s = 0\n",
        "for i in range(10):\n",
        "    s = s + i\n",
        "\n",
        "print(s)"
      ]
    },
    {
      "cell_type": "markdown",
      "metadata": {
        "id": "WR2sENexWfAn"
      },
      "source": [
        "以下の例は、`1` から `9` までの奇数の総和を計算、印字するプログラムです。"
      ]
    },
    {
      "cell_type": "code",
      "execution_count": 6,
      "metadata": {
        "id": "_gNw4HUwWfAo",
        "outputId": "156d38cc-02ce-4b53-941e-c76fb79c4e16",
        "colab": {
          "base_uri": "https://localhost:8080/"
        }
      },
      "outputs": [
        {
          "output_type": "stream",
          "name": "stdout",
          "text": [
            "25\n"
          ]
        }
      ],
      "source": [
        "s = 0\n",
        "for i in range(1,10,2):\n",
        "    s = s + i\n",
        "\n",
        "print(s)"
      ]
    },
    {
      "cell_type": "markdown",
      "metadata": {
        "id": "zGdwrdqrWfAo"
      },
      "source": [
        "## 練習\n",
        "引数で与えられる2つの整数 `x`, `y` 間（`x`, `y` を含む）の整数の総和を返す関数 `sum_n` を for文を利用して作成してください。\n",
        "たとえば、`sum_n(1,3)` の結果は `1 + 2 + 3 = 6` となります。\n",
        "\n",
        "以下のセルの `...` のところを書き換えて `sum_n` を作成してください。"
      ]
    },
    {
      "cell_type": "code",
      "execution_count": 17,
      "metadata": {
        "id": "SL4stTIKWfAo"
      },
      "outputs": [],
      "source": [
        "def sum_n(x, y):\n",
        "    s=0\n",
        "    for i in range(x,y+1,1):\n",
        "        s=s+i\n",
        "    return (s)\n",
        ""
      ]
    },
    {
      "cell_type": "markdown",
      "metadata": {
        "id": "GhLKgrhxWfAo"
      },
      "source": [
        "上のセルで解答を作成した後、以下のセルを実行し、実行結果が `True` になることを確認してください。"
      ]
    },
    {
      "cell_type": "code",
      "execution_count": 18,
      "metadata": {
        "tags": [
          "raises-exception"
        ],
        "id": "HM8PZTcuWfAo",
        "outputId": "1a3cfedb-92f7-4ed3-a172-eb0588af6364",
        "colab": {
          "base_uri": "https://localhost:8080/"
        }
      },
      "outputs": [
        {
          "output_type": "stream",
          "name": "stdout",
          "text": [
            "True\n"
          ]
        }
      ],
      "source": [
        "print(sum_n(1, 3) == 6)"
      ]
    },
    {
      "cell_type": "markdown",
      "metadata": {
        "id": "QIkW7na7WfA_"
      },
      "source": [
        "## 練習\n",
        "整数 `int_size` を引数として取り、\n",
        "長さが `int_size` であるリスト `ln` を返す関数 `construct_list` を作成してください。\n",
        "ただし、 `ln` の `i` 番目の要素は `i` とします（`i` は 0 以上 `int_size-1` 以下の整数）。\n",
        "\n",
        "以下のセルの `...` のところを書き換えて `construct_list(int_size)` を作成してください。"
      ]
    },
    {
      "cell_type": "code",
      "execution_count": 24,
      "metadata": {
        "id": "8PG5XM2JWfA_"
      },
      "outputs": [],
      "source": [
        "def construct_list(int_size):\n",
        "\n",
        "      return list(range(int_size))\n",
        ""
      ]
    },
    {
      "cell_type": "markdown",
      "metadata": {
        "id": "KLPEPpNeWfA_"
      },
      "source": [
        "上のセルで解答を作成した後、以下のセルを実行し、実行結果が `True` になることを確認してください。"
      ]
    },
    {
      "cell_type": "code",
      "execution_count": 25,
      "metadata": {
        "tags": [
          "raises-exception"
        ],
        "id": "jQk3pOwGWfBA",
        "outputId": "6c66059d-a0cf-49dc-8afd-c40704bc865c",
        "colab": {
          "base_uri": "https://localhost:8080/"
        }
      },
      "outputs": [
        {
          "output_type": "stream",
          "name": "stdout",
          "text": [
            "True\n"
          ]
        }
      ],
      "source": [
        "print(construct_list(10) == [0, 1, 2, 3, 4, 5, 6, 7, 8, 9])"
      ]
    },
    {
      "cell_type": "markdown",
      "metadata": {
        "id": "2h1siMMTWfBA"
      },
      "source": [
        "## `range` とリスト\n",
        "**`range`** 関数は整数列を返しますが、リストを返さないことに注意してください。\n",
        "これは、繰り返し回数の大きな for文などで大きなリストを作ると無駄が大きくなるためです。\n",
        "\n",
        "`range` 関数を利用して整数列のリストを生成するには、\n",
        "以下のように `list` を関数として用いて、明示的にリスト化する必要があります。"
      ]
    },
    {
      "cell_type": "code",
      "execution_count": 26,
      "metadata": {
        "id": "MdgCShOeWfBA",
        "outputId": "f6c95378-611a-4dd7-a86d-aac67a39775e",
        "colab": {
          "base_uri": "https://localhost:8080/"
        }
      },
      "outputs": [
        {
          "output_type": "stream",
          "name": "stdout",
          "text": [
            "[0, 1, 2, 3, 4]\n"
          ]
        }
      ],
      "source": [
        "seq_list = list(range(5))\n",
        "print(seq_list)"
      ]
    },
    {
      "cell_type": "markdown",
      "metadata": {
        "id": "yKno-BceWfBA"
      },
      "source": [
        "## for文の**入れ子**\n",
        "for文を多重に**入れ子**（**ネスト**）して使うこともよくあります。  まずは次の例を実行してみてください。"
      ]
    },
    {
      "cell_type": "code",
      "execution_count": 27,
      "metadata": {
        "id": "7qH5nl8iWfBB",
        "outputId": "54468282-f452-4596-fb51-a6acf119dc05",
        "colab": {
          "base_uri": "https://localhost:8080/"
        }
      },
      "outputs": [
        {
          "output_type": "stream",
          "name": "stdout",
          "text": [
            "list1の 1 番目の要素（リスト）の 1 番目の要素 = a\n",
            "list1の 1 番目の要素（リスト）の 2 番目の要素 = b\n",
            "list1の 1 番目の要素（リスト）の 3 番目の要素 = c\n",
            "list1の 2 番目の要素（リスト）の 1 番目の要素 = d\n",
            "list1の 2 番目の要素（リスト）の 2 番目の要素 = e\n",
            "list1の 2 番目の要素（リスト）の 3 番目の要素 = f\n",
            "list1の 3 番目の要素（リスト）の 1 番目の要素 = g\n",
            "list1の 3 番目の要素（リスト）の 2 番目の要素 = h\n",
            "list1の 3 番目の要素（リスト）の 3 番目の要素 = i\n",
            "list1の 4 番目の要素（リスト）の 1 番目の要素 = j\n",
            "list1の 4 番目の要素（リスト）の 2 番目の要素 = k\n",
            "list1の 4 番目の要素（リスト）の 3 番目の要素 = l\n"
          ]
        }
      ],
      "source": [
        "list1 = [['a', 'b', 'c'], ['d', 'e', 'f'], ['g', 'h', 'i'], ['j', 'k', 'l']]\n",
        "\n",
        "for i in range(4):\n",
        "    for j in range(3):\n",
        "        print('list1の', i + 1, '番目の要素（リスト）の', j + 1, '番目の要素 =', list1[i][j])"
      ]
    },
    {
      "cell_type": "markdown",
      "metadata": {
        "id": "R8zGOKxxWfBB"
      },
      "source": [
        "`i = 0` のときに、2番目（内側）のfor文において、\n",
        "`j` に `0` から `2` までの値が順に代入されて、各場合に `print` が実行されます。\n",
        "その後、2番目の for文の実行が終わると、1番目（外側）のfor文の最初に戻って、\n",
        "`i` の値に新しい値が代入されて、`i = 1` になります。\n",
        "その後、再度 2番目のfor文を実行することになります。\n",
        "このときに、この2番目の for文の中で `j` には再度、`0` から `2` までの値が順に代入されることになります。\n",
        "\n",
        "決して、「最初に `j = 2` まで代入したから、\n",
        "もう2番目のfor文は実行しない」という訳ではないことに注意してください。\n",
        "一度for文の実行を終えて、再度同じfor文（上の例でいうところの2番目の for文）に戻ってきた場合、\n",
        "その手続きはまた最初からやり直すことになるのです。"
      ]
    },
    {
      "cell_type": "markdown",
      "metadata": {
        "id": "uFJUzCGoWfBB"
      },
      "source": [
        "以下のプログラムは、変数 `C` に組み合わせの数をリストのリストとして求めます。\n",
        "\n",
        "`C[i][j]` は、`i` 個から `j` 個を選ぶ組み合わせの数になります。"
      ]
    },
    {
      "cell_type": "code",
      "execution_count": 31,
      "metadata": {
        "id": "-FEo-GYlWfBB",
        "outputId": "1d8e7752-9c6d-42b7-ef85-192a0f02b784",
        "colab": {
          "base_uri": "https://localhost:8080/"
        }
      },
      "outputs": [
        {
          "output_type": "execute_result",
          "data": {
            "text/plain": [
              "[[1],\n",
              " [1, 1],\n",
              " [1, 2, 1],\n",
              " [1, 3, 3, 1],\n",
              " [1, 4, 6, 4, 1],\n",
              " [1, 5, 10, 10, 5, 1],\n",
              " [1, 6, 15, 20, 15, 6, 1],\n",
              " [1, 7, 21, 35, 35, 21, 7, 1],\n",
              " [1, 8, 28, 56, 70, 56, 28, 8, 1],\n",
              " [1, 9, 36, 84, 126, 126, 84, 36, 9, 1]]"
            ]
          },
          "metadata": {},
          "execution_count": 31
        }
      ],
      "source": [
        "C = [[1]]\n",
        "for i in range(100):\n",
        "    C.append([1]+[0]*i+[1])\n",
        "    for j in range(i):\n",
        "        C[i+1][j+1] = C[i][j] + C[i][j+1]\n",
        "\n",
        "C[:10]"
      ]
    },
    {
      "cell_type": "markdown",
      "metadata": {
        "id": "n92RuxOPWfBC"
      },
      "source": [
        "`C[100]` を視覚化してみましょう。"
      ]
    },
    {
      "cell_type": "code",
      "execution_count": 33,
      "metadata": {
        "id": "C8MPeD7RWfBC",
        "outputId": "027459cd-14cd-4d82-a827-bad7d6cc41ed",
        "colab": {
          "base_uri": "https://localhost:8080/",
          "height": 462
        }
      },
      "outputs": [
        {
          "output_type": "execute_result",
          "data": {
            "text/plain": [
              "[<matplotlib.lines.Line2D at 0x7d2c37c46c60>]"
            ]
          },
          "metadata": {},
          "execution_count": 33
        },
        {
          "output_type": "display_data",
          "data": {
            "text/plain": [
              "<Figure size 640x480 with 1 Axes>"
            ],
            "image/png": "[encoded data removed]"
          },
          "metadata": {}
        }
      ],
      "source": [
        "import matplotlib.pyplot as plt\n",
        "plt.plot(C[100])\n"
      ]
    },
    {
      "cell_type": "markdown",
      "metadata": {
        "id": "0IU2cekeWfBC"
      },
      "source": [
        "## 練習\n",
        "\n",
        "次のような関数 `sum_lists` を作成してください。\n",
        "\n",
        "- `sum_lists` はリスト `list1` を引数とします。\n",
        "- `list1` の各要素はリストであり、そのリストの要素は数です。\n",
        "- `sum_lists` は、`list1` の各要素であるリストの総和を求め、それらの総和を足し合せて返します。\n",
        "\n",
        "以下のセルの `...` のところを書き換えて `sum_lists` を作成してください。"
      ]
    },
    {
      "cell_type": "code",
      "execution_count": 38,
      "metadata": {
        "id": "6wHNtVmNWfBC"
      },
      "outputs": [],
      "source": [
        "def sum_lists(list1):\n",
        "    s=0\n",
        "    for i in range(len(list1)):\n",
        "        s=s+sum(list1[i])\n",
        "    return s"
      ]
    },
    {
      "cell_type": "markdown",
      "metadata": {
        "id": "zp6RgESsWfBC"
      },
      "source": [
        "上のセルで解答を作成した後、以下のセルを実行し、実行結果が `True` になることを確認してください。"
      ]
    },
    {
      "cell_type": "code",
      "execution_count": 39,
      "metadata": {
        "tags": [
          "raises-exception"
        ],
        "id": "KY5TPLqFWfBD",
        "outputId": "556317b0-4959-4064-b911-1ebde78bff1b",
        "colab": {
          "base_uri": "https://localhost:8080/"
        }
      },
      "outputs": [
        {
          "output_type": "stream",
          "name": "stdout",
          "text": [
            "True\n"
          ]
        }
      ],
      "source": [
        "print(sum_lists([[20, 5], [6, 16, 14, 5], [16, 8, 16, 17, 14], [1], [5, 3, 5, 7]]) == 158)"
      ]
    },
    {
      "cell_type": "markdown",
      "metadata": {
        "id": "o4OxRDK5WfBD"
      },
      "source": [
        "## 練習\n",
        "\n",
        "リスト `list1` と `list2` が引数として与えられたとき、次のようなリスト `list3` を返す関数 `sum_matrix` を作成してください。\n",
        "\n",
        "- `list1`, `list2`, `list3` は、3つの要素を持ちます。\n",
        "- 各要素は大きさ3のリストになっており、そのリストの要素は全て数です。\n",
        "- `list3[i][j]` （ただし、`i` と `j` は共に、0以上2以下の整数）は `list1[i][j]` と `list2[i][j]` の値の和になっています。\n",
        "\n",
        "以下のセルの `...` のところを書き換えて `sum_matrix` を作成してください。"
      ]
    },
    {
      "cell_type": "code",
      "execution_count": 52,
      "metadata": {
        "id": "UNH1QYgmWfBD"
      },
      "outputs": [],
      "source": [
        "def sum_matrix(list1, list2):\n",
        "    list3 = [[0,0,0],[0,0,0],[0,0,0]]\n",
        "    for i in range(3):\n",
        "        for j in range(3):\n",
        "            list3[i][j] += list1[i][j] + list2[i][j] #list3[i][j]でlist3の細かい要素に焦点を当ててる。\n",
        "    return list3"
      ]
    },
    {
      "cell_type": "markdown",
      "metadata": {
        "id": "6ux6-hEaWfBE"
      },
      "source": [
        "上のセルで解答を作成した後、以下のセルを実行し、実行結果が `True` になることを確認してください。"
      ]
    },
    {
      "cell_type": "code",
      "execution_count": 53,
      "metadata": {
        "tags": [
          "raises-exception"
        ],
        "id": "X4-UFAhmWfBE",
        "outputId": "dbf72c93-f14c-4cf3-f20e-15911082d6c0",
        "colab": {
          "base_uri": "https://localhost:8080/"
        }
      },
      "outputs": [
        {
          "output_type": "stream",
          "name": "stdout",
          "text": [
            "True\n"
          ]
        }
      ],
      "source": [
        "print(sum_matrix([[1,2,3],[4,5,6],[7,8,9]], [[1,4,7],[2,5,8],[3,6,9]]) == [[2, 6, 10], [6, 10, 14], [10, 14, 18]])"
      ]
    },
    {
      "cell_type": "markdown",
      "metadata": {
        "id": "12BlI9R3WfBE"
      },
      "source": [
        "## for文の**計算量**\n",
        "\n",
        "山口和紀編「情報」第2版（東京大学出版会）には、「**計算量**とは、\n",
        "アルゴリズムをもとにしたプログラムの実行時間を見積もるための指標である。」と書かれています。\n",
        "さらに、「この見積もりは**計算量のオーダー**と呼ばれる非常におおまかな尺度で考える。」と書かれています。\n",
        "（太字は引用時に追加しました。）\n",
        "\n",
        "たとえば、リストに対するfor文\n",
        "```Python\n",
        "for x in リスト:\n",
        "    要素xに対する処理\n",
        "```\n",
        "では、「要素に対する処理」が要素の数だけ実行されます。\n",
        "この処理の時間が一定であるとすると、要素の数を $n$ としたとき、\n",
        "全体の処理には $n$ に比例する時間がかかります。\n",
        "このことを、**オーダー** $n$ といって、$O(n)$ と書きます。\n",
        "一方、\n",
        "```Python\n",
        "for x in リスト:\n",
        "    for y in 同じリスト:\n",
        "        要素の組み合わせ(x,y)に対する処理\n",
        "```\n",
        "という二重のループでは、要素の組み合わせに対する処理が一定時間で終わるとしても、\n",
        "ループの中でループが実行されるので、\n",
        "全体の処理には、$n^2$ に比例する時間がかかります。\n",
        "このことを $O(n^2)$ と書きます。\n",
        "$n$ が10倍になったとき、\n",
        "一重のループの実行時間は10倍にしかなりませんが、\n",
        "二重ループの実行時間は100倍になります。\n",
        "$n$ が100倍になったときは、前者は100倍ですが後者は10000倍になります。\n",
        "\n",
        "二重ループが明らかでないこともあります。\n",
        "以下の関数は、リストとして与えられたデータの平均と分散を計算するものです。"
      ]
    },
    {
      "cell_type": "code",
      "execution_count": 1,
      "metadata": {
        "id": "__LiRxRWWfBE"
      },
      "outputs": [],
      "source": [
        "def average(d):\n",
        "    s = 0\n",
        "    for x in d:\n",
        "        s = s + x\n",
        "    return s/len(d)\n",
        "\n",
        "def variance(d):\n",
        "    s = 0\n",
        "    for x in d:\n",
        "        s = s + (x-average(d))**2\n",
        "    return s/len(d)"
      ]
    },
    {
      "cell_type": "markdown",
      "metadata": {
        "id": "LqJP4G7iWfBE"
      },
      "source": [
        "ガウス分布から100個のデータと10000個のデータを生成して分散を計算してみましょう。"
      ]
    },
    {
      "cell_type": "code",
      "execution_count": 2,
      "metadata": {
        "id": "BhK8LARYWfBF"
      },
      "outputs": [],
      "source": [
        "import random\n",
        "d100 = []\n",
        "for i in range(100):\n",
        "    d100.append(random.gauss(0,10))\n",
        "d10000 = []\n",
        "for i in range(10000):\n",
        "    d10000.append(random.gauss(0,10))"
      ]
    },
    {
      "cell_type": "code",
      "execution_count": 3,
      "metadata": {
        "id": "E8MMvmlUWfBF",
        "outputId": "ba837871-c9c7-4e28-a63e-78a27f3513cf",
        "colab": {
          "base_uri": "https://localhost:8080/"
        }
      },
      "outputs": [
        {
          "output_type": "execute_result",
          "data": {
            "text/plain": [
              "106.37362373045913"
            ]
          },
          "metadata": {},
          "execution_count": 3
        }
      ],
      "source": [
        "variance(d100)"
      ]
    },
    {
      "cell_type": "code",
      "execution_count": 4,
      "metadata": {
        "id": "-K35Df9OWfBF",
        "outputId": "d26cf51c-d3df-4364-ddc3-5f73505355ac",
        "colab": {
          "base_uri": "https://localhost:8080/"
        }
      },
      "outputs": [
        {
          "output_type": "execute_result",
          "data": {
            "text/plain": [
              "102.01676473227168"
            ]
          },
          "metadata": {},
          "execution_count": 4
        }
      ],
      "source": [
        "variance(d10000)"
      ]
    },
    {
      "cell_type": "markdown",
      "metadata": {
        "id": "S9H-jGcvWfBF"
      },
      "source": [
        "10000個の場合は相当に時間がかかることがわかります。\n",
        "これは、`variance` のfor文の中で `average` を呼んでいるためです。\n",
        "見かけ上は一重ループなのですが、`average` の中にもループがあるため、\n",
        "二重ループと同じ時間がかかります。\n",
        "したがって、10000個の場合は、100個の場合に比べて10000倍時間がかかります。\n",
        "\n",
        "ローカル変数を用いて `variance` の定義を書き直してみましょう。"
      ]
    },
    {
      "cell_type": "code",
      "execution_count": 5,
      "metadata": {
        "id": "lBYpn6KFWfBF"
      },
      "outputs": [],
      "source": [
        "def variance(d):\n",
        "    av = average(d)\n",
        "    s = 0\n",
        "    for x in d:\n",
        "        s = s + (x-av)**2\n",
        "    return s/len(d)"
      ]
    },
    {
      "cell_type": "code",
      "execution_count": 6,
      "metadata": {
        "id": "C5vO9CbpWfBF",
        "outputId": "e1c482c6-65e3-440e-b7b4-af4b7eef2039",
        "colab": {
          "base_uri": "https://localhost:8080/"
        }
      },
      "outputs": [
        {
          "output_type": "execute_result",
          "data": {
            "text/plain": [
              "106.37362373045913"
            ]
          },
          "metadata": {},
          "execution_count": 6
        }
      ],
      "source": [
        "variance(d100)"
      ]
    },
    {
      "cell_type": "code",
      "execution_count": 7,
      "metadata": {
        "id": "9fBh4EbOWfBG",
        "outputId": "b2bd5a7d-dd80-4b27-bf64-fa0a388ad35f",
        "colab": {
          "base_uri": "https://localhost:8080/"
        }
      },
      "outputs": [
        {
          "output_type": "execute_result",
          "data": {
            "text/plain": [
              "102.01676473227168"
            ]
          },
          "metadata": {},
          "execution_count": 7
        }
      ],
      "source": [
        "variance(d10000)"
      ]
    },
    {
      "cell_type": "markdown",
      "metadata": {
        "id": "dSGhGbSQWfBG"
      },
      "source": [
        "10000個の場合でも一瞬で実行が終わったことでしょう。\n",
        "この場合、一重のループを2回実行しているだけだからです。"
      ]
    },
    {
      "cell_type": "markdown",
      "metadata": {
        "id": "QKRWM51uWfBG"
      },
      "source": [
        "##  **`enumerate`**\n",
        "for文の繰り返し処理では、要素の順序を把握したいことがあります。\n",
        "これまで学んだ方法では以下のように書けます。\n",
        "\n",
        "---\n",
        "```Python\n",
        "i = 0\n",
        "for val in some_list:\n",
        "    print(i, val)\n",
        "    # 繰り返させたい処理\n",
        "    i += 1\n",
        "```\n",
        "\n",
        "---\n",
        "\n",
        "Pythonでは `enumerate()` 関数が用意されており、上のプログラムは以下のように書き換えることができます。\n",
        "\n",
        "---\n",
        "```Python\n",
        "for i, val in enumerate(some_list):\n",
        "    # 繰り返させたい処理\n",
        "```\n",
        "\n",
        "---\n",
        "\n",
        "2つの変数 `i`, `val` が指定されています。\n",
        "`i` には `0`, `1`, `2`, ... が順に代入されます。\n",
        "`val` にはリストの要素が順に代入されます。\n",
        "\n",
        "たとえば、リストの要素をキー、そのインデックスを値とする辞書が欲しい場合は、以下のように書くことができます。"
      ]
    },
    {
      "cell_type": "code",
      "execution_count": 16,
      "metadata": {
        "id": "xbypywpfWfBG",
        "outputId": "e7c1b695-4b42-43e6-9bfe-191735550d43",
        "colab": {
          "base_uri": "https://localhost:8080/"
        }
      },
      "outputs": [
        {
          "output_type": "stream",
          "name": "stdout",
          "text": [
            "{'dog': 0, 'cat': 1, 'mouse': 2}\n",
            "cat\n",
            "0\n"
          ]
        }
      ],
      "source": [
        "words = ['dog', 'cat', 'mouse']\n",
        "mapping = {}\n",
        "for i, w in enumerate(words): #iはインデックスwは要素\n",
        "    mapping[w] = i\n",
        "\n",
        "print(mapping)\n",
        "print(words[1])\n",
        "print(mapping['dog'])          # {'dog': 0, 'cat': 1, 'mouse': 2} が得られる。"
      ]
    },
    {
      "cell_type": "markdown",
      "metadata": {
        "id": "zcsavg3UWfBG"
      },
      "source": [
        "## **`in`**\n",
        "Pythonでは `for` ループでリストを展開する `in` とは別に、\n",
        "2-2 で説明したように、リスト内の要素の有無を検査する **`in`** 演算子と **`not in`** 演算子が定義されています。\n",
        "以下のように、`if` 文の条件に `in` が出現した場合、for文とは動作が異なるので注意してください。\n",
        "\n",
        "---\n",
        "\n",
        "```Python\n",
        "colors = ['red', 'green', 'blue']\n",
        "color = 'red'\n",
        "\n",
        "if color in colors:\n",
        "    # do something\n",
        "```\n",
        "\n",
        "---\n"
      ]
    },
    {
      "cell_type": "markdown",
      "metadata": {
        "id": "dhiXeQQlWfBH"
      },
      "source": [
        "## while文による繰り返し\n",
        "\n",
        "**while文**では **`while`** の後の条件式が `False` となるまで、実行文グループを繰り返します。\n",
        "\n",
        "下記のプログラムでは、$\\sum_{x=1}^{10}x$ が `total` の値となります。"
      ]
    },
    {
      "cell_type": "code",
      "execution_count": 18,
      "metadata": {
        "id": "GWLe9A1pWfBH",
        "outputId": "f415a113-5c74-40dc-fd24-d5995bdf3229",
        "colab": {
          "base_uri": "https://localhost:8080/"
        }
      },
      "outputs": [
        {
          "output_type": "stream",
          "name": "stdout",
          "text": [
            "11 55\n"
          ]
        }
      ],
      "source": [
        "x = 1\n",
        "total = 0\n",
        "while x <= 10:\n",
        "    total = total+x\n",
        "    x = x+1\n",
        "\n",
        "print(x, total)"
      ]
    },
    {
      "cell_type": "markdown",
      "metadata": {
        "id": "21Mx7FbyWfBH"
      },
      "source": [
        "条件式が `False` になったときに、 while文から抜けているので、\n",
        "終了後の `x` の値が `11` になっていることに注意してください。\n",
        "なお、上の例を for文で実行する場合には以下のようになります。"
      ]
    },
    {
      "cell_type": "code",
      "execution_count": 19,
      "metadata": {
        "id": "EO0R3MxkWfBH",
        "outputId": "90667a3f-e1af-4de8-b16b-04e8dfdb43a0",
        "colab": {
          "base_uri": "https://localhost:8080/"
        }
      },
      "outputs": [
        {
          "output_type": "stream",
          "name": "stdout",
          "text": [
            "10 55\n"
          ]
        }
      ],
      "source": [
        "total = 0\n",
        "for x in range(11):\n",
        "    total += x\n",
        "\n",
        "print(x, total)"
      ]
    },
    {
      "cell_type": "markdown",
      "metadata": {
        "id": "7q7TZV3qWfBH"
      },
      "source": [
        "##  制御構造とreturn文\n",
        "\n",
        "**return文**は1-2で説明したように関数を終了し、値を返す（返値）機能を持ちます。\n",
        "`if`, `for`, `while` といった制御構造の中でreturn文が実行された場合、\n",
        "ただちに関数の処理を終了し、その後の処理は行われません。\n",
        "\n",
        "以下の関数 `simple_lsearch` は与えられたリスト、`lst` に `myitem` と等しいものがあれば `True` を、なければ `False` を返します。\n",
        "\n",
        "- 2行目のfor文で `lst` の各要素に対して繰り返しを実行するように指定されています。\n",
        "- 3行目のif文で要素 `item` が `myitem` と等しい場合、4行目の `return True` でただちに関数を終了しています。\n",
        "- for文で全てのリスト要素に対してテストが終わり、等しいものがない場合は、5行目の `return False` が実行されます。"
      ]
    },
    {
      "cell_type": "code",
      "execution_count": 20,
      "metadata": {
        "id": "uCJIhz94WfBH"
      },
      "outputs": [],
      "source": [
        "def simple_lsearch(lst, myitem):\n",
        "    for item in lst:\n",
        "        if item == myitem:\n",
        "            return True\n",
        "    return False"
      ]
    },
    {
      "cell_type": "markdown",
      "metadata": {
        "id": "ibHw14vrWfBI"
      },
      "source": [
        "## **break文**\n",
        "**break文**は、 for文もしくはwhile文の実行文グループで利用可能です。\n",
        "break文は実行中のプログラムで最も内側の繰り返し処理を中断し、そのループを終了させる目的で利用されます。\n",
        "以下のプログラムは、初項 `256`、公比 1/2、の等比級数の和を求めるものです。\n",
        "ただし、総和が `500` をこえれば打ち切られます。"
      ]
    },
    {
      "cell_type": "code",
      "execution_count": 21,
      "metadata": {
        "id": "Dg_MmDxjWfBI",
        "outputId": "4fdb3f13-f98b-4548-85ac-64f00f729a83",
        "colab": {
          "base_uri": "https://localhost:8080/"
        }
      },
      "outputs": [
        {
          "output_type": "stream",
          "name": "stdout",
          "text": [
            "4 504\n"
          ]
        }
      ],
      "source": [
        "x = 256\n",
        "total = 0\n",
        "while x > 0:\n",
        "    if total > 500:\n",
        "        break           # 500 を超えれば while ループを抜ける\n",
        "    total += x\n",
        "    x = x // 2          # // は少数点以下を切り捨てる除算\n",
        "\n",
        "print(x, total)"
      ]
    },
    {
      "cell_type": "markdown",
      "metadata": {
        "id": "17pCNHKjWfBI"
      },
      "source": [
        "## 練習\n",
        "\n",
        "文字列 `str1` と `str2` が引数として与えられたとき、\n",
        "`str1` が `str2` を部分文字列として含むかどうか判定する関数 `simple_match` を作成してください。\n",
        "具体的には、`str2` を含む場合、\n",
        "その部分文字列が開始される `str1` のインデックスを返値として返してください。\n",
        "`str2` を含まない場合、 `-1` を返してください。\n",
        "ただし、`simple_match` の中で文字列のメソッドやモジュール（正規表現など）を使ってはいけません。\n",
        "\n",
        "以下のセルの `...` のところを書き換えて `simple_match` を作成してください。"
      ]
    },
    {
      "cell_type": "code",
      "execution_count": 22,
      "metadata": {
        "id": "HJyOzmSzWfBI"
      },
      "outputs": [],
      "source": [
        "def simple_match(str1, str2):\n",
        "    for i in range(len(str1)):\n",
        "        if str1[i:i+len(str2)] == str2:\n",
        "            return i\n",
        "    return -1"
      ]
    },
    {
      "cell_type": "markdown",
      "metadata": {
        "id": "oUiwVlccWfBI"
      },
      "source": [
        "上のセルで解答を作成した後、以下のセルを実行し、実行結果が `True` になることを確認してください。"
      ]
    },
    {
      "cell_type": "code",
      "execution_count": 23,
      "metadata": {
        "tags": [
          "raises-exception"
        ],
        "id": "5YiW8W-bWfBI",
        "outputId": "1a587e05-9751-4a39-bfad-43f66ad6a825",
        "colab": {
          "base_uri": "https://localhost:8080/"
        }
      },
      "outputs": [
        {
          "output_type": "stream",
          "name": "stdout",
          "text": [
            "True\n",
            "True\n",
            "True\n",
            "True\n"
          ]
        }
      ],
      "source": [
        "print(simple_match('location', 'cat') == 2)\n",
        "print(simple_match('soccer', 'cat') == -1)\n",
        "print(simple_match('category', 'cat') == 0)\n",
        "print(simple_match('carpet', 'cat') == -1)"
      ]
    },
    {
      "cell_type": "markdown",
      "metadata": {
        "id": "ncR5Cyl7WfBJ"
      },
      "source": [
        "## **continue文**\n",
        "continue文はbreak文同様に、`for` および `while` ループの実行文グループで利用可能です。\n",
        "continue文は実行中のプログラムで最も内側の繰り返し処理を中断し、次のループの繰り返しの処理を開始します。\n",
        "\n",
        "下記のプログラムでは、`colors` リストの `'black'` は印字されませんが `'white'` は印字されます。"
      ]
    },
    {
      "cell_type": "code",
      "execution_count": 24,
      "metadata": {
        "id": "Vj4X9u2OWfBJ",
        "outputId": "d5f4730d-b98f-4dfd-ab3b-ef6f82ce5663",
        "colab": {
          "base_uri": "https://localhost:8080/"
        }
      },
      "outputs": [
        {
          "output_type": "stream",
          "name": "stdout",
          "text": [
            "red\n",
            "green\n",
            "blue\n",
            "white\n"
          ]
        }
      ],
      "source": [
        "colors = ['red', 'green', 'blue', 'black', 'white']\n",
        "for c in colors:\n",
        "    if c == 'black':\n",
        "           continue\n",
        "    print(c)"
      ]
    },
    {
      "cell_type": "markdown",
      "metadata": {
        "id": "pNMVagI4WfBJ"
      },
      "source": [
        "## ▲for文とwhile文における **`else`**\n",
        "for文およびwhile文では `else` を書くこともできます。\n",
        "この実行文グループは、ループの最後に一度だけ実行されます。"
      ]
    },
    {
      "cell_type": "code",
      "execution_count": 26,
      "metadata": {
        "id": "-_kaN6k3WfBJ",
        "outputId": "de07c113-6afb-470f-9724-3321685af489",
        "colab": {
          "base_uri": "https://localhost:8080/"
        }
      },
      "outputs": [
        {
          "output_type": "stream",
          "name": "stdout",
          "text": [
            "red\n",
            "green\n",
            "blue\n",
            "white\n",
            "a\n"
          ]
        }
      ],
      "source": [
        "colors = ['red', 'green', 'blue', 'black', 'white']\n",
        "for c in colors:\n",
        "    if c == 'black':\n",
        "        continue\n",
        "    print(c)\n",
        "else:\n",
        "    print('a')"
      ]
    },
    {
      "cell_type": "markdown",
      "metadata": {
        "id": "SKU9LZGwWfBJ"
      },
      "source": [
        "for文およびwhile文の `else` ブロックの内容は `continue` で終了したときは実行されますが、一方で\n",
        "`break` でループを終了したときは実行されません。"
      ]
    },
    {
      "cell_type": "markdown",
      "metadata": {
        "id": "6G3e18JZWfBJ"
      },
      "source": [
        "## **pass文**\n",
        "\n",
        "Pythonでは空の実行文グループは許されていません。\n",
        "一方で、空白のコードブロックを用いることでプログラムが読みやすくなる場合があります。\n",
        "たとえば以下の、`if` ... `elif` ... `else` プログラムはエラーとなります。"
      ]
    },
    {
      "cell_type": "code",
      "execution_count": 28,
      "metadata": {
        "tags": [
          "raises-exception"
        ],
        "id": "KuFwCucCWfBJ",
        "outputId": "25c4bdc6-76ab-409f-f932-2a95d51115ae",
        "colab": {
          "base_uri": "https://localhost:8080/"
        }
      },
      "outputs": [
        {
          "output_type": "stream",
          "name": "stdout",
          "text": [
            "x is positive\n"
          ]
        }
      ],
      "source": [
        "x = -1\n",
        "if x < 0:\n",
        "    print('x is positive')\n",
        "elif x == 0:\n",
        "    print('o')\n",
        "    # IndentationError: expected an indented block\n",
        "elif 0 < x < 5:\n",
        "    print('x is positive and smaller than 5')\n",
        "else:\n",
        "    print('x is positive and larger than or equal to 5')"
      ]
    },
    {
      "cell_type": "markdown",
      "metadata": {
        "id": "AfSDHrTgWfBK"
      },
      "source": [
        "なにもしないpass文を用いて、以下のように書き換えることで正常に実行されます。"
      ]
    },
    {
      "cell_type": "code",
      "execution_count": 29,
      "metadata": {
        "id": "tIZ6vLEiWfBK",
        "outputId": "01e258ad-a681-49db-9ca6-6f7ee5697b2c",
        "colab": {
          "base_uri": "https://localhost:8080/"
        }
      },
      "outputs": [
        {
          "output_type": "stream",
          "name": "stdout",
          "text": [
            "x is positive\n"
          ]
        }
      ],
      "source": [
        "x = -1\n",
        "if x < 0:\n",
        "    print('x is positive')\n",
        "elif x == 0:\n",
        "    # no error\n",
        "    pass\n",
        "elif 0 < x < 5:\n",
        "    print('x is positive and smaller than 5')\n",
        "else:\n",
        "    print('x is positive and larger than or equal to 5')"
      ]
    },
    {
      "cell_type": "markdown",
      "metadata": {
        "id": "PhSKRRcsWfBK"
      },
      "source": [
        "## 練習\n",
        "\n",
        "以下のプログラムでは1秒おきに `print` が永久に実行されます。\n",
        "\n",
        "---\n",
        "```Python\n",
        "from time import sleep\n",
        "\n",
        "while True:\n",
        "    print('Yeah!')\n",
        "    sleep(1)\n",
        "```\n",
        "---\n",
        "\n",
        "10回 `print` が実行された後にwhile文を終了するように書き換えてください。\n",
        "実行中のセルを停止させるには、ストップボタンが使えます。"
      ]
    },
    {
      "cell_type": "code",
      "execution_count": 6,
      "metadata": {
        "id": "-AFn_1WKWfBK",
        "outputId": "623756ff-0c78-44e5-f6f8-d0c87b206832",
        "colab": {
          "base_uri": "https://localhost:8080/"
        }
      },
      "outputs": [
        {
          "output_type": "stream",
          "name": "stdout",
          "text": [
            "Yeah!\n",
            "Yeah!\n",
            "Yeah!\n",
            "Yeah!\n",
            "Yeah!\n",
            "Yeah!\n",
            "Yeah!\n",
            "Yeah!\n",
            "Yeah!\n",
            "Yeah!\n"
          ]
        }
      ],
      "source": [
        "from time import sleep\n",
        "\n",
        "count = 0\n",
        "while True:\n",
        "    print('Yeah!')\n",
        "    count += 1\n",
        "    if(count >= 10):\n",
        "        break\n",
        "    sleep(1)"
      ]
    },
    {
      "cell_type": "markdown",
      "metadata": {
        "id": "iXyMjQjZWfBK"
      },
      "source": [
        "## 練習\n",
        "\n",
        "英語の文章からなる文字列 `str_engsentence` が引数として与えられたとき、\n",
        "`str_engsentence` 中に含まれる3文字以上の全ての英単語を要素とするリストを返す関数\n",
        "`collect_engwords` を作成してください。ただし、同じ単語を重複して含んでいて構いません。\n",
        "\n",
        "以下のセルの `...` のところを書き換えて `collect_engwords(str_engsentence)` を作成してください。"
      ]
    },
    {
      "cell_type": "code",
      "execution_count": 9,
      "metadata": {
        "id": "79o57MjcWfBK"
      },
      "outputs": [],
      "source": [
        "def collect_engwords(str_engsentences):\n",
        "    list_punctuation = ['.', ',', ':', ';', '!', '?']\n",
        "    for j in range(len(list_punctuation)):  #list_punctuationの中の文字列（この場合、句読点）を空文字列に置換する\n",
        "        str_engsentences = str_engsentences.replace(list_punctuation[j], '')\n",
        "    #print(str_engsentences)\n",
        "    list_str1 = str_engsentences.split(' ')\n",
        "    list_str2 = []\n",
        "    for j in range(len(list_str1)):\n",
        "        if len(list_str1[j]) >= 3:\n",
        "            list_str2.append(list_str1[j])\n",
        "    return list_str2\n",
        ""
      ]
    },
    {
      "cell_type": "markdown",
      "metadata": {
        "id": "FAMZSy6GWfBK"
      },
      "source": [
        "上のセルで解答を作成した後、以下のセルを実行し、実行結果が `True` になることを確認してください。"
      ]
    },
    {
      "cell_type": "code",
      "execution_count": 10,
      "metadata": {
        "tags": [
          "raises-exception"
        ],
        "id": "733B1-jFWfBK",
        "outputId": "cba46d20-b631-4e83-a7ed-8850b6008f8b",
        "colab": {
          "base_uri": "https://localhost:8080/"
        }
      },
      "outputs": [
        {
          "output_type": "stream",
          "name": "stdout",
          "text": [
            "True\n"
          ]
        }
      ],
      "source": [
        "print(collect_engwords('Unfortunately no, it requires something with a little more kick, plutonium.') == ['Unfortunately', 'requires',\n",
        "'something', 'with', 'little', 'more', 'kick', 'plutonium'])"
      ]
    },
    {
      "cell_type": "markdown",
      "metadata": {
        "id": "UgFJh4iPWfBK"
      },
      "source": [
        "## 練習\n",
        "\n",
        "2つの同じ大きさのリストが引数として与えられたとき、\n",
        "2つのリストの奇数インデックスの要素を入れ替えて、\n",
        "その結果得られる2つのリストをタプルにして返す関数 `swap_lists` を作成してください\n",
        "（ただし、0 は偶数として扱うものとします）。\n",
        "与えられたリストは破壊しても構いません。\n",
        "\n",
        "以下のセルの `...` のところを書き換えて `swap_lists(ln1, ln2)` を作成してください。"
      ]
    },
    {
      "cell_type": "code",
      "execution_count": null,
      "metadata": {
        "id": "Gu3c2dXmWfBL"
      },
      "outputs": [],
      "source": [
        "def swap_lists(ln1, ln2):\n",
        "    ..."
      ]
    },
    {
      "cell_type": "markdown",
      "metadata": {
        "id": "tfcEfj2NWfBL"
      },
      "source": [
        "上のセルで解答を作成した後、以下のセルを実行し、実行結果が `True` になることを確認してください。"
      ]
    },
    {
      "cell_type": "code",
      "execution_count": null,
      "metadata": {
        "tags": [
          "raises-exception"
        ],
        "id": "zDl1VUqGWfBL"
      },
      "outputs": [],
      "source": [
        "print(swap_lists([1, 2, 3, 4, 5], ['a', 'b', 'c', 'd', 'e']) == ([1, 'b', 3, 'd', 5], ['a', 2, 'c', 4, 'e']))"
      ]
    },
    {
      "cell_type": "markdown",
      "metadata": {
        "id": "r0H6Ua3dWfBL"
      },
      "source": [
        "## 練習\n",
        "文字列 `str1` を引数として取り、\n",
        "`str1` の中に含まれる大文字の数を返す関数 `count_capitalletters` を作成してください。\n",
        "\n",
        "以下のセルの `...` のところを書き換えて `count_capitalletters(str1)` を作成してください。"
      ]
    },
    {
      "cell_type": "code",
      "execution_count": null,
      "metadata": {
        "id": "YglgZv4qWfBL"
      },
      "outputs": [],
      "source": [
        "def count_capitalletters(str1):\n",
        "    ..."
      ]
    },
    {
      "cell_type": "markdown",
      "metadata": {
        "id": "1Rt-O5o8WfBL"
      },
      "source": [
        "上のセルで解答を作成した後、以下のセルを実行し、実行結果が `True` になることを確認してください。"
      ]
    },
    {
      "cell_type": "code",
      "execution_count": null,
      "metadata": {
        "tags": [
          "raises-exception"
        ],
        "id": "rY8i8h7TWfBL"
      },
      "outputs": [],
      "source": [
        "print(count_capitalletters('Que Será, Será') == 3)"
      ]
    },
    {
      "cell_type": "markdown",
      "metadata": {
        "id": "DxckV0c3WfBM"
      },
      "source": [
        "## 練習\n",
        "\n",
        "長さが 3 の倍数である文字列 `str_augc` が引数として与えられたとき、\n",
        "`str_augc` を長さ 3 の文字列に区切り、それらを順に格納したリストを返す関数 `identify_codons` を作成してください。\n",
        "\n",
        "以下のセルの `...` のところを書き換えて `identify_codons(str_augc)` を作成してください。"
      ]
    },
    {
      "cell_type": "code",
      "execution_count": null,
      "metadata": {
        "id": "rQksVJMSWfBM"
      },
      "outputs": [],
      "source": [
        "def identify_codons(str_augc):\n",
        "    ..."
      ]
    },
    {
      "cell_type": "markdown",
      "metadata": {
        "id": "ECLMzZuTWfBM"
      },
      "source": [
        "上のセルで解答を作成した後、以下のセルを実行し、実行結果が `True` になることを確認してください。"
      ]
    },
    {
      "cell_type": "code",
      "execution_count": null,
      "metadata": {
        "tags": [
          "raises-exception"
        ],
        "id": "R47Tz6_rWfBM"
      },
      "outputs": [],
      "source": [
        "print(identify_codons('CCCCCGGCACCT') == ['CCC', 'CCG', 'GCA', 'CCT'])"
      ]
    },
    {
      "cell_type": "markdown",
      "metadata": {
        "id": "XdZkTvxnWfBM"
      },
      "source": [
        "## 練習\n",
        "\n",
        "正の整数 `int1` が引数として与えられたとき、\n",
        "`int1` の値の下桁から3桁毎にコンマ (`,`) を入れた文字列を返す関数 `add_commas` を作成してください。\n",
        "ただし、数の先頭にコンマを入れる必要はありません。\n",
        "\n",
        "以下のセルの `...` のところを書き換えて `add_commas` を作成してください。"
      ]
    },
    {
      "cell_type": "code",
      "execution_count": null,
      "metadata": {
        "id": "GIvVIE25WfBM"
      },
      "outputs": [],
      "source": [
        "def add_commas(int1):\n",
        "    ..."
      ]
    },
    {
      "cell_type": "markdown",
      "metadata": {
        "id": "gMogPv2TWfBM"
      },
      "source": [
        "上のセルで解答を作成した後、以下のセルを実行し、全ての実行結果が `True` になることを確認してください。"
      ]
    },
    {
      "cell_type": "code",
      "execution_count": null,
      "metadata": {
        "tags": [
          "raises-exception"
        ],
        "id": "_TqAySuvWfBM"
      },
      "outputs": [],
      "source": [
        "print(add_commas(14980) == '14,980')\n",
        "print(add_commas(3980) == '3,980')\n",
        "print(add_commas(298) == '298')\n",
        "print(add_commas(1000000) == '1,000,000')"
      ]
    },
    {
      "cell_type": "markdown",
      "metadata": {
        "id": "1mNQi4vNWfBN"
      },
      "source": [
        "## 練習\n",
        "\n",
        "リスト `list1` が引数として与えられ、次のような文字列 `str1` を返す関数 `sum_strings` を作成してください。\n",
        "\n",
        "`list1` は `k` 個の要素を持つとします（ただし、`k` は正の整数）。\n",
        "`list1` の要素が文字列でなければ文字列に変換してください。\n",
        "その上で、`list1` の1番目から `k-2` 番目の各要素の後ろにコンマとスペースからなる文字列 `', '` を加え、\n",
        "`k-1` 番目の要素の後ろには、`' and '` を加え、1番目から `k` 番目までの要素を繋げた文字列を `str1` とします。\n",
        "\n",
        "以下のセルの `...` のところを書き換えて `sum_strings` を作成してください。"
      ]
    },
    {
      "cell_type": "code",
      "execution_count": null,
      "metadata": {
        "id": "MTKXT8gZWfBN"
      },
      "outputs": [],
      "source": [
        "def sum_strings(list1):\n",
        "    ..."
      ]
    },
    {
      "cell_type": "markdown",
      "metadata": {
        "id": "90nha7QGWfBN"
      },
      "source": [
        "上のセルで解答を作成した後、以下のセルを実行し、実行結果が `True` になることを確認してください。"
      ]
    },
    {
      "cell_type": "code",
      "execution_count": null,
      "metadata": {
        "tags": [
          "raises-exception"
        ],
        "id": "5FijCqW8WfBN"
      },
      "outputs": [],
      "source": [
        "print(sum_strings(['a', 'b', 'c', 'd']) == 'a, b, c and d')\n",
        "print(sum_strings(['a']) == 'a')\n",
        "print(sum_strings([1, 2, 3]) == '1, 2 and 3')"
      ]
    },
    {
      "cell_type": "markdown",
      "metadata": {
        "id": "iBxGh-wtWfBN"
      },
      "source": [
        "## 練習\n",
        "\n",
        "辞書 `dic1` と長さ 10 以下の文字列 `str1` が引数として与えられたとき、\n",
        "以下のように `dic1` を変更する関数 `handle_collision2` を作成してください。\n",
        "ただし、`dic1` のキーは、1 以上 10 以下の整数、キーに対応する値は文字列とします。\n",
        "\n",
        "1. `dic1` に `str1` の長さ `n` がキーとして登録されていない場合、`dic1` に キー `n`、`n` に対応する値 `str1` を登録します。\n",
        "2. `dic1` に `str1` の長さ `n` がキーとして登録されている場合、`i` の値を `n+1`, `n+2`, ...と1つずつ増やしていき、`dic1` にキーとして登録されていない値 `i` を探します。キーとして登録されていない値 `i` が見つかった場合、その `i` をキー、`i` に対応する値として `str1` を登録してください。 ただし、`i` を 10 まで増やしても登録されていない値が見つからない場合は、`i` を 1 に戻した上で `i` を増やす作業を続行してください。\n",
        "3. 2の手順によって、登録可能な `i` が見つからなかった場合、`dic1` を変更しません。\n",
        "\n",
        "以下のセルの `...` のところを書き換えて `handle_collision2(dic1, str1)` を作成してください。"
      ]
    },
    {
      "cell_type": "code",
      "execution_count": null,
      "metadata": {
        "id": "XjqIZPdXWfBN"
      },
      "outputs": [],
      "source": [
        "def handle_collision2(dic1, str1):\n",
        "    ..."
      ]
    },
    {
      "cell_type": "markdown",
      "metadata": {
        "id": "phBzRgvPWfBN"
      },
      "source": [
        "上のセルで解答を作成した後、以下のセルを実行し、実行結果が `True` になることを確認してください。"
      ]
    },
    {
      "cell_type": "code",
      "execution_count": null,
      "metadata": {
        "tags": [
          "raises-exception"
        ],
        "id": "y75WpgifWfBN"
      },
      "outputs": [],
      "source": [
        "dic1_orig = {6: 'Styles', 4: 'Link', 7: 'Ackroyd'}\n",
        "handle_collision2(dic1_orig, 'Big Four')\n",
        "print(dic1_orig == {6: 'Styles', 4: 'Link', 7: 'Ackroyd', 8: 'Big Four'})\n",
        "dic1_orig = {6: 'Styles', 4: 'Link', 7: 'Ackroyd', 8: 'Big Four', 10: 'Blue Train', 9: 'End House'}\n",
        "handle_collision2(dic1_orig, 'Edgware')\n",
        "print(dic1_orig == {6: 'Styles', 4: 'Link', 7: 'Ackroyd', 8: 'Big Four', 10: 'Blue Train', 9: 'End House', 1: 'Edgware'})\n",
        "dic1_orig = {6: 'Styles', 4: 'Link', 7: 'Ackroyd', 8: 'Big Four', 10: 'Blue Train', 9: 'End House', 1: 'Edgware', 2: 'Orient', 3: 'Three Act', 5: 'Clouds'}\n",
        "handle_collision2(dic1_orig, 'ABC')\n",
        "print(dic1_orig == {6: 'Styles', 4: 'Link', 7: 'Ackroyd', 8: 'Big Four', 10: 'Blue Train', 9: 'End House', 1: 'Edgware', 2: 'Orient', 3: 'Three Act', 5: 'Clouds'})"
      ]
    },
    {
      "cell_type": "markdown",
      "metadata": {
        "id": "kLez5cv0WfBN"
      },
      "source": [
        "## 練習\n",
        "\n",
        "整数を最初の要素、文字列をその次の要素とするリスト（これを子リストと呼びます）を要素とするリスト\n",
        "`list1` が引数として与えられたとき、次のような辞書 `dic1` を返す関数 `handle_collision3` を作成してください。\n",
        "\n",
        "* 各子リスト `list2` に対して、`dic1` のキーは `list2` の最初の要素である整数とし、そのキーに対応する値は次の要素である文字列とします。\n",
        "* 2つ以上の子リストの最初の要素が同じ整数である場合、`list1` においてより小さいインデックスを持つ子リストの文字列を、その整数のキーに対応する値とします。\n",
        "\n",
        "以下のセルの `...` のところを書き換えて `handle_collision3(list1)` を作成してください。"
      ]
    },
    {
      "cell_type": "code",
      "execution_count": null,
      "metadata": {
        "id": "ny_8eYk9WfBO"
      },
      "outputs": [],
      "source": [
        "def handle_collision3(list1):\n",
        "    ..."
      ]
    },
    {
      "cell_type": "markdown",
      "metadata": {
        "id": "HshitvKuWfBO"
      },
      "source": [
        "上のセルで解答を作成した後、以下のセルを実行し、実行結果が True になることを確認してください。"
      ]
    },
    {
      "cell_type": "code",
      "execution_count": null,
      "metadata": {
        "tags": [
          "raises-exception"
        ],
        "id": "zXl_d9vYWfBO"
      },
      "outputs": [],
      "source": [
        "print(handle_collision3([[3, 'Richard III'], [1, 'Othello'], [2, 'Tempest'], [3, 'King John'], [4, 'Midsummer'], [1, 'Lear']]) == {1: 'Othello', 2: 'Tempest', 3: 'Richard III', 4: 'Midsummer'})"
      ]
    },
    {
      "cell_type": "markdown",
      "metadata": {
        "id": "PKw1e5J0WfBP"
      },
      "source": [
        "## 練習の解答"
      ]
    },
    {
      "cell_type": "code",
      "execution_count": null,
      "metadata": {
        "id": "TLs8tlx4WfBP"
      },
      "outputs": [],
      "source": [
        "def reverse_lookup2(dic1):\n",
        "    dic2 = {}  #辞書を初期化する\n",
        "    for key, value in dic1.items():\n",
        "        dic2[value] = key\n",
        "    return dic2\n",
        "#reverse_lookup2({'apple':3, 'pen':5, 'orange':7})"
      ]
    },
    {
      "cell_type": "code",
      "execution_count": null,
      "metadata": {
        "id": "ZWCYVFw0WfBP"
      },
      "outputs": [],
      "source": [
        "def sum_n(x,y):\n",
        "    sum = 0\n",
        "    for i in range(x, y + 1):\n",
        "        sum = sum + i\n",
        "    return sum\n",
        "#sum_n(1,3)"
      ]
    },
    {
      "cell_type": "code",
      "execution_count": null,
      "metadata": {
        "id": "9kjCrWZOWfBP"
      },
      "outputs": [],
      "source": [
        "def construct_list(int_size):\n",
        "    ln = int_size * [0]\n",
        "    for i in range(int_size):\n",
        "        ln[i] = i\n",
        "    return ln\n",
        "#construct_list(10)"
      ]
    },
    {
      "cell_type": "code",
      "execution_count": null,
      "metadata": {
        "id": "OAKF_p9RWfBP"
      },
      "outputs": [],
      "source": [
        "def sum_lists(list1):\n",
        "    total = 0\n",
        "    for list2 in list1:  # for j in range(len(list1)):とlist2 = list1[j]としてもよい\n",
        "        #print(list2)\n",
        "        for i in range(len(list2)):\n",
        "            #print(i, list2[i])\n",
        "            total += list2[i]\n",
        "    return total"
      ]
    },
    {
      "cell_type": "code",
      "execution_count": null,
      "metadata": {
        "id": "2DOrUxwWWfBP"
      },
      "outputs": [],
      "source": [
        "def sum_matrix(list1, list2):\n",
        "    list3 = [[0,0,0],[0,0,0],[0,0,0]]  #結果を格納するリストを初期化する（これがない場合も試してみてください）\n",
        "    for i in range(3):\n",
        "        for j in range(3):\n",
        "            list3[i][j] += list1[i][j] + list2[i][j]\n",
        "            #print(i, j, list1[i][j],'+', list2[i][j], '=', list3[i][j])\n",
        "    return list3\n",
        "#sum_matrix([[1,2,3],[4,5,6],[7,8,9]], [[1,4,7],[2,5,8],[3,6,9]])"
      ]
    },
    {
      "cell_type": "code",
      "execution_count": null,
      "metadata": {
        "id": "hpoAgC0-WfBQ"
      },
      "outputs": [],
      "source": [
        "def simple_match(str1, str2):\n",
        "    for i in range(len(str1)-len(str2)+1):\n",
        "        j = 0\n",
        "        while j < len(str2) and str1[i+j] == str2[j]:  #str1とstr2が一致している限りループ（ただし、jがstr2の長さ以上にならないようにする）#この条件がないと…？\n",
        "            j += 1\n",
        "        if j == len(str2):  #str2の最後まで一致しているとこの条件が成立\n",
        "            return i\n",
        "    return -1\n",
        "#for文による別解\n",
        "#def simple_match(str1, str2):\n",
        "#    for i in range(len(str1)-len(str2)+1):\n",
        "#        #print('i=', i)\n",
        "#        fMatch = True#マッチ判定\n",
        "#        for j in range(len(str2)):\n",
        "#            #print('j=', j, 'str1[i+j]=', str1[i+j], ' str2[j]=', str2[j])\n",
        "#            if str1[i+j] != str2[j]:#str2が終了する前に一致しない箇所があるかどうか\n",
        "#                fMatch = False\n",
        "#                break\n",
        "#        if fMatch:\n",
        "#            return i\n",
        "#    return -1\n",
        "#print(simple_match('location', 'cat') == 2)\n",
        "#print(simple_match('soccer', 'cat') == -1)\n",
        "#print(simple_match('category', 'cat') == 0)\n",
        "#print(simple_match('carpet', 'cat') == -1)"
      ]
    },
    {
      "cell_type": "markdown",
      "metadata": {
        "id": "3bxtLhFtWfBQ"
      },
      "source": [
        "## 練習の解説\n",
        "\n",
        "下のセルは、繰り返し回数として `count` 変数を利用した解答例です。回数を理解しやすくするため `print()` 関数で `count` 変数も印字しています。"
      ]
    },
    {
      "cell_type": "code",
      "execution_count": null,
      "metadata": {
        "id": "VPbYW8BdWfBQ"
      },
      "outputs": [],
      "source": [
        "from time import sleep\n",
        "\n",
        "count = 0\n",
        "while True:\n",
        "    print('Yeah!', count)\n",
        "    count += 1\n",
        "    if(count >= 10):\n",
        "        break\n",
        "    sleep(1)"
      ]
    },
    {
      "cell_type": "markdown",
      "metadata": {
        "id": "OXCsTFSHWfBQ"
      },
      "source": [
        "## 練習の解答"
      ]
    },
    {
      "cell_type": "code",
      "execution_count": null,
      "metadata": {
        "id": "yuSHgPCfWfBQ"
      },
      "outputs": [],
      "source": [
        "def collect_engwords(str_engsentences):\n",
        "    list_punctuation = ['.', ',', ':', ';', '!', '?']\n",
        "    for j in range(len(list_punctuation)):  #list_punctuationの中の文字列（この場合、句読点）を空文字列に置換する\n",
        "        str_engsentences = str_engsentences.replace(list_punctuation[j], '')\n",
        "    #print(str_engsentences)\n",
        "    list_str1 = str_engsentences.split(' ')\n",
        "    list_str2 = []\n",
        "    for j in range(len(list_str1)):\n",
        "        if len(list_str1[j]) >= 3:\n",
        "            list_str2.append(list_str1[j])\n",
        "    return list_str2\n",
        "#collect_engwords('Unfortunately no, it requires something with a little more kick, plutonium.')"
      ]
    },
    {
      "cell_type": "code",
      "execution_count": null,
      "metadata": {
        "id": "X76u73LmWfBQ"
      },
      "outputs": [],
      "source": [
        "def swap_lists(ln1, ln2):\n",
        "    for j in range(len(ln1)):\n",
        "        if j % 2 == 1:\n",
        "            ln1[j], ln2[j] = ln2[j], ln1[j]\n",
        "    return ln1, ln2\n",
        "#swap_lists([1, 2, 3, 4, 5], ['a', 'b', 'c', 'd', 'e'])"
      ]
    },
    {
      "cell_type": "code",
      "execution_count": null,
      "metadata": {
        "id": "c3x_EyKwWfBQ"
      },
      "outputs": [],
      "source": [
        "def count_capitalletters(str1):\n",
        "    int_count = 0\n",
        "    for i in range(len(str1)):\n",
        "        str2 = str1[i].upper()\n",
        "        str3 = str1[i].lower()\n",
        "        if str1[i] == str2 and str2 != str3:#前者の条件で大文字であることを、後者の条件で句読点などでないことを判定する\n",
        "            int_count += 1\n",
        "    return int_count\n",
        "#count_capitalletters('Que Será, Será')"
      ]
    },
    {
      "cell_type": "code",
      "execution_count": null,
      "metadata": {
        "id": "vJiK6gA1WfBR"
      },
      "outputs": [],
      "source": [
        "def identify_codons(str_augc):\n",
        "    str_codons = []\n",
        "    int_codonnum = int(len(str_augc)/3)\n",
        "    for i in range(int_codonnum):\n",
        "        str_codons.append(str_augc[i*3: i*3+3])\n",
        "    return str_codons\n",
        "#identify_codons('CCCCCGGCACCT')"
      ]
    },
    {
      "cell_type": "code",
      "execution_count": null,
      "metadata": {
        "id": "U_IkVcCxWfBR"
      },
      "outputs": [],
      "source": [
        "def add_commas(int1):\n",
        "    list1 = list(str(int1))  #文字列に変換し、更にそれを1文字ずつリストに格納する\n",
        "    str1 = ''\n",
        "    ccnt = 1  #3の倍数の位を調べるのに使う\n",
        "    for i in range(len(list1)-1, -1, -1):  #1の位の値から、大きい方の位の値に向かって処理を行う\n",
        "        str1 = list1[i] + str1\n",
        "        if ccnt % 3 == 0 and i != 0:  #3の倍数の位の前であり、一番大きい位でないならば\n",
        "            str1 = ',' + str1  #コンマをうつ\n",
        "        ccnt += 1\n",
        "    return str1\n",
        "#print(add_commas(14980) == '14,980')\n",
        "#print(add_commas(2980) == '2,980')\n",
        "#print(add_commas(298) == '298')\n",
        "#print(add_commas(1000000) == '1,000,000')"
      ]
    },
    {
      "cell_type": "code",
      "execution_count": null,
      "metadata": {
        "id": "7iP7l2xxWfBR"
      },
      "outputs": [],
      "source": [
        "def sum_strings(list_str):\n",
        "    str1 = ''\n",
        "    for i in range(len(list_str)):\n",
        "        if i < len(list_str) - 2:#後ろから3番目までの要素\n",
        "            str1 = str1 + str(list_str[i]) + ', '\n",
        "        elif i == len(list_str) - 2:#後ろから2番目の要素\n",
        "            str1 += str(list_str[i]) + ' and '\n",
        "        else:#一番後ろの要素\n",
        "            str1 += str(list_str[i])\n",
        "    return str1\n",
        "#sum_strings(['a', 'b', 'c', 'd'])\n",
        "#sum_strings(['a'])"
      ]
    },
    {
      "cell_type": "code",
      "execution_count": null,
      "metadata": {
        "id": "EAh1TAD-WfBR"
      },
      "outputs": [],
      "source": [
        "def handle_collision2(dic1, str1):\n",
        "    n = len(str1)\n",
        "    for i in range(n, 11):\n",
        "        if  dic1.get(i) is None:# == None でもよい\n",
        "            dic1[i] = str1\n",
        "            return\n",
        "    for i in range(1, n):\n",
        "        if  dic1.get(i) is None:# == None でもよい\n",
        "            dic1[i] = str1\n",
        "            return"
      ]
    },
    {
      "cell_type": "code",
      "execution_count": null,
      "metadata": {
        "id": "vIcMu9IcWfBR"
      },
      "outputs": [],
      "source": [
        "def handle_collision3(list1):\n",
        "    dic1 = {} # 空の辞書を作成する\n",
        "    for i in range(len(list1)):\n",
        "        list2 = list1[i]\n",
        "        if dic1.get(list2[0]) is None:# == None でもよい\n",
        "            dic1[list2[0]] = list2[1]\n",
        "    return dic1\n",
        "#handle_collision3([[3, 'Richard III'], [1, 'Othello'], [2, 'Tempest'], [3, 'King John'], [4, 'Midsummer'], [1, 'Lear']])"
      ]
    },
    {
      "cell_type": "code",
      "execution_count": null,
      "metadata": {
        "id": "7u-YRwK9WfBR"
      },
      "outputs": [],
      "source": []
    }
  ],
  "metadata": {
    "kernelspec": {
      "display_name": "Python 3 (ipykernel)",
      "language": "python",
      "name": "python3"
    },
    "language_info": {
      "codemirror_mode": {
        "name": "ipython",
        "version": 3
      },
      "file_extension": ".py",
      "mimetype": "text/x-python",
      "name": "python",
      "nbconvert_exporter": "python",
      "pygments_lexer": "ipython3",
      "version": "3.12.4"
    },
    "colab": {
      "provenance": []
    }
  },
  "nbformat": 4,
  "nbformat_minor": 0
}