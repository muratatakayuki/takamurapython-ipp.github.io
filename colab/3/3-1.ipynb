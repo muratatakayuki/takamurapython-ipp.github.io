{
  "cells": [
    {
      "cell_type": "markdown",
      "metadata": {
        "id": "9UQPu46Sctuh"
      },
      "source": [
        "# 3-1. 辞書 (dictionary)\n",
        "キーと値を対応させるデータ構造である辞書について説明します。\n",
        "\n",
        "参考\n",
        "\n",
        "- https://docs.python.org/ja/3/tutorial/datastructures.html#dictionaries\n",
        "\n",
        "**辞書**は、**キー** (**key**) と**値** (**value**) を対応づけるデータです。\n",
        "キーとしては、文字列・数値・タプルなどの変更不可能なデータを使うことができますが、\n",
        "変更可能なデータであるリスト・辞書を使うことはできません。\n",
        "（辞書も変更可能なデータです。）\n",
        "一方、値としては、変更の可否にかかわらずあらゆる種類のデータを指定できます。\n",
        "\n",
        "たとえば、文字列 `'apple'` をキーとし値として数値 `3` を、`'pen'` をキーとして `5` を対応付けた辞書は、\n",
        "次のように作成します。"
      ]
    },
    {
      "cell_type": "code",
      "execution_count": 1,
      "metadata": {
        "id": "BhF5V9y7ctuk",
        "outputId": "d1403c8c-6791-491b-fb31-61df3cba0d77",
        "colab": {
          "base_uri": "https://localhost:8080/"
        }
      },
      "outputs": [
        {
          "output_type": "execute_result",
          "data": {
            "text/plain": [
              "{'apple': 3, 'pen': 5}"
            ]
          },
          "metadata": {},
          "execution_count": 1
        }
      ],
      "source": [
        "ppap = {'apple' : 3, 'pen' : 5}\n",
        "ppap"
      ]
    },
    {
      "cell_type": "code",
      "execution_count": 2,
      "metadata": {
        "id": "O02OxZJactum",
        "outputId": "b35ddd78-d107-4932-e26f-ce1c11eb3377",
        "colab": {
          "base_uri": "https://localhost:8080/"
        }
      },
      "outputs": [
        {
          "output_type": "execute_result",
          "data": {
            "text/plain": [
              "dict"
            ]
          },
          "metadata": {},
          "execution_count": 2
        }
      ],
      "source": [
        "type(ppap)"
      ]
    },
    {
      "cell_type": "markdown",
      "metadata": {
        "id": "LVlzkVBZctum"
      },
      "source": [
        "辞書の `キー1` に対応する値を得るには、リストにおけるインデックスと同様に、\n",
        "\n",
        "---\n",
        "```Python\n",
        " 辞書[キー1]\n",
        "```\n",
        "---\n",
        "\n",
        "とします。"
      ]
    },
    {
      "cell_type": "code",
      "execution_count": 3,
      "metadata": {
        "id": "aJLQ2Ppwctun",
        "outputId": "fa05705a-950d-4410-9b98-c96e1bfaacb2",
        "colab": {
          "base_uri": "https://localhost:8080/"
        }
      },
      "outputs": [
        {
          "output_type": "execute_result",
          "data": {
            "text/plain": [
              "3"
            ]
          },
          "metadata": {},
          "execution_count": 3
        }
      ],
      "source": [
        "ppap = {'apple' : 3, 'pen' : 5}\n",
        "ppap['apple']"
      ]
    },
    {
      "cell_type": "markdown",
      "metadata": {
        "id": "UZBHmbo8ctuo"
      },
      "source": [
        "辞書に登録されていないキーを指定すると、エラーになります。"
      ]
    },
    {
      "cell_type": "code",
      "execution_count": 4,
      "metadata": {
        "tags": [
          "raises-exception"
        ],
        "id": "6LoFufD-ctuo",
        "outputId": "a27f5ced-b25b-435b-fa91-16bde65940d7",
        "colab": {
          "base_uri": "https://localhost:8080/",
          "height": 141
        }
      },
      "outputs": [
        {
          "output_type": "error",
          "ename": "KeyError",
          "evalue": "'orange'",
          "traceback": [
            "\u001b[0;31m---------------------------------------------------------------------------\u001b[0m",
            "\u001b[0;31mKeyError\u001b[0m                                  Traceback (most recent call last)",
            "\u001b[0;32m/tmp/ipython-input-2828625380.py\u001b[0m in \u001b[0;36m<cell line: 0>\u001b[0;34m()\u001b[0m\n\u001b[0;32m----> 1\u001b[0;31m \u001b[0mppap\u001b[0m\u001b[0;34m[\u001b[0m\u001b[0;34m'orange'\u001b[0m\u001b[0;34m]\u001b[0m\u001b[0;34m\u001b[0m\u001b[0;34m\u001b[0m\u001b[0m\n\u001b[0m",
            "\u001b[0;31mKeyError\u001b[0m: 'orange'"
          ]
        }
      ],
      "source": [
        "ppap['orange']"
      ]
    },
    {
      "cell_type": "markdown",
      "metadata": {
        "id": "KEC1HpQNctup"
      },
      "source": [
        "キーに対する値を変更したり、新たなキーと値を登録するには代入文を用います。"
      ]
    },
    {
      "cell_type": "code",
      "execution_count": 5,
      "metadata": {
        "id": "fxpsfmAnctup",
        "outputId": "f0f46390-ce59-4d11-b54e-38dd5e9c3a30",
        "colab": {
          "base_uri": "https://localhost:8080/"
        }
      },
      "outputs": [
        {
          "output_type": "execute_result",
          "data": {
            "text/plain": [
              "{'apple': 10, 'pen': 5, 'pinapple': 7}"
            ]
          },
          "metadata": {},
          "execution_count": 5
        }
      ],
      "source": [
        "ppap = {'apple' : 3, 'pen' : 5}\n",
        "ppap['apple'] = 10\n",
        "ppap['pinapple'] = 7\n",
        "ppap"
      ]
    },
    {
      "cell_type": "markdown",
      "metadata": {
        "id": "A1IiqLTpctuq"
      },
      "source": [
        "上のようにキーから値は取り出せますが、値からキーを直接取り出すことはできません。\n",
        "また、リストのようにインデックスを指定して値を取得することはできません。"
      ]
    },
    {
      "cell_type": "code",
      "execution_count": 6,
      "metadata": {
        "tags": [
          "raises-exception"
        ],
        "id": "G9zck5F7ctuq",
        "outputId": "c090d8a5-65e8-4869-c5ed-26af5af4a461",
        "colab": {
          "base_uri": "https://localhost:8080/",
          "height": 141
        }
      },
      "outputs": [
        {
          "output_type": "error",
          "ename": "KeyError",
          "evalue": "1",
          "traceback": [
            "\u001b[0;31m---------------------------------------------------------------------------\u001b[0m",
            "\u001b[0;31mKeyError\u001b[0m                                  Traceback (most recent call last)",
            "\u001b[0;32m/tmp/ipython-input-2923433636.py\u001b[0m in \u001b[0;36m<cell line: 0>\u001b[0;34m()\u001b[0m\n\u001b[0;32m----> 1\u001b[0;31m \u001b[0mppap\u001b[0m\u001b[0;34m[\u001b[0m\u001b[0;36m1\u001b[0m\u001b[0;34m]\u001b[0m\u001b[0;34m\u001b[0m\u001b[0;34m\u001b[0m\u001b[0m\n\u001b[0m",
            "\u001b[0;31mKeyError\u001b[0m: 1"
          ]
        }
      ],
      "source": [
        "ppap[1]"
      ]
    },
    {
      "cell_type": "markdown",
      "metadata": {
        "id": "yAazY_lBctur"
      },
      "source": [
        "キーが辞書に登録されているかどうかは、演算子 **`in`** を用いて調べることができます。"
      ]
    },
    {
      "cell_type": "code",
      "execution_count": 7,
      "metadata": {
        "id": "7CYCbcONctur",
        "outputId": "9a05547e-9976-4df3-a1a9-5634c04d6300",
        "colab": {
          "base_uri": "https://localhost:8080/"
        }
      },
      "outputs": [
        {
          "output_type": "execute_result",
          "data": {
            "text/plain": [
              "True"
            ]
          },
          "metadata": {},
          "execution_count": 7
        }
      ],
      "source": [
        "ppap = {'apple': 3, 'pen': 5}\n",
        "'apple' in ppap"
      ]
    },
    {
      "cell_type": "code",
      "execution_count": 9,
      "metadata": {
        "id": "5lFgYmsIctur",
        "outputId": "0ca15516-e745-427d-d875-11772c39c75a",
        "colab": {
          "base_uri": "https://localhost:8080/"
        }
      },
      "outputs": [
        {
          "output_type": "execute_result",
          "data": {
            "text/plain": [
              "True"
            ]
          },
          "metadata": {},
          "execution_count": 9
        }
      ],
      "source": [
        "'banana' not in ppap"
      ]
    },
    {
      "cell_type": "markdown",
      "metadata": {
        "id": "8ytDTPLuctur"
      },
      "source": [
        "組み込み関数 **`len`** によって、辞書に登録されている要素、キーと値のペア、の数が得られます。"
      ]
    },
    {
      "cell_type": "code",
      "execution_count": 10,
      "metadata": {
        "id": "DnSyHPsictus",
        "outputId": "13893b01-586e-4d1f-c59a-5d6b37a0e9fa",
        "colab": {
          "base_uri": "https://localhost:8080/"
        }
      },
      "outputs": [
        {
          "output_type": "execute_result",
          "data": {
            "text/plain": [
              "2"
            ]
          },
          "metadata": {},
          "execution_count": 10
        }
      ],
      "source": [
        "ppap = {'apple': 3, 'pen': 5}\n",
        "len(ppap)"
      ]
    },
    {
      "cell_type": "markdown",
      "metadata": {
        "id": "LZYFlmwVctus"
      },
      "source": [
        "**`del`** 文によって、登録されているキーの要素を削除することができます。具体的には、次のように削除します。\n",
        "\n",
        "---\n",
        "```Python\n",
        "del 辞書[削除したいキー]\n",
        "```\n",
        "---"
      ]
    },
    {
      "cell_type": "code",
      "execution_count": 11,
      "metadata": {
        "id": "7L0rrGu4ctus",
        "outputId": "17e1a534-6288-47e5-fa52-5a0d882c83da",
        "colab": {
          "base_uri": "https://localhost:8080/"
        }
      },
      "outputs": [
        {
          "output_type": "execute_result",
          "data": {
            "text/plain": [
              "{'apple': 3}"
            ]
          },
          "metadata": {},
          "execution_count": 11
        }
      ],
      "source": [
        "ppap = {'apple' : 3, 'pen' : 5}\n",
        "del ppap['pen']\n",
        "ppap"
      ]
    },
    {
      "cell_type": "markdown",
      "metadata": {
        "id": "QhtLc69yctus"
      },
      "source": [
        "空のリストと同様に空の辞書を作ることもできます。このような空のデータは繰り返し処理でしばしば使われます。"
      ]
    },
    {
      "cell_type": "code",
      "execution_count": 12,
      "metadata": {
        "id": "OjDWy96Bctus",
        "outputId": "40686062-2d4e-481f-b501-201c2a0f971d",
        "colab": {
          "base_uri": "https://localhost:8080/"
        }
      },
      "outputs": [
        {
          "output_type": "execute_result",
          "data": {
            "text/plain": [
              "{}"
            ]
          },
          "metadata": {},
          "execution_count": 12
        }
      ],
      "source": [
        "empty_d = {}\n",
        "empty_d"
      ]
    },
    {
      "cell_type": "markdown",
      "metadata": {
        "id": "bj4XN7Gyctus"
      },
      "source": [
        "## 練習\n",
        "\n",
        "リスト `list1` が引数として与えられたとき、`list1` の各要素 `value` をキー、` value` の `list1` におけるインデックスをキーに対応する値とした辞書を返す関数 `reverse_lookup` を作成してください。\n",
        "\n",
        "以下のセルの `...` のところを書き換えて `reverse_lookup(list1)` を作成してください。"
      ]
    },
    {
      "cell_type": "code",
      "execution_count": 17,
      "metadata": {
        "id": "ZVM4vf3Dctut"
      },
      "outputs": [],
      "source": [
        "def reverse_lookup(list1):\n",
        "    dic1 = {}\n",
        "    for value in list1:\n",
        "        dic1[value] = list1.index(value)\n",
        "    return dic1"
      ]
    },
    {
      "cell_type": "markdown",
      "metadata": {
        "id": "sZzyveCRctut"
      },
      "source": [
        "上のセルで解答を作成した後、以下のセルを実行し、実行結果が `True` になることを確認してください。"
      ]
    },
    {
      "cell_type": "code",
      "execution_count": 18,
      "metadata": {
        "id": "Mx9m0ZE_ctut",
        "outputId": "f5969467-ab56-4fc0-f4c0-cb53aa870767",
        "colab": {
          "base_uri": "https://localhost:8080/"
        }
      },
      "outputs": [
        {
          "output_type": "stream",
          "name": "stdout",
          "text": [
            "True\n"
          ]
        }
      ],
      "source": [
        "print(reverse_lookup(['apple', 'pen', 'orange']) == {'apple': 0, 'orange': 2, 'pen': 1})"
      ]
    },
    {
      "cell_type": "markdown",
      "metadata": {
        "id": "EmbQTWA_ctut"
      },
      "source": [
        "## 辞書のメソッド\n",
        "辞書のメソッドを紹介しておきます。"
      ]
    },
    {
      "cell_type": "markdown",
      "metadata": {
        "id": "QBKGlJWsctut"
      },
      "source": [
        "### キーを指定して値を得るメソッド\n",
        "\n",
        "**`get`** メソッドは、引数として指定したキーが辞書に含まれてる場合にはその値を取得し、\n",
        "指定したキーが含まれていない場合には `None` を返します。\n",
        "`get` を利用することで、エラーを回避し、登録されているかどうかわからないキーを使うことができます。\n",
        "先に説明したキーを括弧、`[...]`、で指定する方法では、\n",
        "辞書にキーが存在しないとエラーとなりプログラムの実行が停止してしまいます。"
      ]
    },
    {
      "cell_type": "code",
      "execution_count": 19,
      "metadata": {
        "tags": [
          "raises-exception"
        ],
        "id": "gSxmr6Nsctut",
        "outputId": "dd8d349c-eb56-4645-98da-17f88e31b607",
        "colab": {
          "base_uri": "https://localhost:8080/",
          "height": 211
        }
      },
      "outputs": [
        {
          "output_type": "stream",
          "name": "stdout",
          "text": [
            "キーappleに対応する値 =  3\n",
            "キーorangeに対応する値 =  None\n"
          ]
        },
        {
          "output_type": "error",
          "ename": "KeyError",
          "evalue": "'orange'",
          "traceback": [
            "\u001b[0;31m---------------------------------------------------------------------------\u001b[0m",
            "\u001b[0;31mKeyError\u001b[0m                                  Traceback (most recent call last)",
            "\u001b[0;32m/tmp/ipython-input-201430436.py\u001b[0m in \u001b[0;36m<cell line: 0>\u001b[0;34m()\u001b[0m\n\u001b[1;32m      2\u001b[0m \u001b[0mprint\u001b[0m\u001b[0;34m(\u001b[0m\u001b[0;34m'キーappleに対応する値 = '\u001b[0m\u001b[0;34m,\u001b[0m \u001b[0mppap\u001b[0m\u001b[0;34m.\u001b[0m\u001b[0mget\u001b[0m\u001b[0;34m(\u001b[0m\u001b[0;34m'apple'\u001b[0m\u001b[0;34m)\u001b[0m\u001b[0;34m)\u001b[0m\u001b[0;34m\u001b[0m\u001b[0;34m\u001b[0m\u001b[0m\n\u001b[1;32m      3\u001b[0m \u001b[0mprint\u001b[0m\u001b[0;34m(\u001b[0m\u001b[0;34m'キーorangeに対応する値 = '\u001b[0m\u001b[0;34m,\u001b[0m \u001b[0mppap\u001b[0m\u001b[0;34m.\u001b[0m\u001b[0mget\u001b[0m\u001b[0;34m(\u001b[0m\u001b[0;34m'orange'\u001b[0m\u001b[0;34m)\u001b[0m\u001b[0;34m)\u001b[0m\u001b[0;34m\u001b[0m\u001b[0;34m\u001b[0m\u001b[0m\n\u001b[0;32m----> 4\u001b[0;31m \u001b[0mprint\u001b[0m\u001b[0;34m(\u001b[0m\u001b[0;34m'キーorangeに対応する値（エラー） = '\u001b[0m\u001b[0;34m,\u001b[0m \u001b[0mppap\u001b[0m\u001b[0;34m[\u001b[0m\u001b[0;34m'orange'\u001b[0m\u001b[0;34m]\u001b[0m\u001b[0;34m)\u001b[0m\u001b[0;34m\u001b[0m\u001b[0;34m\u001b[0m\u001b[0m\n\u001b[0m",
            "\u001b[0;31mKeyError\u001b[0m: 'orange'"
          ]
        }
      ],
      "source": [
        "ppap = {'apple' : 3, 'pen' : 5}\n",
        "print('キーappleに対応する値 = ', ppap.get('apple'))\n",
        "print('キーorangeに対応する値 = ', ppap.get('orange'))\n",
        "print('キーorangeに対応する値（エラー） = ', ppap['orange'])"
      ]
    },
    {
      "cell_type": "markdown",
      "metadata": {
        "id": "ta0Bz4WJctut"
      },
      "source": [
        "また、`get` に2番目の引数を与えると、その引数の値を「指定したキーが含まれていない場合」に `get` が返す値とすることができます。"
      ]
    },
    {
      "cell_type": "code",
      "execution_count": 20,
      "metadata": {
        "id": "8uUeDJv1ctut",
        "outputId": "c5851b7d-1807-473a-b28e-3f67787bab53",
        "colab": {
          "base_uri": "https://localhost:8080/"
        }
      },
      "outputs": [
        {
          "output_type": "stream",
          "name": "stdout",
          "text": [
            "キーappleに対応する値 =  3\n",
            "キーorangeに対応する値 =  -1\n"
          ]
        }
      ],
      "source": [
        "ppap = {'apple' : 3, 'pen' : 5}\n",
        "print('キーappleに対応する値 = ', ppap.get('apple', -1))\n",
        "print('キーorangeに対応する値 = ', ppap.get('orange', -1))"
      ]
    },
    {
      "cell_type": "markdown",
      "metadata": {
        "id": "3cPPYaXUctut"
      },
      "source": [
        "### ▲キーがない場合に登録を行う\n",
        "\n",
        "**`setdefault`** メソッドは、\n",
        "指定したキーが辞書に含まれてる場合には、対応する値を返します。\n",
        "キーが含まれていない場合には、2番目の引数として指定した値を返すと同時に、キーに対応する値として登録します。"
      ]
    },
    {
      "cell_type": "code",
      "execution_count": 21,
      "metadata": {
        "id": "eie2m9SJctuu",
        "outputId": "e5f81033-f408-4914-f8fa-70b9a7921933",
        "colab": {
          "base_uri": "https://localhost:8080/"
        }
      },
      "outputs": [
        {
          "output_type": "stream",
          "name": "stdout",
          "text": [
            "キーappleに対応する値 =  3\n",
            "setdefault(\"apple\", 7)を実行後の辞書 =  {'apple': 3, 'pen': 5}\n",
            "キーorangeに対応する値 =  7\n",
            "setdefault(\"orange\", 7)を実行後の辞書 =  {'apple': 3, 'pen': 5, 'orange': 7}\n"
          ]
        }
      ],
      "source": [
        "ppap = {'apple' : 3, 'pen' : 5}\n",
        "print('キーappleに対応する値 = ', ppap.setdefault('apple', 7))\n",
        "print('setdefault(\"apple\", 7)を実行後の辞書 = ', ppap)\n",
        "print('キーorangeに対応する値 = ', ppap.setdefault('orange', 7))\n",
        "print('setdefault(\"orange\", 7)を実行後の辞書 = ', ppap)"
      ]
    },
    {
      "cell_type": "markdown",
      "metadata": {
        "id": "K9S_dbtQctuu"
      },
      "source": [
        "上のような `setdefault` を用いた手続きを、`[...]` を用いて書き換えるとたとえば次のようになります。"
      ]
    },
    {
      "cell_type": "code",
      "execution_count": 22,
      "metadata": {
        "id": "u4O08ME_ctuu",
        "outputId": "f6a334c4-2b60-4137-a92a-b5656320f7a0",
        "colab": {
          "base_uri": "https://localhost:8080/"
        }
      },
      "outputs": [
        {
          "output_type": "stream",
          "name": "stdout",
          "text": [
            "キーappleに対応する値 =  3\n",
            "実行後の辞書 =  {'apple': 3, 'pen': 5}\n",
            "キーorangeに対応する値 =  7\n",
            "実行後の辞書 =  {'apple': 3, 'pen': 5, 'orange': 7}\n"
          ]
        }
      ],
      "source": [
        "ppap = {'apple' : 3, 'pen' : 5}\n",
        "if 'apple' not in ppap:\n",
        "    ppap['apple'] = 7\n",
        "print('キーappleに対応する値 = ', ppap['apple'])\n",
        "print('実行後の辞書 = ', ppap)\n",
        "if 'orange' not in ppap:\n",
        "    ppap['orange'] = 7\n",
        "print('キーorangeに対応する値 = ', ppap['orange'])\n",
        "print('実行後の辞書 = ', ppap)"
      ]
    },
    {
      "cell_type": "markdown",
      "metadata": {
        "id": "x3sYgMCJctuu"
      },
      "source": [
        "### ▲キーを指定した削除\n",
        "\n",
        "**`pop`** メソッドは指定したキーおよびそれに対応する値を削除し、削除されるキーに対応付けられた値を返します。"
      ]
    },
    {
      "cell_type": "code",
      "execution_count": 23,
      "metadata": {
        "id": "AupXZ87-ctuu",
        "outputId": "c34b8350-6184-41d2-eca9-d2d47a2ffc04",
        "colab": {
          "base_uri": "https://localhost:8080/"
        }
      },
      "outputs": [
        {
          "output_type": "stream",
          "name": "stdout",
          "text": [
            "5\n",
            "{'apple': 3}\n"
          ]
        }
      ],
      "source": [
        "ppap = {'apple' : 3, 'pen' : 5}\n",
        "print(ppap.pop('pen'))\n",
        "print(ppap)"
      ]
    },
    {
      "cell_type": "markdown",
      "metadata": {
        "id": "dws9lgGkctuu"
      },
      "source": [
        "### ▲全てのキーと値の削除\n",
        "**`clear`** メソッドは全てのキーと値を削除します。その結果、辞書は空となります。"
      ]
    },
    {
      "cell_type": "code",
      "execution_count": 24,
      "metadata": {
        "id": "QfEnljFTctuu",
        "outputId": "b08c9606-e202-4b03-fcd5-a4783465ff53",
        "colab": {
          "base_uri": "https://localhost:8080/"
        }
      },
      "outputs": [
        {
          "output_type": "execute_result",
          "data": {
            "text/plain": [
              "{}"
            ]
          },
          "metadata": {},
          "execution_count": 24
        }
      ],
      "source": [
        "ppap = {'apple' : 3, 'pen' : 5}\n",
        "ppap.clear()\n",
        "ppap"
      ]
    },
    {
      "cell_type": "markdown",
      "metadata": {
        "id": "umL-A6f0ctuu"
      },
      "source": [
        "### キーの一覧を得る\n",
        "**`keys`** メソッドはキーの一覧を返します。これはリストのようなものとして扱うことができ、\n",
        "`for` ループと組み合わせて繰り返し処理で利用されます（3-2を参照してください）。\n",
        "以下のように、**`keys`** メソッドが返した結果に関数 `list` を適用すると、\n",
        "通常のリストになります。"
      ]
    },
    {
      "cell_type": "code",
      "execution_count": 25,
      "metadata": {
        "id": "U7VYQLgUctuu",
        "outputId": "605d1dd6-0459-4db9-b12d-8f510365cf96",
        "colab": {
          "base_uri": "https://localhost:8080/"
        }
      },
      "outputs": [
        {
          "output_type": "execute_result",
          "data": {
            "text/plain": [
              "['apple', 'pen']"
            ]
          },
          "metadata": {},
          "execution_count": 25
        }
      ],
      "source": [
        "ppap = {'apple' : 3, 'pen' : 5}\n",
        "list(ppap.keys())"
      ]
    },
    {
      "cell_type": "markdown",
      "metadata": {
        "id": "JSCAFAtRctu2"
      },
      "source": [
        "### 値の一覧を得る\n",
        "**`values`** メソッドはキーに対応する全ての値の一覧を返します。これもリストのようなものとして扱うことができます。"
      ]
    },
    {
      "cell_type": "code",
      "execution_count": 26,
      "metadata": {
        "id": "ZDfGwL__ctu2",
        "outputId": "1d9ccbf9-83fa-4bb9-f330-5941e9dd63e9",
        "colab": {
          "base_uri": "https://localhost:8080/"
        }
      },
      "outputs": [
        {
          "output_type": "execute_result",
          "data": {
            "text/plain": [
              "[3, 5]"
            ]
          },
          "metadata": {},
          "execution_count": 26
        }
      ],
      "source": [
        "list(ppap.values())"
      ]
    },
    {
      "cell_type": "markdown",
      "metadata": {
        "id": "Ee5chT5Dctu2"
      },
      "source": [
        "### キーと値の一覧を得る\n",
        "**`items`** メソッドはキーとそれに対応する値をタプルにした一覧を返します。 これもタプルを要素とするリストのようなものとして扱うことができ、forループなどで活用します（3-2を参照してください）。"
      ]
    },
    {
      "cell_type": "code",
      "execution_count": 27,
      "metadata": {
        "id": "vAsSyD1Wctu2",
        "outputId": "3a46ec7a-fefd-4c6e-ca8a-317d70cbc195",
        "colab": {
          "base_uri": "https://localhost:8080/"
        }
      },
      "outputs": [
        {
          "output_type": "execute_result",
          "data": {
            "text/plain": [
              "[('apple', 3), ('pen', 5)]"
            ]
          },
          "metadata": {},
          "execution_count": 27
        }
      ],
      "source": [
        "list(ppap.items())"
      ]
    },
    {
      "cell_type": "markdown",
      "metadata": {
        "id": "U6US2jK7ctu2"
      },
      "source": [
        "### ▲辞書を複製する\n",
        "**`copy`** メソッドは辞書を複製します。リストの場合と同様に一方の辞書を変更してももう一方の辞書は影響を受けません。"
      ]
    },
    {
      "cell_type": "code",
      "execution_count": 28,
      "metadata": {
        "id": "ayDiQxOvctu2",
        "outputId": "40159d4e-c979-4ac6-86f5-f44352c80eb3",
        "colab": {
          "base_uri": "https://localhost:8080/"
        }
      },
      "outputs": [
        {
          "output_type": "stream",
          "name": "stdout",
          "text": [
            "{'apple': 3, 'pen': 5, 'orange': 7, 'banana': 9}\n",
            "{'apple': 3, 'pen': 5, 'orange': 7}\n"
          ]
        }
      ],
      "source": [
        "ppap = {'apple': 3, 'pen': 5, 'orange': 7}\n",
        "ppap2 = ppap.copy()\n",
        "ppap['banana'] = 9\n",
        "print(ppap)\n",
        "print(ppap2)"
      ]
    },
    {
      "cell_type": "markdown",
      "metadata": {
        "id": "pOVSCoz8ctu3"
      },
      "source": [
        "### ▲ ` keys`, `values`, `items` の返値\n",
        "`keys`, `values`, `items` メソッドの一連の説明では、返値を「リストのようなもの」と表現してきました。\n",
        "通常のリストとどう違うのでしょうか？\n",
        "\n",
        "次の例では、`ppap` の `keys`, `values`, `items` メソッドの返値をそれぞれ `ks`, `vs`, `itms` に代入し、\n",
        "`print` でそれぞれの内容を表示させています。\n",
        "\n",
        "次いで、`ppap` に新たな要素を加えたのちに、同じ変数の内容を表示させています。\n",
        "1, 2回目の `print` で内容が異なることに注意してください。\n",
        "もとの辞書が更新されると、これらの内容も動的に変わります。  "
      ]
    },
    {
      "cell_type": "code",
      "execution_count": 29,
      "metadata": {
        "id": "3LmD-C-6ctu3",
        "outputId": "171619b5-f1f5-412c-b9d2-709fd9e78c0b",
        "colab": {
          "base_uri": "https://localhost:8080/"
        }
      },
      "outputs": [
        {
          "output_type": "stream",
          "name": "stdout",
          "text": [
            "['apple', 'pen', 'orange']\n",
            "[3, 5, 7]\n",
            "[('apple', 3), ('pen', 5), ('orange', 7)]\n",
            "['apple', 'pen', 'orange', 'kiwi']\n",
            "[3, 5, 7, 9]\n",
            "[('apple', 3), ('pen', 5), ('orange', 7), ('kiwi', 9)]\n"
          ]
        }
      ],
      "source": [
        "ppap = {'apple': 3, 'pen': 5, 'orange': 7}\n",
        "ks = ppap.keys()\n",
        "vs = ppap.values()\n",
        "itms = ppap.items()\n",
        "print(list(ks))\n",
        "print(list(vs))\n",
        "print(list(itms))\n",
        "ppap['kiwi'] = 9\n",
        "print(list(ks))\n",
        "print(list(vs))\n",
        "print(list(itms))"
      ]
    },
    {
      "cell_type": "markdown",
      "metadata": {
        "id": "0Jv0yUZPctu3"
      },
      "source": [
        "## 辞書とリスト"
      ]
    },
    {
      "cell_type": "markdown",
      "metadata": {
        "id": "BXyTgUePctu3"
      },
      "source": [
        "冒頭で述べたように、辞書では値としてあらゆる型のデータを使用できます。\n",
        "すなわち、次のように値としてリストを使用する辞書を作成可能です。\n",
        "リストの要素を参照するには数字インデックスをさらに指定します。"
      ]
    },
    {
      "cell_type": "code",
      "execution_count": 30,
      "metadata": {
        "id": "R0sdlpvxctu3",
        "outputId": "c7cf0613-50df-485d-fe58-aca3ac0029a1",
        "colab": {
          "base_uri": "https://localhost:8080/"
        }
      },
      "outputs": [
        {
          "output_type": "stream",
          "name": "stdout",
          "text": [
            "[10, 20, 40]\n",
            "20\n"
          ]
        }
      ],
      "source": [
        "numbers = {'dozens': [10, 20, 40], 'hundreds': [100, 101, 120, 140]}\n",
        "print(numbers['dozens'])\n",
        "print(numbers['dozens'][1])"
      ]
    },
    {
      "cell_type": "markdown",
      "metadata": {
        "id": "tceAnjVJctu3"
      },
      "source": [
        "逆に、辞書を要素とするリストを作成することもできます。"
      ]
    },
    {
      "cell_type": "code",
      "execution_count": 31,
      "metadata": {
        "id": "Kao1L2s2ctu3",
        "outputId": "53b90ce7-b3bb-448b-8fcc-b1de2385af1b",
        "colab": {
          "base_uri": "https://localhost:8080/"
        }
      },
      "outputs": [
        {
          "output_type": "stream",
          "name": "stdout",
          "text": [
            "{'cat': 3, 'dog': 3, 'elephant': 8}\n",
            "3\n"
          ]
        }
      ],
      "source": [
        "ppap = {'apple': 3, 'pen': 5}\n",
        "pets = {'cat': 3, 'dog': 3, 'elephant': 8}\n",
        "ld = [ppap, pets]\n",
        "print(ld[1])\n",
        "print(ld[1]['dog'])"
      ]
    },
    {
      "cell_type": "markdown",
      "metadata": {
        "id": "X2f8wNuWctu3"
      },
      "source": [
        "## 練習\n",
        "\n",
        "辞書 `dic1` と文字列 `str1` が引数として与えられたとき、\n",
        "以下のように `dic1` を変更する関数 `handle_collision` を作成してください。\n",
        "ただし、`dic1` のキーは整数、キーに対応する値は文字列を要素とするリストとします。\n",
        "\n",
        "1. `dic1` に `str1` の長さ `n` がキーとして登録されていない場合、`str1` のみを要素とするリスト `ls` を作成し、 `dic1` にキー `n`、`n` に対応する値 `ls` を登録します。\n",
        "2. `dic1` に `str1` の長さ `n` がキーとして登録されている場合、そのキーに対応する値（リスト）に `str1` を追加します。\n",
        "\n",
        "以下のセルの `...` のところを書き換えて `handle_collision(dic1, str1)` を作成してください。"
      ]
    },
    {
      "cell_type": "code",
      "execution_count": 32,
      "metadata": {
        "id": "RWKKZFsSctu4"
      },
      "outputs": [],
      "source": [
        "def handle_collision(dic1, str1):\n",
        "    if dic1.get(len(str1)) is None:\n",
        "        ls = [str1]\n",
        "    else:\n",
        "        ls = dic1[len(str1)]\n",
        "        ls.append(str1)\n",
        "    dic1[len(str1)] = ls"
      ]
    },
    {
      "cell_type": "markdown",
      "metadata": {
        "id": "tfqYJGycctu4"
      },
      "source": [
        "上のセルで解答を作成した後、以下のセルを実行し、実行結果が `True` になることを確認してください。"
      ]
    },
    {
      "cell_type": "code",
      "execution_count": 33,
      "metadata": {
        "id": "KX3RHdAqctu4",
        "outputId": "df7439fd-c65b-4566-ad68-4f53048cdb81",
        "colab": {
          "base_uri": "https://localhost:8080/"
        }
      },
      "outputs": [
        {
          "output_type": "stream",
          "name": "stdout",
          "text": [
            "True\n"
          ]
        }
      ],
      "source": [
        "dic1_orig = {3: ['ham', 'egg'], 6: ['coffee', 'brandy'], 9: ['port wine'], 15: ['curried chicken']}\n",
        "dic1_result = {3: ['ham', 'egg', 'tea'], 6: ['coffee', 'brandy'], 9: ['port wine'], 15: ['curried chicken']}\n",
        "handle_collision(dic1_orig, 'tea')\n",
        "print(dic1_orig == dic1_result)"
      ]
    },
    {
      "cell_type": "markdown",
      "metadata": {
        "id": "AZUs759pctu4"
      },
      "source": [
        "## 練習の解答"
      ]
    },
    {
      "cell_type": "code",
      "execution_count": null,
      "metadata": {
        "id": "DQrhPUHTctu4"
      },
      "outputs": [],
      "source": [
        "def reverse_lookup(list1):\n",
        "    dic1 = {}  # 空の辞書を作成する\n",
        "    for value in list1:\n",
        "        dic1[value] = list1.index(value)\n",
        "    return dic1\n",
        "#reverse_lookup(['apple', 'pen', 'orange'])"
      ]
    },
    {
      "cell_type": "code",
      "execution_count": null,
      "metadata": {
        "id": "0OszTOSQctu4"
      },
      "outputs": [],
      "source": [
        "def handle_collision(dic1, str1):\n",
        "    if dic1.get(len(str1)) is None:\n",
        "        ls = [str1]\n",
        "    else:\n",
        "        ls = dic1[len(str1)]\n",
        "        ls.append(str1)\n",
        "    dic1[len(str1)] = ls\n",
        "#handle_collision({3: ['ham', 'egg'], 6: ['coffee', 'brandy'], 9: ['port wine'], 15: ['curried chicken']}, 'tea')"
      ]
    },
    {
      "cell_type": "code",
      "execution_count": null,
      "metadata": {
        "id": "3rsUq9dtctu4"
      },
      "outputs": [],
      "source": []
    }
  ],
  "metadata": {
    "kernelspec": {
      "display_name": "Python 3",
      "language": "python",
      "name": "python3"
    },
    "language_info": {
      "name": "python"
    },
    "colab": {
      "provenance": []
    }
  },
  "nbformat": 4,
  "nbformat_minor": 0
}