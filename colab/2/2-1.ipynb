{
  "cells": [
    {
      "cell_type": "markdown",
      "metadata": {
        "id": "Xj03sMk_qRxj"
      },
      "source": [
        "# 2-1. 文字列 (string)\n",
        "\n",
        "文書処理などに必要な文字列について説明します。\n",
        "\n",
        "参考\n",
        "\n",
        "- https://docs.python.org/ja/3/tutorial/introduction.html#strings\n",
        "\n",
        "Pythonが扱うデータには様々な種類がありますが、**文字列**はいくつかの文字の並びから構成されるデータです。\n",
        "Pythonは標準で多言語に対応しており、\n",
        "英語アルファベットだけではなく日本語をはじめとする多くの言語を取り扱えます。\n",
        "\n",
        "文字列は、文字の並びをシングルクォート `'...'`、もしくはダブルクォート `\"...\"` で囲んで記述します。\n",
        "\n",
        "以下の例では文字列をそれぞれ、変数 `word1`, `word2` に代入しています。"
      ]
    },
    {
      "cell_type": "code",
      "execution_count": 1,
      "metadata": {
        "id": "-RpOJ7CtqRxm",
        "outputId": "7de52372-8204-4836-c5f7-0d0e8475afb3",
        "colab": {
          "base_uri": "https://localhost:8080/",
          "height": 35
        }
      },
      "outputs": [
        {
          "output_type": "execute_result",
          "data": {
            "text/plain": [
              "'hello'"
            ],
            "application/vnd.google.colaboratory.intrinsic+json": {
              "type": "string"
            }
          },
          "metadata": {},
          "execution_count": 1
        }
      ],
      "source": [
        "word1 = 'hello'\n",
        "word1"
      ]
    },
    {
      "cell_type": "code",
      "execution_count": 2,
      "metadata": {
        "id": "LiQaaH-UqRxn",
        "outputId": "bf5b9a3e-053c-40cd-f921-b395f9736132",
        "colab": {
          "base_uri": "https://localhost:8080/",
          "height": 35
        }
      },
      "outputs": [
        {
          "output_type": "execute_result",
          "data": {
            "text/plain": [
              "'Hello'"
            ],
            "application/vnd.google.colaboratory.intrinsic+json": {
              "type": "string"
            }
          },
          "metadata": {},
          "execution_count": 2
        }
      ],
      "source": [
        "word2 = 'Hello'\n",
        "word2"
      ]
    },
    {
      "cell_type": "markdown",
      "metadata": {
        "id": "4Xkq0k6jqRxo"
      },
      "source": [
        "上の変数の値が確かに文字列であることは、組み込み関数 **`type`** によって確認できます。\n",
        "`type` は、任意のデータを引数として、そのデータの種類を返します。\n",
        "データの種類は、**データ型**もしくは**型**と呼ばれます。"
      ]
    },
    {
      "cell_type": "code",
      "execution_count": 3,
      "metadata": {
        "id": "ptChhvYLqRxo",
        "outputId": "aee152c2-224f-4278-de1b-b5b70be28fcb",
        "colab": {
          "base_uri": "https://localhost:8080/"
        }
      },
      "outputs": [
        {
          "output_type": "execute_result",
          "data": {
            "text/plain": [
              "str"
            ]
          },
          "metadata": {},
          "execution_count": 3
        }
      ],
      "source": [
        "type(word1)"
      ]
    },
    {
      "cell_type": "markdown",
      "metadata": {
        "id": "09Y9uvH-qRxp"
      },
      "source": [
        "**`str`** は文字列のデータ型を意味します。"
      ]
    },
    {
      "cell_type": "code",
      "execution_count": 4,
      "metadata": {
        "id": "bJEYIJ4BqRxq",
        "outputId": "1f8d96dd-8296-4588-d171-6b0f11ad5637",
        "colab": {
          "base_uri": "https://localhost:8080/"
        }
      },
      "outputs": [
        {
          "output_type": "execute_result",
          "data": {
            "text/plain": [
              "str"
            ]
          },
          "metadata": {},
          "execution_count": 4
        }
      ],
      "source": [
        "type(word2)"
      ]
    },
    {
      "cell_type": "markdown",
      "metadata": {
        "id": "ep1yle2FqRxq"
      },
      "source": [
        "`str` は組み込み関数としても用いられます。\n",
        "組み込み関数 **`str`** を使えば、任意のデータを文字列に変換できます。\n",
        "一般に、データ型は、そのデータ型への変換を行う関数として用いられることが多いです。\n",
        "\n",
        "1-1で学んだ数値を文字列に変換したい場合、次のように行います。"
      ]
    },
    {
      "cell_type": "code",
      "execution_count": 5,
      "metadata": {
        "id": "z17qGkK6qRxr",
        "outputId": "b08f4e66-9f0d-4204-e22f-2dab318c6786",
        "colab": {
          "base_uri": "https://localhost:8080/",
          "height": 35
        }
      },
      "outputs": [
        {
          "output_type": "execute_result",
          "data": {
            "text/plain": [
              "'123'"
            ],
            "application/vnd.google.colaboratory.intrinsic+json": {
              "type": "string"
            }
          },
          "metadata": {},
          "execution_count": 5
        }
      ],
      "source": [
        "word3 = str(123)\n",
        "word3"
      ]
    },
    {
      "cell_type": "markdown",
      "metadata": {
        "id": "jK3lgwvRqRxr"
      },
      "source": [
        "逆に、`'123'` という文字列を整数に変換するには、1-1で述べた **`int`** という関数を用いることができます。\n",
        "（実は `int` は整数の型でもあります。）"
      ]
    },
    {
      "cell_type": "code",
      "execution_count": 6,
      "metadata": {
        "id": "40UKY5oGqRxr",
        "outputId": "e80bad95-a04d-4175-db4a-27094f168c50",
        "colab": {
          "base_uri": "https://localhost:8080/"
        }
      },
      "outputs": [
        {
          "output_type": "execute_result",
          "data": {
            "text/plain": [
              "123"
            ]
          },
          "metadata": {},
          "execution_count": 6
        }
      ],
      "source": [
        "i = int('123')\n",
        "i"
      ]
    },
    {
      "cell_type": "markdown",
      "metadata": {
        "id": "t_F6paXqqRxs"
      },
      "source": [
        "関数 **`float`** を用いれば文字列を実数に変換できます。"
      ]
    },
    {
      "cell_type": "code",
      "execution_count": 7,
      "metadata": {
        "id": "Kjl04V1OqRxs",
        "outputId": "53a3ec00-d589-4983-f191-dcf9583eae83",
        "colab": {
          "base_uri": "https://localhost:8080/"
        }
      },
      "outputs": [
        {
          "output_type": "execute_result",
          "data": {
            "text/plain": [
              "123.4"
            ]
          },
          "metadata": {},
          "execution_count": 7
        }
      ],
      "source": [
        "f = float('123.4')\n",
        "f"
      ]
    },
    {
      "cell_type": "markdown",
      "metadata": {
        "id": "BXZH9wEVqRxs"
      },
      "source": [
        "文字列の長さは、組み込み関数 **`len`** を用いて次のようにして求めます。"
      ]
    },
    {
      "cell_type": "code",
      "execution_count": 8,
      "metadata": {
        "id": "HjOisHSXqRxs",
        "outputId": "50981986-8e8a-497a-f163-42085a7f654a",
        "colab": {
          "base_uri": "https://localhost:8080/"
        }
      },
      "outputs": [
        {
          "output_type": "execute_result",
          "data": {
            "text/plain": [
              "5"
            ]
          },
          "metadata": {},
          "execution_count": 8
        }
      ],
      "source": [
        "len(word1)"
      ]
    },
    {
      "cell_type": "markdown",
      "metadata": {
        "id": "V4wFUl5xqRxs"
      },
      "source": [
        "複数行にわたる文字列を記述するには、トリプルクォート（`'''...'''` もしくは `\"\"\"...\"\"\"`）を用いることができます。\n",
        "上記の参考URLを参照してください。\n",
        "トリプルクォートはコメントとしても用いられます。\n",
        "なお、1-4 のコーディングスタイルのところで紹介したスタイルガイドのPEP8では、\n",
        "トリプルクォートには `\"\"\"...\"\"\"` を使うのが適切と定められています。"
      ]
    },
    {
      "cell_type": "markdown",
      "metadata": {
        "id": "6ei9Bk9FqRxs"
      },
      "source": [
        "## 文字列とインデックス\n",
        "\n",
        "文字列はいくつかの文字によって構成されています。\n",
        "\n",
        "文字列 `'hello'` の3番目の文字を得たい場合は、以下のような記法を用います。"
      ]
    },
    {
      "cell_type": "code",
      "execution_count": 9,
      "metadata": {
        "id": "ozJPqIXjqRxt",
        "outputId": "19e989e8-e001-4231-f10a-cdaf0e2bff79",
        "colab": {
          "base_uri": "https://localhost:8080/",
          "height": 35
        }
      },
      "outputs": [
        {
          "output_type": "execute_result",
          "data": {
            "text/plain": [
              "'l'"
            ],
            "application/vnd.google.colaboratory.intrinsic+json": {
              "type": "string"
            }
          },
          "metadata": {},
          "execution_count": 9
        }
      ],
      "source": [
        "'hello'[2]"
      ]
    },
    {
      "cell_type": "markdown",
      "metadata": {
        "id": "DZfIhT4pqRxt"
      },
      "source": [
        "文字列を値とする変数に対しても同様の記法を用います。多くの場合は変数に対してこの記法を用います。"
      ]
    },
    {
      "cell_type": "code",
      "execution_count": 10,
      "metadata": {
        "id": "u69o67GmqRxt",
        "outputId": "fa7dbf4b-c568-455f-b87e-b941c18c7744",
        "colab": {
          "base_uri": "https://localhost:8080/",
          "height": 35
        }
      },
      "outputs": [
        {
          "output_type": "execute_result",
          "data": {
            "text/plain": [
              "'l'"
            ],
            "application/vnd.google.colaboratory.intrinsic+json": {
              "type": "string"
            }
          },
          "metadata": {},
          "execution_count": 10
        }
      ],
      "source": [
        "word1 = 'hello'\n",
        "word1[2]"
      ]
    },
    {
      "cell_type": "markdown",
      "metadata": {
        "id": "a_YV8kwVqRxt"
      },
      "source": [
        "この括弧内の数値のことを**インデックス**と呼びます。インデックスは `0` から始まるので、\n",
        "ある文字列の `x` 番目の要素を得るには、インデックスとして `x-1` を指定する必要があります。\n",
        "\n",
        "こうして取得した文字は、Pythonでは長さが 1 の文字列として扱われます。\n",
        "（プログラミング言語によっては、文字列ではなく別の型のデータとして扱われるものもありますので注意してください。）"
      ]
    },
    {
      "cell_type": "markdown",
      "metadata": {
        "id": "4yBsY6ieqRxt"
      },
      "source": [
        "文字列に対して、インデックスを指定してその要素を変更することはできません。（次のセルはエラーとなります）\n",
        "Pythonのデータは、大きく、変更可能なものと変更不可能なものに分類できますが、\n",
        "文字列は変更不可能なデータです。\n",
        "したがって、文字列を加工する場合は、新たに別の文字列を作成します。"
      ]
    },
    {
      "cell_type": "code",
      "execution_count": 11,
      "metadata": {
        "tags": [
          "raises-exception"
        ],
        "id": "ixQvRiD7qRxt",
        "outputId": "4e9e3327-6783-4dbc-9507-8ed20378a845",
        "colab": {
          "base_uri": "https://localhost:8080/",
          "height": 158
        }
      },
      "outputs": [
        {
          "output_type": "error",
          "ename": "TypeError",
          "evalue": "'str' object does not support item assignment",
          "traceback": [
            "\u001b[0;31m---------------------------------------------------------------------------\u001b[0m",
            "\u001b[0;31mTypeError\u001b[0m                                 Traceback (most recent call last)",
            "\u001b[0;32m/tmp/ipython-input-1689567903.py\u001b[0m in \u001b[0;36m<cell line: 0>\u001b[0;34m()\u001b[0m\n\u001b[1;32m      1\u001b[0m \u001b[0mword1\u001b[0m \u001b[0;34m=\u001b[0m \u001b[0;34m'hello'\u001b[0m\u001b[0;34m\u001b[0m\u001b[0;34m\u001b[0m\u001b[0m\n\u001b[0;32m----> 2\u001b[0;31m \u001b[0mword1\u001b[0m\u001b[0;34m[\u001b[0m\u001b[0;36m0\u001b[0m\u001b[0;34m]\u001b[0m \u001b[0;34m=\u001b[0m \u001b[0;34m'H'\u001b[0m\u001b[0;34m\u001b[0m\u001b[0;34m\u001b[0m\u001b[0m\n\u001b[0m",
            "\u001b[0;31mTypeError\u001b[0m: 'str' object does not support item assignment"
          ]
        }
      ],
      "source": [
        "word1 = 'hello'\n",
        "word1[0] = 'H'"
      ]
    },
    {
      "cell_type": "markdown",
      "metadata": {
        "id": "2vFrknhZqRxu"
      },
      "source": [
        "また、文字列の長さ以上のインデックスを指定することはできません。（次はエラーとなります）"
      ]
    },
    {
      "cell_type": "code",
      "execution_count": 12,
      "metadata": {
        "tags": [
          "raises-exception"
        ],
        "id": "tMBduhbBqRxu",
        "outputId": "683aa39d-fe18-4bed-eb41-b80bd8808603",
        "colab": {
          "base_uri": "https://localhost:8080/",
          "height": 141
        }
      },
      "outputs": [
        {
          "output_type": "error",
          "ename": "IndexError",
          "evalue": "string index out of range",
          "traceback": [
            "\u001b[0;31m---------------------------------------------------------------------------\u001b[0m",
            "\u001b[0;31mIndexError\u001b[0m                                Traceback (most recent call last)",
            "\u001b[0;32m/tmp/ipython-input-521024611.py\u001b[0m in \u001b[0;36m<cell line: 0>\u001b[0;34m()\u001b[0m\n\u001b[0;32m----> 1\u001b[0;31m \u001b[0mword1\u001b[0m\u001b[0;34m[\u001b[0m\u001b[0;36m100\u001b[0m\u001b[0;34m]\u001b[0m\u001b[0;34m\u001b[0m\u001b[0;34m\u001b[0m\u001b[0m\n\u001b[0m",
            "\u001b[0;31mIndexError\u001b[0m: string index out of range"
          ]
        }
      ],
      "source": [
        "word1[100]"
      ]
    },
    {
      "cell_type": "markdown",
      "metadata": {
        "id": "CGQejhVwqRxu"
      },
      "source": [
        "インデックスに負数を指定すると、\n",
        "文字列を後ろから数えた順序に従って文字列を構成する文字を得ます。\n",
        "たとえば、文字列の最後の文字を取得するには、`-1` を指定します。"
      ]
    },
    {
      "cell_type": "code",
      "execution_count": 15,
      "metadata": {
        "id": "32lPHZKJqRxu",
        "outputId": "5401a00a-42d4-4d20-e3a9-4be672b171ec",
        "colab": {
          "base_uri": "https://localhost:8080/",
          "height": 35
        }
      },
      "outputs": [
        {
          "output_type": "execute_result",
          "data": {
            "text/plain": [
              "'e'"
            ],
            "application/vnd.google.colaboratory.intrinsic+json": {
              "type": "string"
            }
          },
          "metadata": {},
          "execution_count": 15
        }
      ],
      "source": [
        "word1[-4]"
      ]
    },
    {
      "cell_type": "markdown",
      "metadata": {
        "id": "gFU4-iuWqRxu"
      },
      "source": [
        "まとめると文字列 `hello` の正負のインデックスは以下の表の関係になります。  \n",
        "\n",
        "|インデックス|h|e|l|l|o|\n",
        "|-|--|--|--|--|--|\n",
        "|0か正|0|1|2|3|4|\n",
        "|負|-5|-4|-3|-2|-1|"
      ]
    },
    {
      "cell_type": "markdown",
      "metadata": {
        "id": "Tfm5oIt6qRxu"
      },
      "source": [
        "## 文字列とスライス\n",
        "**スライス**と呼ばれる機能を利用して、文字列の一部（部分文字列）を取得できます。\n",
        "\n",
        "具体的には、取得したい部分文字列の先頭の文字のインデックスと最後の文字のインデックスに\n",
        "`1` を加えた値を指定します。\n",
        "たとえば、ある文字列の2番目の文字から4番目までの文字の部分文字列を得るには次のようにします。"
      ]
    },
    {
      "cell_type": "code",
      "execution_count": 1,
      "metadata": {
        "id": "zbOH-2pyqRxu",
        "outputId": "acf202be-261c-4ae5-a303-423f200052e1",
        "colab": {
          "base_uri": "https://localhost:8080/",
          "height": 35
        }
      },
      "outputs": [
        {
          "output_type": "execute_result",
          "data": {
            "text/plain": [
              "'3456'"
            ],
            "application/vnd.google.colaboratory.intrinsic+json": {
              "type": "string"
            }
          },
          "metadata": {},
          "execution_count": 1
        }
      ],
      "source": [
        "digits1='0123456789'\n",
        "digits1[3:7]"
      ]
    },
    {
      "cell_type": "markdown",
      "metadata": {
        "id": "i_3tYtblqRxu"
      },
      "source": [
        "文字列の先頭（すなわち、インデックスが `0` の文字）を指定する場合、次のように行えます。"
      ]
    },
    {
      "cell_type": "code",
      "execution_count": 18,
      "metadata": {
        "id": "sgJs-QUpqRxu",
        "outputId": "383e7172-9a00-4fb4-c6d2-6ad396478bfc",
        "colab": {
          "base_uri": "https://localhost:8080/",
          "height": 35
        }
      },
      "outputs": [
        {
          "output_type": "execute_result",
          "data": {
            "text/plain": [
              "'012'"
            ],
            "application/vnd.google.colaboratory.intrinsic+json": {
              "type": "string"
            }
          },
          "metadata": {},
          "execution_count": 18
        }
      ],
      "source": [
        "digits1[0:3]"
      ]
    },
    {
      "cell_type": "markdown",
      "metadata": {
        "id": "A0wOhahrqRxv"
      },
      "source": [
        "しかし、最初の `0` は省略しても同じ結果となります。"
      ]
    },
    {
      "cell_type": "code",
      "execution_count": 21,
      "metadata": {
        "id": "GSSUdayoqRxv",
        "outputId": "839c1097-3256-4081-d2e0-64c203c1763d",
        "colab": {
          "base_uri": "https://localhost:8080/",
          "height": 35
        }
      },
      "outputs": [
        {
          "output_type": "execute_result",
          "data": {
            "text/plain": [
              "'012'"
            ],
            "application/vnd.google.colaboratory.intrinsic+json": {
              "type": "string"
            }
          },
          "metadata": {},
          "execution_count": 21
        }
      ],
      "source": [
        "digits1[:3]"
      ]
    },
    {
      "cell_type": "markdown",
      "metadata": {
        "id": "-NrNhs7_qRxv"
      },
      "source": [
        "同様に、最後尾の文字のインデックスも、値を省略することもできます。"
      ]
    },
    {
      "cell_type": "code",
      "execution_count": 22,
      "metadata": {
        "id": "5Mcuk6IDqRxv",
        "outputId": "a841d225-6651-4ed3-8773-fdf3e7121c7f",
        "colab": {
          "base_uri": "https://localhost:8080/",
          "height": 35
        }
      },
      "outputs": [
        {
          "output_type": "execute_result",
          "data": {
            "text/plain": [
              "'3456789'"
            ],
            "application/vnd.google.colaboratory.intrinsic+json": {
              "type": "string"
            }
          },
          "metadata": {},
          "execution_count": 22
        }
      ],
      "source": [
        "digits1[3:]"
      ]
    },
    {
      "cell_type": "code",
      "execution_count": 23,
      "metadata": {
        "id": "utAJWTJTqRxv",
        "outputId": "5e526e3a-b7e6-4ed3-e17c-616c4429dfe9",
        "colab": {
          "base_uri": "https://localhost:8080/",
          "height": 35
        }
      },
      "outputs": [
        {
          "output_type": "execute_result",
          "data": {
            "text/plain": [
              "'34'"
            ],
            "application/vnd.google.colaboratory.intrinsic+json": {
              "type": "string"
            }
          },
          "metadata": {},
          "execution_count": 23
        }
      ],
      "source": [
        "digits1[3:5]"
      ]
    },
    {
      "cell_type": "markdown",
      "metadata": {
        "id": "5n8bq1e5qRxv"
      },
      "source": [
        "スライスにおいても負数を指定して、\n",
        "文字列の最後の方から部分文字列を取得できます。"
      ]
    },
    {
      "cell_type": "code",
      "execution_count": 9,
      "metadata": {
        "id": "atUk5QIHqRxv",
        "outputId": "1828a720-a832-4d5d-c214-8806b1031f46",
        "colab": {
          "base_uri": "https://localhost:8080/",
          "height": 35
        }
      },
      "outputs": [
        {
          "output_type": "execute_result",
          "data": {
            "text/plain": [
              "'678'"
            ],
            "application/vnd.google.colaboratory.intrinsic+json": {
              "type": "string"
            }
          },
          "metadata": {},
          "execution_count": 9
        }
      ],
      "source": [
        "digits1[-4:-1]"
      ]
    },
    {
      "cell_type": "markdown",
      "metadata": {
        "id": "jAK_s6IMqRx2"
      },
      "source": [
        "スライスでは3番目の値を指定することで、とびとびの文字を指定できます。次のように `digits1[3:9:2]` と指定すると、インデックス `3` から2文字おきにインデックス `9` より小さい文字を並べた部分文字列を得ます。"
      ]
    },
    {
      "cell_type": "code",
      "execution_count": 25,
      "metadata": {
        "id": "pkrdJCCIqRx2",
        "outputId": "7bf447e4-5b54-4de9-e313-bec502e32e16",
        "colab": {
          "base_uri": "https://localhost:8080/",
          "height": 35
        }
      },
      "outputs": [
        {
          "output_type": "execute_result",
          "data": {
            "text/plain": [
              "'357'"
            ],
            "application/vnd.google.colaboratory.intrinsic+json": {
              "type": "string"
            }
          },
          "metadata": {},
          "execution_count": 25
        }
      ],
      "source": [
        "digits1[3:9:2]"
      ]
    },
    {
      "cell_type": "markdown",
      "metadata": {
        "id": "bL477k-zqRx3"
      },
      "source": [
        "3番目の値に `-1` を指定することもできます。これを使えば元の文字列の逆向きの文字列を得ることができます。"
      ]
    },
    {
      "cell_type": "code",
      "execution_count": 8,
      "metadata": {
        "id": "HEt6gvFtqRx3",
        "outputId": "46b841b8-8871-4182-fb59-a4e5dc46dd16",
        "colab": {
          "base_uri": "https://localhost:8080/",
          "height": 35
        }
      },
      "outputs": [
        {
          "output_type": "execute_result",
          "data": {
            "text/plain": [
              "'85'"
            ],
            "application/vnd.google.colaboratory.intrinsic+json": {
              "type": "string"
            }
          },
          "metadata": {},
          "execution_count": 8
        }
      ],
      "source": [
        "digits1[8:4:-3]"
      ]
    },
    {
      "cell_type": "markdown",
      "metadata": {
        "id": "qbWrMy6AqRx3"
      },
      "source": [
        "## 空文字列\n",
        "シングルクォート（もしくはダブルクォート）で、何も囲まない場合、長さ 0 の文字列（**空文字列**（くうもじれつ）もしくは、**空列**（くうれつ））となります。\n",
        "具体的には、下記のように使用します。\n",
        "\n",
        "---\n",
        "```Python\n",
        "blank = ''\n",
        "```\n",
        "---\n",
        "\n",
        "空文字列は、次のように、たとえば文字列中からある部分文字列を取り除くのに使用します。\n",
        "（`replace` は後で説明します。）"
      ]
    },
    {
      "cell_type": "code",
      "execution_count": 11,
      "metadata": {
        "id": "LIUdmy19qRx3",
        "outputId": "804a88f7-4b33-47a3-bc86-7dc118349fd5",
        "colab": {
          "base_uri": "https://localhost:8080/",
          "height": 35
        }
      },
      "outputs": [
        {
          "output_type": "execute_result",
          "data": {
            "text/plain": [
              "'2.980円'"
            ],
            "application/vnd.google.colaboratory.intrinsic+json": {
              "type": "string"
            }
          },
          "metadata": {},
          "execution_count": 11
        }
      ],
      "source": [
        "price = '2,980円'\n",
        "price.replace(',', '.')"
      ]
    },
    {
      "cell_type": "markdown",
      "metadata": {
        "id": "U2pCfWR6qRx3"
      },
      "source": [
        "文字列のスライスにおいて、指定したインデックスの範囲に文字列が存在しない場合、\n",
        "たとえば、最初に指定したインデックス `x` に対して、\n",
        "2番目のインデックスの値に `x` 以下のインデックスの値を指定するとどうなるでしょうか？\n",
        "（ただし、2つのインデックスは同じ符号を持つとし、スライスの3番目の値は用いないとします。）\n",
        "このような場合、結果は次のように空文字列となります（エラーが出たり、結果が `None` にはならないことに注意してください）。"
      ]
    },
    {
      "cell_type": "code",
      "execution_count": 12,
      "metadata": {
        "id": "jm_Dw7yvqRx3",
        "outputId": "eeb577fc-37f7-42a8-90ca-ef9b90ff9c79",
        "colab": {
          "base_uri": "https://localhost:8080/"
        }
      },
      "outputs": [
        {
          "output_type": "stream",
          "name": "stdout",
          "text": [
            "空文字列1 =  \n",
            "空文字列2 =  \n",
            "空文字列3 =  \n",
            "空文字列ではない =  345678\n"
          ]
        }
      ],
      "source": [
        "digits1='0123456789'\n",
        "print('空文字列1 = ', digits1[4:2])\n",
        "print('空文字列2 = ', digits1[-1:-4])\n",
        "print('空文字列3 = ', digits1[3:3])\n",
        "print('空文字列ではない = ', digits1[3:-1])"
      ]
    },
    {
      "cell_type": "markdown",
      "metadata": {
        "id": "BzvzGsh3qRx3"
      },
      "source": [
        "## 文字列の検索\n",
        "\n",
        "`文字列A` が `文字列B` を含むかどうかを調べるには、**`in`** 演算子を使います。\n",
        "具体的には、次のように使用します。\n",
        "\n",
        "---\n",
        "```Python\n",
        "文字列B in 文字列A\n",
        "```\n",
        "---\n",
        "\n",
        "調べたい `文字列B` が含まれていれば `True` が、そうでなければ `False` が返ります。"
      ]
    },
    {
      "cell_type": "code",
      "execution_count": 15,
      "metadata": {
        "id": "BlW6IrSbqRx4",
        "outputId": "608ec75f-7ea6-41c1-81e7-7bfcd1fe2530",
        "colab": {
          "base_uri": "https://localhost:8080/"
        }
      },
      "outputs": [
        {
          "output_type": "execute_result",
          "data": {
            "text/plain": [
              "True"
            ]
          },
          "metadata": {},
          "execution_count": 15
        }
      ],
      "source": [
        "'lo' in 'hello'"
      ]
    },
    {
      "cell_type": "code",
      "execution_count": 16,
      "metadata": {
        "id": "ik2L1aojqRx4",
        "outputId": "17a66d46-3540-47a3-9ad4-49ca1719d518",
        "colab": {
          "base_uri": "https://localhost:8080/"
        }
      },
      "outputs": [
        {
          "output_type": "execute_result",
          "data": {
            "text/plain": [
              "False"
            ]
          },
          "metadata": {},
          "execution_count": 16
        }
      ],
      "source": [
        "'z' in 'hello'"
      ]
    },
    {
      "cell_type": "markdown",
      "metadata": {
        "id": "NnjOIeFSqRx4"
      },
      "source": [
        "実際のプログラムでは文字列を値とする変数を用いることが多いでしょう。"
      ]
    },
    {
      "cell_type": "code",
      "execution_count": 17,
      "metadata": {
        "id": "5fmtWz6NqRx4",
        "outputId": "b01c88cd-fa29-4219-f6a2-763adacc1d5e",
        "colab": {
          "base_uri": "https://localhost:8080/"
        }
      },
      "outputs": [
        {
          "output_type": "execute_result",
          "data": {
            "text/plain": [
              "True"
            ]
          },
          "metadata": {},
          "execution_count": 17
        }
      ],
      "source": [
        "word1 =  'hello'\n",
        "substr1 = 'lo'\n",
        "substr1 in word1"
      ]
    },
    {
      "cell_type": "code",
      "execution_count": 18,
      "metadata": {
        "id": "UPdvM50QqRx5",
        "outputId": "1c1dea14-6f61-496c-b182-648b1ac72eb3",
        "colab": {
          "base_uri": "https://localhost:8080/"
        }
      },
      "outputs": [
        {
          "output_type": "execute_result",
          "data": {
            "text/plain": [
              "False"
            ]
          },
          "metadata": {},
          "execution_count": 18
        }
      ],
      "source": [
        "substr2 = 'z'\n",
        "substr2 in word1"
      ]
    },
    {
      "cell_type": "markdown",
      "metadata": {
        "id": "LpGOySotqRx5"
      },
      "source": [
        "**`not in`** 演算子は、`in` 演算子の逆を意味します。"
      ]
    },
    {
      "cell_type": "code",
      "execution_count": 19,
      "metadata": {
        "id": "Uez64mqAqRx5",
        "outputId": "3238f40f-ee0b-4def-da25-89bd51b4aa70",
        "colab": {
          "base_uri": "https://localhost:8080/"
        }
      },
      "outputs": [
        {
          "output_type": "execute_result",
          "data": {
            "text/plain": [
              "True"
            ]
          },
          "metadata": {},
          "execution_count": 19
        }
      ],
      "source": [
        "word1 =  'hello'\n",
        "substr2 = 'z'\n",
        "substr2 not in word1"
      ]
    },
    {
      "cell_type": "code",
      "source": [],
      "metadata": {
        "id": "6I7JpIjfh-7n"
      },
      "execution_count": null,
      "outputs": []
    },
    {
      "cell_type": "markdown",
      "metadata": {
        "id": "bvJdHb1gqRx5"
      },
      "source": [
        "## ▲エスケープシーケンス\n",
        "文字列を作成するにはシングル `'` あるいはダブルクォート `\"` で囲むと説明しました。\n",
        "これらの文字を含む文字列を作成するには、**エスケープシーケンス**と呼ばれる特殊な文字列を使う必要があります。\n",
        "\n",
        "たとえば、下のように文字列に `'` を含む文字列を `'` で囲むと文字列の範囲がずれてエラーとなります。"
      ]
    },
    {
      "cell_type": "code",
      "execution_count": 20,
      "metadata": {
        "tags": [
          "raises-exception"
        ],
        "id": "N1UOMtzjqRx5",
        "outputId": "b0ea0b29-5f54-4a05-f86d-cf83117182f4",
        "colab": {
          "base_uri": "https://localhost:8080/",
          "height": 106
        }
      },
      "outputs": [
        {
          "output_type": "error",
          "ename": "SyntaxError",
          "evalue": "invalid syntax (ipython-input-1163335816.py, line 1)",
          "traceback": [
            "\u001b[0;36m  File \u001b[0;32m\"/tmp/ipython-input-1163335816.py\"\u001b[0;36m, line \u001b[0;32m1\u001b[0m\n\u001b[0;31m    non_escaped = 'This is 'MINE''\u001b[0m\n\u001b[0m                            ^\u001b[0m\n\u001b[0;31mSyntaxError\u001b[0m\u001b[0;31m:\u001b[0m invalid syntax\n"
          ]
        }
      ],
      "source": [
        "non_escaped = 'This is 'MINE''\n",
        "non_escaped"
      ]
    },
    {
      "cell_type": "markdown",
      "metadata": {
        "id": "wTtxB6MBqRx5"
      },
      "source": [
        "エラーを避けるには、エスケープシーケンスで `'` を記述します、具体的には `'` の前に `\\` と記述すると、`'` を含む文字列を作成できます。"
      ]
    },
    {
      "cell_type": "code",
      "execution_count": 21,
      "metadata": {
        "id": "PwZZheVBqRx5",
        "outputId": "e4c9768a-f3c8-4880-fbc2-4989ced1aced",
        "colab": {
          "base_uri": "https://localhost:8080/",
          "height": 35
        }
      },
      "outputs": [
        {
          "output_type": "execute_result",
          "data": {
            "text/plain": [
              "\"This is 'MINE'\""
            ],
            "application/vnd.google.colaboratory.intrinsic+json": {
              "type": "string"
            }
          },
          "metadata": {},
          "execution_count": 21
        }
      ],
      "source": [
        "escaped1 = 'This is \\'MINE\\''\n",
        "escaped1"
      ]
    },
    {
      "cell_type": "markdown",
      "metadata": {
        "id": "uJTW69eSqRx6"
      },
      "source": [
        "実は、シングルクォートで囲む代わりにダブルクォートを使えばエスケープシーケンスを使わずに記述できます。"
      ]
    },
    {
      "cell_type": "code",
      "execution_count": 22,
      "metadata": {
        "id": "soZlyia6qRx6",
        "outputId": "28128987-36ec-4851-e104-365e9f8146bd",
        "colab": {
          "base_uri": "https://localhost:8080/",
          "height": 35
        }
      },
      "outputs": [
        {
          "output_type": "execute_result",
          "data": {
            "text/plain": [
              "\"This is 'MINE'\""
            ],
            "application/vnd.google.colaboratory.intrinsic+json": {
              "type": "string"
            }
          },
          "metadata": {},
          "execution_count": 22
        }
      ],
      "source": [
        "doublequated = \"This is 'MINE'\"\n",
        "doublequated"
      ]
    },
    {
      "cell_type": "markdown",
      "metadata": {
        "id": "p4LGNhYqqRx6"
      },
      "source": [
        "他にも、ダブルクォートを表す `\\\"`、`\\` を表す `\\\\` 、改行を表す `\\n` など、様々なエスケープシーケンスがあります。"
      ]
    },
    {
      "cell_type": "code",
      "execution_count": 23,
      "metadata": {
        "id": "NCxKlYCtqRx6",
        "outputId": "553c1df9-0dea-47d4-c5b1-adb72eab17da",
        "colab": {
          "base_uri": "https://localhost:8080/"
        }
      },
      "outputs": [
        {
          "output_type": "stream",
          "name": "stdout",
          "text": [
            "時は金なり\n",
            "\"Time is money\"\n",
            "Time is \\\n"
          ]
        }
      ],
      "source": [
        "escaped2 = \"時は金なり\\n\\\"Time is money\\\"\\nTime is \\\\\"\n",
        "print(escaped2)"
      ]
    },
    {
      "cell_type": "markdown",
      "metadata": {
        "id": "UTxuutWaqRx6"
      },
      "source": [
        "3連のシングルクォート、もしくはダブルクォートを利用すれば、 `\\\"` や `\\n` を使わずに記述できます。"
      ]
    },
    {
      "cell_type": "code",
      "execution_count": 26,
      "metadata": {
        "id": "qfT6jeUIqRx6",
        "outputId": "49716f2c-bcd4-48b8-87c5-71e3fd1b13e1",
        "colab": {
          "base_uri": "https://localhost:8080/"
        }
      },
      "outputs": [
        {
          "output_type": "stream",
          "name": "stdout",
          "text": [
            "時は金なり\n",
            "'Time is money'\n",
            "Time is \\\n"
          ]
        }
      ],
      "source": [
        "triple_single_quated = '''時は金なり\n",
        "'Time is money'\n",
        "Time is \\\\'''\n",
        "print(triple_single_quated)"
      ]
    },
    {
      "cell_type": "code",
      "execution_count": 27,
      "metadata": {
        "id": "P2ev4TgoqRx6",
        "outputId": "b7cdea88-77f8-40a4-91ab-c647b478d042",
        "colab": {
          "base_uri": "https://localhost:8080/"
        }
      },
      "outputs": [
        {
          "output_type": "stream",
          "name": "stdout",
          "text": [
            "時は金なり\n",
            "'Time is money'\n",
            "Time is \\\n"
          ]
        }
      ],
      "source": [
        "triple_double_quated = \"\"\"時は金なり\n",
        "'Time is money'\n",
        "Time is \\\\\"\"\"\n",
        "print(triple_single_quated)"
      ]
    },
    {
      "cell_type": "markdown",
      "metadata": {
        "id": "EYQuLAo5qRx7"
      },
      "source": [
        "なお、プログラムの一部を無効に（コメントアウト）したいとき、\n",
        "3連のクォートで囲んで文字列にしてしまうことがあります。"
      ]
    },
    {
      "cell_type": "markdown",
      "metadata": {
        "id": "j64hiWh3qRx7"
      },
      "source": [
        "## バックスラッシュの表示と入力\n",
        "\n",
        "エスケープシーケンスの先頭にある文字は、バックスラッシュ `\\`（Unicode `U+005C`）です。\n",
        "これはPythonに限った話ではないですが、バックスラッシュは環境（正確にはフォント）によって見え方が異なります。\n",
        "Windows上のフォントでは、円記号 `¥` として見えることが多いです。\n",
        "macOS上のフォントでは、そのままバックスラッシュとして見えることが多いです。\n",
        "\n",
        "JIS配列キーボードでは、バックスラッシュキーがないことがあります。\n",
        "Windows上では、円記号 `¥` キーでバックスラッシュが入力できます。\n",
        "macOS上では、`Alt` + `¥` キーでバックスラッシュが入力できます。\n",
        "ただし、IME設定によっても入力方法は変わるので注意してください。"
      ]
    },
    {
      "cell_type": "code",
      "execution_count": 32,
      "metadata": {
        "id": "nzr2I0qaqRx7",
        "outputId": "56b5d119-65ec-47d8-e084-7225ad633df4",
        "colab": {
          "base_uri": "https://localhost:8080/"
        }
      },
      "outputs": [
        {
          "output_type": "stream",
          "name": "stdout",
          "text": [
            "\n",
            "\n",
            "￥n\n",
            "⧵n\n"
          ]
        }
      ],
      "source": [
        "print('\\n') # 改行文字（バックスラッシュ + n）\n",
        "print('￥n') # 改行文字でない（円記号 + n）\n",
        "print('⧵n') # 改行文字でない（Unicode U+29F5 のバックスラッシュ演算子 + n）"
      ]
    },
    {
      "cell_type": "markdown",
      "metadata": {
        "id": "ldG-EwKVqRx7"
      },
      "source": [
        "## 文字列の連結\n",
        "**`+`** 演算子を用いれば文字列同士を**連結**できます。\n",
        "この演算では新しい文字列が作られ、元の文字列は変化しません。"
      ]
    },
    {
      "cell_type": "code",
      "execution_count": 33,
      "metadata": {
        "id": "Zy_sQ6tfqRx7",
        "outputId": "03509597-4788-45f0-b44f-28fd1505a268",
        "colab": {
          "base_uri": "https://localhost:8080/",
          "height": 35
        }
      },
      "outputs": [
        {
          "output_type": "execute_result",
          "data": {
            "text/plain": [
              "'hello world'"
            ],
            "application/vnd.google.colaboratory.intrinsic+json": {
              "type": "string"
            }
          },
          "metadata": {},
          "execution_count": 33
        }
      ],
      "source": [
        "word1 = 'hello'\n",
        "word2 = ' world'\n",
        "text1 = word1 + word2\n",
        "text1"
      ]
    },
    {
      "cell_type": "markdown",
      "metadata": {
        "id": "TP6Pt2ntqRx7"
      },
      "source": [
        "**`*`** 演算子で文字列の繰り返し回数を指定できます。"
      ]
    },
    {
      "cell_type": "code",
      "execution_count": 34,
      "metadata": {
        "id": "3mWaXjw4qRx8",
        "outputId": "a22b771d-128d-4570-d819-d1ad74375821",
        "colab": {
          "base_uri": "https://localhost:8080/",
          "height": 35
        }
      },
      "outputs": [
        {
          "output_type": "execute_result",
          "data": {
            "text/plain": [
              "'hellohellohello'"
            ],
            "application/vnd.google.colaboratory.intrinsic+json": {
              "type": "string"
            }
          },
          "metadata": {},
          "execution_count": 34
        }
      ],
      "source": [
        "word1 = 'hello'\n",
        "word1 * 3"
      ]
    },
    {
      "cell_type": "markdown",
      "metadata": {
        "id": "6fRac8QHqRx8"
      },
      "source": [
        "## 文字列とメソッド\n",
        "文字列に対する操作を行うため、様々な**メソッド**（関数のようなもの）が用意されています。\n",
        "\n",
        "メソッドは必要に応じて `(...)` 内に引数を与え、以下のように使用します。\n",
        "\n",
        "---\n",
        "```Python\n",
        "文字列.メソッド名(式, ...)\n",
        "# あるいは\n",
        "文字列変数.メソッド名(式, ...)\n",
        "```\n",
        "---\n",
        "\n",
        "文字列には以下のようなメソッドが用意されています。"
      ]
    },
    {
      "cell_type": "markdown",
      "metadata": {
        "id": "Q67V4Ej0qRx8"
      },
      "source": [
        "### **置換**\n",
        "\n",
        "**`replace`** メソッドは、指定した `部分文字列A` を、別に指定した `文字列B` で置き換えた文字列を作成します。\n",
        "この操作では、元の文字列は変化しません。具体的には、次のように使用します。\n",
        "\n",
        "---\n",
        "```Python\n",
        "文字列.replace(部分文字列A, 文字列B)\n",
        "```\n",
        "---"
      ]
    },
    {
      "cell_type": "code",
      "execution_count": 35,
      "metadata": {
        "id": "xAlO0VjGqRx8",
        "outputId": "191c8464-612f-4f3f-8d99-bb85143f7db6",
        "colab": {
          "base_uri": "https://localhost:8080/",
          "height": 35
        }
      },
      "outputs": [
        {
          "output_type": "execute_result",
          "data": {
            "text/plain": [
              "'he123123o'"
            ],
            "application/vnd.google.colaboratory.intrinsic+json": {
              "type": "string"
            }
          },
          "metadata": {},
          "execution_count": 35
        }
      ],
      "source": [
        "word1 = 'hello'\n",
        "word1.replace('l', '123')"
      ]
    },
    {
      "cell_type": "code",
      "execution_count": 36,
      "metadata": {
        "id": "b0oPWIkqqRx8",
        "outputId": "5cdf93df-bc9a-42ac-eb79-c0b4894cc7a2",
        "colab": {
          "base_uri": "https://localhost:8080/",
          "height": 35
        }
      },
      "outputs": [
        {
          "output_type": "execute_result",
          "data": {
            "text/plain": [
              "'hello'"
            ],
            "application/vnd.google.colaboratory.intrinsic+json": {
              "type": "string"
            }
          },
          "metadata": {},
          "execution_count": 36
        }
      ],
      "source": [
        "word1"
      ]
    },
    {
      "cell_type": "markdown",
      "metadata": {
        "id": "OdTp_yABqRx8"
      },
      "source": [
        "### 練習\n",
        "\n",
        "英語の文章からなる文字列 `str_engsentences` が引数として与えられたとき、`str_engsentences` 中に含まれる全ての句読点（`.`, `,`, `:`, `;`, `!`, `?`）を削除した文字列を返す関数 `remove_punctuations` を作成してください。\n",
        "（練習の解答はこのノートブックの一番最後にあります。）\n",
        "\n",
        "次のセルの `...` のところを書き換えて `remove_punctuations(str_engsentences)` を作成してください。"
      ]
    },
    {
      "cell_type": "code",
      "execution_count": 50,
      "metadata": {
        "id": "WPK9jVuAqRx9"
      },
      "outputs": [],
      "source": [
        "def remove_punctuations(str_engsentences):\n",
        "    if '.' in str_engsentences:\n",
        "        str_engsentences = str_engsentences.replace('.', '')\n",
        "    if ',' in str_engsentences:\n",
        "        str_engsentences = str_engsentences.replace(',', '')\n",
        "    if ':' in str_engsentences:\n",
        "        str_engsentences = str_engsentences.replace(':', '')\n",
        "    if ';' in str_engsentences:\n",
        "        str_engsentences = str_engsentences.replace(';', '')\n",
        "    if '!' in str_engsentences:\n",
        "        str_engsentences = str_engsentences.replace('!', '')\n",
        "    if '?' in str_engsentences:\n",
        "        str_engsentences = str_engsentences.replace('?', '')\n",
        "        return str_engsentences"
      ]
    },
    {
      "cell_type": "markdown",
      "metadata": {
        "id": "p2x8kWgoqRx9"
      },
      "source": [
        "上のセルで解答を作成した後、以下のセルを実行し、実行結果が `True` になることを確認してください。"
      ]
    },
    {
      "cell_type": "code",
      "execution_count": 51,
      "metadata": {
        "tags": [
          "raises-exception"
        ],
        "id": "AXkO8DUvqRx9",
        "outputId": "6610c0c7-4ae5-4f99-ac47-0b5783946197",
        "colab": {
          "base_uri": "https://localhost:8080/"
        }
      },
      "outputs": [
        {
          "output_type": "stream",
          "name": "stdout",
          "text": [
            "True\n"
          ]
        }
      ],
      "source": [
        "print(remove_punctuations('Quiet, uh, donations, you want me to make a donation to the coast guard youth auxiliary?') == 'Quiet uh donations you want me to make a donation to the coast guard youth auxiliary')"
      ]
    },
    {
      "cell_type": "markdown",
      "metadata": {
        "id": "PMgRTh5_qRx9"
      },
      "source": [
        "### 練習\n",
        "\n",
        "ATGCの4種類の文字から成る文字列 `str_atgc` が引数として与えられたとき、文字列 `str_pair` を返す関数 `atgc_bppair` を作成してください。ただし、`str_pair` は、`str_atgc` 中の各文字列に対して、\n",
        "`A` を `T` に、`T` を `A` に、`G` を `C` に、`C` を `G` に置き換えたものです。\n",
        "\n",
        "次のセルの `...` のところを書き換えて `atgc_bppair(str_atgc)` を作成してください。"
      ]
    },
    {
      "cell_type": "code",
      "execution_count": 58,
      "metadata": {
        "id": "W6jm-rhIqRx9"
      },
      "outputs": [],
      "source": [
        "def atgc_bppair(str_atgc):\n",
        "    str_pair = str_atgc.replace('A', 't')\n",
        "    str_pair = str_pair.replace('T', 'a')\n",
        "    str_pair = str_pair.replace('G', 'c')\n",
        "    str_pair = str_pair.replace('C', 'g')\n",
        "    return str_pair.upper()"
      ]
    },
    {
      "cell_type": "markdown",
      "metadata": {
        "id": "NHe3PcuyqRx9"
      },
      "source": [
        "上のセルで解答を作成した後、以下のセルを実行し、実行結果が `True` になることを確認してください。"
      ]
    },
    {
      "cell_type": "code",
      "execution_count": 59,
      "metadata": {
        "tags": [
          "raises-exception"
        ],
        "id": "Wabx7L4jqRx9",
        "outputId": "095bd17f-f148-456c-ff44-48165f16a31a",
        "colab": {
          "base_uri": "https://localhost:8080/"
        }
      },
      "outputs": [
        {
          "output_type": "stream",
          "name": "stdout",
          "text": [
            "True\n"
          ]
        }
      ],
      "source": [
        "print(atgc_bppair('AAGCCCCATGGTAA') == 'TTCGGGGTACCATT')"
      ]
    },
    {
      "cell_type": "markdown",
      "metadata": {
        "id": "n0ZAabKSqRx-"
      },
      "source": [
        "### **検索**\n",
        "\n",
        "**`index`** メソッドにより、指定した `部分文字列B` が `文字列A` のどこに存在するか調べることができます。具体的には、次のように使用します。\n",
        "\n",
        "---\n",
        "```Python\n",
        "文字列A.index(部分文字列B)\n",
        "```\n",
        "---\n",
        "\n",
        "ただし、指定した部分文字列が文字列に複数回含まれる場合、最初のインデックスが返されます。また、指定した部分文字列が文字列に含まれない場合は、エラーとなります。"
      ]
    },
    {
      "cell_type": "code",
      "execution_count": 60,
      "metadata": {
        "id": "R1xQmVOHqRx-",
        "outputId": "a2947c2b-217d-4a7d-db46-9cd2eb51dd41",
        "colab": {
          "base_uri": "https://localhost:8080/"
        }
      },
      "outputs": [
        {
          "output_type": "execute_result",
          "data": {
            "text/plain": [
              "3"
            ]
          },
          "metadata": {},
          "execution_count": 60
        }
      ],
      "source": [
        "word1 = 'hello'\n",
        "word1.index('lo')"
      ]
    },
    {
      "cell_type": "code",
      "execution_count": 61,
      "metadata": {
        "id": "eXVtUes_qRx-",
        "outputId": "165d7451-c32a-4bc6-fddb-57efe10ed4f6",
        "colab": {
          "base_uri": "https://localhost:8080/"
        }
      },
      "outputs": [
        {
          "output_type": "execute_result",
          "data": {
            "text/plain": [
              "2"
            ]
          },
          "metadata": {},
          "execution_count": 61
        }
      ],
      "source": [
        "word1.index('l')"
      ]
    },
    {
      "cell_type": "markdown",
      "metadata": {
        "id": "4Jiky3OVqRx-"
      },
      "source": [
        "以下はエラーとなります。"
      ]
    },
    {
      "cell_type": "code",
      "execution_count": 62,
      "metadata": {
        "tags": [
          "raises-exception"
        ],
        "id": "wbLVRRjXqRx-",
        "outputId": "3f722088-f44e-4ffe-f7b2-5958dc552f20",
        "colab": {
          "base_uri": "https://localhost:8080/",
          "height": 141
        }
      },
      "outputs": [
        {
          "output_type": "error",
          "ename": "ValueError",
          "evalue": "substring not found",
          "traceback": [
            "\u001b[0;31m---------------------------------------------------------------------------\u001b[0m",
            "\u001b[0;31mValueError\u001b[0m                                Traceback (most recent call last)",
            "\u001b[0;32m/tmp/ipython-input-1197463809.py\u001b[0m in \u001b[0;36m<cell line: 0>\u001b[0;34m()\u001b[0m\n\u001b[0;32m----> 1\u001b[0;31m \u001b[0mword1\u001b[0m\u001b[0;34m.\u001b[0m\u001b[0mindex\u001b[0m\u001b[0;34m(\u001b[0m\u001b[0;34m'a'\u001b[0m\u001b[0;34m)\u001b[0m\u001b[0;34m\u001b[0m\u001b[0;34m\u001b[0m\u001b[0m\n\u001b[0m",
            "\u001b[0;31mValueError\u001b[0m: substring not found"
          ]
        }
      ],
      "source": [
        "word1.index('a')"
      ]
    },
    {
      "cell_type": "markdown",
      "metadata": {
        "id": "HujAnXAyqRx-"
      },
      "source": [
        "**`find`** メソッドも `index` と同様に部分文字列を検索し、最初に出現するインデックスを返します。\n",
        "\n",
        "`index` との違いは、部分文字列が含まれない場合エラーとはならず `-1` が返されることです。"
      ]
    },
    {
      "cell_type": "code",
      "execution_count": 63,
      "metadata": {
        "id": "TgKiwCYqqRx-",
        "outputId": "82a7f5b9-cac8-4b19-e16b-031455ffd127",
        "colab": {
          "base_uri": "https://localhost:8080/"
        }
      },
      "outputs": [
        {
          "output_type": "execute_result",
          "data": {
            "text/plain": [
              "-1"
            ]
          },
          "metadata": {},
          "execution_count": 63
        }
      ],
      "source": [
        "word1 = 'hello'\n",
        "word1.find('a')"
      ]
    },
    {
      "cell_type": "markdown",
      "metadata": {
        "id": "l_gyp-xWqRx_"
      },
      "source": [
        "### 練習\n",
        "\n",
        "コロン (`:`) を1つだけ含む文字列 `str1` を引数として与えると、コロンの左右に存在する文字列を入れ替えた文字列を返す関数 `swap_colon(str1)` を作成してください。\n",
        "\n",
        "次のセルの `...` のところを書き換えて `swap_colon(str1)` を作成してください。"
      ]
    },
    {
      "cell_type": "code",
      "execution_count": 2,
      "metadata": {
        "id": "cAYnREuIqRx_"
      },
      "outputs": [],
      "source": [
        "def swap_colon(str1):\n",
        "        koron = str1.index(':')\n",
        "        str2, str3 = str1[:koron], str1[koron+1:]\n",
        "        return str3 + ':' + str2"
      ]
    },
    {
      "cell_type": "markdown",
      "metadata": {
        "id": "t3G97KxbqRx_"
      },
      "source": [
        "上のセルで解答を作成した後、以下のセルを実行し、実行結果が `True` になることを確認してください。"
      ]
    },
    {
      "cell_type": "code",
      "execution_count": 3,
      "metadata": {
        "tags": [
          "raises-exception"
        ],
        "id": "-4oUPyBYqRx_",
        "outputId": "95757d93-2d10-45dc-8cf6-7b6c11fec4c3",
        "colab": {
          "base_uri": "https://localhost:8080/"
        }
      },
      "outputs": [
        {
          "output_type": "stream",
          "name": "stdout",
          "text": [
            "True\n"
          ]
        }
      ],
      "source": [
        "print(swap_colon('hello:world') == 'world:hello')"
      ]
    },
    {
      "cell_type": "markdown",
      "metadata": {
        "id": "eWTdpVA5qRx_"
      },
      "source": [
        "### **数え上げ**\n",
        "\n",
        "**`count`** メソッドにより、指定した `部分文字列B` が `文字列A` にいくつ存在するか調べることができます。\n",
        "\n",
        "---\n",
        "```Python\n",
        "文字列A.count(部分文字列B)\n",
        "```\n",
        "---"
      ]
    },
    {
      "cell_type": "code",
      "execution_count": 3,
      "metadata": {
        "id": "CHC5bOXxqRx_",
        "outputId": "b8d2e0f4-a126-41f6-d13a-78c56b17204f",
        "colab": {
          "base_uri": "https://localhost:8080/"
        }
      },
      "outputs": [
        {
          "output_type": "execute_result",
          "data": {
            "text/plain": [
              "2"
            ]
          },
          "metadata": {},
          "execution_count": 3
        }
      ],
      "source": [
        "word1 = 'hello'\n",
        "word1.count('l')"
      ]
    },
    {
      "cell_type": "code",
      "execution_count": 6,
      "metadata": {
        "id": "FDC38QC7qRx_",
        "outputId": "4668413b-f693-4f43-85a8-0810eb3bfb6a",
        "colab": {
          "base_uri": "https://localhost:8080/"
        }
      },
      "outputs": [
        {
          "output_type": "execute_result",
          "data": {
            "text/plain": [
              "4"
            ]
          },
          "metadata": {},
          "execution_count": 6
        }
      ],
      "source": [
        "'aaaaaaaaa'.count('aa')"
      ]
    },
    {
      "cell_type": "markdown",
      "metadata": {
        "id": "qfVFG-NpqRx_"
      },
      "source": [
        "### 練習\n",
        "\n",
        "ATGCの4種類の文字から成る文字列 `str_atgc` と塩基名（`A`, `T`, `G`, `C` のいずれか）を指定する文字列 `str_bpname` が引数として与えられたとき、`str_atgc` 中に含まれる塩基 `str_bpname` の数を返す関数 `atgc_count` を作成してください。\n",
        "\n",
        "次のセルの `...` のところを書き換えて `atgc_count(str_atgc, str_bpname)` を作成してください。"
      ]
    },
    {
      "cell_type": "code",
      "execution_count": 7,
      "metadata": {
        "id": "EPmuZw6AqRx_"
      },
      "outputs": [],
      "source": [
        "def atgc_count(str_atgc, str_bpname):\n",
        "    count = str_atgc.count(str_bpname)\n",
        "    return count"
      ]
    },
    {
      "cell_type": "markdown",
      "metadata": {
        "id": "uHEVlzsPqRyA"
      },
      "source": [
        "上のセルで解答を作成した後、以下のセルを実行し、実行結果が `True` になることを確認してください。"
      ]
    },
    {
      "cell_type": "code",
      "execution_count": 8,
      "metadata": {
        "tags": [
          "raises-exception"
        ],
        "id": "Ehh95vlwqRyA",
        "outputId": "490dbed0-1e9e-4f8c-9dcb-a49186a269d0",
        "colab": {
          "base_uri": "https://localhost:8080/"
        }
      },
      "outputs": [
        {
          "output_type": "stream",
          "name": "stdout",
          "text": [
            "True\n"
          ]
        }
      ],
      "source": [
        "print(atgc_count('AAGCCCCATGGTAA', 'A') == 5)"
      ]
    },
    {
      "cell_type": "markdown",
      "metadata": {
        "id": "rDBxtZNFqRyA"
      },
      "source": [
        "### **大文字**・**小文字**\n",
        "**`lower`**, **`capitalize`**, **`upper`** メソッドを用いると、文字列の中の英文字を小文字に変換したり、大文字に変換したりすることができます。\n",
        "\n",
        "これらの操作では、元の文字列は変化しません。"
      ]
    },
    {
      "cell_type": "code",
      "execution_count": 9,
      "metadata": {
        "id": "EnFcdhFPqRyA",
        "outputId": "5cf98b4d-f968-4eca-acb0-580d89599f04",
        "colab": {
          "base_uri": "https://localhost:8080/",
          "height": 35
        }
      },
      "outputs": [
        {
          "output_type": "execute_result",
          "data": {
            "text/plain": [
              "'dna'"
            ],
            "application/vnd.google.colaboratory.intrinsic+json": {
              "type": "string"
            }
          },
          "metadata": {},
          "execution_count": 9
        }
      ],
      "source": [
        "upper_dna = 'DNA'\n",
        "upper_dna.lower() # 全ての文字を小文字にする"
      ]
    },
    {
      "cell_type": "code",
      "execution_count": 10,
      "metadata": {
        "id": "3P-G8442qRyA",
        "outputId": "d5f91708-bc9e-43c8-a977-a91ad457a221",
        "colab": {
          "base_uri": "https://localhost:8080/",
          "height": 35
        }
      },
      "outputs": [
        {
          "output_type": "execute_result",
          "data": {
            "text/plain": [
              "'DNA'"
            ],
            "application/vnd.google.colaboratory.intrinsic+json": {
              "type": "string"
            }
          },
          "metadata": {},
          "execution_count": 10
        }
      ],
      "source": [
        "upper_dna"
      ]
    },
    {
      "cell_type": "code",
      "execution_count": 15,
      "metadata": {
        "id": "YuSw2bToqRyA",
        "outputId": "53337c56-0f8c-415b-c6d3-830319b770a5",
        "colab": {
          "base_uri": "https://localhost:8080/",
          "height": 35
        }
      },
      "outputs": [
        {
          "output_type": "execute_result",
          "data": {
            "text/plain": [
              "'Hello world!'"
            ],
            "application/vnd.google.colaboratory.intrinsic+json": {
              "type": "string"
            }
          },
          "metadata": {},
          "execution_count": 15
        }
      ],
      "source": [
        "lower_text = 'hello world!'\n",
        "lower_text.capitalize() # 先頭文字を大文字にする"
      ]
    },
    {
      "cell_type": "code",
      "execution_count": 12,
      "metadata": {
        "id": "0n5LwNX2qRyA",
        "outputId": "3de3e133-0873-4806-a1e8-fb16a5b154f6",
        "colab": {
          "base_uri": "https://localhost:8080/",
          "height": 35
        }
      },
      "outputs": [
        {
          "output_type": "execute_result",
          "data": {
            "text/plain": [
              "'hello world!'"
            ],
            "application/vnd.google.colaboratory.intrinsic+json": {
              "type": "string"
            }
          },
          "metadata": {},
          "execution_count": 12
        }
      ],
      "source": [
        "lower_text"
      ]
    },
    {
      "cell_type": "code",
      "execution_count": 16,
      "metadata": {
        "id": "e7V0KcYiqRyA",
        "outputId": "028fd3c7-c152-4f50-e9ef-1dae3a15477b",
        "colab": {
          "base_uri": "https://localhost:8080/",
          "height": 35
        }
      },
      "outputs": [
        {
          "output_type": "execute_result",
          "data": {
            "text/plain": [
              "'HELLO WORLD!'"
            ],
            "application/vnd.google.colaboratory.intrinsic+json": {
              "type": "string"
            }
          },
          "metadata": {},
          "execution_count": 16
        }
      ],
      "source": [
        "lower_text.upper() #全ての文字を大文字にする"
      ]
    },
    {
      "cell_type": "code",
      "execution_count": 17,
      "metadata": {
        "id": "zPhJALdRqRyA",
        "outputId": "af293a9e-34d3-489c-dc38-18f5bb8e9f43",
        "colab": {
          "base_uri": "https://localhost:8080/",
          "height": 35
        }
      },
      "outputs": [
        {
          "output_type": "execute_result",
          "data": {
            "text/plain": [
              "'hello world!'"
            ],
            "application/vnd.google.colaboratory.intrinsic+json": {
              "type": "string"
            }
          },
          "metadata": {},
          "execution_count": 17
        }
      ],
      "source": [
        "lower_text"
      ]
    },
    {
      "cell_type": "markdown",
      "metadata": {
        "id": "kjBId97tqRyB"
      },
      "source": [
        "### ▲空白文字の削除\n",
        "\n",
        "半角スペース `' '`・改行文字 `'\\n'`・タブ文字 `'\\t'`・全角スペース `'　'` などを総称して**空白文字**と呼びます。\n",
        "\n",
        "`strip` メソッドを用いると、文字列の前後にある連続した空白文字を削除した文字列を取得できます。"
      ]
    },
    {
      "cell_type": "code",
      "execution_count": 18,
      "metadata": {
        "id": "_zokEtCOqRyB",
        "outputId": "24107ae3-cada-4d25-da67-ea7e9e026821",
        "colab": {
          "base_uri": "https://localhost:8080/",
          "height": 35
        }
      },
      "outputs": [
        {
          "output_type": "execute_result",
          "data": {
            "text/plain": [
              "'abc'"
            ],
            "application/vnd.google.colaboratory.intrinsic+json": {
              "type": "string"
            }
          },
          "metadata": {},
          "execution_count": 18
        }
      ],
      "source": [
        "'  abc\\n'.strip()"
      ]
    },
    {
      "cell_type": "code",
      "execution_count": 19,
      "metadata": {
        "id": "CqdXDkWsqRyB",
        "outputId": "d8a2ed6e-cf4e-41d5-9d04-29cdb0a55ff0",
        "colab": {
          "base_uri": "https://localhost:8080/",
          "height": 35
        }
      },
      "outputs": [
        {
          "output_type": "execute_result",
          "data": {
            "text/plain": [
              "'a b c'"
            ],
            "application/vnd.google.colaboratory.intrinsic+json": {
              "type": "string"
            }
          },
          "metadata": {},
          "execution_count": 19
        }
      ],
      "source": [
        "'　a b c　\\n'.strip()"
      ]
    },
    {
      "cell_type": "markdown",
      "metadata": {
        "id": "_taGvExtqRyB"
      },
      "source": [
        "左側の空白だけ削除する `lstrip` と右側の空白だけ削除する `rstrip` もあります。"
      ]
    },
    {
      "cell_type": "code",
      "execution_count": 20,
      "metadata": {
        "id": "dPJ0FzS1qRyB",
        "outputId": "89e4451a-51c1-412f-990a-dd554584471e",
        "colab": {
          "base_uri": "https://localhost:8080/",
          "height": 35
        }
      },
      "outputs": [
        {
          "output_type": "execute_result",
          "data": {
            "text/plain": [
              "'abc\\n'"
            ],
            "application/vnd.google.colaboratory.intrinsic+json": {
              "type": "string"
            }
          },
          "metadata": {},
          "execution_count": 20
        }
      ],
      "source": [
        "'  abc\\n'.lstrip()"
      ]
    },
    {
      "cell_type": "code",
      "execution_count": 21,
      "metadata": {
        "id": "PdQ1TZ7ZqRyB",
        "outputId": "b9f58082-7a1f-4cf0-9dc3-569e67365e72",
        "colab": {
          "base_uri": "https://localhost:8080/",
          "height": 35
        }
      },
      "outputs": [
        {
          "output_type": "execute_result",
          "data": {
            "text/plain": [
              "'  abc'"
            ],
            "application/vnd.google.colaboratory.intrinsic+json": {
              "type": "string"
            }
          },
          "metadata": {},
          "execution_count": 21
        }
      ],
      "source": [
        "'  abc\\n'.rstrip()"
      ]
    },
    {
      "cell_type": "markdown",
      "metadata": {
        "id": "1nKzyw5XqRyB"
      },
      "source": [
        "## **文字列の比較演算**\n",
        "\n",
        "比較演算子、`==`, `<`, `>` などを用いて、2つの文字列を比較することもできます。"
      ]
    },
    {
      "cell_type": "code",
      "execution_count": 22,
      "metadata": {
        "id": "b1bjif2jqRyB",
        "outputId": "40ecff51-2d6a-46ff-b4df-69ddd7f955f8",
        "colab": {
          "base_uri": "https://localhost:8080/"
        }
      },
      "outputs": [
        {
          "output_type": "stream",
          "name": "stdout",
          "text": [
            "True\n",
            "False\n"
          ]
        }
      ],
      "source": [
        "print('abc' == 'abc')\n",
        "print('ab' == 'abc')"
      ]
    },
    {
      "cell_type": "code",
      "execution_count": 23,
      "metadata": {
        "id": "ctN6Z3T8qRyB",
        "outputId": "b2daa525-2fa8-4cc0-dcdf-28f561b92cef",
        "colab": {
          "base_uri": "https://localhost:8080/"
        }
      },
      "outputs": [
        {
          "output_type": "stream",
          "name": "stdout",
          "text": [
            "False\n",
            "True\n"
          ]
        }
      ],
      "source": [
        "print('abc' != 'abc')\n",
        "print('ab' != 'abc')"
      ]
    },
    {
      "cell_type": "markdown",
      "metadata": {
        "id": "MAXOJJsGqRyC"
      },
      "source": [
        "文字列の大小の比較は、いわゆる辞書式による比較で、文字列の最初の文字から順に比較して大小を決めます。\n",
        "片方がもう片方を拡張したものであれば、拡張した方を大きいとします。"
      ]
    },
    {
      "cell_type": "code",
      "execution_count": 24,
      "metadata": {
        "id": "2B8Yz1KaqRyC",
        "outputId": "da95e8d7-5204-44cd-f317-146c1ad587aa",
        "colab": {
          "base_uri": "https://localhost:8080/"
        }
      },
      "outputs": [
        {
          "output_type": "stream",
          "name": "stdout",
          "text": [
            "True\n",
            "False\n",
            "True\n",
            "True\n"
          ]
        }
      ],
      "source": [
        "print('abc' <= 'abc')\n",
        "print('abc' < 'abc')\n",
        "print('abc' < 'abd')\n",
        "print('ab' < 'abc')"
      ]
    },
    {
      "cell_type": "markdown",
      "metadata": {
        "id": "J8CJ_HlMqRyC"
      },
      "source": [
        "## 練習\n",
        "\n",
        "英語の文字列 `str_engsentences` が引数として与えられたとき、それが全て小文字である場合、`True` を返し、そうでない場合、 `False` を返す関数 `check_lower` を作成してください。\n",
        "\n",
        "次のセルの `...` のところを書き換えて `check_lower(str_engsentences)` を作成してください。"
      ]
    },
    {
      "cell_type": "code",
      "execution_count": 25,
      "metadata": {
        "id": "9jm-yiQ5qRyC"
      },
      "outputs": [],
      "source": [
        "def check_lower(str_engsentences):\n",
        "    if str_engsentences == str_engsentences.lower():\n",
        "        return True\n",
        "    return False"
      ]
    },
    {
      "cell_type": "markdown",
      "metadata": {
        "id": "Q1k1Q5_4qRyC"
      },
      "source": [
        "上のセルで解答を作成した後、以下のセルを実行し、実行結果が全て `True` になることを確認してください。"
      ]
    },
    {
      "cell_type": "code",
      "execution_count": 26,
      "metadata": {
        "tags": [
          "raises-exception"
        ],
        "id": "ZRWXzLATqRyC",
        "outputId": "386c6fab-c63e-4759-b5a0-bcbbd43e3600",
        "colab": {
          "base_uri": "https://localhost:8080/"
        }
      },
      "outputs": [
        {
          "output_type": "stream",
          "name": "stdout",
          "text": [
            "True\n",
            "True\n"
          ]
        }
      ],
      "source": [
        "print(check_lower('down down down') == True)\n",
        "print(check_lower('There were doors all round the hall, but they were all locked') == False)"
      ]
    },
    {
      "cell_type": "markdown",
      "metadata": {
        "id": "N4w7nx7UqRyC"
      },
      "source": [
        "## 初心者によくある誤解 --- **変数**と**文字列**の混乱\n",
        "\n",
        "初心者によくある誤解として、変数と文字列を混乱する例が見られます。たとえば、文字列を引数に取る次のような関数 `func` を考えます（ `func` は引数として与えられた文字列を大文字にして返す関数です）。"
      ]
    },
    {
      "cell_type": "code",
      "execution_count": 27,
      "metadata": {
        "id": "GgmuEbkwqRyC"
      },
      "outputs": [],
      "source": [
        "def func(str1):\n",
        "    return str1.upper()"
      ]
    },
    {
      "cell_type": "markdown",
      "metadata": {
        "id": "Px-lqJL5qRyC"
      },
      "source": [
        "ここで変数 `str2` を引数として `func` を呼ぶと、`str2` に格納されている文字列が大文字になって返ってきます。"
      ]
    },
    {
      "cell_type": "code",
      "execution_count": 28,
      "metadata": {
        "id": "VmyeRpQ-qRyD",
        "outputId": "0bc59e11-4a85-4c5a-8200-2d7bab69fb32",
        "colab": {
          "base_uri": "https://localhost:8080/",
          "height": 35
        }
      },
      "outputs": [
        {
          "output_type": "execute_result",
          "data": {
            "text/plain": [
              "'ABC'"
            ],
            "application/vnd.google.colaboratory.intrinsic+json": {
              "type": "string"
            }
          },
          "metadata": {},
          "execution_count": 28
        }
      ],
      "source": [
        "str2 = 'abc'\n",
        "func(str2)"
      ]
    },
    {
      "cell_type": "markdown",
      "metadata": {
        "id": "CouBkINJqRyD"
      },
      "source": [
        "次のように `func` を呼ぶと上とは結果が異なります。次の例では変数 `str2` （に格納されている文字列 `abc`）ではなく、文字列 `'str2'` を引数として `func` を呼び出しています。"
      ]
    },
    {
      "cell_type": "code",
      "execution_count": 29,
      "metadata": {
        "id": "CO1Ozm-2qRyD",
        "outputId": "c6862a1d-cbe7-4085-a3db-95215c2b1840",
        "colab": {
          "base_uri": "https://localhost:8080/",
          "height": 35
        }
      },
      "outputs": [
        {
          "output_type": "execute_result",
          "data": {
            "text/plain": [
              "'STR2'"
            ],
            "application/vnd.google.colaboratory.intrinsic+json": {
              "type": "string"
            }
          },
          "metadata": {},
          "execution_count": 29
        }
      ],
      "source": [
        "str2 = 'abc'\n",
        "func('str2')"
      ]
    },
    {
      "cell_type": "markdown",
      "metadata": {
        "id": "X6eUAMWcqRyD"
      },
      "source": [
        "## 練習\n",
        "\n",
        "コンマ (`,`) を含む英語の文章からなる文字列 `str_engsentences` が引数として与えられたとき、`str_engsentences` 中の一番最初のコンマより後の文章のみかならなる文字列 `str_res` を返す関数 `remove_clause` を作成してください。ただし、 `str_res` の先頭は大文字のアルファベットとしてください。\n",
        "\n",
        "次のセルの `...` のところを書き換えて `remove_clause(str_engsentences)` を作成してください。"
      ]
    },
    {
      "cell_type": "code",
      "execution_count": 7,
      "metadata": {
        "id": "VSpAOccQqRyD"
      },
      "outputs": [],
      "source": [
        "def remove_clause(str_engsentences):\n",
        "        kanma = str_engsentences.index(',')\n",
        "        str_res = str_engsentences[kanma+2:]\n",
        "        return str_res.capitalize()"
      ]
    },
    {
      "cell_type": "markdown",
      "metadata": {
        "id": "SbJ70NvWqRyD"
      },
      "source": [
        "上のセルで解答を作成した後、以下のセルを実行し、実行結果が `True` になることを確認してください。"
      ]
    },
    {
      "cell_type": "code",
      "execution_count": 8,
      "metadata": {
        "tags": [
          "raises-exception"
        ],
        "id": "Db3zC3_CqRyD",
        "outputId": "bb0f9aa3-1ff9-4056-a1de-98282eb3cb27",
        "colab": {
          "base_uri": "https://localhost:8080/"
        }
      },
      "outputs": [
        {
          "output_type": "stream",
          "name": "stdout",
          "text": [
            "True\n"
          ]
        }
      ],
      "source": [
        "print(remove_clause(\"It's being seen, but you aren't observing.\") == \"But you aren't observing.\")"
      ]
    },
    {
      "cell_type": "markdown",
      "metadata": {
        "id": "GBr_-dIxqRyD"
      },
      "source": [
        "## 練習の解答"
      ]
    },
    {
      "cell_type": "code",
      "execution_count": null,
      "metadata": {
        "id": "ctTW90oTqRyE"
      },
      "outputs": [],
      "source": [
        "def remove_punctuations(str_engsentences):\n",
        "    str1 = str_engsentences.replace('.', '') # 指定の文字を空文字に置換\n",
        "    str1 = str1.replace(',', '')\n",
        "    str1 = str1.replace(':', '')\n",
        "    str1 = str1.replace(';', '')\n",
        "    str1 = str1.replace('!', '')\n",
        "    str1 = str1.replace('?', '')\n",
        "    return str1\n",
        "#remove_punctuations('Quiet, uh, donations, you want me to make a donation to the coast guard youth auxiliary?')"
      ]
    },
    {
      "cell_type": "code",
      "execution_count": null,
      "metadata": {
        "id": "v1IZCtRYqRyE"
      },
      "outputs": [],
      "source": [
        "def atgc_bppair(str_atgc):\n",
        "    str_pair = str_atgc.replace('A', 't')# 指定の文字に置換。ただし全て小文字\n",
        "    str_pair = str_pair.replace('T', 'a')\n",
        "    str_pair = str_pair.replace('G', 'c')\n",
        "    str_pair = str_pair.replace('C', 'g')\n",
        "    str_pair = str_pair.upper() # 置換済みの小文字の列を大文字に変換\n",
        "    return str_pair\n",
        "#atgc_bppair('AAGCCCCATGGTAA')"
      ]
    },
    {
      "cell_type": "code",
      "execution_count": null,
      "metadata": {
        "id": "dzt2epzvqRyE"
      },
      "outputs": [],
      "source": [
        "def swap_colon(str1):\n",
        "    #コロンの位置を取得する # findでもOK\n",
        "    col_index = str1.index(':')\n",
        "    #コロンの位置を基準に前半と後半の部分文字列を取得する\n",
        "    str2, str3 = str1[:col_index], str1[col_index+1:]\n",
        "    #部分文字列の順序を入れ替えて結合する\n",
        "    str4 = str3 + ':' + str2\n",
        "    return str4\n",
        "#swap_colon('hello:world')"
      ]
    },
    {
      "cell_type": "code",
      "execution_count": null,
      "metadata": {
        "id": "j7nuQURMqRyE"
      },
      "outputs": [],
      "source": [
        "def atgc_count(str_atgc, str_bpname):\n",
        "    return str_atgc.count(str_bpname)\n",
        "#atgc_count('AAGCCCCATGGTAA', 'A')"
      ]
    },
    {
      "cell_type": "code",
      "execution_count": null,
      "metadata": {
        "id": "Q6svx8e2qRyE"
      },
      "outputs": [],
      "source": [
        "def check_lower(str_engsentences):\n",
        "    if str_engsentences == str_engsentences.lower():#元の文字列と小文字に変換した文字列を比較する\n",
        "        return True\n",
        "    return False\n",
        "#check_lower('down down down')\n",
        "#check_lower('There were doors all round the hall, but they were all locked')"
      ]
    },
    {
      "cell_type": "code",
      "execution_count": null,
      "metadata": {
        "id": "qq0n6qFuqRyE"
      },
      "outputs": [],
      "source": [
        "def remove_clause(str_engsentences):\n",
        "    int_index = str_engsentences.find(',')\n",
        "    str1 = str_engsentences[int_index+2:]\n",
        "    return str1.capitalize()\n",
        "#remove_clause(\"It's being seen, but you aren't observing.\")"
      ]
    },
    {
      "cell_type": "code",
      "execution_count": null,
      "metadata": {
        "id": "bEWtkMSUqRyE"
      },
      "outputs": [],
      "source": []
    }
  ],
  "metadata": {
    "kernelspec": {
      "display_name": "Python 3",
      "language": "python",
      "name": "python3"
    },
    "language_info": {
      "name": "python"
    },
    "colab": {
      "provenance": []
    }
  },
  "nbformat": 4,
  "nbformat_minor": 0
}