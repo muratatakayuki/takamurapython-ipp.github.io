{
  "cells": [
    {
      "cell_type": "markdown",
      "metadata": {
        "id": "H4hxMO94Y8wH"
      },
      "source": [
        "# 2-2. リスト (list)\n",
        "\n",
        "複数のデータを要素としてまとめて取り扱うデータとして、リストとタプルについて説明します。\n",
        "\n",
        "参考\n",
        "\n",
        "- https://docs.python.org/ja/3/tutorial/introduction.html#lists\n",
        "- https://docs.python.org/ja/3/tutorial/datastructures.html#tuples-and-sequences\n",
        "\n",
        "文字列を構成する要素は文字のみでしたが、**リスト**では構成する要素としてあらゆる型のデータを指定できます。\n",
        "他のプログラミング言語では、リストに相当するものとして**配列**（もしくはアレイ）やベクターなどがあります。\n",
        "\n",
        "リストを作成するには、リストを構成する要素をコンマで区切り全体をかぎ括弧 `[...]` で囲みます。  \n",
        "\n",
        "以下のセルでは数値を要素とするリストを作成して、変数に代入しています。\n",
        "さらに、文字列と同様に組み込み関数 `type` を用いて、変数の値がリストであることを確認しています。"
      ]
    },
    {
      "cell_type": "code",
      "execution_count": 1,
      "metadata": {
        "id": "UBk4WoT4Y8wI",
        "outputId": "7362253e-45e0-4580-f1c0-21e6ec348ff1",
        "colab": {
          "base_uri": "https://localhost:8080/"
        }
      },
      "outputs": [
        {
          "output_type": "execute_result",
          "data": {
            "text/plain": [
              "[0, 10, 20, 30, 40, 50]"
            ]
          },
          "metadata": {},
          "execution_count": 1
        }
      ],
      "source": [
        "numbers = [0, 10, 20, 30, 40, 50]\n",
        "numbers"
      ]
    },
    {
      "cell_type": "code",
      "execution_count": 2,
      "metadata": {
        "id": "a16DaL9uY8wJ",
        "outputId": "d87e430c-6404-4ede-d84a-916995969fde",
        "colab": {
          "base_uri": "https://localhost:8080/"
        }
      },
      "outputs": [
        {
          "output_type": "execute_result",
          "data": {
            "text/plain": [
              "list"
            ]
          },
          "metadata": {},
          "execution_count": 2
        }
      ],
      "source": [
        "type(numbers)"
      ]
    },
    {
      "cell_type": "markdown",
      "metadata": {
        "id": "ajCrfldQY8wJ"
      },
      "source": [
        "リストのデータ型は **`list`** です。\n",
        "（なお、後で見るように、`list` は他のデータをリストに変換する関数としても用いられます。）\n",
        "\n",
        "次に文字列を構成要素とするリストを作成してみます。"
      ]
    },
    {
      "cell_type": "code",
      "execution_count": 3,
      "metadata": {
        "id": "CivCY4s3Y8wJ",
        "outputId": "5dc8379e-5b00-4e0f-800c-c64a32638521",
        "colab": {
          "base_uri": "https://localhost:8080/"
        }
      },
      "outputs": [
        {
          "output_type": "execute_result",
          "data": {
            "text/plain": [
              "['apple', 'banana', 'chelly']"
            ]
          },
          "metadata": {},
          "execution_count": 3
        }
      ],
      "source": [
        "fruits = ['apple', 'banana', 'chelly']\n",
        "fruits"
      ]
    },
    {
      "cell_type": "markdown",
      "metadata": {
        "id": "iNW465GRY8wJ"
      },
      "source": [
        "リストの要素としてあらゆる型のデータを指定でき、それらは混在してもかまいません。\n",
        "以下のセルでは、数値と文字列が混在しています。"
      ]
    },
    {
      "cell_type": "code",
      "execution_count": 4,
      "metadata": {
        "id": "WBeHjItSY8wK",
        "outputId": "f396ffb5-5d00-47d0-9b27-416c4414fc5b",
        "colab": {
          "base_uri": "https://localhost:8080/"
        }
      },
      "outputs": [
        {
          "output_type": "execute_result",
          "data": {
            "text/plain": [
              "[10, 'apple', 20, 'banana', 30]"
            ]
          },
          "metadata": {},
          "execution_count": 4
        }
      ],
      "source": [
        "numbers_fruits = [10, 'apple', 20, 'banana', 30]\n",
        "numbers_fruits"
      ]
    },
    {
      "cell_type": "markdown",
      "metadata": {
        "id": "AaNer6SfY8wK"
      },
      "source": [
        "次のように、何も要素を格納していないリスト（**空リスト**）を作成できます。\n",
        "空リストはプログラム実行の途中結果を記録する場合などによく使われています。\n",
        "具体的な例については、後述する `append` メソッドの項を参照してください。"
      ]
    },
    {
      "cell_type": "code",
      "execution_count": 5,
      "metadata": {
        "id": "pcqsRToYY8wK",
        "outputId": "fb7efb2d-382b-4e26-b39e-a4b901ad3985",
        "colab": {
          "base_uri": "https://localhost:8080/"
        }
      },
      "outputs": [
        {
          "output_type": "execute_result",
          "data": {
            "text/plain": [
              "[]"
            ]
          },
          "metadata": {},
          "execution_count": 5
        }
      ],
      "source": [
        "empty=[]\n",
        "empty"
      ]
    },
    {
      "cell_type": "markdown",
      "metadata": {
        "id": "KWCzQjweY8wK"
      },
      "source": [
        "なお、`[]` を用いて空リストを作成するたびに、\n",
        "常に新しいオブジェクト（それまでに作られたオブジェクトとは同一でないオブジェクト）が生成されます。\n",
        "詳しくは「▲オブジェクトの等価性と同一性」を参照してください。"
      ]
    },
    {
      "cell_type": "markdown",
      "metadata": {
        "id": "CtACDcIdY8wK"
      },
      "source": [
        "## リストとインデックス\n",
        "文字列の場合と同様に、インデックスを指定してリストの要素を取り出せます。\n",
        "リストの `x` 番目の要素を取得するには次のような記法を用います。\n",
        "インデックスは 0 から始まることに注意してください。\n",
        "\n",
        "```Python\n",
        "リスト[x-1]\n",
        "```"
      ]
    },
    {
      "cell_type": "code",
      "execution_count": 6,
      "metadata": {
        "id": "Xh5fUiD_Y8wL",
        "outputId": "6cabf9c2-ad6a-43bc-fe8b-6a95385e1fa4",
        "colab": {
          "base_uri": "https://localhost:8080/",
          "height": 36
        }
      },
      "outputs": [
        {
          "output_type": "execute_result",
          "data": {
            "text/plain": [
              "'c'"
            ],
            "application/vnd.google.colaboratory.intrinsic+json": {
              "type": "string"
            }
          },
          "metadata": {},
          "execution_count": 6
        }
      ],
      "source": [
        "abcd = ['a', 'b', 'c', 'd']\n",
        "abcd[2]"
      ]
    },
    {
      "cell_type": "markdown",
      "metadata": {
        "id": "y2E13QEVY8wL"
      },
      "source": [
        "文字列の場合とは異なり、リストは変更可能なデータです。\n",
        "すなわちインデックスで指定されるリストの要素は、代入によって変更できます。"
      ]
    },
    {
      "cell_type": "code",
      "execution_count": 7,
      "metadata": {
        "id": "DOjpDL7aY8wL",
        "outputId": "7a518c13-a602-4add-b8cc-c0a81c0f5312",
        "colab": {
          "base_uri": "https://localhost:8080/"
        }
      },
      "outputs": [
        {
          "output_type": "execute_result",
          "data": {
            "text/plain": [
              "['a', 'b', 'hello', 'd']"
            ]
          },
          "metadata": {},
          "execution_count": 7
        }
      ],
      "source": [
        "abcd = ['a', 'b', 'c', 'd']\n",
        "abcd[2] = 'hello'\n",
        "abcd"
      ]
    },
    {
      "cell_type": "markdown",
      "metadata": {
        "id": "Gph_GNjyY8wL"
      },
      "source": [
        "文字列と同様に、スライスを使った範囲指定も可能です。"
      ]
    },
    {
      "cell_type": "code",
      "execution_count": 8,
      "metadata": {
        "id": "-DCkjz6XY8wL",
        "outputId": "2d7c285e-0f87-4dad-93ca-10b1c04d78a0",
        "colab": {
          "base_uri": "https://localhost:8080/"
        }
      },
      "outputs": [
        {
          "output_type": "execute_result",
          "data": {
            "text/plain": [
              "['b', 'c']"
            ]
          },
          "metadata": {},
          "execution_count": 8
        }
      ],
      "source": [
        "abcd = ['a', 'b', 'c', 'd']\n",
        "abcd[1:3]"
      ]
    },
    {
      "cell_type": "code",
      "execution_count": 9,
      "metadata": {
        "id": "Wad-sZGhY8wL",
        "outputId": "d8b4c710-ad63-4d84-8672-ea6e77fa9508",
        "colab": {
          "base_uri": "https://localhost:8080/"
        }
      },
      "outputs": [
        {
          "output_type": "execute_result",
          "data": {
            "text/plain": [
              "['a', 'c']"
            ]
          },
          "metadata": {},
          "execution_count": 9
        }
      ],
      "source": [
        "abcd = ['a', 'b', 'c', 'd']\n",
        "abcd[0:4:2]"
      ]
    },
    {
      "cell_type": "markdown",
      "metadata": {
        "id": "Uk8D3xNkY8wL"
      },
      "source": [
        "リストのスライスに対しては、代入も可能です。"
      ]
    },
    {
      "cell_type": "code",
      "execution_count": 10,
      "metadata": {
        "id": "-7vNqzWtY8wL",
        "outputId": "01622be7-2cab-426f-8fc6-7525cc28f7ad",
        "colab": {
          "base_uri": "https://localhost:8080/"
        }
      },
      "outputs": [
        {
          "output_type": "execute_result",
          "data": {
            "text/plain": [
              "['a', 'x', 'y', 'z', 'd']"
            ]
          },
          "metadata": {},
          "execution_count": 10
        }
      ],
      "source": [
        "abcd = ['a', 'b', 'c', 'd']\n",
        "abcd[1:3] = ['x', 'y', 'z']\n",
        "abcd"
      ]
    },
    {
      "cell_type": "markdown",
      "metadata": {
        "id": "K1M4dl-OY8wL"
      },
      "source": [
        "## 練習\n",
        "リスト `ln` を引数として取り、`ln` の偶数番目のインデックスの値を削除したリストを返す関数 `remove_evenindex` を作成してください（ただし、0 は偶数として扱うものとします）。\n",
        "\n",
        "ヒント：スライスを使います。\n",
        "\n",
        "以下のセルの `...` のところを書き換えて `remove_evenindex(ln)` を作成してください。"
      ]
    },
    {
      "cell_type": "code",
      "execution_count": null,
      "metadata": {
        "id": "W4bbZjPqY8wL"
      },
      "outputs": [],
      "source": [
        "def remove_evenindex(ln):\n",
        ""
      ]
    },
    {
      "cell_type": "markdown",
      "metadata": {
        "id": "y8qRlimRY8wL"
      },
      "source": [
        "上のセルで解答を作成した後、以下のセルを実行し、実行結果が全て `True` になることを確認してください。"
      ]
    },
    {
      "cell_type": "code",
      "execution_count": null,
      "metadata": {
        "tags": [
          "raises-exception"
        ],
        "id": "zxzDR9sOY8wL"
      },
      "outputs": [],
      "source": [
        "print(remove_evenindex(['a', 'b', 'c', 'd', 'e', 'f', 'g']) == ['b', 'd', 'f'] )\n",
        "print(remove_evenindex([1, 2, 3, 4, 5]) == [2, 4])"
      ]
    },
    {
      "cell_type": "markdown",
      "metadata": {
        "id": "BvY0EBloY8wM"
      },
      "source": [
        "## **多重リスト**\n",
        "リストの要素としてリストを指定することもできます。\n",
        "リストを要素とするリストは多重リストと呼ばれます。\n",
        "次は二重リストの例です。"
      ]
    },
    {
      "cell_type": "code",
      "execution_count": 11,
      "metadata": {
        "id": "63XPZ6x7Y8wM"
      },
      "outputs": [],
      "source": [
        "lns = [[1, 2, 3], [10, 20, 30], ['a', 'b', 'c']]"
      ]
    },
    {
      "cell_type": "markdown",
      "metadata": {
        "id": "hO_TDKYdY8wM"
      },
      "source": [
        "多重リストの要素指定は複数のインデックスで行います。\n",
        "前の例で外側の `[]` で示されるリストの2番目の要素のリスト、\n",
        "すなわち `[10, 20, 30]` の最初の要素は次のように指定します。"
      ]
    },
    {
      "cell_type": "code",
      "execution_count": 12,
      "metadata": {
        "id": "dmZH6sUeY8wM",
        "outputId": "eae133a5-f952-4b48-ef7f-c59531809be3",
        "colab": {
          "base_uri": "https://localhost:8080/"
        }
      },
      "outputs": [
        {
          "output_type": "execute_result",
          "data": {
            "text/plain": [
              "10"
            ]
          },
          "metadata": {},
          "execution_count": 12
        }
      ],
      "source": [
        "lns[1][0]"
      ]
    },
    {
      "cell_type": "markdown",
      "metadata": {
        "id": "gZb3cG-UY8wM"
      },
      "source": [
        "3番目のリストそのものを取り出したいときは、次のように指定します。"
      ]
    },
    {
      "cell_type": "code",
      "execution_count": 13,
      "metadata": {
        "id": "CDTYfp8DY8wM",
        "outputId": "31d155d1-334c-4742-b742-14410af505b5",
        "colab": {
          "base_uri": "https://localhost:8080/"
        }
      },
      "outputs": [
        {
          "output_type": "execute_result",
          "data": {
            "text/plain": [
              "['a', 'b', 'c']"
            ]
          },
          "metadata": {},
          "execution_count": 13
        }
      ],
      "source": [
        "lns[2]"
      ]
    },
    {
      "cell_type": "markdown",
      "metadata": {
        "id": "q9iJQX0mY8wM"
      },
      "source": [
        "以下のようにリストの要素として、リストを値とする変数を指定することもできます。"
      ]
    },
    {
      "cell_type": "code",
      "execution_count": 14,
      "metadata": {
        "id": "XCEQoBJ0Y8wM",
        "outputId": "05dc57e7-1f5b-40da-8e20-00673dfc4709",
        "colab": {
          "base_uri": "https://localhost:8080/"
        }
      },
      "outputs": [
        {
          "output_type": "execute_result",
          "data": {
            "text/plain": [
              "[[[1, 2, 3], [10, 20, 30], ['a', 'b', 'c']],\n",
              " ['x', 1, [11, 12, 13]],\n",
              " ['y', [100, 120, 140]]]"
            ]
          },
          "metadata": {},
          "execution_count": 14
        }
      ],
      "source": [
        "lns2 = [lns, ['x', 1, [11, 12, 13]], ['y', [100, 120, 140]] ]\n",
        "lns2"
      ]
    },
    {
      "cell_type": "code",
      "execution_count": 15,
      "metadata": {
        "id": "Gp1DbvuNY8wM",
        "outputId": "f146f101-0d4e-4136-dc49-4e489b66469f",
        "colab": {
          "base_uri": "https://localhost:8080/"
        }
      },
      "outputs": [
        {
          "output_type": "execute_result",
          "data": {
            "text/plain": [
              "[[1, 2, 3], [10, 20, 30], ['a', 'b', 'c']]"
            ]
          },
          "metadata": {},
          "execution_count": 15
        }
      ],
      "source": [
        "lns2[0]"
      ]
    },
    {
      "cell_type": "markdown",
      "metadata": {
        "id": "KjCOEIdBY8wM"
      },
      "source": [
        "## リストに対する関数・演算子・メソッド\n",
        "\n",
        "### リストの要素数\n",
        "\n",
        "組み込み関数 **`len`** はリストの長さ、すなわち要素数、を返します。"
      ]
    },
    {
      "cell_type": "code",
      "execution_count": 16,
      "metadata": {
        "id": "5STjifdVY8wM",
        "outputId": "837ad1c2-0fa1-41cd-8476-7e73fb99657e",
        "colab": {
          "base_uri": "https://localhost:8080/"
        }
      },
      "outputs": [
        {
          "output_type": "execute_result",
          "data": {
            "text/plain": [
              "6"
            ]
          },
          "metadata": {},
          "execution_count": 16
        }
      ],
      "source": [
        "numbers = [0, 10, 20, 30, 40, 50]\n",
        "len(numbers)"
      ]
    },
    {
      "cell_type": "markdown",
      "metadata": {
        "id": "jiqYIakFY8wM"
      },
      "source": [
        "### `max` と `min`\n",
        "\n",
        "リストを引数とする関数は色々とあります。\n",
        "関数 **`max`** は、数のリストが与えられると、その中の最大値を返します。\n",
        "同様に関数 **`min`** はリストの中の最小値を返します。"
      ]
    },
    {
      "cell_type": "code",
      "execution_count": 17,
      "metadata": {
        "id": "O2dM7F1MY8wM",
        "outputId": "6d1b1879-9e26-4815-8a24-d5ba5d512a16",
        "colab": {
          "base_uri": "https://localhost:8080/"
        }
      },
      "outputs": [
        {
          "output_type": "execute_result",
          "data": {
            "text/plain": [
              "60"
            ]
          },
          "metadata": {},
          "execution_count": 17
        }
      ],
      "source": [
        "numbers = [30, 50, 10, 20, 40, 60]\n",
        "max(numbers)"
      ]
    },
    {
      "cell_type": "code",
      "execution_count": 18,
      "metadata": {
        "id": "Vz22LVgzY8wM",
        "outputId": "04173b43-324a-4363-8571-ba0275432686",
        "colab": {
          "base_uri": "https://localhost:8080/"
        }
      },
      "outputs": [
        {
          "output_type": "execute_result",
          "data": {
            "text/plain": [
              "10"
            ]
          },
          "metadata": {},
          "execution_count": 18
        }
      ],
      "source": [
        "numbers = [30, 50, 10, 20, 40, 60]\n",
        "min(numbers)"
      ]
    },
    {
      "cell_type": "markdown",
      "metadata": {
        "id": "m_S7qLNGY8wM"
      },
      "source": [
        "`max` と `min` は文字列のリストに対しても適用できます。文字列の比較は、いわゆる辞書順で行われます。"
      ]
    },
    {
      "cell_type": "code",
      "execution_count": 19,
      "metadata": {
        "id": "6YJzKo-mY8wM",
        "outputId": "5049bb65-2d2c-4a93-8c45-7cc872d7615e",
        "colab": {
          "base_uri": "https://localhost:8080/",
          "height": 36
        }
      },
      "outputs": [
        {
          "output_type": "execute_result",
          "data": {
            "text/plain": [
              "'a'"
            ],
            "application/vnd.google.colaboratory.intrinsic+json": {
              "type": "string"
            }
          },
          "metadata": {},
          "execution_count": 19
        }
      ],
      "source": [
        "characters = ['e', 'd', 'a', 'c', 'f', 'b']\n",
        "min(characters)"
      ]
    },
    {
      "cell_type": "markdown",
      "metadata": {
        "id": "YhxlPLNZY8wU"
      },
      "source": [
        "### `sum`\n",
        "\n",
        "関数 **`sum`** は、数のリストが与えられると、その要素の総和を返します。"
      ]
    },
    {
      "cell_type": "code",
      "execution_count": 20,
      "metadata": {
        "id": "kZIthCtwY8wU",
        "outputId": "62396e99-cb88-4015-ad03-6a810be78fd7",
        "colab": {
          "base_uri": "https://localhost:8080/"
        }
      },
      "outputs": [
        {
          "output_type": "execute_result",
          "data": {
            "text/plain": [
              "210"
            ]
          },
          "metadata": {},
          "execution_count": 20
        }
      ],
      "source": [
        "numbers = [30, 50, 10, 20, 40, 60]\n",
        "sum(numbers)"
      ]
    },
    {
      "cell_type": "code",
      "execution_count": 21,
      "metadata": {
        "id": "EsXnz73JY8wU",
        "outputId": "3b3f7c72-be21-4591-b5ee-bf3a5a33dec0",
        "colab": {
          "base_uri": "https://localhost:8080/"
        }
      },
      "outputs": [
        {
          "output_type": "execute_result",
          "data": {
            "text/plain": [
              "0"
            ]
          },
          "metadata": {},
          "execution_count": 21
        }
      ],
      "source": [
        "sum([])"
      ]
    },
    {
      "cell_type": "markdown",
      "metadata": {
        "id": "9BHW8gdZY8wU"
      },
      "source": [
        "### リストと演算子"
      ]
    },
    {
      "cell_type": "markdown",
      "metadata": {
        "id": "trejudTiY8wU"
      },
      "source": [
        "演算子 **`+`** によってリストの連結、**`*`** によって連結における繰り返し回数を指定することができます。"
      ]
    },
    {
      "cell_type": "code",
      "execution_count": 22,
      "metadata": {
        "id": "4iN3OOA1Y8wU",
        "outputId": "4783b164-dc89-4785-d89e-29661a4516d3",
        "colab": {
          "base_uri": "https://localhost:8080/"
        }
      },
      "outputs": [
        {
          "output_type": "execute_result",
          "data": {
            "text/plain": [
              "[0, 10, 20, 30, 40, 50, 'a', 'b', 'c']"
            ]
          },
          "metadata": {},
          "execution_count": 22
        }
      ],
      "source": [
        "numbers = [0, 10, 20, 30, 40, 50]\n",
        "numbers + ['a', 'b', 'c']"
      ]
    },
    {
      "cell_type": "code",
      "execution_count": 23,
      "metadata": {
        "id": "3oTxA2jgY8wV",
        "outputId": "f849ffe8-96fb-4893-f6f0-4b9698135b2f",
        "colab": {
          "base_uri": "https://localhost:8080/"
        }
      },
      "outputs": [
        {
          "output_type": "execute_result",
          "data": {
            "text/plain": [
              "[0, 10, 20, 30, 40, 50, 0, 10, 20, 30, 40, 50, 0, 10, 20, 30, 40, 50]"
            ]
          },
          "metadata": {},
          "execution_count": 23
        }
      ],
      "source": [
        "numbers*3"
      ]
    },
    {
      "cell_type": "markdown",
      "metadata": {
        "id": "pmsNiIZKY8wV"
      },
      "source": [
        "要素が全て同じ値（たとえば、`0` ）のリストを作る最も簡単な方法は、この `*` 演算子を使う方法です。"
      ]
    },
    {
      "cell_type": "code",
      "execution_count": 24,
      "metadata": {
        "id": "auyqVIOyY8wV",
        "outputId": "24e2d2dc-f400-4914-82fe-490399e65159",
        "colab": {
          "base_uri": "https://localhost:8080/"
        }
      },
      "outputs": [
        {
          "output_type": "execute_result",
          "data": {
            "text/plain": [
              "[0, 0, 0, 0, 0, 0, 0, 0, 0, 0]"
            ]
          },
          "metadata": {},
          "execution_count": 24
        }
      ],
      "source": [
        "zero10 = [0] * 10\n",
        "zero10"
      ]
    },
    {
      "cell_type": "markdown",
      "metadata": {
        "id": "BeHLaZ9UY8wV"
      },
      "source": [
        "`*` は `+` を繰り返し行うのと同じ結果を返します。\n",
        "たとえば、`x*3` は `x+x+x` と同じ結果を返します。\n",
        "\n",
        "`x` が多重リストのとき、`x` の要素であるリストが `y` の中に複数回現れます。"
      ]
    },
    {
      "cell_type": "code",
      "execution_count": 25,
      "metadata": {
        "id": "_S5s0_n1Y8wV",
        "outputId": "b37357b8-6ed1-4c28-ac73-c6c66c57d0ea",
        "colab": {
          "base_uri": "https://localhost:8080/"
        }
      },
      "outputs": [
        {
          "output_type": "execute_result",
          "data": {
            "text/plain": [
              "[[0, 1], [2, 3], [0, 1], [2, 3], [0, 1], [2, 3]]"
            ]
          },
          "metadata": {},
          "execution_count": 25
        }
      ],
      "source": [
        "x = [[0, 1], [2, 3]]\n",
        "y = x*3\n",
        "y"
      ]
    },
    {
      "cell_type": "markdown",
      "metadata": {
        "id": "F5yLHWXBY8wV"
      },
      "source": [
        "このとき、`x` の要素が変更されると、`y` の中では複数箇所に変化が起こるので、注意してください。"
      ]
    },
    {
      "cell_type": "code",
      "execution_count": 26,
      "metadata": {
        "id": "bKw3ABXLY8wV",
        "outputId": "21ad168d-b355-4860-d8e1-57e76063ec2d",
        "colab": {
          "base_uri": "https://localhost:8080/"
        }
      },
      "outputs": [
        {
          "output_type": "execute_result",
          "data": {
            "text/plain": [
              "[[99, 1], [2, 3], [99, 1], [2, 3], [99, 1], [2, 3]]"
            ]
          },
          "metadata": {},
          "execution_count": 26
        }
      ],
      "source": [
        "x[0][0] = 99\n",
        "y"
      ]
    },
    {
      "cell_type": "markdown",
      "metadata": {
        "id": "nH-k0LLMY8wV"
      },
      "source": [
        "これは、`y` の中の複数個所にあるオブジェクトが同一だからです。\n",
        "詳しくは、以下の「▲オブジェクトの等価性と同一性」を参照してください。"
      ]
    },
    {
      "cell_type": "markdown",
      "metadata": {
        "id": "l3oBowhAY8wV"
      },
      "source": [
        "演算子 **`in`** は、左辺の要素がリストに含まれれば `True` を、それ以外では `False` を返します。"
      ]
    },
    {
      "cell_type": "code",
      "execution_count": null,
      "metadata": {
        "id": "P41lh8bEY8wV"
      },
      "outputs": [],
      "source": [
        "10 in numbers"
      ]
    },
    {
      "cell_type": "markdown",
      "metadata": {
        "id": "8BOLHSszY8wV"
      },
      "source": [
        "リストに対する `in` 演算子は、論理演算 `or` を簡潔に記述するのに用いることもできます。 たとえば、\n",
        "\n",
        "---\n",
        "```Python\n",
        "a1 == 1 or a1 == 3 or a1 == 7:\n",
        "```\n",
        "---\n",
        "\n",
        "は\n",
        "\n",
        "---\n",
        "```Python\n",
        "a1 in [1, 3, 7]:\n",
        "```\n",
        "---\n",
        "\n",
        "と同じ結果を得られます。 `or` の数が多くなる場合は、`in` を用いた方がより読みやすいプログラムを書くことができます。"
      ]
    },
    {
      "cell_type": "code",
      "execution_count": 27,
      "metadata": {
        "id": "4SC8uncVY8wV",
        "outputId": "df23e20a-2b42-4290-8d4b-5b11076ee834",
        "colab": {
          "base_uri": "https://localhost:8080/"
        }
      },
      "outputs": [
        {
          "output_type": "stream",
          "name": "stdout",
          "text": [
            "True True\n",
            "True True\n",
            "False False\n"
          ]
        }
      ],
      "source": [
        "a1 = 1\n",
        "print(a1 == 1 or a1 == 3 or a1 == 7, a1 in [1, 3, 7])\n",
        "a1 = 3\n",
        "print(a1 == 1 or a1 == 3 or a1 == 7, a1 in [1, 3, 7])\n",
        "a1 = 5\n",
        "print(a1 == 1 or a1 == 3 or a1 == 7, a1 in [1, 3, 7])"
      ]
    },
    {
      "cell_type": "markdown",
      "metadata": {
        "id": "qDX2N68OY8wV"
      },
      "source": [
        "`in` 演算子は、左辺の要素がリストに含まれるかどうかを、\n",
        "リストの要素を最初から順に調べることで判定しています。\n",
        "したがって、リストの長さに比例した時間がかかります。\n",
        "つまり、リストの長さが大きければ、それなりの時間がかかることに注意してください。\n",
        "\n",
        "**`not in`** 演算子は、`in` 演算子の逆を意味します。"
      ]
    },
    {
      "cell_type": "code",
      "execution_count": 28,
      "metadata": {
        "id": "0Y4NBbRAY8wV",
        "outputId": "0f97fe98-4522-474c-e611-93d6efe4bff3",
        "colab": {
          "base_uri": "https://localhost:8080/"
        }
      },
      "outputs": [
        {
          "output_type": "execute_result",
          "data": {
            "text/plain": [
              "False"
            ]
          },
          "metadata": {},
          "execution_count": 28
        }
      ],
      "source": [
        "10 not in numbers"
      ]
    },
    {
      "cell_type": "code",
      "execution_count": 29,
      "metadata": {
        "id": "aL2wsleqY8wV",
        "outputId": "312694c0-aaa6-4c61-f048-b82406463353",
        "colab": {
          "base_uri": "https://localhost:8080/"
        }
      },
      "outputs": [
        {
          "output_type": "execute_result",
          "data": {
            "text/plain": [
              "True"
            ]
          },
          "metadata": {},
          "execution_count": 29
        }
      ],
      "source": [
        "11 not in numbers"
      ]
    },
    {
      "cell_type": "markdown",
      "metadata": {
        "id": "T2ZeRazoY8wV"
      },
      "source": [
        "### 指定した要素のインデックス取得と数えあげ\n",
        "\n",
        "**`index`** メソッドは引数で指定した要素のインデックスの番号を返します。\n",
        "文字列には `index` に加えてこれと似た `find` メソッドもありましたが、リストでは使えません。"
      ]
    },
    {
      "cell_type": "code",
      "execution_count": 30,
      "metadata": {
        "id": "Kn9qEQSCY8wW",
        "outputId": "4460a3f6-b9c1-4511-e69e-31f3b4c48497",
        "colab": {
          "base_uri": "https://localhost:8080/"
        }
      },
      "outputs": [
        {
          "output_type": "execute_result",
          "data": {
            "text/plain": [
              "2"
            ]
          },
          "metadata": {},
          "execution_count": 30
        }
      ],
      "source": [
        "numbers = [0, 10, 20, 30, 40, 50]\n",
        "numbers.index(20)"
      ]
    },
    {
      "cell_type": "markdown",
      "metadata": {
        "id": "phkOwEp6Y8wW"
      },
      "source": [
        "**`count`** メソッドは指定した要素の数を返します。"
      ]
    },
    {
      "cell_type": "code",
      "execution_count": 31,
      "metadata": {
        "id": "ASm8ji08Y8wW",
        "outputId": "9d3e91b9-4a85-4767-93b8-e2f110ea5ffd",
        "colab": {
          "base_uri": "https://localhost:8080/"
        }
      },
      "outputs": [
        {
          "output_type": "execute_result",
          "data": {
            "text/plain": [
              "3"
            ]
          },
          "metadata": {},
          "execution_count": 31
        }
      ],
      "source": [
        "all20 = [20]*3\n",
        "all20.count(20) # 指定した要素のリスト内の数"
      ]
    },
    {
      "cell_type": "markdown",
      "metadata": {
        "id": "7GGtc_IzY8wW"
      },
      "source": [
        "### 並べ替え（**`sort`** メソッド）\n",
        "\n",
        "`sort` メソッドはリスト内の要素を並べ替えます。\n",
        "引数に何も指定しなければ昇順でとなります。"
      ]
    },
    {
      "cell_type": "code",
      "execution_count": 32,
      "metadata": {
        "id": "_VEng6LOY8wW"
      },
      "outputs": [],
      "source": [
        "numbers = [30, 50, 10, 20, 40, 60]\n",
        "numbers.sort()"
      ]
    },
    {
      "cell_type": "code",
      "execution_count": 33,
      "metadata": {
        "id": "-7JcnLFBY8wW",
        "outputId": "bb450128-49e2-4797-9e68-b3c191d0a785",
        "colab": {
          "base_uri": "https://localhost:8080/"
        }
      },
      "outputs": [
        {
          "output_type": "execute_result",
          "data": {
            "text/plain": [
              "[10, 20, 30, 40, 50, 60]"
            ]
          },
          "metadata": {},
          "execution_count": 33
        }
      ],
      "source": [
        "numbers"
      ]
    },
    {
      "cell_type": "code",
      "execution_count": 34,
      "metadata": {
        "id": "mvj94aFVY8wW",
        "outputId": "1c59b420-1d2d-4adf-8b0f-4b774a10855d",
        "colab": {
          "base_uri": "https://localhost:8080/"
        }
      },
      "outputs": [
        {
          "output_type": "execute_result",
          "data": {
            "text/plain": [
              "['a', 'b', 'c', 'd', 'e', 'f']"
            ]
          },
          "metadata": {},
          "execution_count": 34
        }
      ],
      "source": [
        "characters = ['e', 'd', 'a', 'c', 'f', 'b']\n",
        "characters.sort()\n",
        "characters"
      ]
    },
    {
      "cell_type": "markdown",
      "metadata": {
        "id": "mO8tPfESY8wW"
      },
      "source": [
        "`reverse = True` オプションを指定すれば、要素を降順に並べ替えることもできます。\n",
        "（これは 3.3 のキーワード引数と呼ばれるものですが、ここでは天下り的に、\n",
        "並べ替えの方法を指定する情報と理解しておいてください。）"
      ]
    },
    {
      "cell_type": "code",
      "execution_count": 35,
      "metadata": {
        "id": "uvcXxKCpY8wW",
        "outputId": "9bb63b54-7dcc-43b9-aa37-aa98770151f3",
        "colab": {
          "base_uri": "https://localhost:8080/"
        }
      },
      "outputs": [
        {
          "output_type": "execute_result",
          "data": {
            "text/plain": [
              "[60, 50, 40, 30, 20, 10]"
            ]
          },
          "metadata": {},
          "execution_count": 35
        }
      ],
      "source": [
        "numbers = [30, 50, 10, 20, 40, 60]\n",
        "numbers.sort(reverse = True)\n",
        "numbers"
      ]
    },
    {
      "cell_type": "markdown",
      "metadata": {
        "id": "5CkDnOF_Y8wW"
      },
      "source": [
        "### 並べ替え（**`sorted`** 組み込み関数）\n",
        "\n",
        "関数 `sorted` ではリストを引数に取って、そのリスト内の要素を昇順に並べ替えた結果をリストとして返します。\n",
        "\n",
        "---\n",
        "```Python\n",
        "sorted(リスト)\n",
        "```\n",
        "---"
      ]
    },
    {
      "cell_type": "code",
      "execution_count": 36,
      "metadata": {
        "id": "fJUMrz3GY8wW",
        "outputId": "4c4c138f-61ac-4fa5-d8ed-761ea573064c",
        "colab": {
          "base_uri": "https://localhost:8080/"
        }
      },
      "outputs": [
        {
          "output_type": "execute_result",
          "data": {
            "text/plain": [
              "[10, 20, 30, 40, 50, 60]"
            ]
          },
          "metadata": {},
          "execution_count": 36
        }
      ],
      "source": [
        "numbers = [30, 50, 10, 20, 40, 60]\n",
        "sorted(numbers)"
      ]
    },
    {
      "cell_type": "markdown",
      "metadata": {
        "id": "Qe8MHeVFY8wW"
      },
      "source": [
        "文字列の比較は、いわゆる辞書順で行われます。"
      ]
    },
    {
      "cell_type": "code",
      "execution_count": 37,
      "metadata": {
        "id": "0PN2rPDSY8wW",
        "outputId": "7c3d7d59-4023-4591-e418-a38a773c47c3",
        "colab": {
          "base_uri": "https://localhost:8080/"
        }
      },
      "outputs": [
        {
          "output_type": "execute_result",
          "data": {
            "text/plain": [
              "['a', 'b', 'c', 'd', 'e', 'f']"
            ]
          },
          "metadata": {},
          "execution_count": 37
        }
      ],
      "source": [
        "characters = ['e', 'd', 'a', 'c', 'f', 'b']\n",
        "sorted(characters)"
      ]
    },
    {
      "cell_type": "markdown",
      "metadata": {
        "id": "spkK3c_WY8wW"
      },
      "source": [
        "`sorted` においても、 `reverse = True` と記述することで要素を降順に並べ替えることができます。"
      ]
    },
    {
      "cell_type": "code",
      "execution_count": 38,
      "metadata": {
        "id": "RVKH-pVZY8wW",
        "outputId": "ef7a6f89-5e2e-4a9a-8da4-6389419245d1",
        "colab": {
          "base_uri": "https://localhost:8080/"
        }
      },
      "outputs": [
        {
          "output_type": "execute_result",
          "data": {
            "text/plain": [
              "[60, 50, 40, 30, 20, 10]"
            ]
          },
          "metadata": {},
          "execution_count": 38
        }
      ],
      "source": [
        "numbers = [30, 50, 10, 20, 40, 60]\n",
        "sorted(numbers, reverse=True)"
      ]
    },
    {
      "cell_type": "markdown",
      "metadata": {
        "id": "tQ0H8Z-5Y8wW"
      },
      "source": [
        "ついでですが、多重リストをソートするとどのような結果が得られるか確かめてみてください。"
      ]
    },
    {
      "cell_type": "code",
      "execution_count": 39,
      "metadata": {
        "id": "JDGR4I0hY8wX",
        "outputId": "338b05b3-a853-4170-9b77-368764877b3b",
        "colab": {
          "base_uri": "https://localhost:8080/"
        }
      },
      "outputs": [
        {
          "output_type": "execute_result",
          "data": {
            "text/plain": [
              "[[10, 30], [20, 5], [30, 10], [40, 20]]"
            ]
          },
          "metadata": {},
          "execution_count": 39
        }
      ],
      "source": [
        "lns = [[20, 5], [10, 30], [40, 20], [30, 10]]\n",
        "lns.sort()\n",
        "lns"
      ]
    },
    {
      "cell_type": "markdown",
      "metadata": {
        "id": "tQvBopBiY8wX"
      },
      "source": [
        "## 破壊的（インプレース）な操作と非破壊的な生成"
      ]
    },
    {
      "cell_type": "markdown",
      "metadata": {
        "id": "SLESieQWY8wX"
      },
      "source": [
        "上記では、`sort` メソッドと `sorted` 関数を紹介しましたが、両者の使い方が異なることに気が付きましたか？\n",
        "\n",
        "具体的には、` sort` メソッドでは元のリストが変更されています。\n",
        "一方、`sorted` 関数では元のリストはそのままになっています。もう一度確認してみましょう。"
      ]
    },
    {
      "cell_type": "code",
      "execution_count": 40,
      "metadata": {
        "id": "tLkzRRSHY8wX",
        "outputId": "9238d0df-2a6f-4a9d-b58b-202c0da5aad7",
        "colab": {
          "base_uri": "https://localhost:8080/"
        }
      },
      "outputs": [
        {
          "output_type": "stream",
          "name": "stdout",
          "text": [
            "sortメソッドの実行後の元のリスト: [10, 20, 30, 40, 50, 60]\n",
            "sorted関数の実行後の元のリスト: [30, 50, 10, 20, 40, 60]\n"
          ]
        }
      ],
      "source": [
        "numbers = [30, 50, 10, 20, 40, 60]\n",
        "numbers.sort()\n",
        "print('sortメソッドの実行後の元のリスト:', numbers)\n",
        "numbers = [30, 50, 10, 20, 40, 60]\n",
        "sorted(numbers)\n",
        "print('sorted関数の実行後の元のリスト:', numbers)"
      ]
    },
    {
      "cell_type": "markdown",
      "metadata": {
        "id": "JyCGroR6Y8wX"
      },
      "source": [
        "このように、`sort` メソッドは元のリストを変更してしまいます。\n",
        "このような操作を**破壊的**あるいは**インプレース** (**in-place**) であるといいます。\n",
        "\n",
        "一方、`sorted` 関数は新しいリストを生成し元のリストを破壊しません、このような操作は**非破壊的**であるといいます。"
      ]
    },
    {
      "cell_type": "markdown",
      "metadata": {
        "id": "h-rVqw7IY8wX"
      },
      "source": [
        "`sorted` 関数を用いた場合、その返値（並べ替えの結果）は新しい変数に代入して使うことができます。  \n",
        "\n",
        "一方、`sort` メソッドはリストを返さないためそのような使い方はできません。"
      ]
    },
    {
      "cell_type": "code",
      "execution_count": 41,
      "metadata": {
        "id": "NVmeduKVY8wX",
        "outputId": "3c772fe5-492b-4af7-9942-088e15b4f093",
        "colab": {
          "base_uri": "https://localhost:8080/"
        }
      },
      "outputs": [
        {
          "output_type": "stream",
          "name": "stdout",
          "text": [
            "sorted関数の返値: [10, 20, 30, 40, 50, 60]\n",
            "sortメソッドの返値: None\n"
          ]
        }
      ],
      "source": [
        "numbers = [30, 50, 10, 20, 40, 60]\n",
        "numbers1 = sorted(numbers)\n",
        "print('sorted関数の返値:', numbers1)\n",
        "\n",
        "numbers = [30, 50, 10, 20, 40, 60]\n",
        "numbers2 = numbers.sort()\n",
        "print('sortメソッドの返値:', numbers2)"
      ]
    },
    {
      "cell_type": "markdown",
      "metadata": {
        "id": "C-kViOd5Y8wX"
      },
      "source": [
        "## リストを操作するメソッドなど\n",
        "\n",
        "ここからはリストを操作するためのメソッドなどを紹介していきます。\n",
        "\n",
        "メソッドや組み込み関数が破壊的であるかどうかは、一般にその名称などからは判断できません。\n",
        "それぞれ破壊的かどうか理解してから利用しなければなりません。\n",
        "\n",
        "なお、次の `append` メソッド以外は、必要に応じて参照すればよく、\n",
        "それ以降タプルの項まで飛ばして構いません。\n",
        "\n",
        "### リストに要素を追加する\n",
        "\n",
        "**`append`** メソッドはリストの最後尾に指定した要素を付け加えます。\n",
        "\n",
        "---\n",
        "```Python\n",
        "リスト.append(追加する要素)\n",
        "```\n",
        "---"
      ]
    },
    {
      "cell_type": "code",
      "execution_count": 42,
      "metadata": {
        "id": "ftwbdTIqY8wX",
        "outputId": "00897f29-51e0-4ff9-b545-93a19180acef",
        "colab": {
          "base_uri": "https://localhost:8080/"
        }
      },
      "outputs": [
        {
          "output_type": "execute_result",
          "data": {
            "text/plain": [
              "[10, 20, 30, 40, 50, 100]"
            ]
          },
          "metadata": {},
          "execution_count": 42
        }
      ],
      "source": [
        "numbers = [10, 20, 30, 40, 50]\n",
        "numbers.append(100)\n",
        "numbers"
      ]
    },
    {
      "cell_type": "markdown",
      "metadata": {
        "id": "r9gHvNVCY8wX"
      },
      "source": [
        "`append` は、上述した空のリストと組み合わせて、あるリストから特定の条件を満たす要素のみからなる新たなリストを構成する、というような状況でしばしば用いられます。たとえば、リスト `numbers1 = [10, -10, 20, 30, -20, 40, -30]` から `0` より大きい要素のみを抜き出したリスト `positives` は次のように構成することができます。"
      ]
    },
    {
      "cell_type": "code",
      "execution_count": 43,
      "metadata": {
        "id": "z8XUj3n_Y8wX",
        "outputId": "be57ba4e-f967-4766-c72c-f111932af71d",
        "colab": {
          "base_uri": "https://localhost:8080/"
        }
      },
      "outputs": [
        {
          "output_type": "execute_result",
          "data": {
            "text/plain": [
              "[10, 20, 30, 40]"
            ]
          },
          "metadata": {},
          "execution_count": 43
        }
      ],
      "source": [
        "numbers1 = [10, -10, 20, 30, -20, 40, -30]\n",
        "positives = [] # 空のリストを作成する\n",
        "positives.append(numbers1[0])\n",
        "positives.append(numbers1[2])\n",
        "positives.append(numbers1[3])\n",
        "positives.append(numbers1[5])\n",
        "positives"
      ]
    },
    {
      "cell_type": "markdown",
      "metadata": {
        "id": "JWp6C-ACY8wX"
      },
      "source": [
        "### ▲リストにリストの要素を追加する\n",
        "\n",
        " **`extend`** メソッドはリストの最後尾に指定したリストの要素を付け加えます。\n",
        "\n",
        "---\n",
        "```Python\n",
        "リスト.extend(追加するリスト)\n",
        "```\n",
        "---"
      ]
    },
    {
      "cell_type": "code",
      "execution_count": 44,
      "metadata": {
        "id": "u8FX5cDEY8wX",
        "outputId": "fac45a58-f0fc-4344-cb7f-8373b32c0f70",
        "colab": {
          "base_uri": "https://localhost:8080/"
        }
      },
      "outputs": [
        {
          "output_type": "execute_result",
          "data": {
            "text/plain": [
              "[10, 20, 30, 40, 50, 200, 300, 400, 200]"
            ]
          },
          "metadata": {},
          "execution_count": 44
        }
      ],
      "source": [
        "numbers = [10, 20, 30, 40, 50]\n",
        "numbers.extend([200, 300, 400, 200]) # numbers += [200, 300, 400, 200] と同じ\n",
        "numbers"
      ]
    },
    {
      "cell_type": "markdown",
      "metadata": {
        "id": "P5-E3IGmY8wX"
      },
      "source": [
        "### ▲リストに要素を挿入する\n",
        "\n",
        "**insert** メソッドはリストのインデックスを指定した位置に新しい要素を挿入します。  \n",
        "\n",
        "---\n",
        "```Python\n",
        "リスト.insert(インデックス, 新しい要素)\n",
        "```\n",
        "---"
      ]
    },
    {
      "cell_type": "code",
      "execution_count": 45,
      "metadata": {
        "id": "U2HctjeqY8wX",
        "outputId": "786b2173-89ba-4602-995d-4a0e80037aae",
        "colab": {
          "base_uri": "https://localhost:8080/"
        }
      },
      "outputs": [
        {
          "output_type": "execute_result",
          "data": {
            "text/plain": [
              "[10, 1000, 20, 30, 40, 50]"
            ]
          },
          "metadata": {},
          "execution_count": 45
        }
      ],
      "source": [
        "numbers = [10, 20, 30, 40, 50]\n",
        "numbers.insert(1, 1000)\n",
        "numbers"
      ]
    },
    {
      "cell_type": "markdown",
      "metadata": {
        "id": "2Bjw9FFzY8wX"
      },
      "source": [
        "### ▲リストから要素を削除する\n",
        "\n",
        "**`remove`** メソッドは指定した要素をリストから削除します。  \n",
        "\n",
        "---\n",
        "```Python\n",
        "リスト.remove(削除したい要素)\n",
        "```\n",
        "---\n",
        "\n",
        "ただし、指定した要素が複数個リストに含まれる場合、一番最初の要素が削除されます。また、指定した値がリストに含まれない場合はエラーとなります。"
      ]
    },
    {
      "cell_type": "code",
      "execution_count": 46,
      "metadata": {
        "id": "C7IKHr5iY8wX",
        "outputId": "0c827d32-9b0e-4884-ef17-fbc26ae67aa4",
        "colab": {
          "base_uri": "https://localhost:8080/"
        }
      },
      "outputs": [
        {
          "output_type": "execute_result",
          "data": {
            "text/plain": [
              "[10, 20, 40, 20]"
            ]
          },
          "metadata": {},
          "execution_count": 46
        }
      ],
      "source": [
        "numbers = [10, 20, 30, 40, 20]\n",
        "numbers.remove(30) # 指定した要素を削除\n",
        "numbers"
      ]
    },
    {
      "cell_type": "code",
      "execution_count": 47,
      "metadata": {
        "id": "PhlehHlzY8wY",
        "outputId": "11e8b509-8ad2-4460-b272-9a968433a2d4",
        "colab": {
          "base_uri": "https://localhost:8080/"
        }
      },
      "outputs": [
        {
          "output_type": "execute_result",
          "data": {
            "text/plain": [
              "[10, 40, 20]"
            ]
          },
          "metadata": {},
          "execution_count": 47
        }
      ],
      "source": [
        "numbers.remove(20) # 指定した要素が複数個リストに含まれる場合、一番最初の要素を削除\n",
        "numbers"
      ]
    },
    {
      "cell_type": "code",
      "execution_count": 48,
      "metadata": {
        "tags": [
          "raises-exception"
        ],
        "id": "Mb5ZEpDgY8wY",
        "outputId": "c23eb683-99e1-4aeb-b9b8-6a148b206811",
        "colab": {
          "base_uri": "https://localhost:8080/",
          "height": 149
        }
      },
      "outputs": [
        {
          "output_type": "error",
          "ename": "ValueError",
          "evalue": "list.remove(x): x not in list",
          "traceback": [
            "\u001b[0;31m---------------------------------------------------------------------------\u001b[0m",
            "\u001b[0;31mValueError\u001b[0m                                Traceback (most recent call last)",
            "\u001b[0;32m/tmp/ipython-input-682954414.py\u001b[0m in \u001b[0;36m<cell line: 0>\u001b[0;34m()\u001b[0m\n\u001b[0;32m----> 1\u001b[0;31m \u001b[0mnumbers\u001b[0m\u001b[0;34m.\u001b[0m\u001b[0mremove\u001b[0m\u001b[0;34m(\u001b[0m\u001b[0;36m100\u001b[0m\u001b[0;34m)\u001b[0m \u001b[0;31m# リストに含まれない値を指定するとエラー\u001b[0m\u001b[0;34m\u001b[0m\u001b[0;34m\u001b[0m\u001b[0m\n\u001b[0m",
            "\u001b[0;31mValueError\u001b[0m: list.remove(x): x not in list"
          ]
        }
      ],
      "source": [
        "numbers.remove(100) # リストに含まれない値を指定するとエラー"
      ]
    },
    {
      "cell_type": "markdown",
      "metadata": {
        "id": "cCktWr3wY8wY"
      },
      "source": [
        "### ▲リストからインデックスで指定した要素を削除する\n",
        "\n",
        "**`pop`** メソッドはリストから指定したインデックスを削除し、その要素を返します。\n",
        "\n",
        "---\n",
        "```Python\n",
        "リスト.pop(削除したい要素のインデックス)\n",
        "```\n",
        "---"
      ]
    },
    {
      "cell_type": "code",
      "execution_count": 49,
      "metadata": {
        "id": "VJJqDFHbY8wY",
        "outputId": "d4e80448-3938-41c4-c97c-f0588ce13029",
        "colab": {
          "base_uri": "https://localhost:8080/"
        }
      },
      "outputs": [
        {
          "output_type": "stream",
          "name": "stdout",
          "text": [
            "30\n",
            "[10, 20, 20, 20, 40]\n"
          ]
        }
      ],
      "source": [
        "numbers = [10, 20, 20, 30, 20, 40]\n",
        "print(numbers.pop(3))\n",
        "print(numbers)"
      ]
    },
    {
      "cell_type": "markdown",
      "metadata": {
        "id": "vgWqM7_tY8wY"
      },
      "source": [
        "インデックスを指定しない場合、最後尾の要素を削除して返します。\n",
        "\n",
        "---\n",
        "```Python\n",
        "リスト.pop()\n",
        "```\n",
        "---"
      ]
    },
    {
      "cell_type": "code",
      "execution_count": 50,
      "metadata": {
        "id": "WSHRssuOY8wY",
        "outputId": "130dbb6d-445e-413e-8554-37c2c927f13b",
        "colab": {
          "base_uri": "https://localhost:8080/"
        }
      },
      "outputs": [
        {
          "output_type": "stream",
          "name": "stdout",
          "text": [
            "40\n",
            "[10, 20, 30, 20]\n"
          ]
        }
      ],
      "source": [
        "ln = [10, 20, 30, 20, 40]\n",
        "print(ln.pop())\n",
        "print(ln)"
      ]
    },
    {
      "cell_type": "markdown",
      "metadata": {
        "id": "V6Zxn3ZzY8wY"
      },
      "source": [
        "### ▲リスト要素を削除する\n",
        "\n",
        "**`del`** 文は指定するリストの要素を削除します。具体的には以下のように削除したい要素をインデックスで指定します。  \n",
        "`del` も破壊的であることに注意してください。\n",
        "\n",
        "---\n",
        "```Python\n",
        "del リスト[x]\n",
        "```\n",
        "---"
      ]
    },
    {
      "cell_type": "code",
      "execution_count": 51,
      "metadata": {
        "id": "8C6ZOirVY8wY",
        "outputId": "24f94ddd-d407-4ca4-a99d-fa88c48fdbe8",
        "colab": {
          "base_uri": "https://localhost:8080/"
        }
      },
      "outputs": [
        {
          "output_type": "execute_result",
          "data": {
            "text/plain": [
              "[10, 20, 40, 50]"
            ]
          },
          "metadata": {},
          "execution_count": 51
        }
      ],
      "source": [
        "numbers = [10, 20, 30, 40, 50]\n",
        "del numbers[2]\n",
        "numbers"
      ]
    },
    {
      "cell_type": "markdown",
      "metadata": {
        "id": "RHeDHzWZY8wY"
      },
      "source": [
        "スライスを使うことも可能です。\n",
        "\n",
        "---\n",
        "```Python\n",
        "del リスト[x:y]\n",
        "```\n",
        "---\n"
      ]
    },
    {
      "cell_type": "code",
      "execution_count": 52,
      "metadata": {
        "id": "qVER3X8cY8wY",
        "outputId": "044d146f-46b4-47f3-cdc5-07d54029c155",
        "colab": {
          "base_uri": "https://localhost:8080/"
        }
      },
      "outputs": [
        {
          "output_type": "execute_result",
          "data": {
            "text/plain": [
              "[10, 20, 50]"
            ]
          },
          "metadata": {},
          "execution_count": 52
        }
      ],
      "source": [
        "numbers = [10, 20, 30, 40, 50]\n",
        "del numbers[2:4]\n",
        "numbers"
      ]
    },
    {
      "cell_type": "markdown",
      "metadata": {
        "id": "meeAdG4iY8wY"
      },
      "source": [
        "### ▲リストの要素を逆順にする\n",
        "\n",
        "**`reverse`** メソッドはリスト内の要素の順序を逆順にします。"
      ]
    },
    {
      "cell_type": "code",
      "execution_count": 53,
      "metadata": {
        "id": "hrygGvL0Y8wY",
        "outputId": "d3f6b1a7-8b50-42ed-a5f7-b82f0466f7de",
        "colab": {
          "base_uri": "https://localhost:8080/"
        }
      },
      "outputs": [
        {
          "output_type": "execute_result",
          "data": {
            "text/plain": [
              "['b', 'f', 'c', 'a', 'd', 'e']"
            ]
          },
          "metadata": {},
          "execution_count": 53
        }
      ],
      "source": [
        "characters = ['e', 'd', 'a', 'c', 'f', 'b']\n",
        "characters.reverse()\n",
        "characters"
      ]
    },
    {
      "cell_type": "markdown",
      "metadata": {
        "id": "478L-RpaY8wY"
      },
      "source": [
        "### ▲ **`copy`**\n",
        "リストを複製します。\n",
        "すなわち、`ln` の値がリストであるとき、`ln.copy()` は `ln` と同じ長さのリストを新たに作って、\n",
        "`ln` の要素を新しいリストに同じ順番で格納して、その新しいリストを返します。\n",
        "\n",
        "複製されたリストに変更を加えたとしても、もとのリストは影響を受けません。"
      ]
    },
    {
      "cell_type": "code",
      "execution_count": 54,
      "metadata": {
        "id": "sbUXd_PjY8wY",
        "outputId": "8a904eca-13fb-46b2-e3fd-080764e6bbe0",
        "colab": {
          "base_uri": "https://localhost:8080/"
        }
      },
      "outputs": [
        {
          "output_type": "stream",
          "name": "stdout",
          "text": [
            "[50, 40, 10]\n",
            "[10, 20, 30, 40, 50]\n"
          ]
        }
      ],
      "source": [
        "numbers = [10, 20, 30, 40, 50]\n",
        "numbers2 = numbers.copy()\n",
        "del numbers[1:3]\n",
        "numbers.reverse()\n",
        "print(numbers)\n",
        "print(numbers2)"
      ]
    },
    {
      "cell_type": "markdown",
      "metadata": {
        "id": "IADgunh_Y8wY"
      },
      "source": [
        "一方、代入を用いた場合には影響を受けることに注意してください。"
      ]
    },
    {
      "cell_type": "code",
      "execution_count": 55,
      "metadata": {
        "id": "UTrrLYQkY8wY",
        "outputId": "e25b0b7a-6b8a-4cf9-a4f7-b351161a0a62",
        "colab": {
          "base_uri": "https://localhost:8080/"
        }
      },
      "outputs": [
        {
          "output_type": "stream",
          "name": "stdout",
          "text": [
            "[50, 40, 10]\n",
            "[50, 40, 10]\n"
          ]
        }
      ],
      "source": [
        "numbers = [10, 20, 30, 40, 50]\n",
        "numbers2 = numbers\n",
        "del numbers[1:3]\n",
        "numbers.reverse()\n",
        "print(numbers)\n",
        "print(numbers2)"
      ]
    },
    {
      "cell_type": "markdown",
      "metadata": {
        "tags": [],
        "id": "cWhibEkZY8wY"
      },
      "source": [
        "## リストと文字列の相互変換\n",
        "\n",
        "文字列は変更不可能である一方、リスト変更可能です。\n",
        "そのため、文字列処理をする際は、文字列のリストに一旦変換してから、変更を加えて、文字列に変換することが典型的です。\n",
        "ここでは、文字列とリストの相互変換の方法を示します。\n",
        "\n",
        "まず、文字列 `s` を `list` 関数に渡すと、`s` を文字単位で区切ったリストが得られます。"
      ]
    },
    {
      "cell_type": "code",
      "execution_count": 56,
      "metadata": {
        "id": "KlRary0WY8wY",
        "outputId": "38d0324a-abea-4f02-9339-6512412b2e78",
        "colab": {
          "base_uri": "https://localhost:8080/"
        }
      },
      "outputs": [
        {
          "output_type": "execute_result",
          "data": {
            "text/plain": [
              "['a', 'b', 'c', '1', '2', '3']"
            ]
          },
          "metadata": {},
          "execution_count": 56
        }
      ],
      "source": [
        "list('abc123')"
      ]
    },
    {
      "cell_type": "markdown",
      "metadata": {
        "id": "SaPRWQdWY8wZ"
      },
      "source": [
        "文字単位ではなく、指定された文字列で区切ってリストにする際は、 **`split`** メソッドを使います。"
      ]
    },
    {
      "cell_type": "code",
      "execution_count": 57,
      "metadata": {
        "id": "VXM2XVJpY8wZ",
        "outputId": "0cf3df6e-f031-487f-98a6-5e1af5583a21",
        "colab": {
          "base_uri": "https://localhost:8080/"
        }
      },
      "outputs": [
        {
          "output_type": "execute_result",
          "data": {
            "text/plain": [
              "['ba', 'a', 'a']"
            ]
          },
          "metadata": {},
          "execution_count": 57
        }
      ],
      "source": [
        "'banana'.split('n')"
      ]
    },
    {
      "cell_type": "code",
      "execution_count": 58,
      "metadata": {
        "id": "d4sK9bqaY8wZ",
        "outputId": "b8b5b8ed-b47b-45fb-85d1-b124fbcdad52",
        "colab": {
          "base_uri": "https://localhost:8080/"
        }
      },
      "outputs": [
        {
          "output_type": "execute_result",
          "data": {
            "text/plain": [
              "['A', 'B', 'C']"
            ]
          },
          "metadata": {},
          "execution_count": 58
        }
      ],
      "source": [
        "'A and B and C'.split(' and ')"
      ]
    },
    {
      "cell_type": "markdown",
      "metadata": {
        "id": "FtBf6qHEY8wZ"
      },
      "source": [
        "`split` を無引数で呼び出すと、連続した空白文字を区切りと見做します。"
      ]
    },
    {
      "cell_type": "code",
      "execution_count": 59,
      "metadata": {
        "id": "0Upsx3uSY8wZ",
        "outputId": "506cc058-f1e5-46b9-eeb6-4fdb4181b50d",
        "colab": {
          "base_uri": "https://localhost:8080/"
        }
      },
      "outputs": [
        {
          "output_type": "execute_result",
          "data": {
            "text/plain": [
              "['A', 'B', 'C']"
            ]
          },
          "metadata": {},
          "execution_count": 59
        }
      ],
      "source": [
        "'A   B\\nC  '.split()"
      ]
    },
    {
      "cell_type": "markdown",
      "metadata": {
        "id": "FT0yDHTiY8wZ"
      },
      "source": [
        "逆に、文字のリストを連結して1つの文字列にする際は、 **`join`** メソッドを次のように使います。\n",
        "\n",
        "---\n",
        "```python\n",
        "接合点に挿入する文字列.join(文字列のリスト)\n",
        "```\n",
        "---"
      ]
    },
    {
      "cell_type": "code",
      "execution_count": 60,
      "metadata": {
        "id": "rJJPblmuY8wZ",
        "outputId": "fd38af49-360f-42fa-85aa-5a941699e0fe",
        "colab": {
          "base_uri": "https://localhost:8080/",
          "height": 36
        }
      },
      "outputs": [
        {
          "output_type": "execute_result",
          "data": {
            "text/plain": [
              "'abc123'"
            ],
            "application/vnd.google.colaboratory.intrinsic+json": {
              "type": "string"
            }
          },
          "metadata": {},
          "execution_count": 60
        }
      ],
      "source": [
        "''.join(['a', 'b', 'c', '1', '2', '3'])"
      ]
    },
    {
      "cell_type": "code",
      "execution_count": 61,
      "metadata": {
        "id": "azT5RNjoY8wZ",
        "outputId": "8546c3ef-a77d-4448-fe2f-935bbd92efeb",
        "colab": {
          "base_uri": "https://localhost:8080/",
          "height": 36
        }
      },
      "outputs": [
        {
          "output_type": "execute_result",
          "data": {
            "text/plain": [
              "'banana'"
            ],
            "application/vnd.google.colaboratory.intrinsic+json": {
              "type": "string"
            }
          },
          "metadata": {},
          "execution_count": 61
        }
      ],
      "source": [
        "'n'.join(['ba', 'a', 'a'])"
      ]
    },
    {
      "cell_type": "markdown",
      "metadata": {
        "id": "sTCPzy2EY8wZ"
      },
      "source": [
        "なお、 `join` の引数は、文字列のリストだけでなく、文字列のタプルでも問題ありません。\n",
        "タプルについては、次で述べます。\n",
        "\n",
        "### 練習\n",
        "\n",
        "emailアドレス `email` とドメイン名 `domain` を引数に取って、`email` のドメイン名を `domain` に置き換える関数 `change_domain(email, domain)` を作成してください。\n",
        "なお、emailアドレスのドメイン名とは、 `'@'` で区切られた右側の部分を意味します。\n",
        "\n",
        "次のセルの `...` のところを書き換えて `change_domain(email, domain)` を完成させてください。"
      ]
    },
    {
      "cell_type": "code",
      "execution_count": null,
      "metadata": {
        "id": "CEfdJAmsY8wZ"
      },
      "outputs": [],
      "source": [
        "def change_domain(email, domain):\n",
        "    ..."
      ]
    },
    {
      "cell_type": "markdown",
      "metadata": {
        "id": "kKtTljkNY8wZ"
      },
      "source": [
        "上のセルで解答を作成した後、以下のセルを実行し、実行結果が `True` になることを確認してください。"
      ]
    },
    {
      "cell_type": "code",
      "execution_count": null,
      "metadata": {
        "tags": [
          "raises-exception"
        ],
        "id": "QMUHja3YY8wZ"
      },
      "outputs": [],
      "source": [
        "print(change_domain('spam@utokyo-ipp.org', 'ipp.u-tokyo.ac.jp') == 'spam@ipp.u-tokyo.ac.jp')"
      ]
    },
    {
      "cell_type": "markdown",
      "metadata": {
        "id": "nR_iw_PKY8wZ"
      },
      "source": [
        "## タプル (tuple)\n",
        "\n",
        "**タプル**は、リストと同じようにデータの並びであり、あらゆる種類のデータを要素にできます。\n",
        "ただし、リストと違ってタプルは一度設定した要素を変更できません（文字列も同様でした）。\n",
        "すなわち、タプルは変更不可能なデータです。\n",
        "したがって、リストの項で説明したメソッドの多く、要素を操作するもの、は適用できないのですが、\n",
        "逆にいうと、作成した後で要素を変更する必要がない場合は、\n",
        "タプルの方が実装の効率がよいので、リストよりもタプルを使うべきです。\n",
        "\n",
        "たとえば、関数が複数の値をリストにして返し、呼び出し側がすぐにリストをばらばらにして値を取り出すような場合は、\n",
        "リストよりもタプルを使うべきです。\n",
        "また、平面上の点を表そうとするとき、x座標とy座標を別々に変化させる必要がなければ、\n",
        "`(3, 5)` のようなタプルを使うのが自然です。\n",
        "このように、タプルを作成するには数学におけるのと同様に要素を丸括弧 `(...)` で囲みます。\n",
        "\n",
        "例を見ましょう。"
      ]
    },
    {
      "cell_type": "code",
      "execution_count": 62,
      "metadata": {
        "id": "SRXEvCYQY8wZ"
      },
      "outputs": [],
      "source": [
        "x = 3\n",
        "y = 5\n",
        "point = (x, y)"
      ]
    },
    {
      "cell_type": "code",
      "execution_count": 63,
      "metadata": {
        "id": "al7HGqZLY8wZ",
        "outputId": "6567b91e-7eda-46a9-952a-177477093d59",
        "colab": {
          "base_uri": "https://localhost:8080/"
        }
      },
      "outputs": [
        {
          "output_type": "execute_result",
          "data": {
            "text/plain": [
              "(3, 5)"
            ]
          },
          "metadata": {},
          "execution_count": 63
        }
      ],
      "source": [
        "point"
      ]
    },
    {
      "cell_type": "code",
      "execution_count": 64,
      "metadata": {
        "id": "Rk4_jszrY8wZ",
        "outputId": "30464280-183e-4f99-b30f-829514832d97",
        "colab": {
          "base_uri": "https://localhost:8080/"
        }
      },
      "outputs": [
        {
          "output_type": "execute_result",
          "data": {
            "text/plain": [
              "tuple"
            ]
          },
          "metadata": {},
          "execution_count": 64
        }
      ],
      "source": [
        "type(point)"
      ]
    },
    {
      "cell_type": "code",
      "execution_count": 65,
      "metadata": {
        "id": "0EoqGm-CY8wZ",
        "outputId": "b6d45cf2-3d2c-4d62-c20b-39e2daa3908b",
        "colab": {
          "base_uri": "https://localhost:8080/"
        }
      },
      "outputs": [
        {
          "output_type": "execute_result",
          "data": {
            "text/plain": [
              "(1, 2, 3)"
            ]
          },
          "metadata": {},
          "execution_count": 65
        }
      ],
      "source": [
        "numbers3 = (1, 2, 3)\n",
        "numbers3"
      ]
    },
    {
      "cell_type": "markdown",
      "metadata": {
        "id": "h4i0DlWHY8wa"
      },
      "source": [
        "実は、丸括弧なしでもタプルを作成できます。"
      ]
    },
    {
      "cell_type": "code",
      "execution_count": 66,
      "metadata": {
        "id": "u98tdjDLY8wa",
        "outputId": "f5ca2b05-fb63-4f68-c2e2-4bf427022e1b",
        "colab": {
          "base_uri": "https://localhost:8080/"
        }
      },
      "outputs": [
        {
          "output_type": "execute_result",
          "data": {
            "text/plain": [
              "(1, 2, 3)"
            ]
          },
          "metadata": {},
          "execution_count": 66
        }
      ],
      "source": [
        "numbers3 = 1,2,3\n",
        "numbers3"
      ]
    },
    {
      "cell_type": "markdown",
      "metadata": {
        "id": "s237vPphY8wa"
      },
      "source": [
        "要素が1つだけの場合は、 `t = (1)` ではなく、次のようにします。"
      ]
    },
    {
      "cell_type": "code",
      "execution_count": 67,
      "metadata": {
        "id": "_nfnUcrZY8wa",
        "outputId": "525d91c3-a65f-4f0d-ed0e-ed0aac62df29",
        "colab": {
          "base_uri": "https://localhost:8080/"
        }
      },
      "outputs": [
        {
          "output_type": "execute_result",
          "data": {
            "text/plain": [
              "(1,)"
            ]
          },
          "metadata": {},
          "execution_count": 67
        }
      ],
      "source": [
        "onlyone = (1,)\n",
        "onlyone"
      ]
    },
    {
      "cell_type": "markdown",
      "metadata": {
        "id": "BgQTvqvzY8wa"
      },
      "source": [
        "`t = (1)` だと、`t = 1` と同じになってしまいます。"
      ]
    },
    {
      "cell_type": "code",
      "execution_count": 68,
      "metadata": {
        "id": "byc7T3R4Y8wa",
        "outputId": "e862eb3c-8baf-467b-fa90-8e2b695a360a",
        "colab": {
          "base_uri": "https://localhost:8080/"
        }
      },
      "outputs": [
        {
          "output_type": "execute_result",
          "data": {
            "text/plain": [
              "1"
            ]
          },
          "metadata": {},
          "execution_count": 68
        }
      ],
      "source": [
        "onlyone = (1)\n",
        "onlyone"
      ]
    },
    {
      "cell_type": "markdown",
      "metadata": {
        "id": "aFD_diStY8wa"
      },
      "source": [
        "何も要素を格納していないタプル（**空タプル**）は `()` で作成できます。"
      ]
    },
    {
      "cell_type": "code",
      "execution_count": 70,
      "metadata": {
        "id": "uOjXuC7uY8wa",
        "outputId": "b2ab8ba2-71ea-4d7d-a3e1-7d9531f2988c",
        "colab": {
          "base_uri": "https://localhost:8080/"
        }
      },
      "outputs": [
        {
          "output_type": "execute_result",
          "data": {
            "text/plain": [
              "()"
            ]
          },
          "metadata": {},
          "execution_count": 70
        }
      ],
      "source": [
        "empty = ()\n",
        "empty"
      ]
    },
    {
      "cell_type": "markdown",
      "metadata": {
        "id": "quhuuVJAY8wa"
      },
      "source": [
        "リストや文字列と同様に、インデックスや組み込み関数を使った操作が可能です。"
      ]
    },
    {
      "cell_type": "code",
      "execution_count": 71,
      "metadata": {
        "id": "jsxiKBnwY8wa",
        "outputId": "0fc71073-ab20-41cf-efff-737e23d6649e",
        "colab": {
          "base_uri": "https://localhost:8080/"
        }
      },
      "outputs": [
        {
          "output_type": "execute_result",
          "data": {
            "text/plain": [
              "2"
            ]
          },
          "metadata": {},
          "execution_count": 71
        }
      ],
      "source": [
        "numbers3 = (1, 2, 3)\n",
        "numbers3[1] # インデックスの指定による値の取得"
      ]
    },
    {
      "cell_type": "code",
      "execution_count": 72,
      "metadata": {
        "id": "QX73N2qWY8wa",
        "outputId": "112f6f69-80ae-4df3-c4b4-4f5a20fa922d",
        "colab": {
          "base_uri": "https://localhost:8080/"
        }
      },
      "outputs": [
        {
          "output_type": "execute_result",
          "data": {
            "text/plain": [
              "3"
            ]
          },
          "metadata": {},
          "execution_count": 72
        }
      ],
      "source": [
        "len(numbers3) # lenはタプルを構成する要素の数"
      ]
    },
    {
      "cell_type": "code",
      "execution_count": 73,
      "metadata": {
        "id": "HVJdE7o2Y8wa",
        "outputId": "4646d67c-2eb9-4fe3-915e-d59c57e7efb3",
        "colab": {
          "base_uri": "https://localhost:8080/"
        }
      },
      "outputs": [
        {
          "output_type": "execute_result",
          "data": {
            "text/plain": [
              "(2, 3)"
            ]
          },
          "metadata": {},
          "execution_count": 73
        }
      ],
      "source": [
        "numbers3[1:3] # スライス"
      ]
    },
    {
      "cell_type": "markdown",
      "metadata": {
        "id": "K-zeiXh0Y8wa"
      },
      "source": [
        "上述しましたが、一度作成したタプルの要素を後から変更することはできません。\n",
        "したがって以下のプログラムはエラーとなります。\n",
        "\n",
        "---\n",
        "```Python\n",
        "numbers3 = (1, 2, 3)\n",
        "numbers3[1] = 5\n",
        "```"
      ]
    },
    {
      "cell_type": "markdown",
      "metadata": {
        "id": "LQoRixlXY8wa"
      },
      "source": [
        "組み込み関数 **`list`** を使って、タプルをリストに変換できます。\n",
        "（`list` はリストのデータ型でもあります。）"
      ]
    },
    {
      "cell_type": "code",
      "execution_count": 74,
      "metadata": {
        "id": "WZLlwcxtY8wa",
        "outputId": "4514e95c-4f0c-421b-cff4-d0e02181a4fd",
        "colab": {
          "base_uri": "https://localhost:8080/"
        }
      },
      "outputs": [
        {
          "output_type": "execute_result",
          "data": {
            "text/plain": [
              "[1, 2, 3]"
            ]
          },
          "metadata": {},
          "execution_count": 74
        }
      ],
      "source": [
        "numbers3 = (1, 2, 3)\n",
        "list(numbers3)"
      ]
    },
    {
      "cell_type": "markdown",
      "metadata": {
        "id": "hVMqQ2KdY8wa"
      },
      "source": [
        "組み込み関数 **`tuple`** を使って、逆にリストをタプルに変換できます。\n",
        "（`tuple` はタプルのデータ型でもあります。）"
      ]
    },
    {
      "cell_type": "code",
      "execution_count": 75,
      "metadata": {
        "id": "h1VGBFbkY8wa",
        "outputId": "90b67505-858e-4e10-df97-1c1831663a5b",
        "colab": {
          "base_uri": "https://localhost:8080/"
        }
      },
      "outputs": [
        {
          "output_type": "execute_result",
          "data": {
            "text/plain": [
              "(1, 2)"
            ]
          },
          "metadata": {},
          "execution_count": 75
        }
      ],
      "source": [
        "numbers2 = [1, 2]\n",
        "tuple(numbers2)"
      ]
    },
    {
      "cell_type": "markdown",
      "metadata": {
        "id": "mlLpjUCXY8wa"
      },
      "source": [
        "## 練習\n",
        "整数の要素からなるリスト `ln` を引数として取り、\n",
        "`ln` に含まれる要素を逆順に格納したタプルを返す関数 `reverse_totuple` を作成してください。\n",
        "\n",
        "以下のセルの `...` のところを書き換えて `reverse_totuple(ln)` を作成してください。"
      ]
    },
    {
      "cell_type": "code",
      "execution_count": null,
      "metadata": {
        "id": "E7N9hTuvY8wa"
      },
      "outputs": [],
      "source": [
        "def reverse_totuple(ln):\n",
        "    ..."
      ]
    },
    {
      "cell_type": "markdown",
      "metadata": {
        "id": "cdD_pDUWY8wb"
      },
      "source": [
        "上のセルで解答を作成した後、以下のセルを実行し、実行結果が `True` になることを確認してください。"
      ]
    },
    {
      "cell_type": "code",
      "execution_count": null,
      "metadata": {
        "tags": [
          "raises-exception"
        ],
        "id": "7i7HpNOUY8wb"
      },
      "outputs": [],
      "source": [
        "print(reverse_totuple([1, 2, 3, 4, 5]) == (5, 4, 3, 2, 1))"
      ]
    },
    {
      "cell_type": "markdown",
      "metadata": {
        "id": "H1VC9q8LY8wb"
      },
      "source": [
        "## 多重代入\n",
        "**多重代入**では、左辺に複数の変数などを指定してタプルやリストの全ての要素を一度の操作で代入することができます。"
      ]
    },
    {
      "cell_type": "code",
      "execution_count": 77,
      "metadata": {
        "id": "yd4vMn4CY8wb",
        "outputId": "69c13644-d258-4037-9ecf-21822ea824e5",
        "colab": {
          "base_uri": "https://localhost:8080/"
        }
      },
      "outputs": [
        {
          "output_type": "execute_result",
          "data": {
            "text/plain": [
              "10"
            ]
          },
          "metadata": {},
          "execution_count": 77
        }
      ],
      "source": [
        "numbers = [0, 10, 20, 30, 40]\n",
        "[a, b, c, d, e] = numbers\n",
        "b"
      ]
    },
    {
      "cell_type": "markdown",
      "metadata": {
        "id": "HgpuSrxuY8wb"
      },
      "source": [
        "以下のようにしても同じ結果を得られます。"
      ]
    },
    {
      "cell_type": "code",
      "execution_count": 78,
      "metadata": {
        "tags": [
          "raises-exception"
        ],
        "id": "RoR5EXy5Y8wb",
        "outputId": "59a3c773-2ec0-4f56-85ee-d12bafbd9eba",
        "colab": {
          "base_uri": "https://localhost:8080/"
        }
      },
      "outputs": [
        {
          "output_type": "execute_result",
          "data": {
            "text/plain": [
              "10"
            ]
          },
          "metadata": {},
          "execution_count": 78
        }
      ],
      "source": [
        "a, b, c, d, e = numbers\n",
        "b"
      ]
    },
    {
      "cell_type": "markdown",
      "metadata": {
        "id": "6_8rg9XnY8wb"
      },
      "source": [
        "多重代入は文字列に対しても実行可能です。"
      ]
    },
    {
      "cell_type": "code",
      "execution_count": 79,
      "metadata": {
        "id": "t5zlVPQSY8wb",
        "outputId": "a828e376-8562-46ab-ca7c-738cddef026e",
        "colab": {
          "base_uri": "https://localhost:8080/",
          "height": 36
        }
      },
      "outputs": [
        {
          "output_type": "execute_result",
          "data": {
            "text/plain": [
              "'l'"
            ],
            "application/vnd.google.colaboratory.intrinsic+json": {
              "type": "string"
            }
          },
          "metadata": {},
          "execution_count": 79
        }
      ],
      "source": [
        "a, b, c, d, e = 'hello'\n",
        "d"
      ]
    },
    {
      "cell_type": "markdown",
      "metadata": {
        "id": "sai3Uo23Y8wb"
      },
      "source": [
        "タプルに対しても実行可能です。"
      ]
    },
    {
      "cell_type": "code",
      "execution_count": 80,
      "metadata": {
        "id": "WSnLNw4jY8wb",
        "outputId": "703d5542-2cba-4ce8-e9c1-7d427242ca80",
        "colab": {
          "base_uri": "https://localhost:8080/"
        }
      },
      "outputs": [
        {
          "output_type": "execute_result",
          "data": {
            "text/plain": [
              "2"
            ]
          },
          "metadata": {},
          "execution_count": 80
        }
      ],
      "source": [
        "numbers3 = (1, 2, 3)\n",
        "(x,y,z) = numbers3\n",
        "y"
      ]
    },
    {
      "cell_type": "markdown",
      "metadata": {
        "id": "VieRHKurY8wb"
      },
      "source": [
        "以下のように様々な書き方が可能です。"
      ]
    },
    {
      "cell_type": "code",
      "execution_count": 81,
      "metadata": {
        "id": "tFNKv68OY8wb",
        "outputId": "b9dfdc7f-37d0-4c2b-d3ff-57953f103af1",
        "colab": {
          "base_uri": "https://localhost:8080/"
        }
      },
      "outputs": [
        {
          "output_type": "stream",
          "name": "stdout",
          "text": [
            "2\n",
            "2\n",
            "2\n",
            "2\n",
            "2\n"
          ]
        }
      ],
      "source": [
        "x,y,z = numbers3\n",
        "print(y)\n",
        "(x,y,z) = (1, 2, 3)\n",
        "print(y)\n",
        "x,y,z = (1, 2, 3)\n",
        "print(y)\n",
        "(x,y,z) = 1, 2, 3\n",
        "print(y)\n",
        "x,y,z = 1, 2, 3\n",
        "print(y)"
      ]
    },
    {
      "cell_type": "markdown",
      "metadata": {
        "id": "OHWBUxeRY8wb"
      },
      "source": [
        "多重代入を使うことで、2つの変数に格納された値の入れ替えを行う手続きはしばしば用いられます。"
      ]
    },
    {
      "cell_type": "code",
      "execution_count": 82,
      "metadata": {
        "id": "U51H1t-ZY8wb",
        "outputId": "e884ca3c-2308-4fa3-98f5-1e69ad4e66ea",
        "colab": {
          "base_uri": "https://localhost:8080/"
        }
      },
      "outputs": [
        {
          "output_type": "stream",
          "name": "stdout",
          "text": [
            "pen apple\n"
          ]
        }
      ],
      "source": [
        "x = 'apple'\n",
        "y = 'pen'\n",
        "x, y = y, x\n",
        "print(x, y) #w = x; x = y; y = w と同じ結果が得られる"
      ]
    },
    {
      "cell_type": "markdown",
      "metadata": {
        "id": "Nr6xneySY8wb"
      },
      "source": [
        "## リストやタプルの比較演算\n",
        "数値などを比較するのに用いた比較演算子を用いて、2つのリストやタプルを比較することもできます。"
      ]
    },
    {
      "cell_type": "code",
      "execution_count": 83,
      "metadata": {
        "id": "wsCbma7oY8wb",
        "outputId": "4d440aa8-ab1f-468f-e61a-ae89fa708caf",
        "colab": {
          "base_uri": "https://localhost:8080/"
        }
      },
      "outputs": [
        {
          "output_type": "stream",
          "name": "stdout",
          "text": [
            "True\n",
            "False\n"
          ]
        }
      ],
      "source": [
        "print([1, 2, 3] == [1, 2, 3])\n",
        "print([1, 2] == [1, 2, 3])"
      ]
    },
    {
      "cell_type": "code",
      "execution_count": 84,
      "metadata": {
        "id": "4j5RwNxPY8wb",
        "outputId": "6b451ad8-4762-49bc-f8d7-3d5ee71d0d84",
        "colab": {
          "base_uri": "https://localhost:8080/"
        }
      },
      "outputs": [
        {
          "output_type": "stream",
          "name": "stdout",
          "text": [
            "True\n",
            "False\n"
          ]
        }
      ],
      "source": [
        "print((1, 2, 3) == (1, 2, 3))\n",
        "print((1, 2) == (1, 2, 3))"
      ]
    },
    {
      "cell_type": "code",
      "execution_count": 85,
      "metadata": {
        "id": "GmaLlradY8wb",
        "outputId": "9d465226-492d-448a-b06d-53b7915b78ec",
        "colab": {
          "base_uri": "https://localhost:8080/"
        }
      },
      "outputs": [
        {
          "output_type": "stream",
          "name": "stdout",
          "text": [
            "False\n",
            "True\n"
          ]
        }
      ],
      "source": [
        "print([1, 2, 3] != [1, 2, 3])\n",
        "print([1, 2] != [1, 2, 3])"
      ]
    },
    {
      "cell_type": "code",
      "execution_count": 86,
      "metadata": {
        "id": "ye4nkojXY8wb",
        "outputId": "3421a9ad-837c-4059-913e-4b858cf289c9",
        "colab": {
          "base_uri": "https://localhost:8080/"
        }
      },
      "outputs": [
        {
          "output_type": "stream",
          "name": "stdout",
          "text": [
            "False\n",
            "True\n"
          ]
        }
      ],
      "source": [
        "print((1, 2, 3) != (1, 2, 3))\n",
        "print((1, 2) != (1, 2, 3))"
      ]
    },
    {
      "cell_type": "markdown",
      "metadata": {
        "id": "8L9HZ53zY8wb"
      },
      "source": [
        "大小の比較は、いわゆる辞書式による比較で、リストやタプルの最初の要素から順に比較して大小を決めます。\n",
        "片方がもう片方を拡張したものであれば、拡張した方を大きいとします。"
      ]
    },
    {
      "cell_type": "code",
      "execution_count": 87,
      "metadata": {
        "id": "zy-evqNuY8wb",
        "outputId": "f6bb63a1-a6a1-4395-c935-fc5724a58252",
        "colab": {
          "base_uri": "https://localhost:8080/"
        }
      },
      "outputs": [
        {
          "output_type": "stream",
          "name": "stdout",
          "text": [
            "True\n",
            "False\n",
            "True\n",
            "True\n"
          ]
        }
      ],
      "source": [
        "print([1, 2, 3] <= [1, 2, 3])\n",
        "print([1, 2, 3] < [1, 2, 3])\n",
        "print([1, 2, 3] < [1, 2, 4])\n",
        "print([1, 2] < [1, 2, 3])"
      ]
    },
    {
      "cell_type": "code",
      "execution_count": 88,
      "metadata": {
        "id": "xT_wT2VGY8wc",
        "outputId": "c15d4914-aaa9-42cd-f95f-1feb3316aac8",
        "colab": {
          "base_uri": "https://localhost:8080/"
        }
      },
      "outputs": [
        {
          "output_type": "stream",
          "name": "stdout",
          "text": [
            "True\n",
            "False\n",
            "True\n",
            "True\n"
          ]
        }
      ],
      "source": [
        "print((1, 2, 3) <= (1, 2, 3))\n",
        "print((1, 2, 3) < (1, 2, 3))\n",
        "print((1, 2, 3) < (1, 2, 4))\n",
        "print((1, 2) < (1, 2, 3))"
      ]
    },
    {
      "cell_type": "markdown",
      "metadata": {
        "id": "wtTwUFlmY8wc"
      },
      "source": [
        "## for文による繰り返しとリスト・タプル\n",
        "\n",
        "きまった操作の繰り返しはコンピュータが最も得意とする処理のひとつです。\n",
        "リストのそれぞれの要素にわたって操作を繰り返したい場合は**for文**を用います。\n",
        "\n",
        "リスト `ls` の要素全てに対して、`実行文` を繰り返すには次のように書きます。\n",
        "\n",
        "---\n",
        "```Python\n",
        "for value in ls:\n",
        "    実行文\n",
        "```\n",
        "---\n",
        "\n",
        "`for` で始まる行の `in` の後に処理対象となるリスト `ls` が、`in` の前に変数 `value` が書かれます。\n",
        "\n",
        "`ls` の最初の要素、すなわち `ls[0]` が `value` に代入され `実行文` が処理されます。\n",
        "`実行文` の処理が終われば、`ls` の次の要素が `value` に代入され、処理が繰り返されます。\n",
        "このようにして、`ls` の要素に対する処理が `len(ls)` 回繰り返されると、for文の処理が終了します。\n",
        "\n",
        "ここでの `in` の働きは、先に説明したリスト要素の有無を検査する `in` とは異なることに、\n",
        "そして、if文と同様、 `実行文` の前にはスペースが必要であることに注意してください。\n",
        "\n",
        "次に具体例を示します。\n",
        "3つの要素を持つリスト `ls` から1つずつ要素を取り出し、変数 `value` に代入しています。\n",
        "`実行文` では `value` を用いて取り出した要素を参照しています。"
      ]
    },
    {
      "cell_type": "code",
      "execution_count": 89,
      "metadata": {
        "id": "nRS0D5FOY8wc",
        "outputId": "ab8c7b89-fa31-4579-d9c8-c909a8c10e8a",
        "colab": {
          "base_uri": "https://localhost:8080/"
        }
      },
      "outputs": [
        {
          "output_type": "stream",
          "name": "stdout",
          "text": [
            "For loop: 0\n",
            "For loop: 1\n",
            "For loop: 2\n"
          ]
        }
      ],
      "source": [
        "ls = [0,1,2]\n",
        "\n",
        "for value in ls:\n",
        "    print('For loop:', value)"
      ]
    },
    {
      "cell_type": "markdown",
      "metadata": {
        "id": "Srv9vfJJY8wc"
      },
      "source": [
        "`in` の後に直接リストを記述することもできます。"
      ]
    },
    {
      "cell_type": "code",
      "execution_count": 90,
      "metadata": {
        "id": "JmkayQ1gY8wc",
        "outputId": "151d224b-dbf6-4080-fe45-c023b14c8df1",
        "colab": {
          "base_uri": "https://localhost:8080/"
        }
      },
      "outputs": [
        {
          "output_type": "stream",
          "name": "stdout",
          "text": [
            "For loop: 0\n",
            "For loop: 1\n",
            "For loop: 2\n"
          ]
        }
      ],
      "source": [
        "for value in [0,1,2]:\n",
        "    print('For loop:', value)"
      ]
    },
    {
      "cell_type": "markdown",
      "metadata": {
        "id": "Kh3jN4ftY8wc"
      },
      "source": [
        "`実行文` の前にスペースがないとエラーが出ます。"
      ]
    },
    {
      "cell_type": "code",
      "execution_count": 92,
      "metadata": {
        "tags": [
          "raises-exception"
        ],
        "id": "7TtNKUBOY8wc",
        "outputId": "4c4c140b-d4c3-45bc-a16c-ea7f119121ab",
        "colab": {
          "base_uri": "https://localhost:8080/"
        }
      },
      "outputs": [
        {
          "output_type": "stream",
          "name": "stdout",
          "text": [
            "For loop: 0\n",
            "For loop: 1\n",
            "For loop: 2\n"
          ]
        }
      ],
      "source": [
        "for value in  [0,1,2]:\n",
        "    print('For loop:', value)"
      ]
    },
    {
      "cell_type": "markdown",
      "metadata": {
        "id": "_5PxhTcYY8wc"
      },
      "source": [
        "エラーが出れば意図した通りにプログラムが組めていないのにすぐ気が付きますが、\n",
        "エラーが出ないために意図したプログラムが組めていないことに気が付かないことがあります。\n",
        "たとえば、次のような内容を実行しようとしていたとします。"
      ]
    },
    {
      "cell_type": "code",
      "execution_count": 93,
      "metadata": {
        "id": "0vp7UbMaY8wc",
        "outputId": "aec30b7e-bc3e-4503-dc8a-f5aab4ec440a",
        "colab": {
          "base_uri": "https://localhost:8080/"
        }
      },
      "outputs": [
        {
          "output_type": "stream",
          "name": "stdout",
          "text": [
            "During for loop: 0\n",
            "During for loop, too: 0\n",
            "During for loop: 1\n",
            "During for loop, too: 1\n",
            "During for loop: 2\n",
            "During for loop, too: 2\n"
          ]
        }
      ],
      "source": [
        "for value in  [0,1,2]:\n",
        "    print('During for loop:', value)\n",
        "    print('During for loop, too:', value)"
      ]
    },
    {
      "cell_type": "markdown",
      "metadata": {
        "id": "Jvk6_1ntY8wc"
      },
      "source": [
        "後者の `print` の行のスペースの数が間違ってると、次のような結果になる場合がありますので注意してください。"
      ]
    },
    {
      "cell_type": "code",
      "execution_count": 94,
      "metadata": {
        "id": "LqqgtNOfY8wc",
        "outputId": "5629afc8-5ed8-4145-cb90-4a83f8f2ee21",
        "colab": {
          "base_uri": "https://localhost:8080/"
        }
      },
      "outputs": [
        {
          "output_type": "stream",
          "name": "stdout",
          "text": [
            "During for loop: 0\n",
            "During for loop: 1\n",
            "During for loop: 2\n",
            "During for loop, too: 2\n"
          ]
        }
      ],
      "source": [
        "for value in [0,1,2]:\n",
        "    print('During for loop:', value)\n",
        "print('During for loop, too:', value) #この行のスペースの数が間違っていたがエラーは出ない"
      ]
    },
    {
      "cell_type": "markdown",
      "metadata": {
        "id": "65SLPExhY8wc"
      },
      "source": [
        "タプルの要素にまたがる処理もリストと同様に行えます。"
      ]
    },
    {
      "cell_type": "code",
      "execution_count": 95,
      "metadata": {
        "id": "cn3t3PaxY8wc",
        "outputId": "ec7d72e7-4b58-4cf7-8f7a-bf49cbcb6924",
        "colab": {
          "base_uri": "https://localhost:8080/"
        }
      },
      "outputs": [
        {
          "output_type": "stream",
          "name": "stdout",
          "text": [
            "For loop: 0\n",
            "For loop: 1\n",
            "For loop: 2\n"
          ]
        }
      ],
      "source": [
        "for value in (0,1,2):\n",
        "    print('For loop:', value)"
      ]
    },
    {
      "cell_type": "markdown",
      "metadata": {
        "id": "piYK_XD7Y8wc"
      },
      "source": [
        "以下はリストに対するfor文の典型例です。`numbers` は数のリストとします。"
      ]
    },
    {
      "cell_type": "code",
      "execution_count": 96,
      "metadata": {
        "id": "zUwqjCtwY8wc"
      },
      "outputs": [],
      "source": [
        "numbers = [0,1,2,3,4,5]"
      ]
    },
    {
      "cell_type": "markdown",
      "metadata": {
        "id": "jxJxCmdxY8wc"
      },
      "source": [
        "以下のようにして、このリストの要素の自乗から成るリストを求めることができます。"
      ]
    },
    {
      "cell_type": "code",
      "execution_count": 97,
      "metadata": {
        "id": "dcY_4_JPY8wc",
        "outputId": "273fc84c-7c23-4207-82c6-e872f39fca6e",
        "colab": {
          "base_uri": "https://localhost:8080/"
        }
      },
      "outputs": [
        {
          "output_type": "execute_result",
          "data": {
            "text/plain": [
              "[0, 1, 4, 9, 16, 25]"
            ]
          },
          "metadata": {},
          "execution_count": 97
        }
      ],
      "source": [
        "squares1 = []\n",
        "for x in numbers:\n",
        "    squares1.append(x**2)\n",
        "squares1"
      ]
    },
    {
      "cell_type": "markdown",
      "metadata": {
        "id": "PWYo-5PsY8wc"
      },
      "source": [
        "`squares1` には最初に空リストが代入されます。\n",
        "そして、`numbers` の各要素の自乗がこのリストに次々と追加されます。"
      ]
    },
    {
      "cell_type": "markdown",
      "metadata": {
        "id": "T1NwtsCqY8wc"
      },
      "source": [
        "## 練習\n",
        "整数の要素からなるリスト `ln` を引数として取り、`ln` の要素の総和を返す関数 `sum_list` を作成してください。\n",
        "\n",
        "以下のセルの `...` のところを書き換えて `sum_list(ln)` を作成してください。"
      ]
    },
    {
      "cell_type": "code",
      "execution_count": null,
      "metadata": {
        "id": "J3tOHcW_Y8wd"
      },
      "outputs": [],
      "source": [
        "def sum_list(ln):\n",
        "    ..."
      ]
    },
    {
      "cell_type": "markdown",
      "metadata": {
        "id": "MtLHeM1eY8wd"
      },
      "source": [
        "上のセルで解答を作成した後、以下のセルを実行し、実行結果が全て True になることを確認してください。"
      ]
    },
    {
      "cell_type": "code",
      "execution_count": null,
      "metadata": {
        "id": "OrVRvVcaY8wd"
      },
      "outputs": [],
      "source": [
        "print(sum_list([10, 20, 30]) == 60)\n",
        "print(sum_list([-1, 2, -3, 4, -5]) == -3)"
      ]
    },
    {
      "cell_type": "markdown",
      "metadata": {
        "id": "OK3jCbr3Y8wd"
      },
      "source": [
        "##  for文による繰り返しと文字列\n",
        "\n",
        "for文を使うと文字列全体にまたがる処理も可能です。\n",
        "文字列 `str1` をまたがって一文字ずつの繰り返し処理を行う場合は次のように書きます。\n",
        "ここで、`c` には取り出された一文字（の文字列）が代入されています。\n",
        "\n",
        "---\n",
        "```Python\n",
        "for c in str1:\n",
        "    実行文\n",
        "```\n",
        "---\n",
        "\n",
        "`str1` で与えられる文字列を一文字ずつ大文字で出力する処理は以下のようになります。"
      ]
    },
    {
      "cell_type": "code",
      "execution_count": null,
      "metadata": {
        "id": "1Zzwec3QY8wd"
      },
      "outputs": [],
      "source": [
        "str1 = 'Apple and pen'\n",
        "for c in str1:\n",
        "    print(c.upper())"
      ]
    },
    {
      "cell_type": "markdown",
      "metadata": {
        "id": "_JYFP-YOY8wd"
      },
      "source": [
        "## 練習\n",
        "\n",
        "ATGCの4種類の文字から成る文字列 `str_atgc` が引数として与えられたとき、次のようなリスト `list_count` を返す関数 `atgc_countlist` を作成してください。ただし、 `list_count` の要素は、各塩基 `bp` に対して `str_atgc` 中の `bp` の出現回数と `bp` の名前を格納した（長さ2の）リストとします。\n",
        "\n",
        "ヒント：文字列 `'ATGC'` に対する繰り返しを用いることができます。\n",
        "\n",
        "以下のセルの `...` のところを書き換えて `atgc_countlist(str_atgc)` を作成してください。"
      ]
    },
    {
      "cell_type": "code",
      "execution_count": null,
      "metadata": {
        "id": "v4vT4VhhY8wd"
      },
      "outputs": [],
      "source": [
        "def atgc_countlist(str_atgc):\n",
        "    ..."
      ]
    },
    {
      "cell_type": "markdown",
      "metadata": {
        "id": "ORps3gJwY8wd"
      },
      "source": [
        "上のセルで解答を作成した後、以下のセルを実行し、実行結果が `True` になることを確認してください。"
      ]
    },
    {
      "cell_type": "code",
      "execution_count": null,
      "metadata": {
        "tags": [
          "raises-exception"
        ],
        "id": "X1Vd1qqDY8wd"
      },
      "outputs": [],
      "source": [
        "print(sorted(atgc_countlist('AAGCCCCATGGTAA')) == sorted([[5, 'A'], [2, 'T'], [3, 'G'], [4, 'C']]))"
      ]
    },
    {
      "cell_type": "markdown",
      "metadata": {
        "id": "iiNnQ8qhY8wd"
      },
      "source": [
        "## for文によるリスト初期化の短縮記法\n",
        "\n",
        "先に、リストの要素の自乗から成るリストを求める例を説明しました。"
      ]
    },
    {
      "cell_type": "code",
      "execution_count": null,
      "metadata": {
        "id": "qv8I59KXY8wd"
      },
      "outputs": [],
      "source": [
        "numbers = [0,1,2,3,4,5]\n",
        "\n",
        "squares1 = []\n",
        "for x in numbers:\n",
        "    squares1.append(x**2)\n",
        "squares1"
      ]
    },
    {
      "cell_type": "markdown",
      "metadata": {
        "id": "lJx1BbvYY8wd"
      },
      "source": [
        "詳しくは6-1で説明されますが、**内包表記**を用いて書き換えると、以下のように1行で書くことができます。"
      ]
    },
    {
      "cell_type": "code",
      "execution_count": 98,
      "metadata": {
        "id": "l25UtNKVY8wd",
        "outputId": "5d47b200-247c-4248-e23a-ddd364fa39ad",
        "colab": {
          "base_uri": "https://localhost:8080/"
        }
      },
      "outputs": [
        {
          "output_type": "execute_result",
          "data": {
            "text/plain": [
              "[0, 1, 4, 9, 16, 25]"
            ]
          },
          "metadata": {},
          "execution_count": 98
        }
      ],
      "source": [
        "squares2 = [x**2 for x in numbers]\n",
        "squares2"
      ]
    },
    {
      "cell_type": "markdown",
      "metadata": {
        "id": "IMVJI9OEY8wd"
      },
      "source": [
        "すなわち、\n",
        "```Python\n",
        "[x を含む式 for x in リストを返す式]\n",
        "```\n",
        "という式は、\"リストを返す式\" が返したリストの各要素を `x` に代入して \"`x` を含む式\" を計算し、\n",
        "その結果をリストにして返します。\n",
        "もちろん、変数は `x` でなくてもよいです。"
      ]
    },
    {
      "cell_type": "code",
      "execution_count": null,
      "metadata": {
        "id": "ev1zM8JNY8wd"
      },
      "outputs": [],
      "source": [
        "[y**2 for y in numbers]"
      ]
    },
    {
      "cell_type": "markdown",
      "metadata": {
        "id": "V1ZejOAjY8we"
      },
      "source": [
        "## ▲オブジェクトの等価性と同一性\n",
        "\n",
        "1-3で、Pythonにおける値はオブジェクトと総称されますと述べました。\n",
        "ここでは、オブジェクトの等価性と同一性について説明します。\n",
        "\n",
        "既に見てきたように、演算子 `==` を用いて**オブジェクトの等価性**を判定できます。"
      ]
    },
    {
      "cell_type": "code",
      "execution_count": null,
      "metadata": {
        "id": "GC6c9HRPY8we"
      },
      "outputs": [],
      "source": [
        "a = []\n",
        "b = []"
      ]
    },
    {
      "cell_type": "markdown",
      "metadata": {
        "id": "ME4pT8wuY8we"
      },
      "source": [
        "このとき、`a` と `b` の値はどちらも空リストなので、以下のように `a` の値と `b` の値は等価です。"
      ]
    },
    {
      "cell_type": "code",
      "execution_count": null,
      "metadata": {
        "id": "gjJig0eTY8we"
      },
      "outputs": [],
      "source": [
        "a == b"
      ]
    },
    {
      "cell_type": "markdown",
      "metadata": {
        "id": "c29pwVJLY8we"
      },
      "source": [
        "しかし、`[`  で始まり `]` で終わる式を評価すると、\n",
        "必ず新しいリスト（オブジェクト）が作られて返されるので、\n",
        "`a` と `b` の値は同一ではありません。\n",
        "\n",
        "**オブジェクトの同一性**は演算子 **`is`** を用いて判定できます。"
      ]
    },
    {
      "cell_type": "code",
      "execution_count": null,
      "metadata": {
        "id": "ieycwg6EY8we"
      },
      "outputs": [],
      "source": [
        "a is b"
      ]
    },
    {
      "cell_type": "markdown",
      "metadata": {
        "id": "cSVkAO6FY8we"
      },
      "source": [
        "リストの要素はオブジェクトなので、要素ごとに等価性と同一性が定まります。\n",
        "\n",
        "例として、`a` と `b` を要素とするリスト `c` を作ります。"
      ]
    },
    {
      "cell_type": "code",
      "execution_count": null,
      "metadata": {
        "id": "CBDz8qEgY8we"
      },
      "outputs": [],
      "source": [
        "c = [a, b]\n",
        "c"
      ]
    },
    {
      "cell_type": "code",
      "execution_count": null,
      "metadata": {
        "id": "kJ1QfAUIY8we"
      },
      "outputs": [],
      "source": [
        "c[0] is c[1]"
      ]
    },
    {
      "cell_type": "markdown",
      "metadata": {
        "id": "JYiXpcUwY8we"
      },
      "source": [
        "`a` を変化させてみましょう。"
      ]
    },
    {
      "cell_type": "code",
      "execution_count": null,
      "metadata": {
        "id": "NR3IFFIqY8we"
      },
      "outputs": [],
      "source": [
        "a.append(1)\n",
        "a"
      ]
    },
    {
      "cell_type": "markdown",
      "metadata": {
        "id": "Bl8KTqKFY8we"
      },
      "source": [
        "すると `c` は以下のようになります。"
      ]
    },
    {
      "cell_type": "code",
      "execution_count": null,
      "metadata": {
        "id": "8gorZwacY8we"
      },
      "outputs": [],
      "source": [
        "c"
      ]
    },
    {
      "cell_type": "markdown",
      "metadata": {
        "id": "lt-IAY5eY8we"
      },
      "source": [
        "ここで、`a` と `b` は等価でなくなりました。"
      ]
    },
    {
      "cell_type": "code",
      "execution_count": null,
      "metadata": {
        "id": "6ulyZZhzY8we"
      },
      "outputs": [],
      "source": [
        "a == b"
      ]
    },
    {
      "cell_type": "markdown",
      "metadata": {
        "id": "JFqDUxnpY8we"
      },
      "source": [
        "次に、`b` を要素として二重に含むリスト `d` を作ります。"
      ]
    },
    {
      "cell_type": "code",
      "execution_count": null,
      "metadata": {
        "id": "iU18kvXzY8we"
      },
      "outputs": [],
      "source": [
        "d = [b, b]\n",
        "d"
      ]
    },
    {
      "cell_type": "code",
      "execution_count": null,
      "metadata": {
        "id": "Kg8KNMlSY8we"
      },
      "outputs": [],
      "source": [
        "d[0] is d[1]"
      ]
    },
    {
      "cell_type": "markdown",
      "metadata": {
        "id": "H7bHIIgNY8we"
      },
      "source": [
        "`b` を変化させてみましょう。"
      ]
    },
    {
      "cell_type": "code",
      "execution_count": null,
      "metadata": {
        "id": "LjcOobqNY8we"
      },
      "outputs": [],
      "source": [
        "b.append(1)\n",
        "b"
      ]
    },
    {
      "cell_type": "markdown",
      "metadata": {
        "id": "pfhL9We6Y8wf"
      },
      "source": [
        "すると `d` は以下のようになります。"
      ]
    },
    {
      "cell_type": "code",
      "execution_count": null,
      "metadata": {
        "id": "xM_8GymxY8wf"
      },
      "outputs": [],
      "source": [
        "d"
      ]
    },
    {
      "cell_type": "markdown",
      "metadata": {
        "id": "JKmfEUAiY8wf"
      },
      "source": [
        "演算子 `==` でリストを比較すると、要素まで見て等価性を判定します。"
      ]
    },
    {
      "cell_type": "code",
      "execution_count": null,
      "metadata": {
        "id": "dI0Yl0UhY8wf"
      },
      "outputs": [],
      "source": [
        "print(a, b)\n",
        "a == b"
      ]
    },
    {
      "cell_type": "markdown",
      "metadata": {
        "id": "Z2bqRnOIY8wf"
      },
      "source": [
        "演算子 `==` は、要素の比較も `==` で行います。"
      ]
    },
    {
      "cell_type": "code",
      "execution_count": null,
      "metadata": {
        "id": "8YwCYoFgY8wf"
      },
      "outputs": [],
      "source": [
        "print(c, d)\n",
        "c == d"
      ]
    },
    {
      "cell_type": "markdown",
      "metadata": {
        "id": "n1vyZMkPY8wf"
      },
      "source": [
        "一方、オブジェクトの同一性は変化しません。"
      ]
    },
    {
      "cell_type": "code",
      "execution_count": null,
      "metadata": {
        "id": "CeLCCS_LY8wf"
      },
      "outputs": [],
      "source": [
        "a is b"
      ]
    },
    {
      "cell_type": "markdown",
      "metadata": {
        "id": "L5veDVDyY8wf"
      },
      "source": [
        "`==` の否定形は `!=` で、`is` の否定形は **`is not`** です。\n",
        "`not x == y` は `x != y` と書けます。`not x is y` は `x is not y` と書けます。\n",
        "`is not` はこれで1つの演算子なので注意してください。"
      ]
    },
    {
      "cell_type": "code",
      "execution_count": null,
      "metadata": {
        "id": "t69QUt_LY8wf"
      },
      "outputs": [],
      "source": [
        "c != d"
      ]
    },
    {
      "cell_type": "code",
      "execution_count": null,
      "metadata": {
        "id": "FC362haNY8wf"
      },
      "outputs": [],
      "source": [
        "a is not b"
      ]
    },
    {
      "cell_type": "markdown",
      "metadata": {
        "id": "8QmGB-ExY8wf"
      },
      "source": [
        "## 練習の解答"
      ]
    },
    {
      "cell_type": "code",
      "execution_count": null,
      "metadata": {
        "id": "VHDV_RD8Y8wf"
      },
      "outputs": [],
      "source": [
        "def remove_evenindex(ln):\n",
        "    ln2 = ln[1::2]\n",
        "    return ln2\n",
        "#remove_evenindex(['a', 'b', 'c', 'd', 'e', 'f', 'g'])"
      ]
    },
    {
      "cell_type": "code",
      "execution_count": null,
      "metadata": {
        "id": "7n1PUBycY8wf"
      },
      "outputs": [],
      "source": [
        "def change_domain(email, domain):\n",
        "    return '@'.join([email.split('@')[0], domain])"
      ]
    },
    {
      "cell_type": "code",
      "execution_count": null,
      "metadata": {
        "id": "dN7v6IZEY8wf"
      },
      "outputs": [],
      "source": [
        "def reverse_totuple(ln):\n",
        "    ln.reverse()\n",
        "    tup = tuple(ln)\n",
        "    return tup\n",
        "#reverse_totuple([1, 2, 3, 4, 5])"
      ]
    },
    {
      "cell_type": "code",
      "execution_count": null,
      "metadata": {
        "id": "6pkOLugtY8wf"
      },
      "outputs": [],
      "source": [
        "def sum_list(ln):\n",
        "    int_sum = 0\n",
        "    for value in ln:\n",
        "        int_sum += value\n",
        "    return int_sum\n",
        "#sum_list([10, 20, 30])"
      ]
    },
    {
      "cell_type": "code",
      "execution_count": null,
      "metadata": {
        "id": "QFbEqcc9Y8wf"
      },
      "outputs": [],
      "source": [
        "def atgc_countlist(str_atgc):\n",
        "    list_count = []\n",
        "    for value in 'ATGC':\n",
        "        int_bpcnt = str_atgc.count(value)\n",
        "        list_count.append([int_bpcnt, value])\n",
        "    return list_count\n",
        "#atgc_countlist('AAGCCCCATGGTAA')"
      ]
    },
    {
      "cell_type": "code",
      "execution_count": null,
      "metadata": {
        "id": "c6xjlzJeY8wf"
      },
      "outputs": [],
      "source": []
    }
  ],
  "metadata": {
    "kernelspec": {
      "display_name": "Python 3",
      "language": "python",
      "name": "python3"
    },
    "language_info": {
      "name": "python"
    },
    "colab": {
      "provenance": []
    }
  },
  "nbformat": 4,
  "nbformat_minor": 0
}