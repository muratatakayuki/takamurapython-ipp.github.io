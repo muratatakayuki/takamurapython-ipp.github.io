{
  "cells": [
    {
      "cell_type": "markdown",
      "metadata": {
        "id": "p3D-mNymee7o"
      },
      "source": [
        "# 2-2. リスト (list)\n",
        "\n",
        "複数のデータを要素としてまとめて取り扱うデータとして、リストとタプルについて説明します。\n",
        "\n",
        "参考\n",
        "\n",
        "- https://docs.python.org/ja/3/tutorial/introduction.html#lists\n",
        "- https://docs.python.org/ja/3/tutorial/datastructures.html#tuples-and-sequences\n",
        "\n",
        "文字列を構成する要素は文字のみでしたが、**リスト**では構成する要素としてあらゆる型のデータを指定できます。\n",
        "他のプログラミング言語では、リストに相当するものとして**配列**（もしくはアレイ）やベクターなどがあります。\n",
        "\n",
        "リストを作成するには、リストを構成する要素をコンマで区切り全体をかぎ括弧 `[...]` で囲みます。  \n",
        "\n",
        "以下のセルでは数値を要素とするリストを作成して、変数に代入しています。\n",
        "さらに、文字列と同様に組み込み関数 `type` を用いて、変数の値がリストであることを確認しています。"
      ]
    },
    {
      "cell_type": "code",
      "execution_count": 1,
      "metadata": {
        "colab": {
          "base_uri": "https://localhost:8080/"
        },
        "id": "N4bbDmhXee7p",
        "outputId": "a2c86064-8389-4bb4-9074-4058cc902cbd"
      },
      "outputs": [
        {
          "output_type": "execute_result",
          "data": {
            "text/plain": [
              "[0, 10, 20, 30, 40, 50]"
            ]
          },
          "metadata": {},
          "execution_count": 1
        }
      ],
      "source": [
        "numbers = [0, 10, 20, 30, 40, 50]\n",
        "numbers"
      ]
    },
    {
      "cell_type": "code",
      "execution_count": 2,
      "metadata": {
        "colab": {
          "base_uri": "https://localhost:8080/"
        },
        "id": "bWT8kOvWee7q",
        "outputId": "3033c616-fd23-4094-b19f-092aacd57002"
      },
      "outputs": [
        {
          "output_type": "execute_result",
          "data": {
            "text/plain": [
              "list"
            ]
          },
          "metadata": {},
          "execution_count": 2
        }
      ],
      "source": [
        "type(numbers)"
      ]
    },
    {
      "cell_type": "markdown",
      "metadata": {
        "id": "weYmncb6ee7r"
      },
      "source": [
        "リストのデータ型は **`list`** です。\n",
        "（なお、後で見るように、`list` は他のデータをリストに変換する関数としても用いられます。）\n",
        "\n",
        "次に文字列を構成要素とするリストを作成してみます。"
      ]
    },
    {
      "cell_type": "code",
      "execution_count": 3,
      "metadata": {
        "colab": {
          "base_uri": "https://localhost:8080/"
        },
        "id": "XZUe8R9vee7r",
        "outputId": "98860a08-19db-4f49-d70d-bc9c7341cbb1"
      },
      "outputs": [
        {
          "output_type": "execute_result",
          "data": {
            "text/plain": [
              "['apple', 'banana', 'chelly']"
            ]
          },
          "metadata": {},
          "execution_count": 3
        }
      ],
      "source": [
        "fruits = ['apple', 'banana', 'chelly']\n",
        "fruits"
      ]
    },
    {
      "cell_type": "markdown",
      "metadata": {
        "id": "wSRmAnK3ee7s"
      },
      "source": [
        "リストの要素としてあらゆる型のデータを指定でき、それらは混在してもかまいません。\n",
        "以下のセルでは、数値と文字列が混在しています。"
      ]
    },
    {
      "cell_type": "code",
      "execution_count": 4,
      "metadata": {
        "colab": {
          "base_uri": "https://localhost:8080/"
        },
        "id": "lm-elhqcee7s",
        "outputId": "a8007160-b2e6-4b2c-9b05-9024d4d3a086"
      },
      "outputs": [
        {
          "output_type": "execute_result",
          "data": {
            "text/plain": [
              "[10, 'apple', 20, 'banana', 30]"
            ]
          },
          "metadata": {},
          "execution_count": 4
        }
      ],
      "source": [
        "numbers_fruits = [10, 'apple', 20, 'banana', 30]\n",
        "numbers_fruits"
      ]
    },
    {
      "cell_type": "markdown",
      "metadata": {
        "id": "LFwEMNAjee7s"
      },
      "source": [
        "次のように、何も要素を格納していないリスト（**空リスト**）を作成できます。\n",
        "空リストはプログラム実行の途中結果を記録する場合などによく使われています。\n",
        "具体的な例については、後述する `append` メソッドの項を参照してください。"
      ]
    },
    {
      "cell_type": "code",
      "execution_count": 5,
      "metadata": {
        "colab": {
          "base_uri": "https://localhost:8080/"
        },
        "id": "nVbSehoAee7t",
        "outputId": "9246fa18-3dea-454d-c352-b639d4669bb0"
      },
      "outputs": [
        {
          "output_type": "execute_result",
          "data": {
            "text/plain": [
              "[]"
            ]
          },
          "metadata": {},
          "execution_count": 5
        }
      ],
      "source": [
        "empty=[]\n",
        "empty"
      ]
    },
    {
      "cell_type": "markdown",
      "metadata": {
        "id": "m7B8pK7Tee7t"
      },
      "source": [
        "なお、`[]` を用いて空リストを作成するたびに、\n",
        "常に新しいオブジェクト（それまでに作られたオブジェクトとは同一でないオブジェクト）が生成されます。\n",
        "詳しくは「▲オブジェクトの等価性と同一性」を参照してください。"
      ]
    },
    {
      "cell_type": "markdown",
      "metadata": {
        "id": "iuMFSo7Xee7t"
      },
      "source": [
        "## リストとインデックス\n",
        "文字列の場合と同様に、インデックスを指定してリストの要素を取り出せます。\n",
        "リストの `x` 番目の要素を取得するには次のような記法を用います。\n",
        "インデックスは 0 から始まることに注意してください。\n",
        "\n",
        "```Python\n",
        "リスト[x-1]\n",
        "```"
      ]
    },
    {
      "cell_type": "code",
      "execution_count": 6,
      "metadata": {
        "colab": {
          "base_uri": "https://localhost:8080/",
          "height": 35
        },
        "id": "-h8VJ4LNee7t",
        "outputId": "15704519-02ec-46f6-8877-a72edc0808f8"
      },
      "outputs": [
        {
          "output_type": "execute_result",
          "data": {
            "text/plain": [
              "'c'"
            ],
            "application/vnd.google.colaboratory.intrinsic+json": {
              "type": "string"
            }
          },
          "metadata": {},
          "execution_count": 6
        }
      ],
      "source": [
        "abcd = ['a', 'b', 'c', 'd']\n",
        "abcd[2]"
      ]
    },
    {
      "cell_type": "markdown",
      "metadata": {
        "id": "z8EIvhdqee7t"
      },
      "source": [
        "文字列の場合とは異なり、リストは変更可能なデータです。\n",
        "すなわちインデックスで指定されるリストの要素は、代入によって変更できます。"
      ]
    },
    {
      "cell_type": "code",
      "execution_count": 7,
      "metadata": {
        "colab": {
          "base_uri": "https://localhost:8080/"
        },
        "id": "RCVjQTI-ee7u",
        "outputId": "39069223-ac30-452d-b548-8d0f9512bbf3"
      },
      "outputs": [
        {
          "output_type": "execute_result",
          "data": {
            "text/plain": [
              "['a', 'b', 'hello', 'd']"
            ]
          },
          "metadata": {},
          "execution_count": 7
        }
      ],
      "source": [
        "abcd = ['a', 'b', 'c', 'd']\n",
        "abcd[2] = 'hello'\n",
        "abcd"
      ]
    },
    {
      "cell_type": "markdown",
      "metadata": {
        "id": "bqG0ew5Qee7u"
      },
      "source": [
        "文字列と同様に、スライスを使った範囲指定も可能です。"
      ]
    },
    {
      "cell_type": "code",
      "execution_count": 8,
      "metadata": {
        "colab": {
          "base_uri": "https://localhost:8080/"
        },
        "id": "rEgHB-iSee7u",
        "outputId": "68eefc10-11bf-429c-c9d3-74e94206a0ea"
      },
      "outputs": [
        {
          "output_type": "execute_result",
          "data": {
            "text/plain": [
              "['b', 'c']"
            ]
          },
          "metadata": {},
          "execution_count": 8
        }
      ],
      "source": [
        "abcd = ['a', 'b', 'c', 'd']\n",
        "abcd[1:3]"
      ]
    },
    {
      "cell_type": "code",
      "execution_count": 9,
      "metadata": {
        "colab": {
          "base_uri": "https://localhost:8080/"
        },
        "id": "Ei1DKyUnee7u",
        "outputId": "6ced3f10-1524-4b6e-855c-fd3edd03f1fe"
      },
      "outputs": [
        {
          "output_type": "execute_result",
          "data": {
            "text/plain": [
              "['a', 'c']"
            ]
          },
          "metadata": {},
          "execution_count": 9
        }
      ],
      "source": [
        "abcd = ['a', 'b', 'c', 'd']\n",
        "abcd[0:4:2]"
      ]
    },
    {
      "cell_type": "markdown",
      "metadata": {
        "id": "-wJZG6Oxee7u"
      },
      "source": [
        "リストのスライスに対しては、代入も可能です。"
      ]
    },
    {
      "cell_type": "code",
      "execution_count": 10,
      "metadata": {
        "colab": {
          "base_uri": "https://localhost:8080/"
        },
        "id": "UWtEWK_iee7u",
        "outputId": "6583b7a3-63ae-419f-888a-f540a4cfbd4f"
      },
      "outputs": [
        {
          "output_type": "execute_result",
          "data": {
            "text/plain": [
              "['a', 'x', 'y', 'z', 'd']"
            ]
          },
          "metadata": {},
          "execution_count": 10
        }
      ],
      "source": [
        "abcd = ['a', 'b', 'c', 'd']\n",
        "abcd[1:3] = ['x', 'y', 'z']\n",
        "abcd"
      ]
    },
    {
      "cell_type": "markdown",
      "metadata": {
        "id": "zmBFY57oee7u"
      },
      "source": [
        "## 練習\n",
        "リスト `ln` を引数として取り、`ln` の偶数番目のインデックスの値を削除したリストを返す関数 `remove_evenindex` を作成してください（ただし、0 は偶数として扱うものとします）。\n",
        "\n",
        "ヒント：スライスを使います。\n",
        "\n",
        "以下のセルの `...` のところを書き換えて `remove_evenindex(ln)` を作成してください。"
      ]
    },
    {
      "cell_type": "code",
      "execution_count": 10,
      "metadata": {
        "id": "UYPc4jC5ee7u"
      },
      "outputs": [],
      "source": [
        "def remove_evenindex(ln):\n",
        "    return ln[1::2]"
      ]
    },
    {
      "cell_type": "markdown",
      "metadata": {
        "id": "-EZ3Ubh0ee7v"
      },
      "source": [
        "上のセルで解答を作成した後、以下のセルを実行し、実行結果が全て `True` になることを確認してください。"
      ]
    },
    {
      "cell_type": "code",
      "execution_count": 11,
      "metadata": {
        "tags": [
          "raises-exception"
        ],
        "colab": {
          "base_uri": "https://localhost:8080/"
        },
        "id": "X99wboCeee7v",
        "outputId": "3ed8c670-34a0-4016-e2c2-4f7e776a67c1"
      },
      "outputs": [
        {
          "output_type": "stream",
          "name": "stdout",
          "text": [
            "True\n",
            "True\n"
          ]
        }
      ],
      "source": [
        "print(remove_evenindex(['a', 'b', 'c', 'd', 'e', 'f', 'g']) == ['b', 'd', 'f'] )\n",
        "print(remove_evenindex([1, 2, 3, 4, 5]) == [2, 4])"
      ]
    },
    {
      "cell_type": "markdown",
      "metadata": {
        "id": "-CtJ8EwVee7v"
      },
      "source": [
        "## **多重リスト**\n",
        "リストの要素としてリストを指定することもできます。\n",
        "リストを要素とするリストは多重リストと呼ばれます。\n",
        "次は二重リストの例です。"
      ]
    },
    {
      "cell_type": "code",
      "execution_count": 12,
      "metadata": {
        "id": "ooBUwmBaee7v"
      },
      "outputs": [],
      "source": [
        "lns = [[1, 2, 3], [10, 20, 30], ['a', 'b', 'c']]"
      ]
    },
    {
      "cell_type": "markdown",
      "metadata": {
        "id": "RHiZeOJjee7v"
      },
      "source": [
        "多重リストの要素指定は複数のインデックスで行います。\n",
        "前の例で外側の `[]` で示されるリストの2番目の要素のリスト、\n",
        "すなわち `[10, 20, 30]` の最初の要素は次のように指定します。"
      ]
    },
    {
      "cell_type": "code",
      "execution_count": 13,
      "metadata": {
        "colab": {
          "base_uri": "https://localhost:8080/"
        },
        "id": "pLfVythAee7v",
        "outputId": "0ef714a1-3ee5-4be6-c9f0-6f917adeb975"
      },
      "outputs": [
        {
          "output_type": "execute_result",
          "data": {
            "text/plain": [
              "10"
            ]
          },
          "metadata": {},
          "execution_count": 13
        }
      ],
      "source": [
        "lns[1][0]"
      ]
    },
    {
      "cell_type": "markdown",
      "metadata": {
        "id": "_rJC4ArVee7v"
      },
      "source": [
        "3番目のリストそのものを取り出したいときは、次のように指定します。"
      ]
    },
    {
      "cell_type": "code",
      "execution_count": 14,
      "metadata": {
        "colab": {
          "base_uri": "https://localhost:8080/"
        },
        "id": "IzcSinZzee7v",
        "outputId": "1c95f562-7b37-4822-abf7-7b14e4de068b"
      },
      "outputs": [
        {
          "output_type": "execute_result",
          "data": {
            "text/plain": [
              "['a', 'b', 'c']"
            ]
          },
          "metadata": {},
          "execution_count": 14
        }
      ],
      "source": [
        "lns[2]"
      ]
    },
    {
      "cell_type": "markdown",
      "metadata": {
        "id": "4xFEnDUmee7v"
      },
      "source": [
        "以下のようにリストの要素として、リストを値とする変数を指定することもできます。"
      ]
    },
    {
      "cell_type": "code",
      "execution_count": 15,
      "metadata": {
        "colab": {
          "base_uri": "https://localhost:8080/"
        },
        "id": "j2Liu-lkee7v",
        "outputId": "776bb501-84c1-4269-f53b-219d919e6ee1"
      },
      "outputs": [
        {
          "output_type": "execute_result",
          "data": {
            "text/plain": [
              "[[[1, 2, 3], [10, 20, 30], ['a', 'b', 'c']],\n",
              " ['x', 1, [11, 12, 13]],\n",
              " ['y', [100, 120, 140]]]"
            ]
          },
          "metadata": {},
          "execution_count": 15
        }
      ],
      "source": [
        "lns2 = [lns, ['x', 1, [11, 12, 13]], ['y', [100, 120, 140]] ]\n",
        "lns2"
      ]
    },
    {
      "cell_type": "code",
      "execution_count": 16,
      "metadata": {
        "colab": {
          "base_uri": "https://localhost:8080/"
        },
        "id": "4uyPXDCjee7v",
        "outputId": "7fa6b0a7-e45b-4889-d06c-1196bfe1b4db"
      },
      "outputs": [
        {
          "output_type": "execute_result",
          "data": {
            "text/plain": [
              "[[1, 2, 3], [10, 20, 30], ['a', 'b', 'c']]"
            ]
          },
          "metadata": {},
          "execution_count": 16
        }
      ],
      "source": [
        "lns2[0]"
      ]
    },
    {
      "cell_type": "markdown",
      "metadata": {
        "id": "ZjZva_zlee7v"
      },
      "source": [
        "## リストに対する関数・演算子・メソッド\n",
        "\n",
        "### リストの要素数\n",
        "\n",
        "組み込み関数 **`len`** はリストの長さ、すなわち要素数、を返します。"
      ]
    },
    {
      "cell_type": "code",
      "execution_count": 17,
      "metadata": {
        "colab": {
          "base_uri": "https://localhost:8080/"
        },
        "id": "sfC0wdtRee7v",
        "outputId": "66bc20f8-929f-40eb-e59f-19c7752bcd1e"
      },
      "outputs": [
        {
          "output_type": "execute_result",
          "data": {
            "text/plain": [
              "6"
            ]
          },
          "metadata": {},
          "execution_count": 17
        }
      ],
      "source": [
        "numbers = [0, 10, 20, 30, 40, 50]\n",
        "len(numbers)"
      ]
    },
    {
      "cell_type": "markdown",
      "metadata": {
        "id": "WSjKxbMMee7w"
      },
      "source": [
        "### `max` と `min`\n",
        "\n",
        "リストを引数とする関数は色々とあります。\n",
        "関数 **`max`** は、数のリストが与えられると、その中の最大値を返します。\n",
        "同様に関数 **`min`** はリストの中の最小値を返します。"
      ]
    },
    {
      "cell_type": "code",
      "execution_count": 18,
      "metadata": {
        "colab": {
          "base_uri": "https://localhost:8080/"
        },
        "id": "51-GzATqee7w",
        "outputId": "947f41d3-315b-4a0a-c6dc-895d0b3f57f5"
      },
      "outputs": [
        {
          "output_type": "execute_result",
          "data": {
            "text/plain": [
              "60"
            ]
          },
          "metadata": {},
          "execution_count": 18
        }
      ],
      "source": [
        "numbers = [30, 50, 10, 20, 40, 60]\n",
        "max(numbers)"
      ]
    },
    {
      "cell_type": "code",
      "execution_count": 19,
      "metadata": {
        "colab": {
          "base_uri": "https://localhost:8080/"
        },
        "id": "5U4vrgyFee7w",
        "outputId": "eb0a3c8e-2dae-4f2b-94a3-1883d63f60d2"
      },
      "outputs": [
        {
          "output_type": "execute_result",
          "data": {
            "text/plain": [
              "10"
            ]
          },
          "metadata": {},
          "execution_count": 19
        }
      ],
      "source": [
        "numbers = [30, 50, 10, 20, 40, 60]\n",
        "min(numbers)"
      ]
    },
    {
      "cell_type": "markdown",
      "metadata": {
        "id": "HOPyiTtHee7w"
      },
      "source": [
        "`max` と `min` は文字列のリストに対しても適用できます。文字列の比較は、いわゆる辞書順で行われます。"
      ]
    },
    {
      "cell_type": "code",
      "execution_count": 20,
      "metadata": {
        "colab": {
          "base_uri": "https://localhost:8080/",
          "height": 35
        },
        "id": "zuvlAQNJee7w",
        "outputId": "cfb2579e-016d-4012-d78d-c78d396c7d7f"
      },
      "outputs": [
        {
          "output_type": "execute_result",
          "data": {
            "text/plain": [
              "'a'"
            ],
            "application/vnd.google.colaboratory.intrinsic+json": {
              "type": "string"
            }
          },
          "metadata": {},
          "execution_count": 20
        }
      ],
      "source": [
        "characters = ['e', 'd', 'a', 'c', 'f', 'b']\n",
        "min(characters)"
      ]
    },
    {
      "cell_type": "markdown",
      "metadata": {
        "id": "CSbyR5HOee77"
      },
      "source": [
        "### `sum`\n",
        "\n",
        "関数 **`sum`** は、数のリストが与えられると、その要素の総和を返します。"
      ]
    },
    {
      "cell_type": "code",
      "execution_count": 21,
      "metadata": {
        "colab": {
          "base_uri": "https://localhost:8080/"
        },
        "id": "dtDX-q15ee77",
        "outputId": "cd58e43a-b94f-49eb-8929-27f2c4e1b591"
      },
      "outputs": [
        {
          "output_type": "execute_result",
          "data": {
            "text/plain": [
              "210"
            ]
          },
          "metadata": {},
          "execution_count": 21
        }
      ],
      "source": [
        "numbers = [30, 50, 10, 20, 40, 60]\n",
        "sum(numbers)"
      ]
    },
    {
      "cell_type": "code",
      "execution_count": 22,
      "metadata": {
        "colab": {
          "base_uri": "https://localhost:8080/"
        },
        "id": "xG9t4369ee77",
        "outputId": "856cbbf6-8c32-43b2-fe0d-36fd56fd8a77"
      },
      "outputs": [
        {
          "output_type": "execute_result",
          "data": {
            "text/plain": [
              "0"
            ]
          },
          "metadata": {},
          "execution_count": 22
        }
      ],
      "source": [
        "sum([])"
      ]
    },
    {
      "cell_type": "markdown",
      "metadata": {
        "id": "AamYnbZmee77"
      },
      "source": [
        "### リストと演算子"
      ]
    },
    {
      "cell_type": "markdown",
      "metadata": {
        "id": "NDZTLtpOee77"
      },
      "source": [
        "演算子 **`+`** によってリストの連結、**`*`** によって連結における繰り返し回数を指定することができます。"
      ]
    },
    {
      "cell_type": "code",
      "execution_count": 23,
      "metadata": {
        "colab": {
          "base_uri": "https://localhost:8080/"
        },
        "id": "O0JZ2JcEee77",
        "outputId": "529ac030-b7df-45d5-c07a-52c23d1625c9"
      },
      "outputs": [
        {
          "output_type": "execute_result",
          "data": {
            "text/plain": [
              "[0, 10, 20, 30, 40, 50, 'a', 'b', 'c']"
            ]
          },
          "metadata": {},
          "execution_count": 23
        }
      ],
      "source": [
        "numbers = [0, 10, 20, 30, 40, 50]\n",
        "numbers + ['a', 'b', 'c']"
      ]
    },
    {
      "cell_type": "code",
      "execution_count": 24,
      "metadata": {
        "colab": {
          "base_uri": "https://localhost:8080/"
        },
        "id": "vZ3sZBABee77",
        "outputId": "edf442a6-8228-4907-bae1-f60817dd312c"
      },
      "outputs": [
        {
          "output_type": "execute_result",
          "data": {
            "text/plain": [
              "[0, 10, 20, 30, 40, 50, 0, 10, 20, 30, 40, 50, 0, 10, 20, 30, 40, 50]"
            ]
          },
          "metadata": {},
          "execution_count": 24
        }
      ],
      "source": [
        "numbers*3"
      ]
    },
    {
      "cell_type": "markdown",
      "metadata": {
        "id": "HuFPXXfJee77"
      },
      "source": [
        "要素が全て同じ値（たとえば、`0` ）のリストを作る最も簡単な方法は、この `*` 演算子を使う方法です。"
      ]
    },
    {
      "cell_type": "code",
      "execution_count": 25,
      "metadata": {
        "colab": {
          "base_uri": "https://localhost:8080/"
        },
        "id": "a7veG0ETee78",
        "outputId": "f32c5fcf-229f-4138-95e3-14e1084e4107"
      },
      "outputs": [
        {
          "output_type": "execute_result",
          "data": {
            "text/plain": [
              "[0, 0, 0, 0, 0, 0, 0, 0, 0, 0]"
            ]
          },
          "metadata": {},
          "execution_count": 25
        }
      ],
      "source": [
        "zero10 = [0] * 10\n",
        "zero10"
      ]
    },
    {
      "cell_type": "markdown",
      "metadata": {
        "id": "Xgkz698gee78"
      },
      "source": [
        "`*` は `+` を繰り返し行うのと同じ結果を返します。\n",
        "たとえば、`x*3` は `x+x+x` と同じ結果を返します。\n",
        "\n",
        "`x` が多重リストのとき、`x` の要素であるリストが `y` の中に複数回現れます。"
      ]
    },
    {
      "cell_type": "code",
      "execution_count": 26,
      "metadata": {
        "colab": {
          "base_uri": "https://localhost:8080/"
        },
        "id": "CsGxzSV9ee78",
        "outputId": "2a8fe1f3-ab1b-4298-a5a4-d5071a16e287"
      },
      "outputs": [
        {
          "output_type": "execute_result",
          "data": {
            "text/plain": [
              "[[0, 1], [2, 3], [0, 1], [2, 3], [0, 1], [2, 3]]"
            ]
          },
          "metadata": {},
          "execution_count": 26
        }
      ],
      "source": [
        "x = [[0, 1], [2, 3]]\n",
        "y = x*3\n",
        "y"
      ]
    },
    {
      "cell_type": "markdown",
      "metadata": {
        "id": "fNkWrbIiee78"
      },
      "source": [
        "このとき、`x` の要素が変更されると、`y` の中では複数箇所に変化が起こるので、注意してください。"
      ]
    },
    {
      "cell_type": "code",
      "execution_count": 27,
      "metadata": {
        "colab": {
          "base_uri": "https://localhost:8080/"
        },
        "id": "ySGtvkUZee78",
        "outputId": "c8c0986e-8bda-400d-d37f-2dfd230f8255"
      },
      "outputs": [
        {
          "output_type": "execute_result",
          "data": {
            "text/plain": [
              "[[99, 1], [2, 3], [99, 1], [2, 3], [99, 1], [2, 3]]"
            ]
          },
          "metadata": {},
          "execution_count": 27
        }
      ],
      "source": [
        "x[0][0] = 99\n",
        "y"
      ]
    },
    {
      "cell_type": "markdown",
      "metadata": {
        "id": "puTHueMWee78"
      },
      "source": [
        "これは、`y` の中の複数個所にあるオブジェクトが同一だからです。\n",
        "詳しくは、以下の「▲オブジェクトの等価性と同一性」を参照してください。"
      ]
    },
    {
      "cell_type": "markdown",
      "metadata": {
        "id": "LF-iqbBSee78"
      },
      "source": [
        "演算子 **`in`** は、左辺の要素がリストに含まれれば `True` を、それ以外では `False` を返します。"
      ]
    },
    {
      "cell_type": "code",
      "execution_count": 28,
      "metadata": {
        "colab": {
          "base_uri": "https://localhost:8080/"
        },
        "id": "RJi2d8Xuee78",
        "outputId": "4df6f9b9-8220-4e38-fb8d-00852c477329"
      },
      "outputs": [
        {
          "output_type": "execute_result",
          "data": {
            "text/plain": [
              "True"
            ]
          },
          "metadata": {},
          "execution_count": 28
        }
      ],
      "source": [
        "10 in numbers"
      ]
    },
    {
      "cell_type": "markdown",
      "metadata": {
        "id": "3Bb6oKxeee79"
      },
      "source": [
        "リストに対する `in` 演算子は、論理演算 `or` を簡潔に記述するのに用いることもできます。 たとえば、\n",
        "\n",
        "---\n",
        "```Python\n",
        "a1 == 1 or a1 == 3 or a1 == 7:\n",
        "```\n",
        "---\n",
        "\n",
        "は\n",
        "\n",
        "---\n",
        "```Python\n",
        "a1 in [1, 3, 7]:\n",
        "```\n",
        "---\n",
        "\n",
        "と同じ結果を得られます。 `or` の数が多くなる場合は、`in` を用いた方がより読みやすいプログラムを書くことができます。"
      ]
    },
    {
      "cell_type": "code",
      "execution_count": 29,
      "metadata": {
        "colab": {
          "base_uri": "https://localhost:8080/"
        },
        "id": "wwbfd12Lee79",
        "outputId": "907ef1ea-17c8-4c98-b987-97f1aa1ae35a"
      },
      "outputs": [
        {
          "output_type": "stream",
          "name": "stdout",
          "text": [
            "True True\n",
            "True True\n",
            "False False\n"
          ]
        }
      ],
      "source": [
        "a1 = 1\n",
        "print(a1 == 1 or a1 == 3 or a1 == 7, a1 in [1, 3, 7])\n",
        "a1 = 3\n",
        "print(a1 == 1 or a1 == 3 or a1 == 7, a1 in [1, 3, 7])\n",
        "a1 = 5\n",
        "print(a1 == 1 or a1 == 3 or a1 == 7, a1 in [1, 3, 7])"
      ]
    },
    {
      "cell_type": "markdown",
      "metadata": {
        "id": "GOJHeij3ee79"
      },
      "source": [
        "`in` 演算子は、左辺の要素がリストに含まれるかどうかを、\n",
        "リストの要素を最初から順に調べることで判定しています。\n",
        "したがって、リストの長さに比例した時間がかかります。\n",
        "つまり、リストの長さが大きければ、それなりの時間がかかることに注意してください。\n",
        "\n",
        "**`not in`** 演算子は、`in` 演算子の逆を意味します。"
      ]
    },
    {
      "cell_type": "code",
      "execution_count": 30,
      "metadata": {
        "colab": {
          "base_uri": "https://localhost:8080/"
        },
        "id": "N54pRGcSee79",
        "outputId": "1306afa8-b0b3-4d53-e7ce-d7cc037253e7"
      },
      "outputs": [
        {
          "output_type": "execute_result",
          "data": {
            "text/plain": [
              "False"
            ]
          },
          "metadata": {},
          "execution_count": 30
        }
      ],
      "source": [
        "10 not in numbers"
      ]
    },
    {
      "cell_type": "code",
      "execution_count": 31,
      "metadata": {
        "colab": {
          "base_uri": "https://localhost:8080/"
        },
        "id": "EYBrTN0Tee79",
        "outputId": "399b56f6-a1f0-4dd3-e4d2-a05488bb6cea"
      },
      "outputs": [
        {
          "output_type": "execute_result",
          "data": {
            "text/plain": [
              "True"
            ]
          },
          "metadata": {},
          "execution_count": 31
        }
      ],
      "source": [
        "11 not in numbers"
      ]
    },
    {
      "cell_type": "markdown",
      "metadata": {
        "id": "HJJ6a-R_ee79"
      },
      "source": [
        "### 指定した要素のインデックス取得と数えあげ\n",
        "\n",
        "**`index`** メソッドは引数で指定した要素のインデックスの番号を返します。\n",
        "文字列には `index` に加えてこれと似た `find` メソッドもありましたが、リストでは使えません。"
      ]
    },
    {
      "cell_type": "code",
      "execution_count": 32,
      "metadata": {
        "colab": {
          "base_uri": "https://localhost:8080/"
        },
        "id": "ynOJZaBaee79",
        "outputId": "e68e8e24-9a0b-445c-cfbf-468670bd7ff9"
      },
      "outputs": [
        {
          "output_type": "execute_result",
          "data": {
            "text/plain": [
              "2"
            ]
          },
          "metadata": {},
          "execution_count": 32
        }
      ],
      "source": [
        "numbers = [0, 10, 20, 30, 40, 50]\n",
        "numbers.index(20)"
      ]
    },
    {
      "cell_type": "markdown",
      "metadata": {
        "id": "QpEVFMblee79"
      },
      "source": [
        "**`count`** メソッドは指定した要素の数を返します。"
      ]
    },
    {
      "cell_type": "code",
      "execution_count": 33,
      "metadata": {
        "colab": {
          "base_uri": "https://localhost:8080/"
        },
        "id": "eMtuZrG_ee7-",
        "outputId": "62846e91-c28a-4045-db7c-3c32ca0a86cb"
      },
      "outputs": [
        {
          "output_type": "execute_result",
          "data": {
            "text/plain": [
              "3"
            ]
          },
          "metadata": {},
          "execution_count": 33
        }
      ],
      "source": [
        "all20 = [20]*3\n",
        "all20.count(20) # 指定した要素のリスト内の数"
      ]
    },
    {
      "cell_type": "markdown",
      "metadata": {
        "id": "nAT_fBmmee7-"
      },
      "source": [
        "### 並べ替え（**`sort`** メソッド）\n",
        "\n",
        "`sort` メソッドはリスト内の要素を並べ替えます。\n",
        "引数に何も指定しなければ昇順でとなります。"
      ]
    },
    {
      "cell_type": "code",
      "execution_count": 34,
      "metadata": {
        "id": "RYQP8Klkee7-"
      },
      "outputs": [],
      "source": [
        "numbers = [30, 50, 10, 20, 40, 60]\n",
        "numbers.sort()"
      ]
    },
    {
      "cell_type": "code",
      "execution_count": 35,
      "metadata": {
        "colab": {
          "base_uri": "https://localhost:8080/"
        },
        "id": "ao7F_OA1ee7-",
        "outputId": "af4edd4c-2c26-4279-d918-54f5451d3195"
      },
      "outputs": [
        {
          "output_type": "execute_result",
          "data": {
            "text/plain": [
              "[10, 20, 30, 40, 50, 60]"
            ]
          },
          "metadata": {},
          "execution_count": 35
        }
      ],
      "source": [
        "numbers"
      ]
    },
    {
      "cell_type": "code",
      "execution_count": 36,
      "metadata": {
        "colab": {
          "base_uri": "https://localhost:8080/"
        },
        "id": "s2pxNEMEee7-",
        "outputId": "d2eb45ed-6374-40f3-984a-e36b9decd43b"
      },
      "outputs": [
        {
          "output_type": "execute_result",
          "data": {
            "text/plain": [
              "['a', 'b', 'c', 'd', 'e', 'f']"
            ]
          },
          "metadata": {},
          "execution_count": 36
        }
      ],
      "source": [
        "characters = ['e', 'd', 'a', 'c', 'f', 'b']\n",
        "characters.sort()\n",
        "characters"
      ]
    },
    {
      "cell_type": "markdown",
      "metadata": {
        "id": "tCbAWD3Wee7-"
      },
      "source": [
        "`reverse = True` オプションを指定すれば、要素を降順に並べ替えることもできます。\n",
        "（これは 3.3 のキーワード引数と呼ばれるものですが、ここでは天下り的に、\n",
        "並べ替えの方法を指定する情報と理解しておいてください。）"
      ]
    },
    {
      "cell_type": "code",
      "execution_count": 37,
      "metadata": {
        "colab": {
          "base_uri": "https://localhost:8080/"
        },
        "id": "JyR9yMFzee7-",
        "outputId": "b393b985-52f8-40d2-bf13-c8c6f976f81d"
      },
      "outputs": [
        {
          "output_type": "execute_result",
          "data": {
            "text/plain": [
              "[60, 50, 40, 30, 20, 10]"
            ]
          },
          "metadata": {},
          "execution_count": 37
        }
      ],
      "source": [
        "numbers = [30, 50, 10, 20, 40, 60]\n",
        "numbers.sort(reverse = True)\n",
        "numbers"
      ]
    },
    {
      "cell_type": "markdown",
      "metadata": {
        "id": "XduMIEa6ee7-"
      },
      "source": [
        "### 並べ替え（**`sorted`** 組み込み関数）\n",
        "\n",
        "関数 `sorted` ではリストを引数に取って、そのリスト内の要素を昇順に並べ替えた結果をリストとして返します。\n",
        "\n",
        "---\n",
        "```Python\n",
        "sorted(リスト)\n",
        "```\n",
        "---"
      ]
    },
    {
      "cell_type": "code",
      "execution_count": 38,
      "metadata": {
        "colab": {
          "base_uri": "https://localhost:8080/"
        },
        "id": "6g5K3gVLee7-",
        "outputId": "9397b33d-baf9-4510-824d-c06b7530ec82"
      },
      "outputs": [
        {
          "output_type": "execute_result",
          "data": {
            "text/plain": [
              "[10, 20, 30, 40, 50, 60]"
            ]
          },
          "metadata": {},
          "execution_count": 38
        }
      ],
      "source": [
        "numbers = [30, 50, 10, 20, 40, 60]\n",
        "sorted(numbers)"
      ]
    },
    {
      "cell_type": "markdown",
      "metadata": {
        "id": "pCq0ixpgee7-"
      },
      "source": [
        "文字列の比較は、いわゆる辞書順で行われます。"
      ]
    },
    {
      "cell_type": "code",
      "execution_count": 39,
      "metadata": {
        "colab": {
          "base_uri": "https://localhost:8080/"
        },
        "id": "RxNE6Kxaee7-",
        "outputId": "6ed91289-e634-447d-e377-e94f8d009cfe"
      },
      "outputs": [
        {
          "output_type": "execute_result",
          "data": {
            "text/plain": [
              "['a', 'b', 'c', 'd', 'e', 'f']"
            ]
          },
          "metadata": {},
          "execution_count": 39
        }
      ],
      "source": [
        "characters = ['e', 'd', 'a', 'c', 'f', 'b']\n",
        "sorted(characters)"
      ]
    },
    {
      "cell_type": "markdown",
      "metadata": {
        "id": "Dm4qS5gsee7-"
      },
      "source": [
        "`sorted` においても、 `reverse = True` と記述することで要素を降順に並べ替えることができます。"
      ]
    },
    {
      "cell_type": "code",
      "execution_count": 40,
      "metadata": {
        "colab": {
          "base_uri": "https://localhost:8080/"
        },
        "id": "IK7QvLMXee7_",
        "outputId": "3f64aad7-2316-4708-bf18-cc0c735dede7"
      },
      "outputs": [
        {
          "output_type": "execute_result",
          "data": {
            "text/plain": [
              "[60, 50, 40, 30, 20, 10]"
            ]
          },
          "metadata": {},
          "execution_count": 40
        }
      ],
      "source": [
        "numbers = [30, 50, 10, 20, 40, 60]\n",
        "sorted(numbers, reverse=True)"
      ]
    },
    {
      "cell_type": "markdown",
      "metadata": {
        "id": "FYPDmgvgee7_"
      },
      "source": [
        "ついでですが、多重リストをソートするとどのような結果が得られるか確かめてみてください。"
      ]
    },
    {
      "cell_type": "code",
      "execution_count": 42,
      "metadata": {
        "colab": {
          "base_uri": "https://localhost:8080/"
        },
        "id": "02ncT1Tgee7_",
        "outputId": "dc53a1fc-dbaa-4821-f87e-58fa489bf8f8"
      },
      "outputs": [
        {
          "output_type": "execute_result",
          "data": {
            "text/plain": [
              "[[10, 20], [10, 30], [20, 5], [30, 10]]"
            ]
          },
          "metadata": {},
          "execution_count": 42
        }
      ],
      "source": [
        "lns = [[20, 5], [10, 30], [10, 20], [30, 10]]\n",
        "lns.sort() #さきに左の要素比べて次に右比べる\n",
        "lns"
      ]
    },
    {
      "cell_type": "markdown",
      "metadata": {
        "id": "UxB9o-O3ee7_"
      },
      "source": [
        "## 破壊的（インプレース）な操作と非破壊的な生成"
      ]
    },
    {
      "cell_type": "markdown",
      "metadata": {
        "id": "-Jgw7Jmwee7_"
      },
      "source": [
        "上記では、`sort` メソッドと `sorted` 関数を紹介しましたが、両者の使い方が異なることに気が付きましたか？\n",
        "\n",
        "具体的には、` sort` メソッドでは元のリストが変更されています。\n",
        "一方、`sorted` 関数では元のリストはそのままになっています。もう一度確認してみましょう。"
      ]
    },
    {
      "cell_type": "code",
      "execution_count": 43,
      "metadata": {
        "colab": {
          "base_uri": "https://localhost:8080/"
        },
        "id": "yx6UOmOgee7_",
        "outputId": "cd15cf7a-5a01-453d-9be7-0acc85492be5"
      },
      "outputs": [
        {
          "output_type": "stream",
          "name": "stdout",
          "text": [
            "sortメソッドの実行後の元のリスト: [10, 20, 30, 40, 50, 60]\n",
            "sorted関数の実行後の元のリスト: [30, 50, 10, 20, 40, 60]\n"
          ]
        }
      ],
      "source": [
        "numbers = [30, 50, 10, 20, 40, 60]\n",
        "numbers.sort()\n",
        "print('sortメソッドの実行後の元のリスト:', numbers)\n",
        "numbers = [30, 50, 10, 20, 40, 60]\n",
        "sorted(numbers)\n",
        "print('sorted関数の実行後の元のリスト:', numbers)"
      ]
    },
    {
      "cell_type": "markdown",
      "metadata": {
        "id": "Z_G8TMdsee7_"
      },
      "source": [
        "このように、`sort` メソッドは元のリストを変更してしまいます。\n",
        "このような操作を**破壊的**あるいは**インプレース** (**in-place**) であるといいます。\n",
        "\n",
        "一方、`sorted` 関数は新しいリストを生成し元のリストを破壊しません、このような操作は**非破壊的**であるといいます。"
      ]
    },
    {
      "cell_type": "markdown",
      "metadata": {
        "id": "dNkhLiOOee7_"
      },
      "source": [
        "`sorted` 関数を用いた場合、その返値（並べ替えの結果）は新しい変数に代入して使うことができます。  \n",
        "\n",
        "一方、`sort` メソッドはリストを返さないためそのような使い方はできません。"
      ]
    },
    {
      "cell_type": "code",
      "execution_count": 44,
      "metadata": {
        "colab": {
          "base_uri": "https://localhost:8080/"
        },
        "id": "kIcx1qGEee7_",
        "outputId": "013db7d0-883a-4cce-daef-fce8a06dd1b6"
      },
      "outputs": [
        {
          "output_type": "stream",
          "name": "stdout",
          "text": [
            "sorted関数の返値: [10, 20, 30, 40, 50, 60]\n",
            "sortメソッドの返値: None\n"
          ]
        }
      ],
      "source": [
        "numbers = [30, 50, 10, 20, 40, 60]\n",
        "numbers1 = sorted(numbers)\n",
        "print('sorted関数の返値:', numbers1)\n",
        "\n",
        "numbers = [30, 50, 10, 20, 40, 60]\n",
        "numbers2 = numbers.sort()\n",
        "print('sortメソッドの返値:', numbers2)"
      ]
    },
    {
      "cell_type": "markdown",
      "metadata": {
        "id": "yxoPZPAKee7_"
      },
      "source": [
        "## リストを操作するメソッドなど\n",
        "\n",
        "ここからはリストを操作するためのメソッドなどを紹介していきます。\n",
        "\n",
        "メソッドや組み込み関数が破壊的であるかどうかは、一般にその名称などからは判断できません。\n",
        "それぞれ破壊的かどうか理解してから利用しなければなりません。\n",
        "\n",
        "なお、次の `append` メソッド以外は、必要に応じて参照すればよく、\n",
        "それ以降タプルの項まで飛ばして構いません。\n",
        "\n",
        "### リストに要素を追加する\n",
        "\n",
        "**`append`** メソッドはリストの最後尾に指定した要素を付け加えます。\n",
        "\n",
        "---\n",
        "```Python\n",
        "リスト.append(追加する要素)\n",
        "```\n",
        "---"
      ]
    },
    {
      "cell_type": "code",
      "execution_count": 45,
      "metadata": {
        "colab": {
          "base_uri": "https://localhost:8080/"
        },
        "id": "9tH-Qr1See7_",
        "outputId": "67f46441-2094-4634-a9bf-abc4f968e917"
      },
      "outputs": [
        {
          "output_type": "execute_result",
          "data": {
            "text/plain": [
              "[10, 20, 30, 40, 50, 100]"
            ]
          },
          "metadata": {},
          "execution_count": 45
        }
      ],
      "source": [
        "numbers = [10, 20, 30, 40, 50]\n",
        "numbers.append(100)\n",
        "numbers"
      ]
    },
    {
      "cell_type": "markdown",
      "metadata": {
        "id": "8I1V_wckee7_"
      },
      "source": [
        "`append` は、上述した空のリストと組み合わせて、あるリストから特定の条件を満たす要素のみからなる新たなリストを構成する、というような状況でしばしば用いられます。たとえば、リスト `numbers1 = [10, -10, 20, 30, -20, 40, -30]` から `0` より大きい要素のみを抜き出したリスト `positives` は次のように構成することができます。"
      ]
    },
    {
      "cell_type": "code",
      "execution_count": 46,
      "metadata": {
        "colab": {
          "base_uri": "https://localhost:8080/"
        },
        "id": "jAGhYAPWee8A",
        "outputId": "ff3eaee5-3d39-45ce-9015-ed687432b595"
      },
      "outputs": [
        {
          "output_type": "execute_result",
          "data": {
            "text/plain": [
              "[10, 20, 30, 40]"
            ]
          },
          "metadata": {},
          "execution_count": 46
        }
      ],
      "source": [
        "numbers1 = [10, -10, 20, 30, -20, 40, -30]\n",
        "positives = [] # 空のリストを作成する\n",
        "positives.append(numbers1[0])\n",
        "positives.append(numbers1[2])\n",
        "positives.append(numbers1[3])\n",
        "positives.append(numbers1[5])\n",
        "positives"
      ]
    },
    {
      "cell_type": "markdown",
      "metadata": {
        "id": "QD11UQwdee8A"
      },
      "source": [
        "### ▲リストにリストの要素を追加する\n",
        "\n",
        " **`extend`** メソッドはリストの最後尾に指定したリストの要素を付け加えます。\n",
        "\n",
        "---\n",
        "```Python\n",
        "リスト.extend(追加するリスト)\n",
        "```\n",
        "---"
      ]
    },
    {
      "cell_type": "code",
      "execution_count": 47,
      "metadata": {
        "colab": {
          "base_uri": "https://localhost:8080/"
        },
        "id": "GFKKh03Nee8A",
        "outputId": "e2a5e3c3-f0b8-4f02-b76c-e59418881217"
      },
      "outputs": [
        {
          "output_type": "execute_result",
          "data": {
            "text/plain": [
              "[10, 20, 30, 40, 50, 200, 300, 400, 200]"
            ]
          },
          "metadata": {},
          "execution_count": 47
        }
      ],
      "source": [
        "numbers = [10, 20, 30, 40, 50]\n",
        "numbers.extend([200, 300, 400, 200]) # numbers += [200, 300, 400, 200] と同じ\n",
        "numbers"
      ]
    },
    {
      "cell_type": "markdown",
      "metadata": {
        "id": "jPe72A3Zee8A"
      },
      "source": [
        "### ▲リストに要素を挿入する\n",
        "\n",
        "**insert** メソッドはリストのインデックスを指定した位置に新しい要素を挿入します。  \n",
        "\n",
        "---\n",
        "```Python\n",
        "リスト.insert(インデックス, 新しい要素)\n",
        "```\n",
        "---"
      ]
    },
    {
      "cell_type": "code",
      "execution_count": 48,
      "metadata": {
        "colab": {
          "base_uri": "https://localhost:8080/"
        },
        "id": "v6b6WYchee8A",
        "outputId": "28127b42-6bcb-4efe-9538-7c4bf87a0389"
      },
      "outputs": [
        {
          "output_type": "execute_result",
          "data": {
            "text/plain": [
              "[10, 1000, 20, 30, 40, 50]"
            ]
          },
          "metadata": {},
          "execution_count": 48
        }
      ],
      "source": [
        "numbers = [10, 20, 30, 40, 50]\n",
        "numbers.insert(1, 1000)\n",
        "numbers"
      ]
    },
    {
      "cell_type": "markdown",
      "metadata": {
        "id": "wrXZX3U_ee8A"
      },
      "source": [
        "### ▲リストから要素を削除する\n",
        "\n",
        "**`remove`** メソッドは指定した要素をリストから削除します。  \n",
        "\n",
        "---\n",
        "```Python\n",
        "リスト.remove(削除したい要素)\n",
        "```\n",
        "---\n",
        "\n",
        "ただし、指定した要素が複数個リストに含まれる場合、一番最初の要素が削除されます。また、指定した値がリストに含まれない場合はエラーとなります。"
      ]
    },
    {
      "cell_type": "code",
      "execution_count": 49,
      "metadata": {
        "colab": {
          "base_uri": "https://localhost:8080/"
        },
        "id": "2pNG1oGyee8A",
        "outputId": "ce481caf-e2f5-47d0-ee5b-0b78d0829ab7"
      },
      "outputs": [
        {
          "output_type": "execute_result",
          "data": {
            "text/plain": [
              "[10, 20, 40, 20]"
            ]
          },
          "metadata": {},
          "execution_count": 49
        }
      ],
      "source": [
        "numbers = [10, 20, 30, 40, 20]\n",
        "numbers.remove(30) # 指定した要素を削除\n",
        "numbers"
      ]
    },
    {
      "cell_type": "code",
      "execution_count": 50,
      "metadata": {
        "colab": {
          "base_uri": "https://localhost:8080/"
        },
        "id": "pOfywI5Oee8A",
        "outputId": "d042c685-61e9-49c2-d1ca-bb0a82fb99d4"
      },
      "outputs": [
        {
          "output_type": "execute_result",
          "data": {
            "text/plain": [
              "[10, 40, 20]"
            ]
          },
          "metadata": {},
          "execution_count": 50
        }
      ],
      "source": [
        "numbers.remove(20) # 指定した要素が複数個リストに含まれる場合、一番最初の要素を削除\n",
        "numbers"
      ]
    },
    {
      "cell_type": "code",
      "execution_count": 51,
      "metadata": {
        "tags": [
          "raises-exception"
        ],
        "colab": {
          "base_uri": "https://localhost:8080/",
          "height": 141
        },
        "id": "Y8MkGW8bee8A",
        "outputId": "582be613-8b94-4d75-9d26-e8a3e59f05f9"
      },
      "outputs": [
        {
          "output_type": "error",
          "ename": "ValueError",
          "evalue": "list.remove(x): x not in list",
          "traceback": [
            "\u001b[0;31m---------------------------------------------------------------------------\u001b[0m",
            "\u001b[0;31mValueError\u001b[0m                                Traceback (most recent call last)",
            "\u001b[0;32m/tmp/ipython-input-682954414.py\u001b[0m in \u001b[0;36m<cell line: 0>\u001b[0;34m()\u001b[0m\n\u001b[0;32m----> 1\u001b[0;31m \u001b[0mnumbers\u001b[0m\u001b[0;34m.\u001b[0m\u001b[0mremove\u001b[0m\u001b[0;34m(\u001b[0m\u001b[0;36m100\u001b[0m\u001b[0;34m)\u001b[0m \u001b[0;31m# リストに含まれない値を指定するとエラー\u001b[0m\u001b[0;34m\u001b[0m\u001b[0;34m\u001b[0m\u001b[0m\n\u001b[0m",
            "\u001b[0;31mValueError\u001b[0m: list.remove(x): x not in list"
          ]
        }
      ],
      "source": [
        "numbers.remove(100) # リストに含まれない値を指定するとエラー"
      ]
    },
    {
      "cell_type": "markdown",
      "metadata": {
        "id": "fy3NL0iMee8A"
      },
      "source": [
        "### ▲リストからインデックスで指定した要素を削除する\n",
        "\n",
        "**`pop`** メソッドはリストから指定したインデックスを削除し、その要素を返します。\n",
        "\n",
        "---\n",
        "```Python\n",
        "リスト.pop(削除したい要素のインデックス)\n",
        "```\n",
        "---"
      ]
    },
    {
      "cell_type": "code",
      "execution_count": 52,
      "metadata": {
        "colab": {
          "base_uri": "https://localhost:8080/"
        },
        "id": "gDpnw80dee8A",
        "outputId": "4731f34a-ed50-4f26-cf7e-2233104e2ae6"
      },
      "outputs": [
        {
          "output_type": "stream",
          "name": "stdout",
          "text": [
            "30\n",
            "[10, 20, 20, 20, 40]\n"
          ]
        }
      ],
      "source": [
        "numbers = [10, 20, 20, 30, 20, 40]\n",
        "print(numbers.pop(3))\n",
        "print(numbers)"
      ]
    },
    {
      "cell_type": "markdown",
      "metadata": {
        "id": "59K5cLyCee8A"
      },
      "source": [
        "インデックスを指定しない場合、最後尾の要素を削除して返します。\n",
        "\n",
        "---\n",
        "```Python\n",
        "リスト.pop()\n",
        "```\n",
        "---"
      ]
    },
    {
      "cell_type": "code",
      "execution_count": 53,
      "metadata": {
        "colab": {
          "base_uri": "https://localhost:8080/"
        },
        "id": "A-h0HXFpee8A",
        "outputId": "93fda71f-bfe0-4b81-8d9a-124575bc7386"
      },
      "outputs": [
        {
          "output_type": "stream",
          "name": "stdout",
          "text": [
            "40\n",
            "[10, 20, 30, 20]\n"
          ]
        }
      ],
      "source": [
        "ln = [10, 20, 30, 20, 40]\n",
        "print(ln.pop())\n",
        "print(ln)"
      ]
    },
    {
      "cell_type": "markdown",
      "metadata": {
        "id": "dvSdVtDSee8B"
      },
      "source": [
        "### ▲リスト要素を削除する\n",
        "\n",
        "**`del`** 文は指定するリストの要素を削除します。具体的には以下のように削除したい要素をインデックスで指定します。  \n",
        "`del` も破壊的であることに注意してください。\n",
        "\n",
        "---\n",
        "```Python\n",
        "del リスト[x]\n",
        "```\n",
        "---"
      ]
    },
    {
      "cell_type": "code",
      "execution_count": 54,
      "metadata": {
        "colab": {
          "base_uri": "https://localhost:8080/"
        },
        "id": "UrWpkRVqee8B",
        "outputId": "d5b17b4e-56a1-45df-88d5-57a3006acaa4"
      },
      "outputs": [
        {
          "output_type": "execute_result",
          "data": {
            "text/plain": [
              "[10, 20, 40, 50]"
            ]
          },
          "metadata": {},
          "execution_count": 54
        }
      ],
      "source": [
        "numbers = [10, 20, 30, 40, 50]\n",
        "del numbers[2]\n",
        "numbers"
      ]
    },
    {
      "cell_type": "markdown",
      "metadata": {
        "id": "8bDm4NmYee8B"
      },
      "source": [
        "スライスを使うことも可能です。\n",
        "\n",
        "---\n",
        "```Python\n",
        "del リスト[x:y]\n",
        "```\n",
        "---\n"
      ]
    },
    {
      "cell_type": "code",
      "execution_count": 55,
      "metadata": {
        "colab": {
          "base_uri": "https://localhost:8080/"
        },
        "id": "Oyv0jsGwee8B",
        "outputId": "46b29fc1-183a-464e-9bb4-ab2f0aa3e588"
      },
      "outputs": [
        {
          "output_type": "execute_result",
          "data": {
            "text/plain": [
              "[10, 20, 50]"
            ]
          },
          "metadata": {},
          "execution_count": 55
        }
      ],
      "source": [
        "numbers = [10, 20, 30, 40, 50]\n",
        "del numbers[2:4]\n",
        "numbers"
      ]
    },
    {
      "cell_type": "markdown",
      "metadata": {
        "id": "D_cTWyevee8B"
      },
      "source": [
        "### ▲リストの要素を逆順にする\n",
        "\n",
        "**`reverse`** メソッドはリスト内の要素の順序を逆順にします。"
      ]
    },
    {
      "cell_type": "code",
      "execution_count": 56,
      "metadata": {
        "colab": {
          "base_uri": "https://localhost:8080/"
        },
        "id": "5nAVL5psee8B",
        "outputId": "f16cce03-8e29-4ebd-d711-3292935403b5"
      },
      "outputs": [
        {
          "output_type": "execute_result",
          "data": {
            "text/plain": [
              "['b', 'f', 'c', 'a', 'd', 'e']"
            ]
          },
          "metadata": {},
          "execution_count": 56
        }
      ],
      "source": [
        "characters = ['e', 'd', 'a', 'c', 'f', 'b']\n",
        "characters.reverse()\n",
        "characters"
      ]
    },
    {
      "cell_type": "markdown",
      "metadata": {
        "id": "W5ikEOYqee8B"
      },
      "source": [
        "### ▲ **`copy`**\n",
        "リストを複製します。\n",
        "すなわち、`ln` の値がリストであるとき、`ln.copy()` は `ln` と同じ長さのリストを新たに作って、\n",
        "`ln` の要素を新しいリストに同じ順番で格納して、その新しいリストを返します。\n",
        "\n",
        "複製されたリストに変更を加えたとしても、もとのリストは影響を受けません。"
      ]
    },
    {
      "cell_type": "code",
      "execution_count": 57,
      "metadata": {
        "colab": {
          "base_uri": "https://localhost:8080/"
        },
        "id": "7FVdn5DUee8B",
        "outputId": "201bcf4f-ba4c-44a5-8d56-f6cc88d9a17c"
      },
      "outputs": [
        {
          "output_type": "stream",
          "name": "stdout",
          "text": [
            "[50, 40, 10]\n",
            "[10, 20, 30, 40, 50]\n"
          ]
        }
      ],
      "source": [
        "numbers = [10, 20, 30, 40, 50]\n",
        "numbers2 = numbers.copy()\n",
        "del numbers[1:3]\n",
        "numbers.reverse()\n",
        "print(numbers)\n",
        "print(numbers2)"
      ]
    },
    {
      "cell_type": "markdown",
      "metadata": {
        "id": "mBJMoV-uee8B"
      },
      "source": [
        "一方、代入を用いた場合には影響を受けることに注意してください。"
      ]
    },
    {
      "cell_type": "code",
      "execution_count": 58,
      "metadata": {
        "colab": {
          "base_uri": "https://localhost:8080/"
        },
        "id": "Vd-KU94Ree8B",
        "outputId": "522fdc38-4e78-4e27-be47-1182e24e4dca"
      },
      "outputs": [
        {
          "output_type": "stream",
          "name": "stdout",
          "text": [
            "[50, 40, 10]\n",
            "[50, 40, 10]\n"
          ]
        }
      ],
      "source": [
        "numbers = [10, 20, 30, 40, 50]\n",
        "numbers2 = numbers\n",
        "del numbers[1:3]\n",
        "numbers.reverse()\n",
        "print(numbers)\n",
        "print(numbers2)"
      ]
    },
    {
      "cell_type": "markdown",
      "metadata": {
        "tags": [],
        "id": "BaEPUiN9ee8B"
      },
      "source": [
        "## リストと文字列の相互変換\n",
        "\n",
        "文字列は変更不可能である一方、リスト変更可能です。\n",
        "そのため、文字列処理をする際は、文字列のリストに一旦変換してから、変更を加えて、文字列に変換することが典型的です。\n",
        "ここでは、文字列とリストの相互変換の方法を示します。\n",
        "\n",
        "まず、文字列 `s` を `list` 関数に渡すと、`s` を文字単位で区切ったリストが得られます。"
      ]
    },
    {
      "cell_type": "code",
      "execution_count": 59,
      "metadata": {
        "colab": {
          "base_uri": "https://localhost:8080/"
        },
        "id": "Vlu6a2F3ee8B",
        "outputId": "32a31b7e-4925-47fd-f569-a1cd39366240"
      },
      "outputs": [
        {
          "output_type": "execute_result",
          "data": {
            "text/plain": [
              "['a', 'b', 'c', '1', '2', '3']"
            ]
          },
          "metadata": {},
          "execution_count": 59
        }
      ],
      "source": [
        "list('abc123')"
      ]
    },
    {
      "cell_type": "markdown",
      "metadata": {
        "id": "IQSAUI8Oee8B"
      },
      "source": [
        "文字単位ではなく、指定された文字列で区切ってリストにする際は、 **`split`** メソッドを使います。"
      ]
    },
    {
      "cell_type": "code",
      "execution_count": 60,
      "metadata": {
        "colab": {
          "base_uri": "https://localhost:8080/"
        },
        "id": "PSi7_1Unee8B",
        "outputId": "88801ba3-6c53-46ce-9bbd-258ef548bd48"
      },
      "outputs": [
        {
          "output_type": "execute_result",
          "data": {
            "text/plain": [
              "['ba', 'a', 'a']"
            ]
          },
          "metadata": {},
          "execution_count": 60
        }
      ],
      "source": [
        "'banana'.split('n')"
      ]
    },
    {
      "cell_type": "code",
      "execution_count": 61,
      "metadata": {
        "colab": {
          "base_uri": "https://localhost:8080/"
        },
        "id": "BkE3QeI_ee8C",
        "outputId": "750f1767-38f3-4f89-840f-cbb586305dc3"
      },
      "outputs": [
        {
          "output_type": "execute_result",
          "data": {
            "text/plain": [
              "['A', 'B', 'C']"
            ]
          },
          "metadata": {},
          "execution_count": 61
        }
      ],
      "source": [
        "'A and B and C'.split(' and ')"
      ]
    },
    {
      "cell_type": "markdown",
      "metadata": {
        "id": "tvSu9keOee8C"
      },
      "source": [
        "`split` を無引数で呼び出すと、連続した空白文字を区切りと見做します。"
      ]
    },
    {
      "cell_type": "code",
      "execution_count": 62,
      "metadata": {
        "colab": {
          "base_uri": "https://localhost:8080/"
        },
        "id": "UbzzVkczee8C",
        "outputId": "b849507d-1fff-4c47-ecc1-af6453f04700"
      },
      "outputs": [
        {
          "output_type": "execute_result",
          "data": {
            "text/plain": [
              "['A', 'B', 'C']"
            ]
          },
          "metadata": {},
          "execution_count": 62
        }
      ],
      "source": [
        "'A   B\\nC  '.split()"
      ]
    },
    {
      "cell_type": "markdown",
      "metadata": {
        "id": "XWn-WNEgee8C"
      },
      "source": [
        "逆に、文字のリストを連結して1つの文字列にする際は、 **`join`** メソッドを次のように使います。\n",
        "\n",
        "---\n",
        "```python\n",
        "接合点に挿入する文字列.join(文字列のリスト)\n",
        "```\n",
        "---"
      ]
    },
    {
      "cell_type": "code",
      "execution_count": 63,
      "metadata": {
        "colab": {
          "base_uri": "https://localhost:8080/",
          "height": 35
        },
        "id": "fDPT87gcee8C",
        "outputId": "83586236-5151-4387-db2b-f4192cfd9e45"
      },
      "outputs": [
        {
          "output_type": "execute_result",
          "data": {
            "text/plain": [
              "'abc123'"
            ],
            "application/vnd.google.colaboratory.intrinsic+json": {
              "type": "string"
            }
          },
          "metadata": {},
          "execution_count": 63
        }
      ],
      "source": [
        "''.join(['a', 'b', 'c', '1', '2', '3'])"
      ]
    },
    {
      "cell_type": "code",
      "execution_count": 65,
      "metadata": {
        "colab": {
          "base_uri": "https://localhost:8080/",
          "height": 35
        },
        "id": "ILrUn9zAee8C",
        "outputId": "2eef5909-cc5f-4795-a37a-a4bede21f463"
      },
      "outputs": [
        {
          "output_type": "execute_result",
          "data": {
            "text/plain": [
              "'bantanta'"
            ],
            "application/vnd.google.colaboratory.intrinsic+json": {
              "type": "string"
            }
          },
          "metadata": {},
          "execution_count": 65
        }
      ],
      "source": [
        "'nt'.join(['ba', 'a', 'a'])"
      ]
    },
    {
      "cell_type": "markdown",
      "metadata": {
        "id": "ugFujBb3ee8C"
      },
      "source": [
        "なお、 `join` の引数は、文字列のリストだけでなく、文字列のタプルでも問題ありません。\n",
        "タプルについては、次で述べます。\n",
        "\n",
        "### 練習\n",
        "\n",
        "emailアドレス `email` とドメイン名 `domain` を引数に取って、`email` のドメイン名を `domain` に置き換える関数 `change_domain(email, domain)` を作成してください。\n",
        "なお、emailアドレスのドメイン名とは、 `'@'` で区切られた右側の部分を意味します。\n",
        "\n",
        "次のセルの `...` のところを書き換えて `change_domain(email, domain)` を完成させてください。"
      ]
    },
    {
      "cell_type": "code",
      "execution_count": 31,
      "metadata": {
        "id": "D9NtY8vMee8C"
      },
      "outputs": [],
      "source": [
        "def change_domain(email, domain):\n",
        "    email1 = email.index('@')\n",
        "    email2 = list(email)\n",
        "    del email2[email1:]\n",
        "    email4 = ''.join(email2)\n",
        "    do = email4 + '@' + domain\n",
        "    return do"
      ]
    },
    {
      "cell_type": "markdown",
      "metadata": {
        "id": "O02s1g9Oee8C"
      },
      "source": [
        "上のセルで解答を作成した後、以下のセルを実行し、実行結果が `True` になることを確認してください。"
      ]
    },
    {
      "cell_type": "code",
      "execution_count": 32,
      "metadata": {
        "tags": [
          "raises-exception"
        ],
        "colab": {
          "base_uri": "https://localhost:8080/"
        },
        "id": "iqHiG1x3ee8C",
        "outputId": "d8f32964-a224-4f7b-dc9a-fc5897d99b85"
      },
      "outputs": [
        {
          "output_type": "stream",
          "name": "stdout",
          "text": [
            "True\n"
          ]
        }
      ],
      "source": [
        "print(change_domain('spam@utokyo-ipp.org', 'ipp.u-tokyo.ac.jp') == 'spam@ipp.u-tokyo.ac.jp')"
      ]
    },
    {
      "cell_type": "markdown",
      "metadata": {
        "id": "MpNnJOw5ee8C"
      },
      "source": [
        "## タプル (tuple)\n",
        "\n",
        "**タプル**は、リストと同じようにデータの並びであり、あらゆる種類のデータを要素にできます。\n",
        "ただし、リストと違ってタプルは一度設定した要素を変更できません（文字列も同様でした）。\n",
        "すなわち、タプルは変更不可能なデータです。\n",
        "したがって、リストの項で説明したメソッドの多く、要素を操作するもの、は適用できないのですが、\n",
        "逆にいうと、作成した後で要素を変更する必要がない場合は、\n",
        "タプルの方が実装の効率がよいので、リストよりもタプルを使うべきです。\n",
        "\n",
        "たとえば、関数が複数の値をリストにして返し、呼び出し側がすぐにリストをばらばらにして値を取り出すような場合は、\n",
        "リストよりもタプルを使うべきです。\n",
        "また、平面上の点を表そうとするとき、x座標とy座標を別々に変化させる必要がなければ、\n",
        "`(3, 5)` のようなタプルを使うのが自然です。\n",
        "このように、タプルを作成するには数学におけるのと同様に要素を丸括弧 `(...)` で囲みます。\n",
        "\n",
        "例を見ましょう。"
      ]
    },
    {
      "cell_type": "code",
      "execution_count": 1,
      "metadata": {
        "id": "GPRReFsSee8C"
      },
      "outputs": [],
      "source": [
        "x = 3\n",
        "y = 5\n",
        "point = (x, y)"
      ]
    },
    {
      "cell_type": "code",
      "execution_count": 2,
      "metadata": {
        "colab": {
          "base_uri": "https://localhost:8080/"
        },
        "id": "KEhGNA3Nee8C",
        "outputId": "9d526d75-93da-410b-90af-59eacd5b4758"
      },
      "outputs": [
        {
          "output_type": "execute_result",
          "data": {
            "text/plain": [
              "(3, 5)"
            ]
          },
          "metadata": {},
          "execution_count": 2
        }
      ],
      "source": [
        "point"
      ]
    },
    {
      "cell_type": "code",
      "execution_count": 3,
      "metadata": {
        "colab": {
          "base_uri": "https://localhost:8080/"
        },
        "id": "0Z-RU7ZEee8D",
        "outputId": "0f098a99-5a9a-4bcd-cfa0-c10ee094da7f"
      },
      "outputs": [
        {
          "output_type": "execute_result",
          "data": {
            "text/plain": [
              "tuple"
            ]
          },
          "metadata": {},
          "execution_count": 3
        }
      ],
      "source": [
        "type(point)"
      ]
    },
    {
      "cell_type": "code",
      "execution_count": 4,
      "metadata": {
        "colab": {
          "base_uri": "https://localhost:8080/"
        },
        "id": "DOaYJelEee8D",
        "outputId": "0ecce2ee-88b9-4076-865e-c4a599e0265f"
      },
      "outputs": [
        {
          "output_type": "execute_result",
          "data": {
            "text/plain": [
              "(1, 2, 3)"
            ]
          },
          "metadata": {},
          "execution_count": 4
        }
      ],
      "source": [
        "numbers3 = (1, 2, 3)\n",
        "numbers3"
      ]
    },
    {
      "cell_type": "markdown",
      "metadata": {
        "id": "CikBKTzqee8D"
      },
      "source": [
        "実は、丸括弧なしでもタプルを作成できます。"
      ]
    },
    {
      "cell_type": "code",
      "execution_count": 5,
      "metadata": {
        "colab": {
          "base_uri": "https://localhost:8080/"
        },
        "id": "24d5oHV8ee8D",
        "outputId": "6ec00472-b062-4aca-99fd-d8bf42c8e720"
      },
      "outputs": [
        {
          "output_type": "execute_result",
          "data": {
            "text/plain": [
              "(1, 2, 3)"
            ]
          },
          "metadata": {},
          "execution_count": 5
        }
      ],
      "source": [
        "numbers3 = 1,2,3\n",
        "numbers3"
      ]
    },
    {
      "cell_type": "markdown",
      "metadata": {
        "id": "4JPuSiSOee8D"
      },
      "source": [
        "要素が1つだけの場合は、 `t = (1)` ではなく、次のようにします。"
      ]
    },
    {
      "cell_type": "code",
      "execution_count": 6,
      "metadata": {
        "colab": {
          "base_uri": "https://localhost:8080/"
        },
        "id": "h67i-JrKee8D",
        "outputId": "fe13eb78-9464-4afa-86ce-38dd06f26bfe"
      },
      "outputs": [
        {
          "output_type": "execute_result",
          "data": {
            "text/plain": [
              "(1,)"
            ]
          },
          "metadata": {},
          "execution_count": 6
        }
      ],
      "source": [
        "onlyone = (1,)\n",
        "onlyone"
      ]
    },
    {
      "cell_type": "markdown",
      "metadata": {
        "id": "RcjhAleSee8D"
      },
      "source": [
        "`t = (1)` だと、`t = 1` と同じになってしまいます。"
      ]
    },
    {
      "cell_type": "code",
      "execution_count": 7,
      "metadata": {
        "colab": {
          "base_uri": "https://localhost:8080/"
        },
        "id": "1RquTXhUee8D",
        "outputId": "5ec3d0cf-1d09-45ee-a755-b88def50fe53"
      },
      "outputs": [
        {
          "output_type": "execute_result",
          "data": {
            "text/plain": [
              "1"
            ]
          },
          "metadata": {},
          "execution_count": 7
        }
      ],
      "source": [
        "onlyone = (1)\n",
        "onlyone"
      ]
    },
    {
      "cell_type": "markdown",
      "metadata": {
        "id": "0tyNjD8Fee8D"
      },
      "source": [
        "何も要素を格納していないタプル（**空タプル**）は `()` で作成できます。"
      ]
    },
    {
      "cell_type": "code",
      "execution_count": 8,
      "metadata": {
        "colab": {
          "base_uri": "https://localhost:8080/"
        },
        "id": "1PpM44Afee8D",
        "outputId": "7a5dcfec-cec4-4878-e0a3-24e3a4e5d1f4"
      },
      "outputs": [
        {
          "output_type": "execute_result",
          "data": {
            "text/plain": [
              "()"
            ]
          },
          "metadata": {},
          "execution_count": 8
        }
      ],
      "source": [
        "empty = ()\n",
        "empty"
      ]
    },
    {
      "cell_type": "markdown",
      "metadata": {
        "id": "SjTJgAnhee8D"
      },
      "source": [
        "リストや文字列と同様に、インデックスや組み込み関数を使った操作が可能です。"
      ]
    },
    {
      "cell_type": "code",
      "execution_count": 9,
      "metadata": {
        "colab": {
          "base_uri": "https://localhost:8080/"
        },
        "id": "K-sa-GT3ee8D",
        "outputId": "72583ed5-8111-4a18-8cae-18fad0015e68"
      },
      "outputs": [
        {
          "output_type": "execute_result",
          "data": {
            "text/plain": [
              "2"
            ]
          },
          "metadata": {},
          "execution_count": 9
        }
      ],
      "source": [
        "numbers3 = (1, 2, 3)\n",
        "numbers3[1] # インデックスの指定による値の取得"
      ]
    },
    {
      "cell_type": "code",
      "execution_count": 10,
      "metadata": {
        "colab": {
          "base_uri": "https://localhost:8080/"
        },
        "id": "IBC7lnKwee8D",
        "outputId": "22b9ae5f-e596-4248-9060-e37137d87512"
      },
      "outputs": [
        {
          "output_type": "execute_result",
          "data": {
            "text/plain": [
              "3"
            ]
          },
          "metadata": {},
          "execution_count": 10
        }
      ],
      "source": [
        "len(numbers3) # lenはタプルを構成する要素の数"
      ]
    },
    {
      "cell_type": "code",
      "execution_count": 11,
      "metadata": {
        "colab": {
          "base_uri": "https://localhost:8080/"
        },
        "id": "qQHLJ3TQee8D",
        "outputId": "e1490e5a-e976-43e5-bef9-a9388eb0b711"
      },
      "outputs": [
        {
          "output_type": "execute_result",
          "data": {
            "text/plain": [
              "(2, 3)"
            ]
          },
          "metadata": {},
          "execution_count": 11
        }
      ],
      "source": [
        "numbers3[1:3] # スライス"
      ]
    },
    {
      "cell_type": "markdown",
      "metadata": {
        "id": "YWqlLLM1ee8D"
      },
      "source": [
        "上述しましたが、一度作成したタプルの要素を後から変更することはできません。\n",
        "したがって以下のプログラムはエラーとなります。\n",
        "\n",
        "---\n",
        "```Python\n",
        "numbers3 = (1, 2, 3)\n",
        "numbers3[1] = 5\n",
        "```"
      ]
    },
    {
      "cell_type": "markdown",
      "metadata": {
        "id": "nzdVNWlpee8E"
      },
      "source": [
        "組み込み関数 **`list`** を使って、タプルをリストに変換できます。\n",
        "（`list` はリストのデータ型でもあります。）"
      ]
    },
    {
      "cell_type": "code",
      "execution_count": 12,
      "metadata": {
        "colab": {
          "base_uri": "https://localhost:8080/"
        },
        "id": "Fh7koT4iee8E",
        "outputId": "64093c46-05cb-4be7-feb9-f2d086909580"
      },
      "outputs": [
        {
          "output_type": "execute_result",
          "data": {
            "text/plain": [
              "[1, 2, 3]"
            ]
          },
          "metadata": {},
          "execution_count": 12
        }
      ],
      "source": [
        "numbers3 = (1, 2, 3)\n",
        "list(numbers3)"
      ]
    },
    {
      "cell_type": "markdown",
      "metadata": {
        "id": "IMHJX5CLee8E"
      },
      "source": [
        "組み込み関数 **`tuple`** を使って、逆にリストをタプルに変換できます。\n",
        "（`tuple` はタプルのデータ型でもあります。）"
      ]
    },
    {
      "cell_type": "code",
      "execution_count": 13,
      "metadata": {
        "colab": {
          "base_uri": "https://localhost:8080/"
        },
        "id": "PkgnXK5Qee8E",
        "outputId": "431d8ebe-ff50-4e04-f043-7e3c073473df"
      },
      "outputs": [
        {
          "output_type": "execute_result",
          "data": {
            "text/plain": [
              "(1, 2)"
            ]
          },
          "metadata": {},
          "execution_count": 13
        }
      ],
      "source": [
        "numbers2 = [1, 2]\n",
        "tuple(numbers2)"
      ]
    },
    {
      "cell_type": "markdown",
      "metadata": {
        "id": "s7txoNTnee8E"
      },
      "source": [
        "## 練習\n",
        "整数の要素からなるリスト `ln` を引数として取り、\n",
        "`ln` に含まれる要素を逆順に格納したタプルを返す関数 `reverse_totuple` を作成してください。\n",
        "\n",
        "以下のセルの `...` のところを書き換えて `reverse_totuple(ln)` を作成してください。"
      ]
    },
    {
      "cell_type": "code",
      "execution_count": 14,
      "metadata": {
        "id": "CMPZ03RJee8E"
      },
      "outputs": [],
      "source": [
        "def reverse_totuple(ln):\n",
        "    ln.reverse()\n",
        "    return tuple(ln)"
      ]
    },
    {
      "cell_type": "markdown",
      "metadata": {
        "id": "KEVavCuyee8E"
      },
      "source": [
        "上のセルで解答を作成した後、以下のセルを実行し、実行結果が `True` になることを確認してください。"
      ]
    },
    {
      "cell_type": "code",
      "execution_count": 15,
      "metadata": {
        "tags": [
          "raises-exception"
        ],
        "colab": {
          "base_uri": "https://localhost:8080/"
        },
        "id": "HdHeDhKtee8E",
        "outputId": "71be1313-17a7-48ae-9dc6-0cd815bfeb8f"
      },
      "outputs": [
        {
          "output_type": "stream",
          "name": "stdout",
          "text": [
            "True\n"
          ]
        }
      ],
      "source": [
        "print(reverse_totuple([1, 2, 3, 4, 5]) == (5, 4, 3, 2, 1))"
      ]
    },
    {
      "cell_type": "markdown",
      "metadata": {
        "id": "YV2CY6kOee8E"
      },
      "source": [
        "## 多重代入\n",
        "**多重代入**では、左辺に複数の変数などを指定してタプルやリストの全ての要素を一度の操作で代入することができます。"
      ]
    },
    {
      "cell_type": "code",
      "execution_count": 16,
      "metadata": {
        "colab": {
          "base_uri": "https://localhost:8080/"
        },
        "id": "YQxV_4LMee8E",
        "outputId": "cea5c582-384a-4d2e-fce7-8b2de49f43e4"
      },
      "outputs": [
        {
          "output_type": "execute_result",
          "data": {
            "text/plain": [
              "10"
            ]
          },
          "metadata": {},
          "execution_count": 16
        }
      ],
      "source": [
        "numbers = [0, 10, 20, 30, 40]\n",
        "[a, b, c, d, e] = numbers\n",
        "b"
      ]
    },
    {
      "cell_type": "markdown",
      "metadata": {
        "id": "sMKYhY-cee8E"
      },
      "source": [
        "以下のようにしても同じ結果を得られます。"
      ]
    },
    {
      "cell_type": "code",
      "execution_count": 17,
      "metadata": {
        "tags": [
          "raises-exception"
        ],
        "colab": {
          "base_uri": "https://localhost:8080/"
        },
        "id": "KRmBh1Ecee8E",
        "outputId": "9815bb78-9c1d-484e-c5c5-19c17bde36ac"
      },
      "outputs": [
        {
          "output_type": "execute_result",
          "data": {
            "text/plain": [
              "10"
            ]
          },
          "metadata": {},
          "execution_count": 17
        }
      ],
      "source": [
        "a, b, c, d, e = numbers\n",
        "b"
      ]
    },
    {
      "cell_type": "markdown",
      "metadata": {
        "id": "x1REl0Dnee8E"
      },
      "source": [
        "多重代入は文字列に対しても実行可能です。"
      ]
    },
    {
      "cell_type": "code",
      "execution_count": 18,
      "metadata": {
        "colab": {
          "base_uri": "https://localhost:8080/",
          "height": 35
        },
        "id": "PEwi6NVWee8E",
        "outputId": "aabe3b4f-7122-4f13-b2e7-82a4d9e2ff9d"
      },
      "outputs": [
        {
          "output_type": "execute_result",
          "data": {
            "text/plain": [
              "'l'"
            ],
            "application/vnd.google.colaboratory.intrinsic+json": {
              "type": "string"
            }
          },
          "metadata": {},
          "execution_count": 18
        }
      ],
      "source": [
        "a, b, c, d, e = 'hello'\n",
        "d"
      ]
    },
    {
      "cell_type": "markdown",
      "metadata": {
        "id": "tBvj99e-ee8E"
      },
      "source": [
        "タプルに対しても実行可能です。"
      ]
    },
    {
      "cell_type": "code",
      "execution_count": 19,
      "metadata": {
        "colab": {
          "base_uri": "https://localhost:8080/"
        },
        "id": "FxazRHWWee8F",
        "outputId": "e0c52c64-7356-4262-d9bb-1602c3cd5329"
      },
      "outputs": [
        {
          "output_type": "execute_result",
          "data": {
            "text/plain": [
              "2"
            ]
          },
          "metadata": {},
          "execution_count": 19
        }
      ],
      "source": [
        "numbers3 = (1, 2, 3)\n",
        "(x,y,z) = numbers3\n",
        "y"
      ]
    },
    {
      "cell_type": "markdown",
      "metadata": {
        "id": "S6Dk8pr-ee8F"
      },
      "source": [
        "以下のように様々な書き方が可能です。"
      ]
    },
    {
      "cell_type": "code",
      "execution_count": 20,
      "metadata": {
        "colab": {
          "base_uri": "https://localhost:8080/"
        },
        "id": "9L9qrgVwee8F",
        "outputId": "6e07b3f2-2685-44a4-a240-83dcb8509879"
      },
      "outputs": [
        {
          "output_type": "stream",
          "name": "stdout",
          "text": [
            "2\n",
            "2\n",
            "2\n",
            "2\n",
            "2\n"
          ]
        }
      ],
      "source": [
        "x,y,z = numbers3\n",
        "print(y)\n",
        "(x,y,z) = (1, 2, 3)\n",
        "print(y)\n",
        "x,y,z = (1, 2, 3)\n",
        "print(y)\n",
        "(x,y,z) = 1, 2, 3\n",
        "print(y)\n",
        "x,y,z = 1, 2, 3\n",
        "print(y)"
      ]
    },
    {
      "cell_type": "markdown",
      "metadata": {
        "id": "R3jK6Kavee8F"
      },
      "source": [
        "多重代入を使うことで、2つの変数に格納された値の入れ替えを行う手続きはしばしば用いられます。"
      ]
    },
    {
      "cell_type": "code",
      "execution_count": 22,
      "metadata": {
        "colab": {
          "base_uri": "https://localhost:8080/"
        },
        "id": "y25p1Linee8F",
        "outputId": "c4f1e07a-4d48-43e8-c876-2c90cb5d86fc"
      },
      "outputs": [
        {
          "output_type": "stream",
          "name": "stdout",
          "text": [
            "pen apple\n"
          ]
        }
      ],
      "source": [
        "x = 'apple'\n",
        "y = 'pen'\n",
        "x,y = y,x\n",
        "print(x,y) #w = x; x = y; y = w と同じ結果が得られる"
      ]
    },
    {
      "cell_type": "markdown",
      "metadata": {
        "id": "efxkOXoLee8F"
      },
      "source": [
        "## リストやタプルの比較演算\n",
        "数値などを比較するのに用いた比較演算子を用いて、2つのリストやタプルを比較することもできます。"
      ]
    },
    {
      "cell_type": "code",
      "execution_count": 23,
      "metadata": {
        "colab": {
          "base_uri": "https://localhost:8080/"
        },
        "id": "qkkK2rpxee8F",
        "outputId": "7e4ec68f-6e0a-49d8-9564-44e150e37f3a"
      },
      "outputs": [
        {
          "output_type": "stream",
          "name": "stdout",
          "text": [
            "True\n",
            "False\n"
          ]
        }
      ],
      "source": [
        "print([1, 2, 3] == [1, 2, 3])\n",
        "print([1, 2] == [1, 2, 3])"
      ]
    },
    {
      "cell_type": "code",
      "execution_count": 24,
      "metadata": {
        "colab": {
          "base_uri": "https://localhost:8080/"
        },
        "id": "sTrSssi-ee8F",
        "outputId": "933be05c-48b4-46b0-d9b9-b8dc4442e166"
      },
      "outputs": [
        {
          "output_type": "stream",
          "name": "stdout",
          "text": [
            "True\n",
            "False\n"
          ]
        }
      ],
      "source": [
        "print((1, 2, 3) == (1, 2, 3))\n",
        "print((1, 2) == (1, 2, 3))"
      ]
    },
    {
      "cell_type": "code",
      "execution_count": 25,
      "metadata": {
        "colab": {
          "base_uri": "https://localhost:8080/"
        },
        "id": "vtAqBw00ee8F",
        "outputId": "88f2c973-22a5-41f6-b7b4-d401f7ab0899"
      },
      "outputs": [
        {
          "output_type": "stream",
          "name": "stdout",
          "text": [
            "False\n",
            "True\n"
          ]
        }
      ],
      "source": [
        "print([1, 2, 3] != [1, 2, 3])\n",
        "print([1, 2] != [1, 2, 3])"
      ]
    },
    {
      "cell_type": "code",
      "execution_count": 26,
      "metadata": {
        "colab": {
          "base_uri": "https://localhost:8080/"
        },
        "id": "DD-UNng3ee8F",
        "outputId": "aafa7973-394a-4dd9-e9ec-9f66f68482a8"
      },
      "outputs": [
        {
          "output_type": "stream",
          "name": "stdout",
          "text": [
            "False\n",
            "True\n"
          ]
        }
      ],
      "source": [
        "print((1, 2, 3) != (1, 2, 3))\n",
        "print((1, 2) != (1, 2, 3))"
      ]
    },
    {
      "cell_type": "markdown",
      "metadata": {
        "id": "Ruw5fg3Dee8F"
      },
      "source": [
        "大小の比較は、いわゆる辞書式による比較で、リストやタプルの最初の要素から順に比較して大小を決めます。\n",
        "片方がもう片方を拡張したものであれば、拡張した方を大きいとします。"
      ]
    },
    {
      "cell_type": "code",
      "execution_count": 27,
      "metadata": {
        "colab": {
          "base_uri": "https://localhost:8080/"
        },
        "id": "VyY_Un0Mee8F",
        "outputId": "2f5c55fa-5ecc-4943-daba-625558b6daff"
      },
      "outputs": [
        {
          "output_type": "stream",
          "name": "stdout",
          "text": [
            "True\n",
            "False\n",
            "True\n",
            "True\n"
          ]
        }
      ],
      "source": [
        "print([1, 2, 3] <= [1, 2, 3])\n",
        "print([1, 2, 3] < [1, 2, 3])\n",
        "print([1, 2, 3] < [1, 2, 4])\n",
        "print([1, 2] < [1, 2, 3])"
      ]
    },
    {
      "cell_type": "code",
      "execution_count": 28,
      "metadata": {
        "colab": {
          "base_uri": "https://localhost:8080/"
        },
        "id": "NaTh88pMee8F",
        "outputId": "cbe7fa83-90e0-4e66-a472-15bf03dd06ad"
      },
      "outputs": [
        {
          "output_type": "stream",
          "name": "stdout",
          "text": [
            "True\n",
            "False\n",
            "True\n",
            "True\n"
          ]
        }
      ],
      "source": [
        "print((1, 2, 3) <= (1, 2, 3))\n",
        "print((1, 2, 3) < (1, 2, 3))\n",
        "print((1, 2, 3) < (1, 2, 4))\n",
        "print((1, 2) < (1, 2, 3))"
      ]
    },
    {
      "cell_type": "markdown",
      "metadata": {
        "id": "-Y4tjH6Tee8F"
      },
      "source": [
        "## for文による繰り返しとリスト・タプル\n",
        "\n",
        "きまった操作の繰り返しはコンピュータが最も得意とする処理のひとつです。\n",
        "リストのそれぞれの要素にわたって操作を繰り返したい場合は**for文**を用います。\n",
        "\n",
        "リスト `ls` の要素全てに対して、`実行文` を繰り返すには次のように書きます。\n",
        "\n",
        "---\n",
        "```Python\n",
        "for value in ls:\n",
        "    実行文\n",
        "```\n",
        "---\n",
        "\n",
        "`for` で始まる行の `in` の後に処理対象となるリスト `ls` が、`in` の前に変数 `value` が書かれます。\n",
        "\n",
        "`ls` の最初の要素、すなわち `ls[0]` が `value` に代入され `実行文` が処理されます。\n",
        "`実行文` の処理が終われば、`ls` の次の要素が `value` に代入され、処理が繰り返されます。\n",
        "このようにして、`ls` の要素に対する処理が `len(ls)` 回繰り返されると、for文の処理が終了します。\n",
        "\n",
        "ここでの `in` の働きは、先に説明したリスト要素の有無を検査する `in` とは異なることに、\n",
        "そして、if文と同様、 `実行文` の前にはスペースが必要であることに注意してください。\n",
        "\n",
        "次に具体例を示します。\n",
        "3つの要素を持つリスト `ls` から1つずつ要素を取り出し、変数 `value` に代入しています。\n",
        "`実行文` では `value` を用いて取り出した要素を参照しています。"
      ]
    },
    {
      "cell_type": "code",
      "execution_count": 29,
      "metadata": {
        "colab": {
          "base_uri": "https://localhost:8080/"
        },
        "id": "G-Hs9kI9ee8G",
        "outputId": "7615713b-348b-4684-abbc-ec6fd6c5790f"
      },
      "outputs": [
        {
          "output_type": "stream",
          "name": "stdout",
          "text": [
            "For loop: 0\n",
            "For loop: 1\n",
            "For loop: 2\n"
          ]
        }
      ],
      "source": [
        "ls = [0,1,2]\n",
        "\n",
        "for value in ls:\n",
        "    print('For loop:', value)"
      ]
    },
    {
      "cell_type": "markdown",
      "metadata": {
        "id": "eJZKqqhmee8G"
      },
      "source": [
        "`in` の後に直接リストを記述することもできます。"
      ]
    },
    {
      "cell_type": "code",
      "execution_count": 30,
      "metadata": {
        "colab": {
          "base_uri": "https://localhost:8080/"
        },
        "id": "4qXVEettee8G",
        "outputId": "dd9739ff-170c-4090-a5a9-cde3cb9ccc4d"
      },
      "outputs": [
        {
          "output_type": "stream",
          "name": "stdout",
          "text": [
            "For loop: 0\n",
            "For loop: 1\n",
            "For loop: 2\n"
          ]
        }
      ],
      "source": [
        "for value in [0,1,2]:\n",
        "    print('For loop:', value)"
      ]
    },
    {
      "cell_type": "markdown",
      "metadata": {
        "id": "CQpTOg6fee8G"
      },
      "source": [
        "`実行文` の前にスペースがないとエラーが出ます。"
      ]
    },
    {
      "cell_type": "code",
      "execution_count": 33,
      "metadata": {
        "tags": [
          "raises-exception"
        ],
        "colab": {
          "base_uri": "https://localhost:8080/",
          "height": 106
        },
        "id": "tZso6UPDee8G",
        "outputId": "248b7520-f2eb-47d6-a91a-ef6489558263"
      },
      "outputs": [
        {
          "output_type": "error",
          "ename": "IndentationError",
          "evalue": "expected an indented block after 'for' statement on line 1 (ipython-input-3755322112.py, line 2)",
          "traceback": [
            "\u001b[0;36m  File \u001b[0;32m\"/tmp/ipython-input-3755322112.py\"\u001b[0;36m, line \u001b[0;32m2\u001b[0m\n\u001b[0;31m    print('For loop:', value)\u001b[0m\n\u001b[0m    ^\u001b[0m\n\u001b[0;31mIndentationError\u001b[0m\u001b[0;31m:\u001b[0m expected an indented block after 'for' statement on line 1\n"
          ]
        }
      ],
      "source": [
        "for value in  [0,1,2]:\n",
        "print('For loop:', value)"
      ]
    },
    {
      "cell_type": "markdown",
      "metadata": {
        "id": "SYpXukrGee8G"
      },
      "source": [
        "エラーが出れば意図した通りにプログラムが組めていないのにすぐ気が付きますが、\n",
        "エラーが出ないために意図したプログラムが組めていないことに気が付かないことがあります。\n",
        "たとえば、次のような内容を実行しようとしていたとします。"
      ]
    },
    {
      "cell_type": "code",
      "execution_count": 34,
      "metadata": {
        "colab": {
          "base_uri": "https://localhost:8080/"
        },
        "id": "47Ksnou1ee8G",
        "outputId": "1f8ad5d4-e30e-4a41-9e6c-0f3a147368d0"
      },
      "outputs": [
        {
          "output_type": "stream",
          "name": "stdout",
          "text": [
            "During for loop: 0\n",
            "During for loop, too: 0\n",
            "During for loop: 1\n",
            "During for loop, too: 1\n",
            "During for loop: 2\n",
            "During for loop, too: 2\n"
          ]
        }
      ],
      "source": [
        "for value in  [0,1,2]:\n",
        "    print('During for loop:', value)\n",
        "    print('During for loop, too:', value)"
      ]
    },
    {
      "cell_type": "markdown",
      "metadata": {
        "id": "fDJa12JHee8G"
      },
      "source": [
        "後者の `print` の行のスペースの数が間違ってると、次のような結果になる場合がありますので注意してください。"
      ]
    },
    {
      "cell_type": "code",
      "execution_count": 35,
      "metadata": {
        "colab": {
          "base_uri": "https://localhost:8080/"
        },
        "id": "CeNSNrCSee8G",
        "outputId": "97031a68-9104-4a19-803e-75c39ecf39e6"
      },
      "outputs": [
        {
          "output_type": "stream",
          "name": "stdout",
          "text": [
            "During for loop: 0\n",
            "During for loop: 1\n",
            "During for loop: 2\n",
            "During for loop, too: 2\n"
          ]
        }
      ],
      "source": [
        "for value in [0,1,2]:\n",
        "    print('During for loop:', value) #ここまでで2が代入されるから下のコードには2が代入される。\n",
        "print('During for loop, too:', value) #この行のスペースの数が間違っていたがエラーは出ない"
      ]
    },
    {
      "cell_type": "markdown",
      "metadata": {
        "id": "hyGQZ4hUee8G"
      },
      "source": [
        "タプルの要素にまたがる処理もリストと同様に行えます。"
      ]
    },
    {
      "cell_type": "code",
      "execution_count": 36,
      "metadata": {
        "colab": {
          "base_uri": "https://localhost:8080/"
        },
        "id": "O_bHa0Sgee8G",
        "outputId": "401d28fc-4501-4e3c-83b8-40d2fb985e62"
      },
      "outputs": [
        {
          "output_type": "stream",
          "name": "stdout",
          "text": [
            "For loop: 0\n",
            "For loop: 1\n",
            "For loop: 2\n"
          ]
        }
      ],
      "source": [
        "for value in (0,1,2):\n",
        "    print('For loop:', value)"
      ]
    },
    {
      "cell_type": "markdown",
      "metadata": {
        "id": "wX_hqkzbee8G"
      },
      "source": [
        "以下はリストに対するfor文の典型例です。`numbers` は数のリストとします。"
      ]
    },
    {
      "cell_type": "code",
      "execution_count": 37,
      "metadata": {
        "id": "Zdx0FF7kee8G"
      },
      "outputs": [],
      "source": [
        "numbers = [0,1,2,3,4,5]"
      ]
    },
    {
      "cell_type": "markdown",
      "metadata": {
        "id": "eG5ogy8zee8G"
      },
      "source": [
        "以下のようにして、このリストの要素の自乗から成るリストを求めることができます。"
      ]
    },
    {
      "cell_type": "code",
      "execution_count": 38,
      "metadata": {
        "colab": {
          "base_uri": "https://localhost:8080/"
        },
        "id": "0K55BGrhee8G",
        "outputId": "74494dfc-54b4-4b5d-f7f7-6ebb92a3457b"
      },
      "outputs": [
        {
          "output_type": "execute_result",
          "data": {
            "text/plain": [
              "[0, 1, 4, 9, 16, 25]"
            ]
          },
          "metadata": {},
          "execution_count": 38
        }
      ],
      "source": [
        "squares1 = []\n",
        "for x in numbers:\n",
        "    squares1.append(x**2)\n",
        "squares1"
      ]
    },
    {
      "cell_type": "markdown",
      "metadata": {
        "id": "U_K25YKqee8H"
      },
      "source": [
        "`squares1` には最初に空リストが代入されます。\n",
        "そして、`numbers` の各要素の自乗がこのリストに次々と追加されます。"
      ]
    },
    {
      "cell_type": "markdown",
      "metadata": {
        "id": "lfuX2CDfee8H"
      },
      "source": [
        "## 練習\n",
        "整数の要素からなるリスト `ln` を引数として取り、`ln` の要素の総和を返す関数 `sum_list` を作成してください。\n",
        "\n",
        "以下のセルの `...` のところを書き換えて `sum_list(ln)` を作成してください。"
      ]
    },
    {
      "cell_type": "code",
      "execution_count": 41,
      "metadata": {
        "id": "sGyR_KIdee8H"
      },
      "outputs": [],
      "source": [
        "def sum_list(ln):\n",
        "    int_sum = 0\n",
        "    for value in ln:\n",
        "        int_sum = int_sum + value\n",
        "    return int_sum"
      ]
    },
    {
      "cell_type": "markdown",
      "metadata": {
        "id": "YPVXrBr-ee8H"
      },
      "source": [
        "上のセルで解答を作成した後、以下のセルを実行し、実行結果が全て True になることを確認してください。"
      ]
    },
    {
      "cell_type": "code",
      "execution_count": 42,
      "metadata": {
        "colab": {
          "base_uri": "https://localhost:8080/"
        },
        "id": "RtqrPhdSee8H",
        "outputId": "c60fe750-085a-47a0-bc99-dcf75210e956"
      },
      "outputs": [
        {
          "output_type": "stream",
          "name": "stdout",
          "text": [
            "True\n",
            "True\n"
          ]
        }
      ],
      "source": [
        "print(sum_list([10, 20, 30]) == 60)\n",
        "print(sum_list([-1, 2, -3, 4, -5]) == -3)"
      ]
    },
    {
      "cell_type": "markdown",
      "metadata": {
        "id": "LY70VW2jee8H"
      },
      "source": [
        "##  for文による繰り返しと文字列\n",
        "\n",
        "for文を使うと文字列全体にまたがる処理も可能です。\n",
        "文字列 `str1` をまたがって一文字ずつの繰り返し処理を行う場合は次のように書きます。\n",
        "ここで、`c` には取り出された一文字（の文字列）が代入されています。\n",
        "\n",
        "---\n",
        "```Python\n",
        "for c in str1:\n",
        "    実行文\n",
        "```\n",
        "---\n",
        "\n",
        "`str1` で与えられる文字列を一文字ずつ大文字で出力する処理は以下のようになります。"
      ]
    },
    {
      "cell_type": "code",
      "execution_count": 43,
      "metadata": {
        "colab": {
          "base_uri": "https://localhost:8080/"
        },
        "id": "QnE0r59pee8H",
        "outputId": "f54fb53c-4ae0-42f3-ec3c-6a06a19a48b7"
      },
      "outputs": [
        {
          "output_type": "stream",
          "name": "stdout",
          "text": [
            "A\n",
            "P\n",
            "P\n",
            "L\n",
            "E\n",
            " \n",
            "A\n",
            "N\n",
            "D\n",
            " \n",
            "P\n",
            "E\n",
            "N\n"
          ]
        }
      ],
      "source": [
        "str1 = 'Apple and pen'\n",
        "for c in str1:\n",
        "    print(c.upper())"
      ]
    },
    {
      "cell_type": "markdown",
      "metadata": {
        "id": "QA8OZ-C5ee8H"
      },
      "source": [
        "## 練習\n",
        "\n",
        "ATGCの4種類の文字から成る文字列 `str_atgc` が引数として与えられたとき、次のようなリスト `list_count` を返す関数 `atgc_countlist` を作成してください。ただし、 `list_count` の要素は、各塩基 `bp` に対して `str_atgc` 中の `bp` の出現回数と `bp` の名前を格納した（長さ2の）リストとします。\n",
        "\n",
        "ヒント：文字列 `'ATGC'` に対する繰り返しを用いることができます。\n",
        "\n",
        "以下のセルの `...` のところを書き換えて `atgc_countlist(str_atgc)` を作成してください。"
      ]
    },
    {
      "cell_type": "code",
      "execution_count": 44,
      "metadata": {
        "id": "kx2e_-Bkee8H"
      },
      "outputs": [],
      "source": [
        "def atgc_countlist(str_atgc):\n",
        "    list_count = []\n",
        "    for value in 'ATGC':\n",
        "        bp = str_atgc.count(value)\n",
        "        list_count.append([bp, value])\n",
        "    return list_count"
      ]
    },
    {
      "cell_type": "markdown",
      "metadata": {
        "id": "liRBLb-vee8H"
      },
      "source": [
        "上のセルで解答を作成した後、以下のセルを実行し、実行結果が `True` になることを確認してください。"
      ]
    },
    {
      "cell_type": "code",
      "execution_count": 45,
      "metadata": {
        "tags": [
          "raises-exception"
        ],
        "colab": {
          "base_uri": "https://localhost:8080/"
        },
        "id": "BI4t8gJ8ee8H",
        "outputId": "babff869-c485-4b98-de38-cd088e7aebe4"
      },
      "outputs": [
        {
          "output_type": "stream",
          "name": "stdout",
          "text": [
            "True\n"
          ]
        }
      ],
      "source": [
        "print(sorted(atgc_countlist('AAGCCCCATGGTAA')) == sorted([[5, 'A'], [2, 'T'], [3, 'G'], [4, 'C']]))"
      ]
    },
    {
      "cell_type": "markdown",
      "metadata": {
        "id": "qslKxebdee8H"
      },
      "source": [
        "## for文によるリスト初期化の短縮記法\n",
        "\n",
        "先に、リストの要素の自乗から成るリストを求める例を説明しました。"
      ]
    },
    {
      "cell_type": "code",
      "execution_count": 46,
      "metadata": {
        "colab": {
          "base_uri": "https://localhost:8080/"
        },
        "id": "F9K9EdVEee8I",
        "outputId": "4601de30-439f-458e-90f8-43128371616f"
      },
      "outputs": [
        {
          "output_type": "execute_result",
          "data": {
            "text/plain": [
              "[0, 1, 4, 9, 16, 25]"
            ]
          },
          "metadata": {},
          "execution_count": 46
        }
      ],
      "source": [
        "numbers = [0,1,2,3,4,5]\n",
        "\n",
        "squares1 = []\n",
        "for x in numbers:\n",
        "    squares1.append(x**2)\n",
        "squares1"
      ]
    },
    {
      "cell_type": "markdown",
      "metadata": {
        "id": "_Qhq12ihee8I"
      },
      "source": [
        "詳しくは6-1で説明されますが、**内包表記**を用いて書き換えると、以下のように1行で書くことができます。"
      ]
    },
    {
      "cell_type": "code",
      "execution_count": 47,
      "metadata": {
        "colab": {
          "base_uri": "https://localhost:8080/"
        },
        "id": "-y1Brz5Vee8I",
        "outputId": "c901764e-3ec4-484a-d212-a83e37f9e23d"
      },
      "outputs": [
        {
          "output_type": "execute_result",
          "data": {
            "text/plain": [
              "[0, 1, 4, 9, 16, 25]"
            ]
          },
          "metadata": {},
          "execution_count": 47
        }
      ],
      "source": [
        "squares2 = [x**2 for x in numbers]\n",
        "squares2"
      ]
    },
    {
      "cell_type": "markdown",
      "metadata": {
        "id": "1Uje-xlyee8I"
      },
      "source": [
        "すなわち、\n",
        "```Python\n",
        "[x を含む式 for x in リストを返す式]\n",
        "```\n",
        "という式は、\"リストを返す式\" が返したリストの各要素を `x` に代入して \"`x` を含む式\" を計算し、\n",
        "その結果をリストにして返します。\n",
        "もちろん、変数は `x` でなくてもよいです。"
      ]
    },
    {
      "cell_type": "code",
      "execution_count": 48,
      "metadata": {
        "colab": {
          "base_uri": "https://localhost:8080/"
        },
        "id": "WuefW2GOee8I",
        "outputId": "e7b19659-47e3-4dc8-b570-80ea3794fff0"
      },
      "outputs": [
        {
          "output_type": "execute_result",
          "data": {
            "text/plain": [
              "[0, 1, 4, 9, 16, 25]"
            ]
          },
          "metadata": {},
          "execution_count": 48
        }
      ],
      "source": [
        "[y**2 for y in numbers]"
      ]
    },
    {
      "cell_type": "markdown",
      "metadata": {
        "id": "s7hKMGBRee8I"
      },
      "source": [
        "## ▲オブジェクトの等価性と同一性\n",
        "\n",
        "1-3で、Pythonにおける値はオブジェクトと総称されますと述べました。\n",
        "ここでは、オブジェクトの等価性と同一性について説明します。\n",
        "\n",
        "既に見てきたように、演算子 `==` を用いて**オブジェクトの等価性**を判定できます。"
      ]
    },
    {
      "cell_type": "code",
      "execution_count": 49,
      "metadata": {
        "id": "cfDDBWjVee8I"
      },
      "outputs": [],
      "source": [
        "a = []\n",
        "b = []"
      ]
    },
    {
      "cell_type": "markdown",
      "metadata": {
        "id": "Ua21GJDCee8I"
      },
      "source": [
        "このとき、`a` と `b` の値はどちらも空リストなので、以下のように `a` の値と `b` の値は等価です。"
      ]
    },
    {
      "cell_type": "code",
      "execution_count": 50,
      "metadata": {
        "colab": {
          "base_uri": "https://localhost:8080/"
        },
        "id": "I4HeSF_Tee8I",
        "outputId": "f69f7cd2-e0bb-4f1e-bd88-5478c3d14558"
      },
      "outputs": [
        {
          "output_type": "execute_result",
          "data": {
            "text/plain": [
              "True"
            ]
          },
          "metadata": {},
          "execution_count": 50
        }
      ],
      "source": [
        "a == b"
      ]
    },
    {
      "cell_type": "markdown",
      "metadata": {
        "id": "b7eCyJY1ee8I"
      },
      "source": [
        "しかし、`[`  で始まり `]` で終わる式を評価すると、\n",
        "必ず新しいリスト（オブジェクト）が作られて返されるので、\n",
        "`a` と `b` の値は同一ではありません。\n",
        "\n",
        "**オブジェクトの同一性**は演算子 **`is`** を用いて判定できます。"
      ]
    },
    {
      "cell_type": "code",
      "execution_count": 51,
      "metadata": {
        "colab": {
          "base_uri": "https://localhost:8080/"
        },
        "id": "IJkNILpWee8I",
        "outputId": "b77a8a7d-e028-4672-9451-41df7ad4a421"
      },
      "outputs": [
        {
          "output_type": "execute_result",
          "data": {
            "text/plain": [
              "False"
            ]
          },
          "metadata": {},
          "execution_count": 51
        }
      ],
      "source": [
        "a is b"
      ]
    },
    {
      "cell_type": "markdown",
      "metadata": {
        "id": "1zS4VNHfee8I"
      },
      "source": [
        "リストの要素はオブジェクトなので、要素ごとに等価性と同一性が定まります。\n",
        "\n",
        "例として、`a` と `b` を要素とするリスト `c` を作ります。"
      ]
    },
    {
      "cell_type": "code",
      "execution_count": 52,
      "metadata": {
        "colab": {
          "base_uri": "https://localhost:8080/"
        },
        "id": "aakqFxOeee8I",
        "outputId": "723e8914-3699-463e-b175-74e83dae4c7c"
      },
      "outputs": [
        {
          "output_type": "execute_result",
          "data": {
            "text/plain": [
              "[[], []]"
            ]
          },
          "metadata": {},
          "execution_count": 52
        }
      ],
      "source": [
        "c = [a, b]\n",
        "c"
      ]
    },
    {
      "cell_type": "code",
      "execution_count": 53,
      "metadata": {
        "colab": {
          "base_uri": "https://localhost:8080/"
        },
        "id": "2LoUMMccee8I",
        "outputId": "c4a016d9-ee2d-44f8-dce7-a7ab057c138c"
      },
      "outputs": [
        {
          "output_type": "execute_result",
          "data": {
            "text/plain": [
              "False"
            ]
          },
          "metadata": {},
          "execution_count": 53
        }
      ],
      "source": [
        "c[0] is c[1]"
      ]
    },
    {
      "cell_type": "markdown",
      "metadata": {
        "id": "6hQomRdEee8I"
      },
      "source": [
        "`a` を変化させてみましょう。"
      ]
    },
    {
      "cell_type": "code",
      "execution_count": 54,
      "metadata": {
        "colab": {
          "base_uri": "https://localhost:8080/"
        },
        "id": "Rf4ujmrSee8J",
        "outputId": "4edce304-4fb7-4c5c-97ec-762dd518e008"
      },
      "outputs": [
        {
          "output_type": "execute_result",
          "data": {
            "text/plain": [
              "[1]"
            ]
          },
          "metadata": {},
          "execution_count": 54
        }
      ],
      "source": [
        "a.append(1)\n",
        "a"
      ]
    },
    {
      "cell_type": "markdown",
      "metadata": {
        "id": "bGlhtIEuee8J"
      },
      "source": [
        "すると `c` は以下のようになります。"
      ]
    },
    {
      "cell_type": "code",
      "execution_count": 55,
      "metadata": {
        "colab": {
          "base_uri": "https://localhost:8080/"
        },
        "id": "55qvg-yVee8J",
        "outputId": "d080a18a-d846-4844-d6c0-92012ad2e03c"
      },
      "outputs": [
        {
          "output_type": "execute_result",
          "data": {
            "text/plain": [
              "[[1], []]"
            ]
          },
          "metadata": {},
          "execution_count": 55
        }
      ],
      "source": [
        "c"
      ]
    },
    {
      "cell_type": "markdown",
      "metadata": {
        "id": "FE3HCc6fee8J"
      },
      "source": [
        "ここで、`a` と `b` は等価でなくなりました。"
      ]
    },
    {
      "cell_type": "code",
      "execution_count": 56,
      "metadata": {
        "colab": {
          "base_uri": "https://localhost:8080/"
        },
        "id": "I_dr1gxwee8J",
        "outputId": "8017fd73-832b-49c7-fbaa-787e9e584176"
      },
      "outputs": [
        {
          "output_type": "execute_result",
          "data": {
            "text/plain": [
              "False"
            ]
          },
          "metadata": {},
          "execution_count": 56
        }
      ],
      "source": [
        "a == b"
      ]
    },
    {
      "cell_type": "markdown",
      "metadata": {
        "id": "755ew3nNee8J"
      },
      "source": [
        "次に、`b` を要素として二重に含むリスト `d` を作ります。"
      ]
    },
    {
      "cell_type": "code",
      "execution_count": 57,
      "metadata": {
        "colab": {
          "base_uri": "https://localhost:8080/"
        },
        "id": "yltkwEHUee8J",
        "outputId": "2fa27e7a-96a7-422c-f7ed-d8d4520473ed"
      },
      "outputs": [
        {
          "output_type": "execute_result",
          "data": {
            "text/plain": [
              "[[], []]"
            ]
          },
          "metadata": {},
          "execution_count": 57
        }
      ],
      "source": [
        "d = [b, b]\n",
        "d"
      ]
    },
    {
      "cell_type": "code",
      "execution_count": 58,
      "metadata": {
        "colab": {
          "base_uri": "https://localhost:8080/"
        },
        "id": "AzjXpmYuee8J",
        "outputId": "87923cd2-6636-4516-e964-aa55b9e32692"
      },
      "outputs": [
        {
          "output_type": "execute_result",
          "data": {
            "text/plain": [
              "True"
            ]
          },
          "metadata": {},
          "execution_count": 58
        }
      ],
      "source": [
        "d[0] is d[1]"
      ]
    },
    {
      "cell_type": "markdown",
      "metadata": {
        "id": "7d0_MYtVee8J"
      },
      "source": [
        "`b` を変化させてみましょう。"
      ]
    },
    {
      "cell_type": "code",
      "execution_count": 59,
      "metadata": {
        "colab": {
          "base_uri": "https://localhost:8080/"
        },
        "id": "OONEbnb1ee8J",
        "outputId": "e12cef10-5d64-4515-f2e7-1e365c24aaef"
      },
      "outputs": [
        {
          "output_type": "execute_result",
          "data": {
            "text/plain": [
              "[1]"
            ]
          },
          "metadata": {},
          "execution_count": 59
        }
      ],
      "source": [
        "b.append(1)\n",
        "b"
      ]
    },
    {
      "cell_type": "markdown",
      "metadata": {
        "id": "n7-H1kN-ee8J"
      },
      "source": [
        "すると `d` は以下のようになります。"
      ]
    },
    {
      "cell_type": "code",
      "execution_count": 60,
      "metadata": {
        "colab": {
          "base_uri": "https://localhost:8080/"
        },
        "id": "9DIuEelAee8J",
        "outputId": "66249bd7-5f3a-400b-abb1-56073fe40f2a"
      },
      "outputs": [
        {
          "output_type": "execute_result",
          "data": {
            "text/plain": [
              "[[1], [1]]"
            ]
          },
          "metadata": {},
          "execution_count": 60
        }
      ],
      "source": [
        "d"
      ]
    },
    {
      "cell_type": "markdown",
      "metadata": {
        "id": "HUbo9HUDee8J"
      },
      "source": [
        "演算子 `==` でリストを比較すると、要素まで見て等価性を判定します。"
      ]
    },
    {
      "cell_type": "code",
      "execution_count": 61,
      "metadata": {
        "colab": {
          "base_uri": "https://localhost:8080/"
        },
        "id": "RBSN3x2zee8J",
        "outputId": "acd9dd97-54c9-4029-8887-379434d1a5c7"
      },
      "outputs": [
        {
          "output_type": "stream",
          "name": "stdout",
          "text": [
            "[1] [1]\n"
          ]
        },
        {
          "output_type": "execute_result",
          "data": {
            "text/plain": [
              "True"
            ]
          },
          "metadata": {},
          "execution_count": 61
        }
      ],
      "source": [
        "print(a, b)\n",
        "a == b"
      ]
    },
    {
      "cell_type": "markdown",
      "metadata": {
        "id": "EjaBEwCDee8J"
      },
      "source": [
        "演算子 `==` は、要素の比較も `==` で行います。"
      ]
    },
    {
      "cell_type": "code",
      "execution_count": 62,
      "metadata": {
        "colab": {
          "base_uri": "https://localhost:8080/"
        },
        "id": "mzpS8ZFqee8J",
        "outputId": "c5a71ee7-2e86-4dcc-e503-c894456601fc"
      },
      "outputs": [
        {
          "output_type": "stream",
          "name": "stdout",
          "text": [
            "[[1], [1]] [[1], [1]]\n"
          ]
        },
        {
          "output_type": "execute_result",
          "data": {
            "text/plain": [
              "True"
            ]
          },
          "metadata": {},
          "execution_count": 62
        }
      ],
      "source": [
        "print(c, d)\n",
        "c == d"
      ]
    },
    {
      "cell_type": "markdown",
      "metadata": {
        "id": "QmYe0BG_ee8K"
      },
      "source": [
        "一方、オブジェクトの同一性は変化しません。"
      ]
    },
    {
      "cell_type": "code",
      "execution_count": 63,
      "metadata": {
        "colab": {
          "base_uri": "https://localhost:8080/"
        },
        "id": "5oE4LzKaee8K",
        "outputId": "718ec26b-7c59-4173-80c5-c57fbc3ff168"
      },
      "outputs": [
        {
          "output_type": "execute_result",
          "data": {
            "text/plain": [
              "False"
            ]
          },
          "metadata": {},
          "execution_count": 63
        }
      ],
      "source": [
        "a is b"
      ]
    },
    {
      "cell_type": "markdown",
      "metadata": {
        "id": "RLJ_odXuee8K"
      },
      "source": [
        "`==` の否定形は `!=` で、`is` の否定形は **`is not`** です。\n",
        "`not x == y` は `x != y` と書けます。`not x is y` は `x is not y` と書けます。\n",
        "`is not` はこれで1つの演算子なので注意してください。"
      ]
    },
    {
      "cell_type": "code",
      "execution_count": 64,
      "metadata": {
        "colab": {
          "base_uri": "https://localhost:8080/"
        },
        "id": "M-JXsMpvee8K",
        "outputId": "0094ed35-fe5b-49c1-cc31-e560be81989d"
      },
      "outputs": [
        {
          "output_type": "execute_result",
          "data": {
            "text/plain": [
              "False"
            ]
          },
          "metadata": {},
          "execution_count": 64
        }
      ],
      "source": [
        "c != d"
      ]
    },
    {
      "cell_type": "code",
      "execution_count": 65,
      "metadata": {
        "colab": {
          "base_uri": "https://localhost:8080/"
        },
        "id": "GOKIRFj_ee8K",
        "outputId": "c2ad8be4-c305-49d8-e2c6-74d177b4c80d"
      },
      "outputs": [
        {
          "output_type": "execute_result",
          "data": {
            "text/plain": [
              "True"
            ]
          },
          "metadata": {},
          "execution_count": 65
        }
      ],
      "source": [
        "a is not b"
      ]
    },
    {
      "cell_type": "markdown",
      "metadata": {
        "id": "gCnsVCPjee8K"
      },
      "source": [
        "## 練習の解答"
      ]
    },
    {
      "cell_type": "code",
      "execution_count": null,
      "metadata": {
        "id": "KOXfc9GGee8K"
      },
      "outputs": [],
      "source": [
        "def remove_evenindex(ln):\n",
        "    ln2 = ln[1::2]\n",
        "    return ln2\n",
        "#remove_evenindex(['a', 'b', 'c', 'd', 'e', 'f', 'g'])"
      ]
    },
    {
      "cell_type": "code",
      "execution_count": null,
      "metadata": {
        "id": "DpVgtU-nee8K"
      },
      "outputs": [],
      "source": [
        "def change_domain(email, domain):\n",
        "    return '@'.join([email.split('@')[0], domain])"
      ]
    },
    {
      "cell_type": "code",
      "execution_count": null,
      "metadata": {
        "id": "GeruiICUee8K"
      },
      "outputs": [],
      "source": [
        "def reverse_totuple(ln):\n",
        "    ln.reverse()\n",
        "    tup = tuple(ln)\n",
        "    return tup\n",
        "#reverse_totuple([1, 2, 3, 4, 5])"
      ]
    },
    {
      "cell_type": "code",
      "execution_count": null,
      "metadata": {
        "id": "HiKRBmfNee8K"
      },
      "outputs": [],
      "source": [
        "def sum_list(ln):\n",
        "    int_sum = 0\n",
        "    for value in ln:\n",
        "        int_sum += value\n",
        "    return int_sum\n",
        "#sum_list([10, 20, 30])"
      ]
    },
    {
      "cell_type": "code",
      "execution_count": null,
      "metadata": {
        "id": "EsqhsS2nee8K"
      },
      "outputs": [],
      "source": [
        "def atgc_countlist(str_atgc):\n",
        "    list_count = []\n",
        "    for value in 'ATGC':\n",
        "        int_bpcnt = str_atgc.count(value)\n",
        "        list_count.append([int_bpcnt, value])\n",
        "    return list_count\n",
        "#atgc_countlist('AAGCCCCATGGTAA')"
      ]
    },
    {
      "cell_type": "code",
      "execution_count": null,
      "metadata": {
        "id": "agB0NgnFee8K"
      },
      "outputs": [],
      "source": []
    }
  ],
  "metadata": {
    "kernelspec": {
      "display_name": "Python 3",
      "language": "python",
      "name": "python3"
    },
    "language_info": {
      "name": "python"
    },
    "colab": {
      "provenance": []
    }
  },
  "nbformat": 4,
  "nbformat_minor": 0
}