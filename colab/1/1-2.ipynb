{
  "cells": [
    {
      "cell_type": "markdown",
      "metadata": {
        "id": "qHOFissbxGsM"
      },
      "source": [
        "# 1-2. 変数と関数の基礎\n",
        "変数と関数の基礎について説明します。\n",
        "\n",
        "参考\n",
        "\n",
        "- https://docs.python.org/ja/3/tutorial/introduction.html#first-steps-towards-programming\n",
        "- https://docs.python.org/ja/3/tutorial/controlflow.html#defining-functions\n",
        "- https://docs.python.org/ja/3/library/functions.html#print"
      ]
    },
    {
      "cell_type": "markdown",
      "metadata": {
        "id": "u4RYzpv3xGsO"
      },
      "source": [
        "## 変数\n",
        "プログラミング言語における**変数**とは、値に名前を付ける仕組みであり、名前はその値を指し示すことになります。"
      ]
    },
    {
      "cell_type": "code",
      "execution_count": 1,
      "metadata": {
        "id": "6707gtsUxGsP"
      },
      "outputs": [],
      "source": [
        "h = 188.0"
      ]
    },
    {
      "cell_type": "markdown",
      "metadata": {
        "id": "Xufa8UlRxGsR"
      },
      "source": [
        "以上のように **`=`** を用いる構文によって、`188.0` という値に `h` という名前が付きます。これを**変数定義**と呼びます。\n",
        "\n",
        "定義された変数は、式の中で使うことができます。`h` という変数自体も式なので、`h` という式を評価することができ、変数が指し示す値が返ります。"
      ]
    },
    {
      "cell_type": "code",
      "execution_count": 2,
      "metadata": {
        "id": "s0SW2u97xGsS",
        "outputId": "f5d9c906-c0eb-4abe-be76-efe088fa66b0",
        "colab": {
          "base_uri": "https://localhost:8080/"
        }
      },
      "outputs": [
        {
          "output_type": "execute_result",
          "data": {
            "text/plain": [
              "188.0"
            ]
          },
          "metadata": {},
          "execution_count": 2
        }
      ],
      "source": [
        "h"
      ]
    },
    {
      "cell_type": "markdown",
      "metadata": {
        "id": "aALq53LrxGsS"
      },
      "source": [
        "異なる変数は、いくらでも導入できます。たとえば、以下では `w` を変数定義します。"
      ]
    },
    {
      "cell_type": "code",
      "execution_count": null,
      "metadata": {
        "id": "kVobT8ycxGsS"
      },
      "outputs": [],
      "source": [
        "w = 104.0"
      ]
    },
    {
      "cell_type": "markdown",
      "metadata": {
        "id": "GuPg-ItfxGsT"
      },
      "source": [
        "ここで、`h` を身長 (cm)、`w` を体重 (kg) の意味と考えると、次の式によってBMI（ボディマス指数）を計算できます。"
      ]
    },
    {
      "cell_type": "code",
      "execution_count": null,
      "metadata": {
        "id": "UQ4upBNGxGsT"
      },
      "outputs": [],
      "source": [
        "w / (h/100.0) ** 3takayukimurata"
      ]
    },
    {
      "cell_type": "markdown",
      "metadata": {
        "id": "cBKzcC99xGsU"
      },
      "source": [
        "なお、演算子 `**` の方が `/` よりも先に評価されることに注意してください。"
      ]
    },
    {
      "cell_type": "markdown",
      "metadata": {
        "id": "EJQlFrB5xGsU"
      },
      "source": [
        "変数という名前の通り、変数が指し示す値を変えることもできます。"
      ]
    },
    {
      "cell_type": "code",
      "execution_count": null,
      "metadata": {
        "id": "U9ASiJEyxGsU"
      },
      "outputs": [],
      "source": [
        "w = 104.0-10"
      ]
    },
    {
      "cell_type": "markdown",
      "metadata": {
        "id": "ehjMLQLpxGsU"
      },
      "source": [
        "このように変数を再定義すれば、元々 `w` が指し示していた値 `104.0` を忘れて、新たな値 `94.0` を指し示すようになります。\n",
        "この後で、前と同じBMIの式を評価してみると、`w` の値の変化に応じて、BMIの計算結果は変わります。"
      ]
    },
    {
      "cell_type": "code",
      "execution_count": null,
      "metadata": {
        "id": "uczZJK4ZxGsV"
      },
      "outputs": [],
      "source": [
        "w / (h/100.0) ** 2"
      ]
    },
    {
      "cell_type": "markdown",
      "metadata": {
        "id": "cwg-O55gxGsV"
      },
      "source": [
        "なお、未定義の変数（たとえば `BMI`）を式の中で用いると、次のようにエラーが生じます。\n",
        "\n",
        "```\n",
        "---------------------------------------------------------------------------\n",
        "NameError                                 Traceback (most recent call last)\n",
        "<ipython-input-1-b910749d4383> in <module>\n",
        "----> 1 BMI  # 未定義の変数\n",
        "\n",
        "NameError: name 'BMI' is not defined\n",
        "```\n",
        "\n",
        "次のセルの行頭にある `#` を削除して実行してみましょう。"
      ]
    },
    {
      "cell_type": "code",
      "execution_count": null,
      "metadata": {
        "id": "cNM8gn3vxGsV"
      },
      "outputs": [],
      "source": [
        "# BMI  # 未定義の変数"
      ]
    },
    {
      "cell_type": "markdown",
      "metadata": {
        "id": "WZLR7oplxGsV"
      },
      "source": [
        "以降では、単純のため、変数が指し示す値を、変数の値として説明していきます。"
      ]
    },
    {
      "cell_type": "markdown",
      "metadata": {
        "id": "7LODxv9pxGsW"
      },
      "source": [
        "### 代入文\n",
        "変数定義に用いた **`=`** による構文を、Pythonでは**代入文** (**assignment statement**) と呼びます。\n",
        "そして、代入文を実行することを**代入** (**assignment**) と言います。\n",
        "代入文は、`=` の左辺に右辺の式の評価結果の値を割り当てる文です。\n",
        "上記の例のように、左辺が変数の場合には、代入文は変数定義と解釈されます。\n",
        "\n",
        "代入文は、右辺を評価した後に左辺に割り当てるという順番に従います。右辺に出現する変数が左辺に出て来てもかまいません。"
      ]
    },
    {
      "cell_type": "code",
      "execution_count": null,
      "metadata": {
        "id": "5nrc1D3HxGsW"
      },
      "outputs": [],
      "source": [
        "w = w-10"
      ]
    },
    {
      "cell_type": "markdown",
      "metadata": {
        "id": "Vefz9AONxGsW"
      },
      "source": [
        "上の代入文は、`w` の値を `10` 減らす操作となります。`=` は数学的な等号ではないことに注意してください。\n",
        "\n",
        "もう一度BMIを計算してみると、`w` の値が減ったことで、先と結果が変わります。"
      ]
    },
    {
      "cell_type": "code",
      "execution_count": null,
      "metadata": {
        "id": "fl8SuDeyxGsW"
      },
      "outputs": [],
      "source": [
        "w / (h/100.0) ** 2"
      ]
    },
    {
      "cell_type": "markdown",
      "metadata": {
        "id": "CLDZ2QOcxGsW"
      },
      "source": [
        "***注意***： 数学における代入は、substitution（置換）であり、プログラミング言語における代入 (assignment) とは異なります。代入という単語よりも、assignment（割り当て）という単語で概念を覚えましょう。"
      ]
    },
    {
      "cell_type": "markdown",
      "metadata": {
        "id": "LOIAqVTxxGsW"
      },
      "source": [
        "### 累積代入文\n",
        "上の例のように変数の値を減らす操作は、次のような**累算代入文** (**augmented assignment statement**) を使って簡潔に記述することができます。"
      ]
    },
    {
      "cell_type": "code",
      "execution_count": null,
      "metadata": {
        "id": "6S-_RVkkxGsX"
      },
      "outputs": [],
      "source": [
        "w -= 10"
      ]
    },
    {
      "cell_type": "markdown",
      "metadata": {
        "id": "etj4mTHqxGsX"
      },
      "source": [
        "ここで、**`-=`** という演算子は、`-` と `=` を結合させた演算子で、`w = w - 10` という代入文と同じ意味になります。\n",
        "これは代入文と2項演算が複合したものであり、`-` に限らず、他の2項演算についても同様に複合した累算代入文が利用できます。たとえば、変数の値を増やすには **`+=`** という演算子を用いることができます。"
      ]
    },
    {
      "cell_type": "code",
      "execution_count": null,
      "metadata": {
        "id": "laF0Hn7sxGsX"
      },
      "outputs": [],
      "source": [
        "w += 10"
      ]
    },
    {
      "cell_type": "markdown",
      "metadata": {
        "id": "rJilC7s9xGsX"
      },
      "source": [
        "`=` も含めて、これらの演算子は**代入演算子**と呼ばれています。代入演算子によって変数の値がどのように変わるか、確かめてください。"
      ]
    },
    {
      "cell_type": "code",
      "execution_count": null,
      "metadata": {
        "id": "x85u3dGCxGsX"
      },
      "outputs": [],
      "source": []
    },
    {
      "cell_type": "markdown",
      "metadata": {
        "id": "qZKHfPDuxGsX"
      },
      "source": [
        "## 関数の定義と返値\n",
        "前述のように、変数の値が変わるたびにBMIの式を入力するのは面倒です。以下では、身長 `height` と体重 `weight` をもらって、BMIを計算する**関数** `bmi` を定義してみましょう。関数を定義すると、BMIの式の再入力を省けて便利です。\n",
        "\n",
        "次のような形式で、**関数定義**を記述できます。\n",
        "\n",
        "関数定義など、複数行のコードセルには、**行番号**を振るのがよいかもしれません。行番号を振るかどうかは、コマンドモードでエルの文字（大文字でも小文字でもよいです）を入力することによって、スイッチできます。行番号があるかないかは、コードの実行には影響しません。"
      ]
    },
    {
      "cell_type": "code",
      "execution_count": null,
      "metadata": {
        "id": "uxZeQlFHxGsX"
      },
      "outputs": [],
      "source": [
        "def bmi(height, weight):\n",
        "    return weight / (height/100.0) ** 2"
      ]
    },
    {
      "cell_type": "markdown",
      "metadata": {
        "id": "dOgXj7TaxGsX"
      },
      "source": [
        "Python では、**関数定義**は、上のような形をしています。\n",
        "最初の行は以下のように **`def`** で始まります。\n",
        "\n",
        "------\n",
        "```Python\n",
        "    def 関数名(引数, ...):\n",
        "```\n",
        "------\n",
        "**引数**（ひきすう）とは、関数が受け取る値を指し示す変数のことです。**仮引数**（かりひきすう）ともいいます。"
      ]
    },
    {
      "cell_type": "markdown",
      "metadata": {
        "id": "w_STo0gfxGsY"
      },
      "source": [
        "`:` 以降は関数定義の本体であり、関数の処理を記述する部分として以下の構文が続きます。\n",
        "\n",
        "------\n",
        "```Python\n",
        "    return 式\n",
        "```\n",
        "------   \n",
        "\n",
        "この構文は **`return`** で始まり、**return文**と呼ばれます。return文は、`return` に続く式の評価結果を、関数の呼び出し元に返して（これを**返値**と言います）、関数を終了するという意味を持ちます。この関数を、入力となる引数とともに呼び出すと、`return` の後の式の評価結果を返値として返します。\n",
        "\n",
        "\n",
        "ここで、Pythonでは、\n",
        "`return` の前に空白が入ることに注意してください。\n",
        "このような行頭の空白を**インデント**と呼びます。\n",
        "Pythonでは、インデントの量によって、\n",
        "構文の**入れ子**を制御するようになっています。このことについては、\n",
        "より複雑な構文が出てきたときに説明しましょう。\n",
        "\n",
        "\n",
        "上記では、`def` の後に続く `bmi` が関数名です。それに続く括弧の中に書かれた `height` と `weight` は、**引数**です。また、`return` の後にBMIの計算式を記述しているので、関数の呼び出し元にはBMIの計算結果が返値として返ります。\n",
        "\n",
        "\n",
        "では、定義した関数 `bmi` を呼び出してみましょう。"
      ]
    },
    {
      "cell_type": "code",
      "execution_count": null,
      "metadata": {
        "id": "w8u7eLhLxGsY"
      },
      "outputs": [],
      "source": [
        "bmi(188.0,104.0)"
      ]
    },
    {
      "cell_type": "markdown",
      "metadata": {
        "id": "1jFtFszlxGsY"
      },
      "source": [
        "第1引数を身長（cm）、第2引数を体重（kg）としたときのBMIが計算されていることがわかります。\n",
        "\n",
        "関数呼び出しは演算式の一種なので、引数の位置には任意の式を記述できますし、\n",
        "関数呼び出し自体も式の中に記述できます。"
      ]
    },
    {
      "cell_type": "code",
      "execution_count": null,
      "metadata": {
        "id": "vM0EYS0cxGsY"
      },
      "outputs": [],
      "source": [
        "1.1*bmi(174.0, 119.0 * 0.454)"
      ]
    },
    {
      "cell_type": "markdown",
      "metadata": {
        "id": "DObBYRXuxGsY"
      },
      "source": [
        "もう1つ関数を定義してみましょう。"
      ]
    },
    {
      "cell_type": "code",
      "execution_count": null,
      "metadata": {
        "id": "-CDAxgizxGsY"
      },
      "outputs": [],
      "source": [
        "def felt_air_temperature(temperature, humidity):\n",
        "    return temperature - 1 / 2.3 * (temperature - 10) * (0.8 - humidity / 100)"
      ]
    },
    {
      "cell_type": "markdown",
      "metadata": {
        "id": "PRo5gSEjxGsY"
      },
      "source": [
        "この関数は、温度と湿度を入力として、体感温度を返します。\n",
        "このように、関数名や変数名には `_` (アンダースコア）を含めることができます。\n",
        "アンダースコアで始めることもできます。\n",
        "\n",
        "数字も関数名や変数名に含めることができますが、\n",
        "名前の最初に来てはいけません。"
      ]
    },
    {
      "cell_type": "code",
      "execution_count": null,
      "metadata": {
        "id": "iOfUi7DRxGsY"
      },
      "outputs": [],
      "source": [
        "felt_air_temperature(28, 50)"
      ]
    },
    {
      "cell_type": "markdown",
      "metadata": {
        "id": "hKtMCAjBxGsg"
      },
      "source": [
        "なお、`return` の後に式を書かないと、何も返されなかったことを表現するために、「何もない」ことを表す **`None`** という特別な値が返ります。\n",
        "（`None` という値は色々なところで現れることでしょう。）\n",
        "\n",
        "return文に到達せずに関数定義本体の最後まで行ってしまったときも、`None` という値が返ります。"
      ]
    },
    {
      "cell_type": "markdown",
      "metadata": {
        "id": "aalYiGoXxGsg"
      },
      "source": [
        "### 予約語\n",
        "Pythonでの `def` や `return` は、関数定義やreturn文の始まりを記述するための特別な記号であり、それ以外の用途に用いることができません。\n",
        "このように構文上で役割が予約されている語は、**予約語**と呼ばれます。\n",
        "Codeセルの構文ハイライトで（太字緑色などで）強調されるものが予約語だと覚えておけば大体問題ありません。"
      ]
    },
    {
      "cell_type": "markdown",
      "metadata": {
        "id": "LZftQl24xGsh"
      },
      "source": [
        "### 練習 `ft_to_cm`\n",
        "\n",
        "`f` フィート `i` インチをセンチメートルに変換する関数 `ft_to_cm(f,i)` を定義してください。\n",
        "ただし、1 フィート = 12 インチ = 30.48 cm としてよい。"
      ]
    },
    {
      "cell_type": "code",
      "execution_count": null,
      "metadata": {
        "id": "w9cj9xmexGsh"
      },
      "outputs": [],
      "source": [
        "def ft_to_cm(f, i):\n",
        "    ..."
      ]
    },
    {
      "cell_type": "markdown",
      "metadata": {
        "id": "yUAnTu_OxGsh"
      },
      "source": [
        "定義ができたら、次のセルを実行して、エラーがでないことを確認してください。"
      ]
    },
    {
      "cell_type": "code",
      "execution_count": null,
      "metadata": {
        "tags": [
          "raises-exception"
        ],
        "id": "XRfSik5_xGsh"
      },
      "outputs": [],
      "source": [
        "assert round(ft_to_cm(5, 2) - 157.48, 6) == 0\n",
        "assert round(ft_to_cm(6, 5) - 195.58, 6) == 0"
      ]
    },
    {
      "cell_type": "markdown",
      "metadata": {
        "id": "HbEEadN0xGsh"
      },
      "source": [
        "### 練習 `quadratic`\n",
        "\n",
        "二次関数 $f(x) = ax^2+bx+c$ の値を求める `quadratic(a,b,c,x)` を定義してください。"
      ]
    },
    {
      "cell_type": "code",
      "execution_count": null,
      "metadata": {
        "id": "rdpwq-lWxGsh"
      },
      "outputs": [],
      "source": [
        "def quadratic(a, b, c, x):\n",
        "    ..."
      ]
    },
    {
      "cell_type": "markdown",
      "metadata": {
        "id": "0L3sTN6wxGsh"
      },
      "source": [
        "定義ができたら、次のセルを実行して、エラーがでないことを確認してください。"
      ]
    },
    {
      "cell_type": "code",
      "execution_count": null,
      "metadata": {
        "id": "QvVjUz4ixGsi"
      },
      "outputs": [],
      "source": [
        "assert quadratic(1, 2, 1, 3) == 16\n",
        "assert quadratic(1, -5, -2, 7) == 12"
      ]
    },
    {
      "cell_type": "markdown",
      "metadata": {
        "id": "LgfAyRIpxGsi"
      },
      "source": [
        "## ローカル変数\n",
        "次の関数は、ヘロンの公式によって、\n",
        "与えられた三辺の長さに対して三角形の面積を返すものです。"
      ]
    },
    {
      "cell_type": "code",
      "execution_count": null,
      "metadata": {
        "id": "s0vP5PCLxGsi"
      },
      "outputs": [],
      "source": [
        "import math\n",
        "\n",
        "def heron(a,b,c):\n",
        "    s = 0.5*(a+b+c)\n",
        "    return math.sqrt(s * (s-a) * (s-b) * (s-c))"
      ]
    },
    {
      "cell_type": "markdown",
      "metadata": {
        "id": "euLnPr-hxGsi"
      },
      "source": [
        "`math.sqrt` を使うために `import math` を行っています。"
      ]
    },
    {
      "cell_type": "markdown",
      "metadata": {
        "id": "U20g8_XWxGsi"
      },
      "source": [
        "次の式を評価してみましょう。"
      ]
    },
    {
      "cell_type": "code",
      "execution_count": null,
      "metadata": {
        "id": "LaC_Yi9FxGsi"
      },
      "outputs": [],
      "source": [
        "heron(3,4,5)"
      ]
    },
    {
      "cell_type": "markdown",
      "metadata": {
        "id": "E8A23lAUxGsi"
      },
      "source": [
        "この関数の中では、まず、3辺の長さを足して 2 で割った（0.5 を掛けた）値を求めています。\n",
        "そして、その値を `s` という変数に代入しています。\n",
        "この `s` という変数は、この関数の中で代入されているので、この関数の中だけで利用可能な変数となります。\n",
        "そのような変数を**ローカル変数**と呼びます。\n",
        "\n",
        "そして、`s` を使った式が計算されてreturn文で返されます。\n",
        "ここで、関数定義のひとまとまりの本体であることを表すために、`s` への代入文もreturn文も、同じ深さでインデントされていることに注意してください。"
      ]
    },
    {
      "cell_type": "markdown",
      "metadata": {
        "id": "IXMarW8zxGsj"
      },
      "source": [
        "Pythonでは、関数の中で定義された変数は、その関数のローカル変数となります。関数の引数もローカル変数です。関数の外で同じ名前の変数を使っても、それは関数のローカル変数とは「別もの」と考えられます。"
      ]
    },
    {
      "cell_type": "markdown",
      "metadata": {
        "id": "jaJjnPwWxGsj"
      },
      "source": [
        "`heron` を呼び出した後で、関数の外で `s` の値を参照しても、以下のように、`s` が未定義という扱いになります。"
      ]
    },
    {
      "cell_type": "code",
      "execution_count": null,
      "metadata": {
        "tags": [
          "raises-exception"
        ],
        "id": "BC78FhjcxGsj"
      },
      "outputs": [],
      "source": [
        "s"
      ]
    },
    {
      "cell_type": "markdown",
      "metadata": {
        "id": "4Zd1otoFxGsj"
      },
      "source": [
        "以下では、`heron` の中では、`s` というローカル変数の値は 3 になりますが、関数の外では、`s` という変数は別もので、その値はずっと `100` です。"
      ]
    },
    {
      "cell_type": "code",
      "execution_count": null,
      "metadata": {
        "id": "uvpiNDY0xGsj"
      },
      "outputs": [],
      "source": [
        "s = 100\n",
        "heron(3,4,5)"
      ]
    },
    {
      "cell_type": "code",
      "execution_count": null,
      "metadata": {
        "id": "XqqHJ-dpxGsj"
      },
      "outputs": [],
      "source": [
        "s"
      ]
    },
    {
      "cell_type": "markdown",
      "metadata": {
        "id": "7Wexr0IZxGsj"
      },
      "source": [
        "## `print`\n",
        "上の例で、ローカル変数は関数の返値を計算するのに使われますが、それが定義されている関数の外からは参照することができません。\n",
        "\n",
        "ローカル変数の値など、関数の実行途中の状況を確認するには、 **`print`** というPythonが最初から用意してくれている関数（**組み込み関数**）を用いることができます。この `print` を関数内から呼び出すことでローカル変数の値を確認できます。\n",
        "\n",
        "`print` は任意個の引数を取ることができ、コンマ `,` の区切りには空白文字が出力されます。引数を与えずに呼び出した場合には、改行のみを出力します。"
      ]
    },
    {
      "cell_type": "code",
      "execution_count": null,
      "metadata": {
        "id": "N_DqsO3-xGsk"
      },
      "outputs": [],
      "source": [
        "def heron(a,b,c):\n",
        "    s = 0.5*(a+b+c)\n",
        "    print('The value of s is', s)\n",
        "    return math.sqrt(s * (s-a) * (s-b) * (s-c))"
      ]
    },
    {
      "cell_type": "code",
      "execution_count": null,
      "metadata": {
        "id": "P8CePQl7xGsk"
      },
      "outputs": [],
      "source": [
        "heron(1,1,1)"
      ]
    },
    {
      "cell_type": "markdown",
      "metadata": {
        "id": "WmymKEEMxGsk"
      },
      "source": [
        "このように `print` 関数を用いて変数の値を観察することは、プログラムの誤り（**バグ**）を見つけ、修正（**デバッグ**）する最も基本的な方法です。これは1-4でも改めて説明します。\n",
        "\n",
        "なお、以降の説明では、 `print` 関数を呼び出して値を出力することを「**印字**する」と表現します。"
      ]
    },
    {
      "cell_type": "markdown",
      "metadata": {
        "id": "33jUlAF8xGsk"
      },
      "source": [
        "## `print` と `return`\n",
        "関数が値を返すことを期待されている場合は、必ず `return` を使ってください。\n",
        "\n",
        "関数内で値を印字しても、関数の返値として利用することはできません。\n",
        "\n",
        "たとえば `heron` を以下のように定義すると、`heron(1,1,1) * 2` のような計算ができなくなります。\n",
        "\n",
        "---\n",
        "```Python\n",
        "def heron(a,b,c):\n",
        "    s = 0.5*(a+b+c)\n",
        "    print('The value of s is', s)\n",
        "    print(math.sqrt(s * (s-a) * (s-b) * (s-c)))\n",
        "```\n",
        "---\n",
        "\n",
        "なお、\n",
        "\n",
        "```Python\n",
        "    return print(math.sqrt(s * (s-a) * (s-b) * (s-c)))\n",
        "```\n",
        "\n",
        "のように書いても駄目です。`print` 関数は `None` という値を返しますので、これでは関数は常に `None` という値を返してしまいます。"
      ]
    },
    {
      "cell_type": "markdown",
      "metadata": {
        "id": "QL5cFONUxGsk"
      },
      "source": [
        "## コメントと空行\n",
        "**コメント**については既に説明しましたが、\n",
        "関数定義にはコメントを付加して、後から読んでもわかるようにしましょう。\n",
        "\n",
        "コメントだけの行は**空行**（空白のみから成る行）と同じに扱われます。\n",
        "\n",
        "関数定義の中に空行を自由に入れることができますので、\n",
        "長い関数定義には、区切りとなるところに空行を入れるのがよいでしょう。"
      ]
    },
    {
      "cell_type": "code",
      "execution_count": null,
      "metadata": {
        "id": "0PGfPwgRxGsk"
      },
      "outputs": [],
      "source": [
        "# heronの公式により三角形の面積を返す\n",
        "def heron(a,b,c): # a,b,c は三辺の長さ\n",
        "\n",
        "    # 辺の合計の半分をsに置く\n",
        "    s = 0.5*(a+b+c)\n",
        "    print('The value of s is', s)\n",
        "\n",
        "    return math.sqrt(s * (s-a) * (s-b) * (s-c))"
      ]
    },
    {
      "cell_type": "markdown",
      "metadata": {
        "id": "02q7FFd6xGsk"
      },
      "source": [
        "## 関数の参照の書き方\n",
        "\n",
        "関数は、\n",
        "\n",
        "　　関数 `heron` は、三角形の三辺の長さをもらって三角形の面積を返します。\n",
        "    \n",
        "というように、名前だけで参照することもありますが、\n",
        "\n",
        "　　`heron(a,b,c)` は、三角形の三辺の長さ `a`, `b`, `c` をもらって三角形の面積を返します。\n",
        "\n",
        "というように、引数を明示して参照することもあります。\n",
        "\n",
        "ときには、\n",
        "\n",
        "　　`heron()` は三角形の面積を返します。\n",
        "    \n",
        "のように、関数名に `()` を付けて参照することがあります。\n",
        "この記法は、`heron` が関数であることを明示しています。\n",
        "\n",
        "関数には引数がゼロ個のものがあるのですが、`heron()` と参照するとき、\n",
        "`heron` は必ずしも引数の数がゼロ個ではないことに注意してください。\n",
        "\n",
        "後に学習するメソッドという関数の親戚に対しても同様の記法が用いられます。"
      ]
    },
    {
      "cell_type": "markdown",
      "metadata": {
        "id": "nO25vOIFxGsl"
      },
      "source": [
        "### 練習 `qe_disc` `qe_solution1` `qe_solution1`\n",
        "\n",
        "二次方程式 $ax^2 + bx + c = 0$ に関して以下のような関数を定義してください。\n",
        "\n",
        "1. 判別式 $b^2 - 4ac$ を求める `qe_disc(a,b,c)`\n",
        "2. 解のうち、大きくない方を求める `qe_solution1(a,b,c)`\n",
        "3. 解のうち、小さくない方を求める `qe_solution2(a,b,c)`\n",
        "\n",
        "ただし、`qe_solution1` と `qe_solution2` は `qe_disc` を使って定義してください。\n",
        "二次方程式が実数解を持つと仮定してよいです。"
      ]
    },
    {
      "cell_type": "code",
      "execution_count": null,
      "metadata": {
        "id": "O4ciV_PDxGsl"
      },
      "outputs": [],
      "source": [
        "import math\n",
        "\n",
        "def qe_disc(a, b, c):\n",
        "    ...\n",
        "\n",
        "def qe_solution1(a, b, c):\n",
        "    ...\n",
        "\n",
        "def qe_solution2(a, b, c):\n",
        "    ..."
      ]
    },
    {
      "cell_type": "markdown",
      "metadata": {
        "id": "h_tVhCC9xGsl"
      },
      "source": [
        "定義ができたら、次のセルを実行して、エラーがでないことを確認してください。"
      ]
    },
    {
      "cell_type": "code",
      "execution_count": null,
      "metadata": {
        "tags": [
          "raises-exception"
        ],
        "id": "L_RDof_yxGsl"
      },
      "outputs": [],
      "source": [
        "assert qe_disc(1, -2, 1) == 0\n",
        "assert qe_disc(1, -5, 6) == 1\n",
        "assert round(qe_solution1(1, -2, 1) - 1, 6) == 0\n",
        "assert round(qe_solution2(1, -2, 1) - 1, 6) == 0\n",
        "assert round(qe_solution1(1, -5, 6) - 2, 6) == 0\n",
        "assert round(qe_solution2(1, -5, 6) - 3, 6) == 0"
      ]
    },
    {
      "cell_type": "markdown",
      "metadata": {
        "id": "EfRZGUuCxGsm"
      },
      "source": [
        "## ▲グローバル変数\n",
        "\n",
        "Pythonでは、関数の中で代入が行われない変数は、グローバル変数とみなされます。\n",
        "\n",
        "**グローバル変数**とは、関数の外（**トップレベル**もしくは**モジュールレベル**と呼ばれます）で定義される変数のことです。\n",
        "\n",
        "グローバル変数は、関数の中から参照することができます。"
      ]
    },
    {
      "cell_type": "code",
      "execution_count": null,
      "metadata": {
        "id": "m19ywUnexGsm"
      },
      "outputs": [],
      "source": [
        "g = 9.8"
      ]
    },
    {
      "cell_type": "code",
      "execution_count": null,
      "metadata": {
        "id": "znDViSKgxGsm"
      },
      "outputs": [],
      "source": [
        "def force(m):\n",
        "    return m*g"
      ]
    },
    {
      "cell_type": "markdown",
      "metadata": {
        "id": "7A6tTLSqxGsn"
      },
      "source": [
        "以上のように `force` を定義すると、\n",
        "`force` の中で `g` というグローバル変数を参照することができます。"
      ]
    },
    {
      "cell_type": "code",
      "execution_count": null,
      "metadata": {
        "id": "DEJV5WkQxGsn"
      },
      "outputs": [],
      "source": [
        "force(104)"
      ]
    },
    {
      "cell_type": "code",
      "execution_count": null,
      "metadata": {
        "id": "sebxVa56xGsn"
      },
      "outputs": [],
      "source": [
        "g = g/6"
      ]
    },
    {
      "cell_type": "markdown",
      "metadata": {
        "id": "Cbn8eNW5xGsn"
      },
      "source": [
        "以上のように、`g` の値を変更してから `force` を実行すると、\n",
        "変更後の値が用いられます。"
      ]
    },
    {
      "cell_type": "code",
      "execution_count": null,
      "metadata": {
        "id": "I9NciC64xGsn"
      },
      "outputs": [],
      "source": [
        "force(104)"
      ]
    },
    {
      "cell_type": "markdown",
      "metadata": {
        "id": "ZO3C7WXWxGsn"
      },
      "source": [
        "以下はより簡単な例です。"
      ]
    },
    {
      "cell_type": "code",
      "execution_count": null,
      "metadata": {
        "id": "rLDdvO7vxGsn"
      },
      "outputs": [],
      "source": [
        "a = 10\n",
        "def foo():\n",
        "    return a\n",
        "def bar():\n",
        "    a = 3\n",
        "    return a"
      ]
    },
    {
      "cell_type": "code",
      "execution_count": null,
      "metadata": {
        "id": "YdGeSfpdxGso"
      },
      "outputs": [],
      "source": [
        "foo()"
      ]
    },
    {
      "cell_type": "code",
      "execution_count": null,
      "metadata": {
        "id": "8_COR7YlxGso"
      },
      "outputs": [],
      "source": [
        "bar()"
      ]
    },
    {
      "cell_type": "code",
      "execution_count": null,
      "metadata": {
        "id": "SHzJrvP9xGso"
      },
      "outputs": [],
      "source": [
        "a"
      ]
    },
    {
      "cell_type": "code",
      "execution_count": null,
      "metadata": {
        "id": "ByQpa154xGso"
      },
      "outputs": [],
      "source": [
        "a = 20"
      ]
    },
    {
      "cell_type": "code",
      "execution_count": null,
      "metadata": {
        "id": "EGpOgjZ5xGso"
      },
      "outputs": [],
      "source": [
        "foo()"
      ]
    },
    {
      "cell_type": "markdown",
      "metadata": {
        "id": "RrUBv2nPxGso"
      },
      "source": [
        "`bar` の中では `a` への代入があるので、`a` はローカル変数になります。\n",
        "ローカル変数の `a` とグローバル変数の `a` は別ものと考えてください。\n",
        "ローカル変数 `a` への代入があっても、グローバル変数の `a` の値は変化しません。\n",
        "`foo` の中の `a` はグローバル変数です。"
      ]
    },
    {
      "cell_type": "code",
      "execution_count": null,
      "metadata": {
        "id": "_1IbQpPWxGsp"
      },
      "outputs": [],
      "source": [
        "def boo(a):\n",
        "    return a"
      ]
    },
    {
      "cell_type": "code",
      "execution_count": null,
      "metadata": {
        "id": "yHTeBYB1xGsp"
      },
      "outputs": [],
      "source": [
        "boo(5)"
      ]
    },
    {
      "cell_type": "code",
      "execution_count": null,
      "metadata": {
        "id": "0ksix3hIxGsp"
      },
      "outputs": [],
      "source": [
        "a"
      ]
    },
    {
      "cell_type": "markdown",
      "metadata": {
        "id": "8T1J-IurxGsp"
      },
      "source": [
        "関数の引数もローカル変数の一種と考えられ、グローバル変数とは別ものです。"
      ]
    },
    {
      "cell_type": "markdown",
      "metadata": {
        "id": "gEyoYJwuxGsp"
      },
      "source": [
        "## 練習の解答"
      ]
    },
    {
      "cell_type": "code",
      "execution_count": null,
      "metadata": {
        "id": "O_ODX-MBxGsp"
      },
      "outputs": [],
      "source": [
        "def ft_to_cm(f, i):\n",
        "    return 30.48*f + (30.48/12)*i"
      ]
    },
    {
      "cell_type": "code",
      "execution_count": null,
      "metadata": {
        "id": "zeNLoDAKxGsp"
      },
      "outputs": [],
      "source": [
        "def quadratic(a, b, c, x):\n",
        "    return a*x*x + b*x + c"
      ]
    },
    {
      "cell_type": "code",
      "execution_count": null,
      "metadata": {
        "id": "vvNm437axGsp"
      },
      "outputs": [],
      "source": [
        "import math\n",
        "\n",
        "def qe_disc(a, b, c):\n",
        "    return b*b - 4*a*c\n",
        "\n",
        "def qe_solution1(a, b, c):\n",
        "    return (-b - math.sqrt(qe_disc(a, b, c))) / (2*a)\n",
        "\n",
        "def qe_solution2(a, b, c):\n",
        "    return (-b + math.sqrt(qe_disc(a, b, c))) / (2*a)"
      ]
    }
  ],
  "metadata": {
    "kernelspec": {
      "display_name": "Python 3",
      "language": "python",
      "name": "python3"
    },
    "language_info": {
      "name": "python"
    },
    "colab": {
      "provenance": []
    }
  },
  "nbformat": 4,
  "nbformat_minor": 0
}