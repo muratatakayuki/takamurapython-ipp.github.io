{
  "cells": [
    {
      "cell_type": "markdown",
      "metadata": {
        "id": "pTrPuwDedbWx"
      },
      "source": [
        "# 1-3. 論理・比較演算と条件分岐の基礎\n",
        "論理・比較演算と条件分岐の基礎について説明します。\n",
        "\n",
        "参考\n",
        "\n",
        "- https://docs.python.org/ja/3/tutorial/controlflow.html\n",
        "- https://docs.python.org/ja/3/reference/compound_stmts.html\n",
        "- https://docs.python.org/ja/3/library/stdtypes.html"
      ]
    },
    {
      "cell_type": "markdown",
      "metadata": {
        "id": "AG21bAn_dbWy"
      },
      "source": [
        "## if文による条件分岐\n",
        "制御構造については第2回と第3回で本格的に扱いますが、\n",
        "ここでは **`if`** による**条件分岐**（**if文**）の基本的な形だけ紹介します。"
      ]
    },
    {
      "cell_type": "code",
      "execution_count": 1,
      "metadata": {
        "id": "cv3MKxxpdbWy"
      },
      "outputs": [],
      "source": [
        "def bmax(a,b):\n",
        "    if a > b:\n",
        "        return a\n",
        "    else:\n",
        "        return b"
      ]
    },
    {
      "cell_type": "markdown",
      "metadata": {
        "id": "B_PJciAKdbWz"
      },
      "source": [
        "上の関数 `bmax` は、2つの引数の大きい方\n",
        "（正確には小さくない方）を返します。"
      ]
    },
    {
      "cell_type": "markdown",
      "metadata": {
        "id": "SdZBVTntdbWz"
      },
      "source": [
        "ここで `if` による条件分岐が用いられています。\n",
        "\n",
        "----\n",
        "```Python\n",
        "    if a > b:\n",
        "        return a\n",
        "    else:\n",
        "        return b\n",
        "```\n",
        "----\n",
        "`a` が `b` より大きければ `a` が返され、そうでなければ、`b` が返されます。\n",
        "\n",
        "ここで、`return a` が、`if` より右にインデントされていることに注意してください。\n",
        "`return a` は、`a > b` が成り立つときのみ実行されます。\n",
        "\n",
        "**`else`** は `if` の右の条件が成り立たない場合を示しています。\n",
        "`else:` として、必ず `:` が付くことに注意してください。\n",
        "\n",
        "また、`return b` も、`else` より右にインデントされていることに注意してください。\n",
        "`if` と `else` は同じインデントになります。"
      ]
    },
    {
      "cell_type": "code",
      "execution_count": 2,
      "metadata": {
        "id": "OaIL4XkgdbWz",
        "outputId": "93582040-c9bd-46c1-a64f-70934449dd7b",
        "colab": {
          "base_uri": "https://localhost:8080/"
        }
      },
      "outputs": [
        {
          "output_type": "execute_result",
          "data": {
            "text/plain": [
              "5"
            ]
          },
          "metadata": {},
          "execution_count": 2
        }
      ],
      "source": [
        "bmax(3,5)"
      ]
    },
    {
      "cell_type": "markdown",
      "metadata": {
        "id": "fM2YpSmvdbW0"
      },
      "source": [
        "関数の中で `return` と式が実行されますと、関数は即座に返りますので、\n",
        "関数定義の中のその後の部分は実行されません。\n",
        "\n",
        "たとえば、上の条件分岐は以下のように書くこともできます。\n",
        "\n",
        "----\n",
        "```Python\n",
        "    if a > b:\n",
        "        return a\n",
        "    return b\n",
        "```\n",
        "----\n",
        "\n",
        "ここでは、`if` から始まる条件分岐には `else:` の部分がありません。\n",
        "条件分岐の後に `return b` が続いています。\n",
        "（`if` と `return b` のインデントは同じです。）\n",
        "\n",
        "`a > b` が成り立っていれば、`return a` が実行されて a の値が返ります。\n",
        "したがって、その次の `return b` は実行されません。\n",
        "\n",
        "`a > b` が成り立っていなければ、`return a` は実行されません。\n",
        "これで条件分岐は終わりますので、その次にある `return b` が実行されます。"
      ]
    },
    {
      "cell_type": "markdown",
      "metadata": {
        "id": "p0ZSCYe7dbW0"
      },
      "source": [
        "なお、Pythonでは、`max` という関数があらかじめ定義されています。（すなわち、`max` は組み込み関数です。）"
      ]
    },
    {
      "cell_type": "code",
      "execution_count": 3,
      "metadata": {
        "id": "6yXwo-TcdbW0",
        "outputId": "5e167d08-85cb-4559-dc57-fbbbc3b9dfdb",
        "colab": {
          "base_uri": "https://localhost:8080/"
        }
      },
      "outputs": [
        {
          "output_type": "execute_result",
          "data": {
            "text/plain": [
              "5"
            ]
          },
          "metadata": {},
          "execution_count": 3
        }
      ],
      "source": [
        "max(3,5)"
      ]
    },
    {
      "cell_type": "markdown",
      "metadata": {
        "id": "93RUfD8SdbW0"
      },
      "source": [
        "## 様々な条件\n",
        "`if` の右などに来る条件として様々なものを書くことができます。これらの条件には **`>`** や **`<`** などの**比較演算子**が含まれています。\n",
        "\n",
        "```Python\n",
        "    x < y         # x は y より小さい\n",
        "    x <= y        # x は y 以下\n",
        "    x > y         # x は y より大きい\n",
        "    x >= y        # x は y 以上\n",
        "    x == y        # x と y は等しい\n",
        "    x != y        # x と y は等しくない\n",
        "```\n",
        "\n",
        "特に等しいかどうかの比較には **`==`** という演算子が使われることに注意してください。\n",
        "`=` は代入の演算子です。\n",
        "\n",
        "**`<=`** は小さいか等しいか、**`>=`** は大きいか等しいかを表します。\n",
        "**`!=`** は等しくないことを表します。"
      ]
    },
    {
      "cell_type": "markdown",
      "metadata": {
        "id": "SImb2WRPdbW1"
      },
      "source": [
        "さらに、このような基本的な条件を、\n",
        "**`and`** と **`or`** を用いて組み合わせることができます。\n",
        "\n",
        "```Python\n",
        "    i >= 0 and j > 0   # i は 0 以上で、かつ、j は 0 より大きい\n",
        "    i < 0 or j > 0     # i は 0 より小さいか、または、j は 0 より大きい\n",
        "```\n",
        "\n",
        "`i` が 1 または 2 または 3 である、という条件は以下のようになります。\n",
        "\n",
        "```Python\n",
        "    i == 1 or i == 2 or i == 3\n",
        "```\n",
        "\n",
        "これを `i == 1 or 2 or 3` と書くことはできませんので、注意してください。\n",
        "\n",
        "また、**`not`** によって条件の否定をとることもできます。\n",
        "\n",
        "```Python\n",
        "    not x < y          # x は y より小さくない（x は y 以上）\n",
        "```"
      ]
    },
    {
      "cell_type": "markdown",
      "metadata": {
        "id": "oBRN-7gCdbW1"
      },
      "source": [
        "比較演算子は、以下のように連続して用いることもできます。"
      ]
    },
    {
      "cell_type": "code",
      "execution_count": 4,
      "metadata": {
        "id": "JaUhB4GxdbW1",
        "outputId": "98ca7384-7eae-483d-eacf-47949931a5aa",
        "colab": {
          "base_uri": "https://localhost:8080/"
        }
      },
      "outputs": [
        {
          "output_type": "execute_result",
          "data": {
            "text/plain": [
              "True"
            ]
          },
          "metadata": {},
          "execution_count": 4
        }
      ],
      "source": [
        "1 < 2 < 3"
      ]
    },
    {
      "cell_type": "code",
      "execution_count": 5,
      "metadata": {
        "id": "IdR_3sxudbW1",
        "outputId": "07bb1eb5-bdf0-4173-8687-3e7f018af81a",
        "colab": {
          "base_uri": "https://localhost:8080/"
        }
      },
      "outputs": [
        {
          "output_type": "execute_result",
          "data": {
            "text/plain": [
              "True"
            ]
          },
          "metadata": {},
          "execution_count": 5
        }
      ],
      "source": [
        "3 >= 2 < 5"
      ]
    },
    {
      "cell_type": "markdown",
      "metadata": {
        "id": "DpLLNNXedbW1"
      },
      "source": [
        "### 練習 `absolute`\n",
        "\n",
        "数値 `x` の絶対値を求める関数 `absolute(x)` を定義してください。\n",
        "Pythonには `abs` という絶対値を求める組み込み関数が用意されていますが、それを使わずに定義してください。"
      ]
    },
    {
      "cell_type": "code",
      "execution_count": 9,
      "metadata": {
        "id": "HoNfcNAsdbW1"
      },
      "outputs": [],
      "source": [
        "def absolute(x):\n",
        "    if x < 0:\n",
        "       return -x\n",
        "    else :\n",
        "       return x"
      ]
    },
    {
      "cell_type": "markdown",
      "metadata": {
        "id": "c26JI7O0dbW1"
      },
      "source": [
        "定義ができたら、次のセルを実行して、エラーがでないことを確認してください。"
      ]
    },
    {
      "cell_type": "code",
      "execution_count": 10,
      "metadata": {
        "id": "hD5OX-ywdbW1"
      },
      "outputs": [],
      "source": [
        "assert absolute(5) == 5\n",
        "assert absolute(-5) == 5\n",
        "assert absolute(0) == 0"
      ]
    },
    {
      "cell_type": "markdown",
      "metadata": {
        "tags": [],
        "id": "Qu5s7rtrdbW1"
      },
      "source": [
        "### 練習 `sign`\n",
        "\n",
        "`x` が正ならば 1、負ならば -1、ゼロならば 0 を返す関数 `sign(x)` を定義してください。"
      ]
    },
    {
      "cell_type": "code",
      "execution_count": 12,
      "metadata": {
        "id": "7cOolP-mdbW1"
      },
      "outputs": [],
      "source": [
        "def sign(x):\n",
        "    if x>0:\n",
        "      return 1\n",
        "    elif x<0:\n",
        "      return -1\n",
        "    else:\n",
        "      return 0"
      ]
    },
    {
      "cell_type": "markdown",
      "metadata": {
        "id": "GnTsYY01dbW1"
      },
      "source": [
        "定義ができたら、次のセルを実行して、エラーがでないことを確認してください。"
      ]
    },
    {
      "cell_type": "code",
      "execution_count": 13,
      "metadata": {
        "tags": [
          "raises-exception"
        ],
        "id": "1wnBf5UDdbW2"
      },
      "outputs": [],
      "source": [
        "assert sign(5) == 1\n",
        "assert sign(-5) == -1\n",
        "assert sign(0) == 0"
      ]
    },
    {
      "cell_type": "markdown",
      "metadata": {
        "id": "DAABSRKLdbW2"
      },
      "source": [
        "## 真理値を返す関数\n",
        "ここで、真理値を返す関数について説明します。\n",
        "\n",
        "Pythonが扱うデータには様々な種類があります。\n",
        "数については既に見て来ました。\n",
        "\n",
        "**真理値**とは、 **`True`** または **`False`** のどちらかの値のことです。\n",
        "これらは変数ではなく、**組み込み定数**であることに注意してください。\n",
        "\n",
        "- `True` は、正しいこと（**真**）を表します。\n",
        "- `False` は、間違ったこと（**偽**）を表します。\n",
        "\n",
        "実は、`if` の後の条件の式は、`True` か `False` を値として持ちます。"
      ]
    },
    {
      "cell_type": "code",
      "execution_count": 14,
      "metadata": {
        "id": "G8L7cMzrdbW2"
      },
      "outputs": [],
      "source": [
        "x = 3"
      ]
    },
    {
      "cell_type": "code",
      "execution_count": 15,
      "metadata": {
        "id": "lqtWjRaldbW2",
        "outputId": "032376c0-efc5-418a-d14b-469dd2eabc89",
        "colab": {
          "base_uri": "https://localhost:8080/"
        }
      },
      "outputs": [
        {
          "output_type": "execute_result",
          "data": {
            "text/plain": [
              "True"
            ]
          },
          "metadata": {},
          "execution_count": 15
        }
      ],
      "source": [
        "x > 1"
      ]
    },
    {
      "cell_type": "markdown",
      "metadata": {
        "id": "8OAIYhmedbW2"
      },
      "source": [
        "上のように、`x` に 3 を代入しておくと、\n",
        "`x > 1` という条件は成り立ちます。\n",
        "したがって、`x > 1` という式の値は `True` になるのです。"
      ]
    },
    {
      "cell_type": "code",
      "execution_count": 16,
      "metadata": {
        "id": "_GPz9sakdbW2",
        "outputId": "b4c334c1-1c91-4126-f8f3-53de0e86a8eb",
        "colab": {
          "base_uri": "https://localhost:8080/"
        }
      },
      "outputs": [
        {
          "output_type": "execute_result",
          "data": {
            "text/plain": [
              "False"
            ]
          },
          "metadata": {},
          "execution_count": 16
        }
      ],
      "source": [
        "x < 1"
      ]
    },
    {
      "cell_type": "code",
      "execution_count": 17,
      "metadata": {
        "id": "ntFDVE2CdbW2",
        "outputId": "bf2a09f3-c85f-410f-c276-942c35f89470",
        "colab": {
          "base_uri": "https://localhost:8080/"
        }
      },
      "outputs": [
        {
          "output_type": "execute_result",
          "data": {
            "text/plain": [
              "False"
            ]
          },
          "metadata": {},
          "execution_count": 17
        }
      ],
      "source": [
        "x%2 == 0"
      ]
    },
    {
      "cell_type": "markdown",
      "metadata": {
        "id": "kBSpWCb8dbW2"
      },
      "source": [
        "そして、真理値を返す関数を定義することができます。"
      ]
    },
    {
      "cell_type": "code",
      "execution_count": 18,
      "metadata": {
        "id": "0-t4ACQJdbW2"
      },
      "outputs": [],
      "source": [
        "def is_even(x):\n",
        "    return x%2 == 0"
      ]
    },
    {
      "cell_type": "markdown",
      "metadata": {
        "id": "6m9e3krMdbW2"
      },
      "source": [
        "この関数は、`x` を 2 で割った余りが 0 に等しいかどうかという\n",
        "条件の結果である真理値を返します。\n",
        "\n",
        "`x == y` は、`x` と `y` が等しいかどうかという条件です。\n",
        "この関数は、この条件の結果である真理値を `return` によって返しています。"
      ]
    },
    {
      "cell_type": "code",
      "execution_count": 19,
      "metadata": {
        "id": "lfzPhdIvdbW2",
        "outputId": "1b1d6529-15ed-492a-edf0-b698ecaa207d",
        "colab": {
          "base_uri": "https://localhost:8080/"
        }
      },
      "outputs": [
        {
          "output_type": "execute_result",
          "data": {
            "text/plain": [
              "True"
            ]
          },
          "metadata": {},
          "execution_count": 19
        }
      ],
      "source": [
        "is_even(2)"
      ]
    },
    {
      "cell_type": "code",
      "execution_count": 20,
      "metadata": {
        "id": "ZJXaceChdbW2",
        "outputId": "353a5328-ae58-404f-eb9c-11e0fcbd3067",
        "colab": {
          "base_uri": "https://localhost:8080/"
        }
      },
      "outputs": [
        {
          "output_type": "execute_result",
          "data": {
            "text/plain": [
              "False"
            ]
          },
          "metadata": {},
          "execution_count": 20
        }
      ],
      "source": [
        "is_even(3)"
      ]
    },
    {
      "cell_type": "markdown",
      "metadata": {
        "id": "UwSCyaO-dbW2"
      },
      "source": [
        "このような関数は、`if` の後に使うことができます。"
      ]
    },
    {
      "cell_type": "code",
      "execution_count": 21,
      "metadata": {
        "id": "-yAPEdLydbW2"
      },
      "outputs": [],
      "source": [
        "def is_odd(x):\n",
        "    if is_even(x):\n",
        "        return False\n",
        "    else:\n",
        "        return True"
      ]
    },
    {
      "cell_type": "markdown",
      "metadata": {
        "id": "nQ24lF2XdbW3"
      },
      "source": [
        "このように、直接に `True` や `False` を返すこともできます。"
      ]
    },
    {
      "cell_type": "code",
      "execution_count": 22,
      "metadata": {
        "id": "oAFXLpFzdbW3",
        "outputId": "1b191808-c2ad-43d8-c0a3-98214b1c0975",
        "colab": {
          "base_uri": "https://localhost:8080/"
        }
      },
      "outputs": [
        {
          "output_type": "execute_result",
          "data": {
            "text/plain": [
              "False"
            ]
          },
          "metadata": {},
          "execution_count": 22
        }
      ],
      "source": [
        "is_odd(2)"
      ]
    },
    {
      "cell_type": "code",
      "execution_count": 23,
      "metadata": {
        "id": "yxRXRgz7dbW3",
        "outputId": "86f01ce7-698e-4a52-83bc-b8a4d4320a8d",
        "colab": {
          "base_uri": "https://localhost:8080/"
        }
      },
      "outputs": [
        {
          "output_type": "execute_result",
          "data": {
            "text/plain": [
              "True"
            ]
          },
          "metadata": {},
          "execution_count": 23
        }
      ],
      "source": [
        "is_odd(3)"
      ]
    },
    {
      "cell_type": "markdown",
      "metadata": {
        "id": "n1NhZhY0dbW3"
      },
      "source": [
        "## オブジェクト\n",
        "\n",
        "Pythonにおける値（式の評価結果）は全て**オブジェクト**と総称されます。\n",
        "変数の値もオブジェクトです。\n",
        "\n",
        "したがって、数や真理値もオブジェクトです。\n",
        "今後、文字列やリストなど、様々な種類のデータが登場しますが、\n",
        "それらは全てオブジェクトです。\n",
        "\n",
        "今後、オブジェクトという用語がところどころで出て来ますが、\n",
        "オブジェクトとデータは同義と思って差し支えありません。\n",
        "正確には、式の評価結果や変数の値となるデータがオブジェクトです。"
      ]
    },
    {
      "cell_type": "markdown",
      "metadata": {
        "id": "ODyfreNFdbXA"
      },
      "source": [
        "## `None`\n",
        "**`None`** というデータがあります。\n",
        "\n",
        "セルの中の式を評価した結果が `None` になると、\n",
        "何も表示されません。"
      ]
    },
    {
      "cell_type": "code",
      "execution_count": 24,
      "metadata": {
        "id": "tqqN0sBUdbXA"
      },
      "outputs": [],
      "source": [
        "None"
      ]
    },
    {
      "cell_type": "markdown",
      "metadata": {
        "id": "VX5vpMpndbXB"
      },
      "source": [
        "`print` で無理やり表示させると以下のようになります。"
      ]
    },
    {
      "cell_type": "code",
      "execution_count": 25,
      "metadata": {
        "id": "6ge3gnfIdbXB",
        "outputId": "81a3c14f-0901-4423-edd7-b1f2be947b67",
        "colab": {
          "base_uri": "https://localhost:8080/"
        }
      },
      "outputs": [
        {
          "output_type": "stream",
          "name": "stdout",
          "text": [
            "None\n"
          ]
        }
      ],
      "source": [
        "print(None)"
      ]
    },
    {
      "cell_type": "markdown",
      "metadata": {
        "id": "Vo8wlkzNdbXB"
      },
      "source": [
        "`None` という値は、特段の値が何もない、\n",
        "ということを表すために使われることがあります。"
      ]
    },
    {
      "cell_type": "markdown",
      "metadata": {
        "id": "hlO-w7pbdbXB"
      },
      "source": [
        "条件としては、`None` は偽と同様に扱われます。"
      ]
    },
    {
      "cell_type": "code",
      "execution_count": 26,
      "metadata": {
        "id": "RRrJseZjdbXB",
        "outputId": "5cc0adaf-6074-4a77-d2f5-b62ddc18986a",
        "colab": {
          "base_uri": "https://localhost:8080/"
        }
      },
      "outputs": [
        {
          "output_type": "stream",
          "name": "stdout",
          "text": [
            "NG\n"
          ]
        }
      ],
      "source": [
        "if None:\n",
        "    print('OK')\n",
        "else:\n",
        "    print('NG')"
      ]
    },
    {
      "cell_type": "markdown",
      "metadata": {
        "id": "KSsKDifEdbXB"
      },
      "source": [
        "`return` の後に式を書かないことがあります。\n",
        "\n",
        "---\n",
        "```Python\n",
        "    return\n",
        "```\n",
        "---\n",
        "\n",
        "この場合、以下のように `None` が指定されているとみなされます。\n",
        "\n",
        "---\n",
        "```Python\n",
        "    return None\n",
        "```\n",
        "---\n",
        "\n",
        "このようなreturn文を実行すると、関数の実行はそこで終了して `None` が返ります。"
      ]
    },
    {
      "cell_type": "markdown",
      "metadata": {
        "id": "uW2-bOFudbXB"
      },
      "source": [
        "## ▲条件として使われる他の値\n",
        "`True` と `False` の他に、他の種類のデータも、条件としても用いることができます。\n",
        "\n",
        "たとえば:\n",
        "\n",
        "- 数のうち、0 や 0.0 は偽、その他は真とみなされます。\n",
        "- 文字列では、空文字列 `''` のみ偽、その他は真とみなされます。（文字列については2-1を参照。）\n",
        "- 組み込み定数 `None` は偽とみなされます。（`None` については上記参照。）"
      ]
    },
    {
      "cell_type": "code",
      "execution_count": 27,
      "metadata": {
        "id": "kqtRtd1-dbXB",
        "outputId": "359c9915-b83e-4f28-8c40-5d0cbef69a69",
        "colab": {
          "base_uri": "https://localhost:8080/"
        }
      },
      "outputs": [
        {
          "output_type": "stream",
          "name": "stdout",
          "text": [
            "NG\n"
          ]
        }
      ],
      "source": [
        "if 0:\n",
        "    print('OK')\n",
        "else:\n",
        "    print('NG')"
      ]
    },
    {
      "cell_type": "code",
      "execution_count": 28,
      "metadata": {
        "id": "_XvduILbdbXB",
        "outputId": "d686082b-4338-4404-be93-ebad0ca5bd85",
        "colab": {
          "base_uri": "https://localhost:8080/"
        }
      },
      "outputs": [
        {
          "output_type": "stream",
          "name": "stdout",
          "text": [
            "OK\n"
          ]
        }
      ],
      "source": [
        "if -1.1:\n",
        "    print('OK')\n",
        "else:\n",
        "    print('NG')"
      ]
    },
    {
      "cell_type": "markdown",
      "metadata": {
        "id": "nGUZ7TdddbXB"
      },
      "source": [
        "## ▲再帰\n",
        "\n",
        "一般に、定義しようとするもの自身を定義の中で参照することを、\n",
        "**再帰**と言います。\n",
        "再帰による定義を再帰的定義と言います。\n",
        "\n",
        "たとえば、数列の漸化式は再帰的定義と考えられます。\n",
        "実際に、`n` 番目のフィボナッチ数を `fib(n)` とおくと、\n",
        "`fib(n)` は次のような漸化式を満たします。\n",
        "\n",
        "```Python\n",
        "fib(n) = n  ただし n<2\n",
        "fib(n) = fib(n-1) + fib(n-2)  ただし n>=2\n",
        "```\n",
        "\n",
        "この漸化式を用いて以下のように実際にフィボナッチ数を計算することができます。\n",
        "```Python\n",
        "fib(0) = 0\n",
        "fib(1) = 1\n",
        "fib(2) = fib(1) + fib(0) = 1 + 0 = 1\n",
        "fib(3) = fib(2) + fib(1) = 1 + 1 = 2\n",
        "fib(4) = fib(3) + fib(2) = 2 + 1 = 3\n",
        "fib(5) = fib(4) + fib(3) = 3 + 2 = 5\n",
        "...\n",
        "```\n",
        "\n",
        "この漸化式から、以下のように `fib(n)` の再帰的定義が得られます。"
      ]
    },
    {
      "cell_type": "code",
      "execution_count": 29,
      "metadata": {
        "id": "vICMd3ZbdbXB"
      },
      "outputs": [],
      "source": [
        "def fib(n):\n",
        "    if n < 2:\n",
        "        return n\n",
        "    else:\n",
        "        return fib(n-1) + fib(n-2)"
      ]
    },
    {
      "cell_type": "markdown",
      "metadata": {
        "id": "XQOtcG9ddbXB"
      },
      "source": [
        "実際に、以下のように `fib(n)` の値が求まります。"
      ]
    },
    {
      "cell_type": "code",
      "execution_count": 30,
      "metadata": {
        "id": "AT5P1NFFdbXB",
        "outputId": "b03ebd87-dae7-41e1-9b9e-5056b4b3308b",
        "colab": {
          "base_uri": "https://localhost:8080/"
        }
      },
      "outputs": [
        {
          "output_type": "execute_result",
          "data": {
            "text/plain": [
              "55"
            ]
          },
          "metadata": {},
          "execution_count": 30
        }
      ],
      "source": [
        "fib(10)"
      ]
    },
    {
      "cell_type": "markdown",
      "metadata": {
        "id": "s5ETanrAdbXC"
      },
      "source": [
        "## 練習の解答"
      ]
    },
    {
      "cell_type": "code",
      "execution_count": 31,
      "metadata": {
        "id": "i-ln1s1ydbXC"
      },
      "outputs": [],
      "source": [
        "def absolute(x):\n",
        "    if x < 0:\n",
        "        return -x\n",
        "    else:\n",
        "        return x"
      ]
    },
    {
      "cell_type": "code",
      "execution_count": 32,
      "metadata": {
        "id": "AYmwbVY8dbXC"
      },
      "outputs": [],
      "source": [
        "def sign(x):\n",
        "    if x < 0:\n",
        "        return -1\n",
        "    if x > 0:\n",
        "        return 1\n",
        "    return 0"
      ]
    }
  ],
  "metadata": {
    "kernelspec": {
      "display_name": "Python 3",
      "language": "python",
      "name": "python3"
    },
    "language_info": {
      "name": "python"
    },
    "colab": {
      "provenance": []
    }
  },
  "nbformat": 4,
  "nbformat_minor": 0
}