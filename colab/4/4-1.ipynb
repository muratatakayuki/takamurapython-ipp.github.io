{
  "cells": [
    {
      "cell_type": "markdown",
      "metadata": {
        "id": "view-in-github",
        "colab_type": "text"
      },
      "source": [
        "<a href=\"https://colab.research.google.com/github/muratatakayuki/takamurapython-ipp.github.io/blob/master/colab/4/4-1.ipynb\" target=\"_parent\"><img src=\"https://colab.research.google.com/assets/colab-badge.svg\" alt=\"Open In Colab\"/></a>"
      ]
    },
    {
      "cell_type": "code",
      "execution_count": 2,
      "metadata": {
        "colab": {
          "base_uri": "https://localhost:8080/"
        },
        "id": "oPmOnn2jC9PE",
        "outputId": "661d195c-953a-4d93-f14b-7899735b4941"
      },
      "outputs": [
        {
          "output_type": "stream",
          "name": "stdout",
          "text": [
            "--2025-08-28 13:45:08--  https://raw.githubusercontent.com/utokyo-ipp/utokyo-ipp.github.io/master/colab/4/utf-8.txt\n",
            "Resolving raw.githubusercontent.com (raw.githubusercontent.com)... 185.199.108.133, 185.199.109.133, 185.199.110.133, ...\n",
            "Connecting to raw.githubusercontent.com (raw.githubusercontent.com)|185.199.108.133|:443... connected.\n",
            "HTTP request sent, awaiting response... 200 OK\n",
            "Length: 15 [text/plain]\n",
            "Saving to: ‘./utf-8.txt’\n",
            "\n",
            "utf-8.txt           100%[===================>]      15  --.-KB/s    in 0s      \n",
            "\n",
            "2025-08-28 13:45:08 (601 KB/s) - ‘./utf-8.txt’ saved [15/15]\n",
            "\n",
            "--2025-08-28 13:45:08--  https://raw.githubusercontent.com/utokyo-ipp/utokyo-ipp.github.io/master/colab/4/shift_jis.txt\n",
            "Resolving raw.githubusercontent.com (raw.githubusercontent.com)... 185.199.108.133, 185.199.109.133, 185.199.110.133, ...\n",
            "Connecting to raw.githubusercontent.com (raw.githubusercontent.com)|185.199.108.133|:443... connected.\n",
            "HTTP request sent, awaiting response... 200 OK\n",
            "Length: 10 [application/octet-stream]\n",
            "Saving to: ‘./shift_jis.txt’\n",
            "\n",
            "shift_jis.txt       100%[===================>]      10  --.-KB/s    in 0s      \n",
            "\n",
            "2025-08-28 13:45:09 (466 KB/s) - ‘./shift_jis.txt’ saved [10/10]\n",
            "\n",
            "--2025-08-28 13:45:09--  https://raw.githubusercontent.com/utokyo-ipp/utokyo-ipp.github.io/master/colab/4/test.txt\n",
            "Resolving raw.githubusercontent.com (raw.githubusercontent.com)... 185.199.108.133, 185.199.109.133, 185.199.110.133, ...\n",
            "Connecting to raw.githubusercontent.com (raw.githubusercontent.com)|185.199.108.133|:443... connected.\n",
            "HTTP request sent, awaiting response... 200 OK\n",
            "Length: 446 [text/plain]\n",
            "Saving to: ‘./test.txt’\n",
            "\n",
            "test.txt            100%[===================>]     446  --.-KB/s    in 0s      \n",
            "\n",
            "2025-08-28 13:45:09 (7.98 MB/s) - ‘./test.txt’ saved [446/446]\n",
            "\n",
            "--2025-08-28 13:45:09--  https://raw.githubusercontent.com/utokyo-ipp/utokyo-ipp.github.io/master/colab/4/sample.txt\n",
            "Resolving raw.githubusercontent.com (raw.githubusercontent.com)... 185.199.108.133, 185.199.109.133, 185.199.110.133, ...\n",
            "Connecting to raw.githubusercontent.com (raw.githubusercontent.com)|185.199.108.133|:443... connected.\n",
            "HTTP request sent, awaiting response... 200 OK\n",
            "Length: 446 [text/plain]\n",
            "Saving to: ‘./sample.txt’\n",
            "\n",
            "sample.txt          100%[===================>]     446  --.-KB/s    in 0s      \n",
            "\n",
            "2025-08-28 13:45:09 (6.37 MB/s) - ‘./sample.txt’ saved [446/446]\n",
            "\n",
            "--2025-08-28 13:45:09--  https://raw.githubusercontent.com/utokyo-ipp/utokyo-ipp.github.io/master/colab/4/text/novel.txt\n",
            "Resolving raw.githubusercontent.com (raw.githubusercontent.com)... 185.199.108.133, 185.199.109.133, 185.199.110.133, ...\n",
            "Connecting to raw.githubusercontent.com (raw.githubusercontent.com)|185.199.108.133|:443... connected.\n",
            "HTTP request sent, awaiting response... 200 OK\n",
            "Length: 696 [text/plain]\n",
            "Saving to: ‘text/novel.txt’\n",
            "\n",
            "novel.txt           100%[===================>]     696  --.-KB/s    in 0s      \n",
            "\n",
            "2025-08-28 13:45:09 (23.0 MB/s) - ‘text/novel.txt’ saved [696/696]\n",
            "\n"
          ]
        }
      ],
      "source": [
        "##================================================\n",
        "## このセルを最初に実行せよ---Run this cell first.\n",
        "##================================================\n",
        "!wget -P . https://raw.githubusercontent.com/utokyo-ipp/utokyo-ipp.github.io/master/colab/4/utf-8.txt\n",
        "!wget -P . https://raw.githubusercontent.com/utokyo-ipp/utokyo-ipp.github.io/master/colab/4/shift_jis.txt\n",
        "!wget -P . https://raw.githubusercontent.com/utokyo-ipp/utokyo-ipp.github.io/master/colab/4/test.txt\n",
        "!wget -P . https://raw.githubusercontent.com/utokyo-ipp/utokyo-ipp.github.io/master/colab/4/sample.txt\n",
        "!wget -P text https://raw.githubusercontent.com/utokyo-ipp/utokyo-ipp.github.io/master/colab/4/text/novel.txt"
      ]
    },
    {
      "cell_type": "markdown",
      "metadata": {
        "id": "Qg4wOKghC9PF"
      },
      "source": [
        "# 4-1. ファイル入出力の基本\n",
        "ファイル入出力の基本について説明します。\n",
        "\n",
        "参考\n",
        "\n",
        "- https://docs.python.org/ja/3/tutorial/inputoutput.html#reading-and-writing-files\n",
        "\n",
        "## ファイルのオープン\n",
        "**ファイル**から文字列を読み込んだり、ファイルに書き込んだりするには、\n",
        "まず、**`open()`** という関数によってファイルを**オープン**する（開く）必要があります。"
      ]
    },
    {
      "cell_type": "code",
      "execution_count": 3,
      "metadata": {
        "id": "I7lmPlAFC9PH"
      },
      "outputs": [],
      "source": [
        "f = open('sample.txt', 'r')"
      ]
    },
    {
      "cell_type": "markdown",
      "metadata": {
        "id": "8Cu8u_mYC9PI"
      },
      "source": [
        "変数 `f` には、ファイルを読み書きするためのデータが入ります。\n",
        "これを**ファイルオブジェクト**と呼びます。"
      ]
    },
    {
      "cell_type": "markdown",
      "metadata": {
        "id": "BRYeqxVfC9PI"
      },
      "source": [
        "`'sample.txt'` はファイル名で、そのファイルの絶対パス名か、このノートブックからの相対パス名を指定します。\n",
        "\n",
        "ここでは、`sample.txt` という名前のファイルがこのノートブックと同じディレクトリにあることを想定しています。\n",
        "\n",
        "たとえば、`novel.txt` というファイルが、ノートブックの1段上のディレクトリ（このディレクトリが入っているディレクトリ）にあるならば、`'../novel.txt'` と指定します。\n",
        "ノートブックの1段上のディレクトリに置かれている `data` というディレクトリにあるならば、`'../data/novel.txt'` となります\n",
        "（4-3にもう少し詳しい解説があります）。"
      ]
    },
    {
      "cell_type": "markdown",
      "metadata": {
        "id": "VjY3lOo9C9PI"
      },
      "source": [
        "`'r'` はファイルをどのモードで開くかを指しており、`'r'`は**読み込みモード**を意味します。\n",
        "このモードで開いたファイルに書き込みすることはできません。\n",
        "\n",
        "よく使われるモードは、次の3種類です。\n",
        "\n",
        "引数 | モード\n",
        "---|:---\n",
        "`'r'` | 読み込み\n",
        "`'w'` | 書き込み\n",
        "`'a'` | 追記\n",
        "\n",
        "モードの引数がなかった場合は、`'r'` であると解釈されます。\n",
        "書き込みについては後でも説明します。\n",
        "\n",
        "モードの詳細は[公式ドキュメント](https://docs.python.org/ja/3/library/functions.html#open)を参照。"
      ]
    },
    {
      "cell_type": "markdown",
      "metadata": {
        "id": "gCX2O8OyC9PJ"
      },
      "source": [
        "## ファイルのクローズ\n",
        "\n",
        "ファイルオブジェクトを使い終わったら、原則として、**`close()`** メソッドを呼び出して、**クローズ**する（閉じる）必要があります。"
      ]
    },
    {
      "cell_type": "code",
      "execution_count": 4,
      "metadata": {
        "id": "AaYalN8pC9PJ"
      },
      "outputs": [],
      "source": [
        "f.close()"
      ]
    },
    {
      "cell_type": "markdown",
      "metadata": {
        "id": "I3SdWU3GC9PJ"
      },
      "source": [
        "`close()` を呼び出さずに放置すると、そのファイルがまだ使用中だと認識されてしまいます。\n",
        "これは、同じファイルを利用しようとする他のプログラムの働きを阻害します。（個室のトイレをイメージしてください。）\n",
        "\n",
        "`close()` の呼び出しは重要ですが、忘れがちなものでもあります。\n",
        "後述するwith文を使うのが安全です。"
      ]
    },
    {
      "cell_type": "markdown",
      "metadata": {
        "id": "D2xnrs6hC9PJ"
      },
      "source": [
        "## 行の読み込み\n",
        "ファイルオブジェクトには、**`readline()`** というメソッドを適用することができます。\n",
        "ファイルから新たに1行を読んで文字列として返します。\n",
        "この「1行」というのは、正確には、ファイルの先頭もしくは改行文字の次の文字から、ファイルの終わりもしくは改行文字までの文字列です。\n",
        "1行は必ずしも改行文字で終わらないという点に注意して下さい。\n",
        "\n",
        "ファイルの終わりに来たとき、`readline()` は `''` という空文字列を返します。\n",
        "\n",
        "以下のようにして `readline()` を使ってファイルを行単位で読んでみましょう。\n",
        "\n",
        "ファイルを読み終わると空文字列が返ることを確認してください。"
      ]
    },
    {
      "cell_type": "code",
      "execution_count": 5,
      "metadata": {
        "id": "Ese8Wc5CC9PK"
      },
      "outputs": [],
      "source": [
        "f = open('sample.txt', 'r')"
      ]
    },
    {
      "cell_type": "code",
      "execution_count": 6,
      "metadata": {
        "colab": {
          "base_uri": "https://localhost:8080/",
          "height": 52
        },
        "id": "VG2JZwvnC9PK",
        "outputId": "ea48233e-2f6e-43cf-ce07-05f8cc7f386b"
      },
      "outputs": [
        {
          "output_type": "execute_result",
          "data": {
            "text/plain": [
              "'Lorem ipsum dolor sit amet, consectetur adipiscing elit, sed do eiusmod tempor incididunt ut labore et dolore magna aliqua. Ut enim ad minim veniam, quis nostrud exercitation ullamco laboris nisi ut aliquip ex ea commodo consequat.\\n'"
            ],
            "application/vnd.google.colaboratory.intrinsic+json": {
              "type": "string"
            }
          },
          "metadata": {},
          "execution_count": 6
        }
      ],
      "source": [
        "f.readline()"
      ]
    },
    {
      "cell_type": "code",
      "execution_count": 7,
      "metadata": {
        "colab": {
          "base_uri": "https://localhost:8080/",
          "height": 35
        },
        "id": "aCfN6yxiC9PK",
        "outputId": "e46c5b94-3ef5-41c7-c95e-1e3dfde268b1"
      },
      "outputs": [
        {
          "output_type": "execute_result",
          "data": {
            "text/plain": [
              "'Duis aute irure dolor in reprehenderit in voluptate velit esse cillum dolore eu fugiat nulla pariatur.\\n'"
            ],
            "application/vnd.google.colaboratory.intrinsic+json": {
              "type": "string"
            }
          },
          "metadata": {},
          "execution_count": 7
        }
      ],
      "source": [
        "f.readline()"
      ]
    },
    {
      "cell_type": "code",
      "execution_count": 8,
      "metadata": {
        "colab": {
          "base_uri": "https://localhost:8080/",
          "height": 35
        },
        "id": "UUnVDn4tC9PK",
        "outputId": "ffb0345c-e73d-481c-fd53-91b0699ddbda"
      },
      "outputs": [
        {
          "output_type": "execute_result",
          "data": {
            "text/plain": [
              "'Excepteur sint occaecat cupidatat non proident, sunt in culpa qui officia deserunt mollit anim id est laborum.\\n'"
            ],
            "application/vnd.google.colaboratory.intrinsic+json": {
              "type": "string"
            }
          },
          "metadata": {},
          "execution_count": 8
        }
      ],
      "source": [
        "f.readline()"
      ]
    },
    {
      "cell_type": "code",
      "execution_count": 9,
      "metadata": {
        "colab": {
          "base_uri": "https://localhost:8080/",
          "height": 35
        },
        "id": "xh7-tftJC9PL",
        "outputId": "d1551a78-3b53-4182-dd6c-4eadf3c0834c"
      },
      "outputs": [
        {
          "output_type": "execute_result",
          "data": {
            "text/plain": [
              "''"
            ],
            "application/vnd.google.colaboratory.intrinsic+json": {
              "type": "string"
            }
          },
          "metadata": {},
          "execution_count": 9
        }
      ],
      "source": [
        "f.readline()"
      ]
    },
    {
      "cell_type": "code",
      "execution_count": 10,
      "metadata": {
        "id": "DtKuEZpxC9PL"
      },
      "outputs": [],
      "source": [
        "f.close()"
      ]
    },
    {
      "cell_type": "markdown",
      "metadata": {
        "id": "DYHT0FphC9PL"
      },
      "source": [
        "`readline()` メソッドの呼び出しは、ファイルオブジェクトを消費します。\n",
        "改めて読み出したいときには、再度オープンして新しいオブジェクトを使ってください。"
      ]
    },
    {
      "cell_type": "markdown",
      "metadata": {
        "id": "y7OOehtlC9PL"
      },
      "source": [
        "## 練習\n",
        "文字列 `name` をファイル名とするファイルの最後の行を文字列として返す関数 `last_line(name)` を定義してください。"
      ]
    },
    {
      "cell_type": "code",
      "execution_count": 26,
      "metadata": {
        "id": "fhZxrO8DC9PL"
      },
      "outputs": [],
      "source": [
        "def last_line(name):\n",
        "    last = ''\n",
        "    with open(name, 'r') as f:\n",
        "        while True:\n",
        "            line = f.readline()\n",
        "            if line == '':\n",
        "                return last\n",
        "            last = line"
      ]
    },
    {
      "cell_type": "markdown",
      "metadata": {
        "id": "LJYxQbkOC9PL"
      },
      "source": [
        "上のセルで解答を作成した後、以下のセルを実行し、実行結果が `True` になることを確認してください。"
      ]
    },
    {
      "cell_type": "code",
      "execution_count": 27,
      "metadata": {
        "tags": [
          "raises-exception"
        ],
        "colab": {
          "base_uri": "https://localhost:8080/"
        },
        "id": "gwZcaYotC9PM",
        "outputId": "e59bf125-74ad-4a74-86f6-8a563f9bf5cb"
      },
      "outputs": [
        {
          "output_type": "stream",
          "name": "stdout",
          "text": [
            "True\n"
          ]
        }
      ],
      "source": [
        "print(last_line('sample.txt')==\"Excepteur sint occaecat cupidatat non proident, sunt in culpa qui officia deserunt mollit anim id est laborum.\\n\")"
      ]
    },
    {
      "cell_type": "markdown",
      "metadata": {
        "id": "yvGzVe8PC9PM"
      },
      "source": [
        "## ファイル全体の読み込み\n",
        "\n",
        "ファイル全体を一括で読み込んで、1つの文字列を取得したいときには、**`read()`** メソッドを利用します。"
      ]
    },
    {
      "cell_type": "code",
      "execution_count": 21,
      "metadata": {
        "colab": {
          "base_uri": "https://localhost:8080/",
          "height": 70
        },
        "id": "qVug0HaEC9PM",
        "outputId": "dee039ab-b7b8-4183-ccfe-4b4dd8e05737"
      },
      "outputs": [
        {
          "output_type": "execute_result",
          "data": {
            "text/plain": [
              "'Lorem ipsum dolor sit amet, consectetur adipiscing elit, sed do eiusmod tempor incididunt ut labore et dolore magna aliqua. Ut enim ad minim veniam, quis nostrud exercitation ullamco laboris nisi ut aliquip ex ea commodo consequat.\\nDuis aute irure dolor in reprehenderit in voluptate velit esse cillum dolore eu fugiat nulla pariatur.\\nExcepteur sint occaecat cupidatat non proident, sunt in culpa qui officia deserunt mollit anim id est laborum.\\n'"
            ],
            "application/vnd.google.colaboratory.intrinsic+json": {
              "type": "string"
            }
          },
          "metadata": {},
          "execution_count": 21
        }
      ],
      "source": [
        "f = open('sample.txt', 'r')\n",
        "f.read()"
      ]
    },
    {
      "cell_type": "markdown",
      "metadata": {
        "id": "lyVA4vcVC9PM"
      },
      "source": [
        "一度 `read()` を呼ぶと、ファイルの終端に達するので、それ以降は空文字列を返します。"
      ]
    },
    {
      "cell_type": "code",
      "execution_count": 22,
      "metadata": {
        "colab": {
          "base_uri": "https://localhost:8080/",
          "height": 35
        },
        "id": "LOHJPX0sC9PM",
        "outputId": "5f285e50-e262-4e02-b73e-83b0635c3243"
      },
      "outputs": [
        {
          "output_type": "execute_result",
          "data": {
            "text/plain": [
              "''"
            ],
            "application/vnd.google.colaboratory.intrinsic+json": {
              "type": "string"
            }
          },
          "metadata": {},
          "execution_count": 22
        }
      ],
      "source": [
        "f.read()"
      ]
    },
    {
      "cell_type": "code",
      "execution_count": 23,
      "metadata": {
        "id": "Sms2VopDC9PM"
      },
      "outputs": [],
      "source": [
        "f.close()"
      ]
    },
    {
      "cell_type": "markdown",
      "metadata": {
        "id": "f_LK4gmxC9PM"
      },
      "source": [
        "`read()` メソッドは、内部的には `readline()` メソッドを呼んでいます。\n",
        "したがって、`read()` メソッドも同様にファイルオブジェクトを消費します。"
      ]
    },
    {
      "cell_type": "markdown",
      "metadata": {
        "id": "KGO0U_3qC9PN"
      },
      "source": [
        "## 練習\n",
        "\n",
        "文字列 `name` をファイル名とするファイルをオープンして、\n",
        "`read()` メソッドによってファイル全体を文字列として読み込み、\n",
        "その文字数を返す関数 `number_of_characters(name)` を作成してください。\n",
        "\n",
        "注意：`return` する前にファイルをクローズすることを忘れないようにしてください。"
      ]
    },
    {
      "cell_type": "code",
      "execution_count": 28,
      "metadata": {
        "id": "0s0LiJuaC9PN"
      },
      "outputs": [],
      "source": [
        "def  number_of_characters(name):\n",
        "    with open(name, 'r') as f:\n",
        "        return len(f.read())"
      ]
    },
    {
      "cell_type": "markdown",
      "metadata": {
        "id": "nx_afYQ6C9PN"
      },
      "source": [
        "上のセルで解答を作成した後、以下のセルを実行し、実行結果が `True` になることを確認してください。"
      ]
    },
    {
      "cell_type": "code",
      "execution_count": 29,
      "metadata": {
        "tags": [
          "raises-exception"
        ],
        "colab": {
          "base_uri": "https://localhost:8080/"
        },
        "id": "nkyJINrfC9PN",
        "outputId": "cd81d744-3855-4810-97ee-2ffe06428803"
      },
      "outputs": [
        {
          "output_type": "stream",
          "name": "stdout",
          "text": [
            "True\n"
          ]
        }
      ],
      "source": [
        "print(number_of_characters('sample.txt') == 446)"
      ]
    },
    {
      "cell_type": "markdown",
      "metadata": {
        "id": "QKIrsXn4C9PN"
      },
      "source": [
        "## 編集中のファイルの動作\n",
        "\n",
        "プログラムでファイルを開くと、そのプログラム内でそのファイルを閉じるまでは、他のプログラムでそのファイルを編集することはできません。\n",
        "\n",
        "下のセルを実行した後で、Windowsならエクスプローラ、macOSならFinderで上のファイルを探して、削除してみてください。\n",
        "「ファイルを閉じてから再実行してください。（Windowsの場合）」といったメッセージが出て、削除ができないはずです。   "
      ]
    },
    {
      "cell_type": "code",
      "source": [],
      "metadata": {
        "id": "dxQyCT_0EQje"
      },
      "execution_count": null,
      "outputs": []
    },
    {
      "cell_type": "code",
      "execution_count": 30,
      "metadata": {
        "id": "fiGZdrK2C9PN"
      },
      "outputs": [],
      "source": [
        "f = open('test.txt', 'r')"
      ]
    },
    {
      "cell_type": "markdown",
      "metadata": {
        "id": "d8kB48LMC9PN"
      },
      "source": [
        "下のセルを実行した後だと削除できます。"
      ]
    },
    {
      "cell_type": "code",
      "execution_count": 31,
      "metadata": {
        "id": "xMwqyfbeC9PN"
      },
      "outputs": [],
      "source": [
        "f.close()"
      ]
    },
    {
      "cell_type": "markdown",
      "metadata": {
        "id": "0pwrVqeGC9PN"
      },
      "source": [
        "## ファイルに対するwith文"
      ]
    },
    {
      "cell_type": "markdown",
      "metadata": {
        "id": "llAIUNjYC9PO"
      },
      "source": [
        "ファイルのオブジェクトは、with文に指定することができます。\n",
        "\n",
        "---\n",
        "```Python\n",
        "with ファイルオブジェクト as 変数:\n",
        "    ...\n",
        "\n",
        "```\n",
        "---\n",
        "\n",
        "**`with`** の次には、`open` によってファイルをオープンする式を書きます。\n",
        "\n",
        "また、**`as`** の次には、ファイルのオブジェクトが格納される変数を書きます。\n",
        "\n",
        "with文は処理後にファイルのクローズを自動的にやってくれますので、\n",
        "ファイルに対して `close()` を呼び出す必要がありません。"
      ]
    },
    {
      "cell_type": "code",
      "execution_count": 32,
      "metadata": {
        "colab": {
          "base_uri": "https://localhost:8080/"
        },
        "id": "tEBXUo-OC9PO",
        "outputId": "f68b4194-8068-4561-9197-c244b239fefe"
      },
      "outputs": [
        {
          "output_type": "stream",
          "name": "stdout",
          "text": [
            "Lorem ipsum dolor sit amet, consectetur adipiscing elit, sed do eiusmod tempor incididunt ut labore et dolore magna aliqua. Ut enim ad minim veniam, quis nostrud exercitation ullamco laboris nisi ut aliquip ex ea commodo consequat.\n",
            "Duis aute irure dolor in reprehenderit in voluptate velit esse cillum dolore eu fugiat nulla pariatur.\n",
            "Excepteur sint occaecat cupidatat non proident, sunt in culpa qui officia deserunt mollit anim id est laborum.\n",
            "\n"
          ]
        }
      ],
      "source": [
        "with open('sample.txt', 'r') as f:\n",
        "    print(f.read())"
      ]
    },
    {
      "cell_type": "markdown",
      "metadata": {
        "id": "ihDI3s25C9PO"
      },
      "source": [
        "## ファイルへの書き込み\n",
        "\n",
        "ファイルへの書き込みは、`print` 関数を使って行えます。\n",
        "`file` 引数に書き込み先のファイルオブジェクトを指定します。\n",
        "`file` は3.3で説明されているキーワード引数と呼ばれる引数ですので、\n",
        "以下のように `file=...` という形で指定します。"
      ]
    },
    {
      "cell_type": "code",
      "execution_count": 33,
      "metadata": {
        "id": "hot4AV5qC9PU"
      },
      "outputs": [],
      "source": [
        "with open('print-test.txt', 'w') as f:\n",
        "    print('hello\\nworld', file=f)"
      ]
    },
    {
      "cell_type": "markdown",
      "metadata": {
        "id": "WL1fytTaC9PV"
      },
      "source": [
        "文字列の中の `\\n` は改行文字を表します。`\\n` は**エスケープシーケンス**（2-1に説明があります）の一種です。\n",
        "エスケープシーケンスには、この他に、復帰文字を表す `\\r` やタブを表す `\\t` などがあります。\n",
        "\n",
        "ファイルの読み書きのモードとしては、**書き込みモード**を意味する `'w'` を指定しています。既に同じ名前のファイルが存在する場合は上書きされます（以前の内容はなくなります）。ファイルがない場合は、新たに作成されます。\n",
        "\n",
        "`'a'` を指定すると、ファイルが存在する場合、既存の内容の後に追記されます。ファイルがない場合は、新たに作成されます。\n",
        "\n",
        "`print` 関数は、デフォルトで、与えられた文字列の末尾に改行文字を加えて印字します。\n",
        "末尾に加える文字は、`end` 引数で指定できます。"
      ]
    },
    {
      "cell_type": "code",
      "execution_count": 34,
      "metadata": {
        "id": "fc2mgA2WC9PV"
      },
      "outputs": [],
      "source": [
        "with open('print-test.txt', 'a') as f:\n",
        "    print('hello', 'world\\n', end='', file=f) # 改行文字を加えない"
      ]
    },
    {
      "cell_type": "markdown",
      "metadata": {
        "id": "N3BTgyUCC9PV"
      },
      "source": [
        "また、複数の印字対象を渡すと、デフォルトで、空白文字で区切って印字します。\n",
        "この区切り文字は、`sep` 引数で指定できます。"
      ]
    },
    {
      "cell_type": "code",
      "execution_count": 35,
      "metadata": {
        "id": "axAJwDkqC9PV"
      },
      "outputs": [],
      "source": [
        "with open('print-test.txt', 'a') as f:\n",
        "    print('hello', 'world', sep=', ', file=f) # 'hello, world'が印字される"
      ]
    },
    {
      "cell_type": "markdown",
      "metadata": {
        "id": "1xcPsrWwC9PV"
      },
      "source": [
        "この他にも、ファイルオブジェクトには、より原始的な書き込み用メソッドが用意されています。\n",
        "**`write()`** メソッドは、与えられた1つの文字列を単に書き込みます。\n",
        "次に示すように、`write()` メソッドと `read()` メソッドは、対で使うことが良くあります。"
      ]
    },
    {
      "cell_type": "code",
      "execution_count": 36,
      "metadata": {
        "id": "Td60pIwjC9PV"
      },
      "outputs": [],
      "source": [
        "with open('sample.txt') as src, open('sample.txt.bak', 'w') as dst:\n",
        "    dst.write(src.read())"
      ]
    },
    {
      "cell_type": "markdown",
      "metadata": {
        "id": "9_wTOD-VC9PV"
      },
      "source": [
        "このコードは、`sample.txt` を `sample.txt.bak` にコピーします。"
      ]
    },
    {
      "cell_type": "markdown",
      "metadata": {
        "id": "rVYu84rcC9PW"
      },
      "source": [
        "## 練習\n",
        "\n",
        "2つのファイル名 `infile`, `outfile` を引数として、`infile` の半角英文字を全て大文字にした結果を `outfile` に書き込む `file_upper(infile, outfile)` という関数を作成してください。   \n",
        "\n",
        "なお、半角英文字の小文字を大文字に変換するには `upper()` というメソッドが使えます。\n",
        "たとえば `line` という名前の変数に半角文字列が入っている場合、`line.upper()` とすれば大文字に変換した文字列を返します。"
      ]
    },
    {
      "cell_type": "code",
      "execution_count": 37,
      "metadata": {
        "id": "4qePHzXtC9PW"
      },
      "outputs": [],
      "source": [
        "def file_upper(infile,outfile):\n",
        "    with open(infile, 'r') as f:\n",
        "        with open(outfile, 'w') as g:\n",
        "            g.write(f.read().upper())"
      ]
    },
    {
      "cell_type": "markdown",
      "metadata": {
        "id": "SJmkW8c2C9PW"
      },
      "source": [
        "上のセルで解答を作成した後、以下のセルを実行し、実行結果が `True` になることを確認してください。"
      ]
    },
    {
      "cell_type": "code",
      "execution_count": 38,
      "metadata": {
        "tags": [
          "raises-exception"
        ],
        "colab": {
          "base_uri": "https://localhost:8080/"
        },
        "id": "T5RrjAoZC9PW",
        "outputId": "28dd4a17-ebf0-4411-9d31-9183a6160359"
      },
      "outputs": [
        {
          "output_type": "stream",
          "name": "stdout",
          "text": [
            "True\n"
          ]
        }
      ],
      "source": [
        "with open('print-test.txt', 'w') as f:\n",
        "    print('hello', 'world', file=f)\n",
        "file_upper('print-test.txt', 'print-test-upper.txt')\n",
        "with open('print-test-upper.txt', 'r') as f:\n",
        "    print(f.read() == 'HELLO WORLD\\n')"
      ]
    },
    {
      "cell_type": "markdown",
      "metadata": {
        "id": "N68KxAMoC9PW"
      },
      "source": [
        "## ファイルの読み書きにおける文字コード指定\n",
        "\n",
        "`open` でファイルを開くと、通常そのファイルをテキストモードで開きます（テキストモード以外にバイナリモードもあります）。\n",
        "\n",
        "テキストモードでファイルを開くときは、さらに特定の**文字コード**によってそのファイルを開こうとします。\n",
        "文字コードを指定しないと、デフォルトの文字コードでそのファイルを開こうとしますが、\n",
        "この文字コードがファイルを書き込む際に指定したものと異なる場合、エラーが出たり文字化けしてしまいます。\n",
        "\n",
        "デフォルトの文字コードは、WindowsはShift_JIS、macOSやLinuxはUTF-8になっていることが多いです。\n",
        "UTF-8で文字を記録されたファイルをWindowsで、ただ `open('utf-8.txt', 'w')` のように文字コードを指定せずに開くとエラーが出ます。\n",
        "同じく、Shift_JISで文字を記録されたファイルをmacOSで `open('shift_jis.txt', 'w')` として開くとエラーが出ます。\n",
        "\n",
        "なお、この教材の冒頭で `open('sample.txt', 'r')` と、文字コードを指定せずにファイルを開きましたがエラーは出ませんでしたね。\n",
        "これは、`sample.txt` では半角英数字しか使われておらず、半角英数字に関しては、Shift_JISもUTF-8も共通のルールでエンコードされているためです。"
      ]
    },
    {
      "cell_type": "code",
      "execution_count": 40,
      "metadata": {
        "tags": [
          "raises-exception"
        ],
        "colab": {
          "base_uri": "https://localhost:8080/",
          "height": 245
        },
        "id": "y6fSZrGiC9PW",
        "outputId": "778ca30b-7ece-4f80-c882-9b77541e44a1"
      },
      "outputs": [
        {
          "output_type": "error",
          "ename": "UnicodeDecodeError",
          "evalue": "'utf-8' codec can't decode byte 0x82 in position 0: invalid start byte",
          "traceback": [
            "\u001b[0;31m---------------------------------------------------------------------------\u001b[0m",
            "\u001b[0;31mUnicodeDecodeError\u001b[0m                        Traceback (most recent call last)",
            "\u001b[0;32m/tmp/ipython-input-1730420542.py\u001b[0m in \u001b[0;36m<cell line: 0>\u001b[0;34m()\u001b[0m\n\u001b[1;32m      1\u001b[0m \u001b[0;31m# macOSならこちらでエラー\u001b[0m\u001b[0;34m\u001b[0m\u001b[0;34m\u001b[0m\u001b[0m\n\u001b[1;32m      2\u001b[0m \u001b[0;32mwith\u001b[0m \u001b[0mopen\u001b[0m\u001b[0;34m(\u001b[0m\u001b[0;34m'shift_jis.txt'\u001b[0m\u001b[0;34m,\u001b[0m \u001b[0;34m'r'\u001b[0m\u001b[0;34m)\u001b[0m \u001b[0;32mas\u001b[0m \u001b[0mf\u001b[0m\u001b[0;34m:\u001b[0m\u001b[0;34m\u001b[0m\u001b[0;34m\u001b[0m\u001b[0m\n\u001b[0;32m----> 3\u001b[0;31m     \u001b[0mprint\u001b[0m\u001b[0;34m(\u001b[0m\u001b[0mf\u001b[0m\u001b[0;34m.\u001b[0m\u001b[0mread\u001b[0m\u001b[0;34m(\u001b[0m\u001b[0;34m)\u001b[0m\u001b[0;34m)\u001b[0m\u001b[0;34m\u001b[0m\u001b[0;34m\u001b[0m\u001b[0m\n\u001b[0m\u001b[1;32m      4\u001b[0m \u001b[0;34m\u001b[0m\u001b[0m\n\u001b[1;32m      5\u001b[0m \u001b[0;31m# Windowsならこちらでエラー\u001b[0m\u001b[0;34m\u001b[0m\u001b[0;34m\u001b[0m\u001b[0m\n",
            "\u001b[0;32m/usr/lib/python3.12/codecs.py\u001b[0m in \u001b[0;36mdecode\u001b[0;34m(self, input, final)\u001b[0m\n",
            "\u001b[0;31mUnicodeDecodeError\u001b[0m: 'utf-8' codec can't decode byte 0x82 in position 0: invalid start byte"
          ]
        }
      ],
      "source": [
        "# macOSならこちらでエラー\n",
        "with open('shift_jis.txt', 'r') as f:\n",
        "    print(f.read())\n",
        "\n",
        "# Windowsならこちらでエラー\n",
        "with open('utf-8.txt', 'r') as f:\n",
        "    print(f.read())"
      ]
    },
    {
      "cell_type": "markdown",
      "metadata": {
        "id": "YWivYZ13C9PW"
      },
      "source": [
        "特に半角英数以外の文字を記録する際は文字コードを指定すること、またそのようなファイルを開くときは、記録するときに指定した文字コードでファイルを開いてください。\n",
        "\n",
        "文字コードは、`open` のキーワード引数として\n",
        "`encoding='utf-8'`（文字コードにUTF-8を指定する場合）のように指定することができます。\n",
        "\n",
        "なお、日本語の文字コードには `UTF-8`, `Shift_JIS`, `EUC-JP` などがありますが、PythonではOSの種類に限らず、UTF-8という文字コードがよく使われます。本授業でもUTF-8を推奨します。"
      ]
    },
    {
      "cell_type": "code",
      "execution_count": 41,
      "metadata": {
        "tags": [
          "raises-exception"
        ],
        "colab": {
          "base_uri": "https://localhost:8080/"
        },
        "id": "LxOqNn1ZC9PX",
        "outputId": "d6df3a69-d9cc-4a7d-b43a-7b5950bc8c2a"
      },
      "outputs": [
        {
          "output_type": "stream",
          "name": "stdout",
          "text": [
            "あいうえお\n",
            "あいうえお\n",
            "かきくけこ\n"
          ]
        }
      ],
      "source": [
        "# 文字コードを指定しないとmacOSならこちらでエラー\n",
        "with open('shift_jis.txt', 'r', encoding='shift_jis') as f:\n",
        "    print(f.read())\n",
        "\n",
        "# 文字コードを指定しないとWindowsならこちらでエラー\n",
        "with open('utf-8.txt', 'r', encoding='utf-8') as f:\n",
        "    print(f.read())\n",
        "\n",
        "# 文字コードを指定してファイルに書き込む場合\n",
        "with open('text.txt', 'w', encoding='utf-8') as f:\n",
        "    f.write('かきくけこ')\n",
        "with open('text.txt', 'r', encoding='utf-8') as f:\n",
        "    print(f.read())"
      ]
    },
    {
      "cell_type": "markdown",
      "metadata": {
        "id": "dUas-cqcC9PX"
      },
      "source": [
        "## 改行文字の削除\n",
        "\n",
        "ファイルをテキストモードで開いて `read()` や `readline()` を呼び出すと、\n",
        "`str` 型の文字列として読み込まれます。\n",
        "\n",
        "文字列の末尾にある改行文字の削除には、2-1で紹介した `rstrip` メソッドが使えます。\n",
        "ただし、無引数で呼び出すと、改行文字以外の空白文字もまとめて削除されます。"
      ]
    },
    {
      "cell_type": "code",
      "execution_count": 42,
      "metadata": {
        "colab": {
          "base_uri": "https://localhost:8080/",
          "height": 35
        },
        "id": "P_47YtVtC9PX",
        "outputId": "b4e22892-a589-4fc4-d12d-865fe062cda1"
      },
      "outputs": [
        {
          "output_type": "execute_result",
          "data": {
            "text/plain": [
              "'あいうえお'"
            ],
            "application/vnd.google.colaboratory.intrinsic+json": {
              "type": "string"
            }
          },
          "metadata": {},
          "execution_count": 42
        }
      ],
      "source": [
        "'あいうえお \\n'.rstrip()"
      ]
    },
    {
      "cell_type": "markdown",
      "metadata": {
        "id": "jBUq116XC9PX"
      },
      "source": [
        "削除する空白文字を改行文字 `'\\n'` に限定したい場合には、 `rstrip` の引数に指定します。"
      ]
    },
    {
      "cell_type": "code",
      "execution_count": 45,
      "metadata": {
        "colab": {
          "base_uri": "https://localhost:8080/",
          "height": 35
        },
        "id": "wuKsYKcFC9PX",
        "outputId": "d0b0267e-b045-4f12-cba4-c84fb2bfddff"
      },
      "outputs": [
        {
          "output_type": "execute_result",
          "data": {
            "text/plain": [
              "'あいうえお '"
            ],
            "application/vnd.google.colaboratory.intrinsic+json": {
              "type": "string"
            }
          },
          "metadata": {},
          "execution_count": 45
        }
      ],
      "source": [
        "'あいうえお \\n\\n'.rstrip('\\n')"
      ]
    },
    {
      "cell_type": "markdown",
      "metadata": {
        "id": "e8ZJdHGCC9PX"
      },
      "source": [
        "上の例から分かるように、末尾の改行文字をただ1つ削除したい場合には、 `rstrip('\\n')` は適していません。\n",
        "しかし、 `readline()` の返す文字列には、末尾に高々1つの `'\\n'` しか存在しないので、 `rstrip('\\n')` で問題ありません。"
      ]
    },
    {
      "cell_type": "code",
      "execution_count": 46,
      "metadata": {
        "colab": {
          "base_uri": "https://localhost:8080/"
        },
        "id": "85RlyTXgC9PX",
        "outputId": "082a65c6-d0c1-4ddf-ce07-cadbaef5a793"
      },
      "outputs": [
        {
          "output_type": "stream",
          "name": "stdout",
          "text": [
            "二人の若い紳士が、すつかりイギリスの兵隊のかたちをして、ぴか／＼する鉄砲をかついで、白熊のやうな犬を二疋つれて、だいぶ山奥の、木の葉のかさ／＼したとこを、こんなことを云ひながら、あるいてをりました。\n",
            "\n",
            "「ぜんたい、こゝらの山は怪しからんね。鳥も獣も一疋も居やがらん。なんでも構はないから、早くタンタアーンと、やつて見たいもんだなあ。」\n",
            "\n",
            "「鹿の黄いろな横つ腹なんぞに、二三発お見舞まうしたら、ずゐぶん痛快だらうねえ。くる／＼まはつて、それからどたつと倒れるだらうねえ。」\n",
            "\n",
            "------ 末尾の改行文字を削除すると以下のようになります-------\n",
            "二人の若い紳士が、すつかりイギリスの兵隊のかたちをして、ぴか／＼する鉄砲をかついで、白熊のやうな犬を二疋つれて、だいぶ山奥の、木の葉のかさ／＼したとこを、こんなことを云ひながら、あるいてをりました。\n",
            "「ぜんたい、こゝらの山は怪しからんね。鳥も獣も一疋も居やがらん。なんでも構はないから、早くタンタアーンと、やつて見たいもんだなあ。」\n",
            "「鹿の黄いろな横つ腹なんぞに、二三発お見舞まうしたら、ずゐぶん痛快だらうねえ。くる／＼まはつて、それからどたつと倒れるだらうねえ。」\n"
          ]
        }
      ],
      "source": [
        "with open('text/novel.txt', 'r', encoding='utf-8') as f:\n",
        "    while True:\n",
        "        line = f.readline()\n",
        "        if line == '':\n",
        "            break\n",
        "        print(line)\n",
        "\n",
        "print('------ 末尾の改行文字を削除すると以下のようになります-------')\n",
        "with open('text/novel.txt', 'r', encoding='utf-8') as f:\n",
        "    while True:\n",
        "        line = f.readline()\n",
        "        if line == '':\n",
        "            break\n",
        "        print(line.rstrip('\\n'))"
      ]
    },
    {
      "cell_type": "markdown",
      "metadata": {
        "id": "lCG7FkNUC9PY"
      },
      "source": [
        "## 練習の解答"
      ]
    },
    {
      "cell_type": "code",
      "execution_count": null,
      "metadata": {
        "id": "KZNggLr3C9PY"
      },
      "outputs": [],
      "source": [
        "def  number_of_characters(name):\n",
        "    f = open(name, 'r')\n",
        "    s = f.read()\n",
        "    f.close()\n",
        "    return len(s)"
      ]
    },
    {
      "cell_type": "code",
      "execution_count": null,
      "metadata": {
        "id": "tsrUM-FuC9PY"
      },
      "outputs": [],
      "source": [
        "def last_line(name):\n",
        "    last = ''\n",
        "    with open(name, 'r') as f:\n",
        "        while True:\n",
        "            line = f.readline()\n",
        "            if line == '':\n",
        "                return last\n",
        "            last = line"
      ]
    },
    {
      "cell_type": "code",
      "execution_count": null,
      "metadata": {
        "id": "4kqCaaz1C9PY"
      },
      "outputs": [],
      "source": [
        "def file_upper(infile,outfile):\n",
        "    with open(infile, 'r') as f:\n",
        "        with open(outfile, 'w') as g:\n",
        "            g.write(f.read().upper())"
      ]
    },
    {
      "cell_type": "markdown",
      "metadata": {
        "id": "frwvKsY3C9PY"
      },
      "source": [
        "以下のように1つのwith文に複数の `open` を書くこともできます。"
      ]
    },
    {
      "cell_type": "code",
      "execution_count": null,
      "metadata": {
        "id": "_IvHkNXoC9PY"
      },
      "outputs": [],
      "source": [
        "def file_upper(infile,outfile):\n",
        "    with open(infile, 'r') as f, open(outfile, 'w') as g:\n",
        "        g.write(f.read().upper())"
      ]
    },
    {
      "cell_type": "code",
      "execution_count": null,
      "metadata": {
        "id": "bxADtrodC9PZ"
      },
      "outputs": [],
      "source": []
    }
  ],
  "metadata": {
    "kernelspec": {
      "display_name": "Python 3",
      "language": "python",
      "name": "python3"
    },
    "language_info": {
      "name": "python"
    },
    "colab": {
      "provenance": [],
      "include_colab_link": true
    }
  },
  "nbformat": 4,
  "nbformat_minor": 0
}