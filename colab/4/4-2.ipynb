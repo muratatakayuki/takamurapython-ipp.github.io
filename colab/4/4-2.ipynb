{
  "cells": [
    {
      "cell_type": "markdown",
      "metadata": {
        "id": "view-in-github",
        "colab_type": "text"
      },
      "source": [
        "<a href=\"https://colab.research.google.com/github/muratatakayuki/takamurapython-ipp.github.io/blob/master/colab/4/4-2.ipynb\" target=\"_parent\"><img src=\"https://colab.research.google.com/assets/colab-badge.svg\" alt=\"Open In Colab\"/></a>"
      ]
    },
    {
      "cell_type": "code",
      "execution_count": 1,
      "metadata": {
        "id": "EapkyZcgKwjU",
        "outputId": "5f208412-fca0-44e4-cc9e-f259b2c50171",
        "colab": {
          "base_uri": "https://localhost:8080/"
        }
      },
      "outputs": [
        {
          "output_type": "stream",
          "name": "stdout",
          "text": [
            "--2025-09-01 07:26:01--  https://raw.githubusercontent.com/utokyo-ipp/utokyo-ipp.github.io/master/colab/4/utf-8.txt\n",
            "Resolving raw.githubusercontent.com (raw.githubusercontent.com)... 185.199.109.133, 185.199.108.133, 185.199.111.133, ...\n",
            "Connecting to raw.githubusercontent.com (raw.githubusercontent.com)|185.199.109.133|:443... connected.\n",
            "HTTP request sent, awaiting response... 200 OK\n",
            "Length: 15 [text/plain]\n",
            "Saving to: ‘./utf-8.txt’\n",
            "\n",
            "utf-8.txt           100%[===================>]      15  --.-KB/s    in 0s      \n",
            "\n",
            "2025-09-01 07:26:02 (329 KB/s) - ‘./utf-8.txt’ saved [15/15]\n",
            "\n",
            "--2025-09-01 07:26:02--  https://raw.githubusercontent.com/utokyo-ipp/utokyo-ipp.github.io/master/colab/4/shift_jis.txt\n",
            "Resolving raw.githubusercontent.com (raw.githubusercontent.com)... 185.199.110.133, 185.199.108.133, 185.199.111.133, ...\n",
            "Connecting to raw.githubusercontent.com (raw.githubusercontent.com)|185.199.110.133|:443... connected.\n",
            "HTTP request sent, awaiting response... 200 OK\n",
            "Length: 10 [application/octet-stream]\n",
            "Saving to: ‘./shift_jis.txt’\n",
            "\n",
            "shift_jis.txt       100%[===================>]      10  --.-KB/s    in 0s      \n",
            "\n",
            "2025-09-01 07:26:03 (686 KB/s) - ‘./shift_jis.txt’ saved [10/10]\n",
            "\n",
            "--2025-09-01 07:26:03--  https://raw.githubusercontent.com/utokyo-ipp/utokyo-ipp.github.io/master/colab/4/test.txt\n",
            "Resolving raw.githubusercontent.com (raw.githubusercontent.com)... 185.199.110.133, 185.199.111.133, 185.199.108.133, ...\n",
            "Connecting to raw.githubusercontent.com (raw.githubusercontent.com)|185.199.110.133|:443... connected.\n",
            "HTTP request sent, awaiting response... 200 OK\n",
            "Length: 446 [text/plain]\n",
            "Saving to: ‘./test.txt’\n",
            "\n",
            "test.txt            100%[===================>]     446  --.-KB/s    in 0s      \n",
            "\n",
            "2025-09-01 07:26:03 (8.52 MB/s) - ‘./test.txt’ saved [446/446]\n",
            "\n",
            "--2025-09-01 07:26:03--  https://raw.githubusercontent.com/utokyo-ipp/utokyo-ipp.github.io/master/colab/4/sample.txt\n",
            "Resolving raw.githubusercontent.com (raw.githubusercontent.com)... 185.199.108.133, 185.199.109.133, 185.199.110.133, ...\n",
            "Connecting to raw.githubusercontent.com (raw.githubusercontent.com)|185.199.108.133|:443... connected.\n",
            "HTTP request sent, awaiting response... 200 OK\n",
            "Length: 446 [text/plain]\n",
            "Saving to: ‘./sample.txt’\n",
            "\n",
            "sample.txt          100%[===================>]     446  --.-KB/s    in 0s      \n",
            "\n",
            "2025-09-01 07:26:04 (22.3 MB/s) - ‘./sample.txt’ saved [446/446]\n",
            "\n",
            "--2025-09-01 07:26:04--  https://raw.githubusercontent.com/utokyo-ipp/utokyo-ipp.github.io/master/colab/4/text/novel.txt\n",
            "Resolving raw.githubusercontent.com (raw.githubusercontent.com)... 185.199.111.133, 185.199.109.133, 185.199.110.133, ...\n",
            "Connecting to raw.githubusercontent.com (raw.githubusercontent.com)|185.199.111.133|:443... connected.\n",
            "HTTP request sent, awaiting response... 200 OK\n",
            "Length: 696 [text/plain]\n",
            "Saving to: ‘text/novel.txt’\n",
            "\n",
            "novel.txt           100%[===================>]     696  --.-KB/s    in 0s      \n",
            "\n",
            "2025-09-01 07:26:04 (33.3 MB/s) - ‘text/novel.txt’ saved [696/696]\n",
            "\n"
          ]
        }
      ],
      "source": [
        "##================================================\n",
        "## このセルを最初に実行せよ---Run this cell first.\n",
        "##================================================\n",
        "!wget -P . https://raw.githubusercontent.com/utokyo-ipp/utokyo-ipp.github.io/master/colab/4/utf-8.txt\n",
        "!wget -P . https://raw.githubusercontent.com/utokyo-ipp/utokyo-ipp.github.io/master/colab/4/shift_jis.txt\n",
        "!wget -P . https://raw.githubusercontent.com/utokyo-ipp/utokyo-ipp.github.io/master/colab/4/test.txt\n",
        "!wget -P . https://raw.githubusercontent.com/utokyo-ipp/utokyo-ipp.github.io/master/colab/4/sample.txt\n",
        "!wget -P text https://raw.githubusercontent.com/utokyo-ipp/utokyo-ipp.github.io/master/colab/4/text/novel.txt"
      ]
    },
    {
      "cell_type": "markdown",
      "metadata": {
        "id": "pgXGWQk5KwjW"
      },
      "source": [
        "# 4-2. イテラブルとイテレータ\n",
        "\n",
        "イテラブルとイテレータについて説明します。\n",
        "\n",
        "参考\n",
        "\n",
        "- https://docs.python.org/ja/3/tutorial/classes.html#iterators\n",
        "- https://docs.python.org/ja/3/glossary.html#term-iterable\n",
        "- https://docs.python.org/ja/3/library/stdtypes.html#typeiter"
      ]
    },
    {
      "cell_type": "markdown",
      "metadata": {
        "id": "zSJECAnaKwjY"
      },
      "source": [
        "## for文による繰り返しとファイルオブジェクト\n",
        "\n",
        "ファイルオブジェクトは、for文の `in` の後に指定することができます。\n",
        "このとき、ファイルから各行の文字列（改行文字を含む）を順次取り出します。"
      ]
    },
    {
      "cell_type": "code",
      "execution_count": 2,
      "metadata": {
        "id": "r8tRhhDXKwjY",
        "outputId": "f51cb125-5eaf-4dc8-fd8e-353f7b72a297",
        "colab": {
          "base_uri": "https://localhost:8080/"
        }
      },
      "outputs": [
        {
          "output_type": "execute_result",
          "data": {
            "text/plain": [
              "['Lorem ipsum dolor sit amet, consectetur adipiscing elit, sed do eiusmod tempor incididunt ut labore et dolore magna aliqua. Ut enim ad minim veniam, quis nostrud exercitation ullamco laboris nisi ut aliquip ex ea commodo consequat.\\n',\n",
              " 'Duis aute irure dolor in reprehenderit in voluptate velit esse cillum dolore eu fugiat nulla pariatur.\\n',\n",
              " 'Excepteur sint occaecat cupidatat non proident, sunt in culpa qui officia deserunt mollit anim id est laborum.\\n']"
            ]
          },
          "metadata": {},
          "execution_count": 2
        }
      ],
      "source": [
        "lines = []\n",
        "with open('sample.txt', 'r') as f:\n",
        "    for line in f:\n",
        "        lines.append(line)\n",
        "lines"
      ]
    },
    {
      "cell_type": "markdown",
      "metadata": {
        "id": "S3tRqDVtKwjY"
      },
      "source": [
        "for文による行の取り出しは、`readline` メソッドと同様に、ファイルオブジェクトを消費します。\n",
        "\n",
        "ファイルオブジェクト `f` をfor文で処理をすると、`f` が終端に到達するまで繰り返されます。\n",
        "したがって、再度 `f` をfor文に与えても何も実行されません。"
      ]
    },
    {
      "cell_type": "code",
      "execution_count": 3,
      "metadata": {
        "id": "LeZTJwgTKwjZ",
        "outputId": "74438395-e59b-4141-ea95-2f07ce74456c",
        "colab": {
          "base_uri": "https://localhost:8080/"
        }
      },
      "outputs": [
        {
          "output_type": "stream",
          "name": "stdout",
          "text": [
            "---- 最初 ----\n",
            "Lorem ipsum dolor sit amet, consectetur adipiscing elit, sed do eiusmod tempor incididunt ut labore et dolore magna aliqua. Ut enim ad minim veniam, quis nostrud exercitation ullamco laboris nisi ut aliquip ex ea commodo consequat.\n",
            "\n",
            "Duis aute irure dolor in reprehenderit in voluptate velit esse cillum dolore eu fugiat nulla pariatur.\n",
            "\n",
            "Excepteur sint occaecat cupidatat non proident, sunt in culpa qui officia deserunt mollit anim id est laborum.\n",
            "\n",
            "---- もう一度 ----\n"
          ]
        }
      ],
      "source": [
        "with open('sample.txt', 'r') as f:\n",
        "    print('---- 最初 ----')\n",
        "    for line in f:\n",
        "        print(line)\n",
        "    print('---- もう一度 ----')\n",
        "    for line in f:\n",
        "        print(line)"
      ]
    },
    {
      "cell_type": "markdown",
      "metadata": {
        "id": "tG40yPRXKwjZ"
      },
      "source": [
        "ファイルをfor文によって二度読みたい場合は、\n",
        "もう一度ファイルをオープンして、ファイルのオブジェクトを新たに生成してください。"
      ]
    },
    {
      "cell_type": "markdown",
      "metadata": {
        "id": "N5O9Q_QOKwjZ"
      },
      "source": [
        "### 練習\n",
        "文字列 `name` をファイル名とするファイルの最後の行を文字列として返す関数 `last_line(name)` を、\n",
        "ファイルオブジェクトに対するfor文を用いて定義してください。"
      ]
    },
    {
      "cell_type": "code",
      "execution_count": 6,
      "metadata": {
        "id": "O18jNj-8Kwja"
      },
      "outputs": [],
      "source": [
        "def last_line(name):\n",
        "    with open(name, 'r') as f:\n",
        "        for line in f:\n",
        "            pass\n",
        "    return line"
      ]
    },
    {
      "cell_type": "markdown",
      "metadata": {
        "id": "1BIejdNdKwja"
      },
      "source": [
        "定義ができたら、次のセルを実行して、エラーがでないことを確認してください。"
      ]
    },
    {
      "cell_type": "code",
      "execution_count": 7,
      "metadata": {
        "tags": [
          "raises-exception"
        ],
        "id": "n7lAHc2eKwja"
      },
      "outputs": [],
      "source": [
        "assert last_line('sample.txt') == 'Excepteur sint occaecat cupidatat non proident, sunt in culpa qui officia deserunt mollit anim id est laborum.\\n'"
      ]
    },
    {
      "cell_type": "markdown",
      "metadata": {
        "id": "Au5mv72EKwjb"
      },
      "source": [
        "## for文とイテラブルとイテレータ\n",
        "\n",
        "さて、[3-2](../3/3-2.ipynb)でも示したように、for文は、ファイルオブジェクトを含む様々なオブジェクトに対して繰り返す処理を記述できます\n",
        "（[1-3](../1/1-3.ipynb)で説明があったように、Pythonにおける値はオブジェクトと総称されます。）\n",
        "\n",
        "for文によって繰り返すことができるオブジェクトのことを総称して、**イテラブル** (iterable) と呼びます。\n",
        "\n",
        "for文が、様々なデータ型をイテラブルとして統一的に扱えるのは、繰り返して取り出す操作を表現する**イテレータ** (iterator) を経由するからです。\n",
        "\n",
        "iterateは繰り返すという意味なので、itaratorは繰り返すもの（反復子とも呼ばれる）、iterableは繰り返すことができるもの、という意味です。"
      ]
    },
    {
      "cell_type": "markdown",
      "metadata": {
        "id": "GV0-Mdm6Kwjb"
      },
      "source": [
        "## `iter`\n",
        "\n",
        "組み込み関数 **`iter`** は、イテラブルからイテレータを作ります。たとえば、"
      ]
    },
    {
      "cell_type": "code",
      "execution_count": 8,
      "metadata": {
        "id": "MKL385aCKwjb"
      },
      "outputs": [],
      "source": [
        "it = iter([0,1,2])"
      ]
    },
    {
      "cell_type": "markdown",
      "metadata": {
        "id": "X8gCggIKKwjb"
      },
      "source": [
        "この `it` は、`0` `1` `2` を順に取り出すイテレータです。\n",
        "\n",
        "このとき、`iter` に渡されるオブジェクトの種類に応じて、適切なイテレータが構成されます。\n",
        "この仕組みによって、様々なデータ型を統一的に扱えるわけです。"
      ]
    },
    {
      "cell_type": "markdown",
      "metadata": {
        "id": "dqLytIIyKwjb"
      },
      "source": [
        "## `next`\n",
        "\n",
        "さて、`iter` が返したイテレータは、どのように使うのでしょうか。\n",
        "\n",
        "組み込み関数 **`next`** は、イテレータに対して繰り返しを1回分先に進める操作を与えます。具体例を見ましょう。"
      ]
    },
    {
      "cell_type": "code",
      "execution_count": 9,
      "metadata": {
        "id": "oI4Inkt7Kwjb",
        "outputId": "e1ec3bea-567a-4836-ce3a-44e17cb6ea35",
        "colab": {
          "base_uri": "https://localhost:8080/"
        }
      },
      "outputs": [
        {
          "output_type": "execute_result",
          "data": {
            "text/plain": [
              "0"
            ]
          },
          "metadata": {},
          "execution_count": 9
        }
      ],
      "source": [
        "it = iter([0,1,2])\n",
        "next(it)"
      ]
    },
    {
      "cell_type": "code",
      "execution_count": 10,
      "metadata": {
        "id": "BG9_nFmMKwjb",
        "outputId": "678401d1-c1db-45ba-8cef-5c95bb26d4b7",
        "colab": {
          "base_uri": "https://localhost:8080/"
        }
      },
      "outputs": [
        {
          "output_type": "execute_result",
          "data": {
            "text/plain": [
              "1"
            ]
          },
          "metadata": {},
          "execution_count": 10
        }
      ],
      "source": [
        "next(it)"
      ]
    },
    {
      "cell_type": "code",
      "execution_count": 11,
      "metadata": {
        "id": "jxn9u6bjKwjc",
        "outputId": "1707e92f-94e1-4717-a94d-a2a7c330d1a1",
        "colab": {
          "base_uri": "https://localhost:8080/"
        }
      },
      "outputs": [
        {
          "output_type": "execute_result",
          "data": {
            "text/plain": [
              "2"
            ]
          },
          "metadata": {},
          "execution_count": 11
        }
      ],
      "source": [
        "next(it)"
      ]
    },
    {
      "cell_type": "markdown",
      "metadata": {
        "id": "h8yOUUQAKwjc"
      },
      "source": [
        "`next(it)` を呼び出す毎に、`it` から順に要素が取り出されています。\n",
        "\n",
        "与えられたイテレータが繰り返しの終端に到達していたときには、`StopIteration` という例外（処理を緊急停止させる割り込み）が発生します。"
      ]
    },
    {
      "cell_type": "code",
      "execution_count": 12,
      "metadata": {
        "id": "CcOfZiwAKwjc",
        "outputId": "d532f160-451e-4f58-a4aa-6fd07260f5e7",
        "colab": {
          "base_uri": "https://localhost:8080/",
          "height": 141
        }
      },
      "outputs": [
        {
          "output_type": "error",
          "ename": "StopIteration",
          "evalue": "",
          "traceback": [
            "\u001b[0;31m---------------------------------------------------------------------------\u001b[0m",
            "\u001b[0;31mStopIteration\u001b[0m                             Traceback (most recent call last)",
            "\u001b[0;32m/tmp/ipython-input-600241529.py\u001b[0m in \u001b[0;36m<cell line: 0>\u001b[0;34m()\u001b[0m\n\u001b[0;32m----> 1\u001b[0;31m \u001b[0mnext\u001b[0m\u001b[0;34m(\u001b[0m\u001b[0mit\u001b[0m\u001b[0;34m)\u001b[0m\u001b[0;34m\u001b[0m\u001b[0;34m\u001b[0m\u001b[0m\n\u001b[0m",
            "\u001b[0;31mStopIteration\u001b[0m: "
          ]
        }
      ],
      "source": [
        "next(it)"
      ]
    },
    {
      "cell_type": "markdown",
      "metadata": {
        "id": "Pyqn059ZKwjc"
      },
      "source": [
        "## for文の仕組み\n",
        "\n",
        "for文は、実は `iter` `next` `StopIteration` を使ったwhile文の形で表現できます。具体的には、"
      ]
    },
    {
      "cell_type": "code",
      "execution_count": 13,
      "metadata": {
        "id": "l7W20JKTKwjc",
        "outputId": "f25c0439-e4c2-41ff-b1ea-05451d94a406",
        "colab": {
          "base_uri": "https://localhost:8080/"
        }
      },
      "outputs": [
        {
          "output_type": "stream",
          "name": "stdout",
          "text": [
            "0\n",
            "1\n",
            "2\n"
          ]
        }
      ],
      "source": [
        "for x in [0,1,2]:\n",
        "    print(x)"
      ]
    },
    {
      "cell_type": "markdown",
      "metadata": {
        "id": "ZZNrhrkAKwjc"
      },
      "source": [
        "このfor文は、次のwhile文と等価です。"
      ]
    },
    {
      "cell_type": "code",
      "execution_count": 14,
      "metadata": {
        "tags": [],
        "id": "yRLi1TmuKwjc",
        "outputId": "02608a28-1321-4bea-97d7-88d8a0999c4f",
        "colab": {
          "base_uri": "https://localhost:8080/"
        }
      },
      "outputs": [
        {
          "output_type": "stream",
          "name": "stdout",
          "text": [
            "0\n",
            "1\n",
            "2\n"
          ]
        }
      ],
      "source": [
        "try:\n",
        "    it = iter([0,1,2])\n",
        "    while True:\n",
        "        x = next(it)\n",
        "        print(x)\n",
        "except StopIteration:\n",
        "    pass"
      ]
    },
    {
      "cell_type": "markdown",
      "metadata": {
        "id": "WbsvmVjSKwjd"
      },
      "source": [
        "このtry-except文は、発生した例外を捉えて、適切に処理するための構文です。\n",
        "ここでは、発生した `StopIteration` を捉えて、何もせずに（`pass`）次に処理を進めるという意味になります。\n",
        "結果として、コードセルの実行が成功裡に完了しています。\n",
        "（例外とtry-except文の詳細は、[公式チュートリアル](https://docs.python.org/ja/3/tutorial/errors.html)を参照してください。）\n",
        "\n"
      ]
    },
    {
      "cell_type": "markdown",
      "metadata": {
        "tags": [],
        "id": "gFoI0E3jKwjd"
      },
      "source": [
        "## イテレータは特殊なイテラブル\n",
        "\n",
        "イテレータ自身も実はイテラブルです。したがって、イテレータをfor文で繰り返すことができます。"
      ]
    },
    {
      "cell_type": "code",
      "execution_count": 15,
      "metadata": {
        "id": "5-P2BI6VKwjd",
        "outputId": "21d6cf45-e2fa-49c1-a6d3-9bde0ffe8fd3",
        "colab": {
          "base_uri": "https://localhost:8080/"
        }
      },
      "outputs": [
        {
          "output_type": "stream",
          "name": "stdout",
          "text": [
            "0\n",
            "1\n",
            "2\n"
          ]
        }
      ],
      "source": [
        "it = iter([0,1,2])\n",
        "for x in it:\n",
        "    print(x)"
      ]
    },
    {
      "cell_type": "markdown",
      "metadata": {
        "id": "WNAp_nMcKwjd"
      },
      "source": [
        "しかし、単なるイテラブルではありません。1つのfor文で使い切りのイテラブルです。"
      ]
    },
    {
      "cell_type": "code",
      "execution_count": 16,
      "metadata": {
        "id": "45nzvN7pKwjd"
      },
      "outputs": [],
      "source": [
        "for x in it:\n",
        "    print('これは実行されない')"
      ]
    },
    {
      "cell_type": "markdown",
      "metadata": {
        "id": "aY77wiSpKwjd"
      },
      "source": [
        "これは、イテレータ `it` に対して `iter` を適用した時に、`it` 自体が返されるという仕組みによって実現されています。"
      ]
    },
    {
      "cell_type": "code",
      "execution_count": 17,
      "metadata": {
        "id": "sTohHskmKwjd",
        "outputId": "98f4b0bd-11d4-4380-d786-6d73e16fe577",
        "colab": {
          "base_uri": "https://localhost:8080/"
        }
      },
      "outputs": [
        {
          "output_type": "execute_result",
          "data": {
            "text/plain": [
              "True"
            ]
          },
          "metadata": {},
          "execution_count": 17
        }
      ],
      "source": [
        "it = iter([0,1,2])\n",
        "it is iter(it)"
      ]
    },
    {
      "cell_type": "markdown",
      "metadata": {
        "id": "yNL52egcKwjd"
      },
      "source": [
        "この **`is`** は、[2-2](../2/2-2.ipynb)に説明がありますが、その両辺が同一オブジェクトかどうかを調べる演算子です。\n",
        "\n",
        "最初のfor文の繰り返しによって終端に到達したイテレータ `it` は、その後の `next(it)` において `StopIteration` を発生させ続けます。\n",
        "したがって、後続するfor文では、繰り返し処理に入ることなく即座に終了するわけです。\n",
        "上に示したwhile文の形で考えると、わかりやすいでしょう。"
      ]
    },
    {
      "cell_type": "markdown",
      "metadata": {
        "id": "JkfpwnptKwje"
      },
      "source": [
        "### 練習\n",
        "\n",
        "リストをもらって、そのイテレータを作り、最初の要素だけ取り出した後、\n",
        "そのイテレータを返す関数 `but_first(ls)` を定義してください。"
      ]
    },
    {
      "cell_type": "code",
      "execution_count": 23,
      "metadata": {
        "id": "29SKHlVmKwje"
      },
      "outputs": [],
      "source": [
        "def but_first(ls):\n",
        "    it = iter(ls)\n",
        "    next(it)\n",
        "    return it"
      ]
    },
    {
      "cell_type": "markdown",
      "metadata": {
        "id": "KLrPXxM9Kwje"
      },
      "source": [
        "定義ができたら、次のセルを実行して、エラーがでないことを確認してください。"
      ]
    },
    {
      "cell_type": "code",
      "execution_count": 24,
      "metadata": {
        "tags": [
          "raises-exception"
        ],
        "id": "k-MAPkmlKwje"
      },
      "outputs": [],
      "source": [
        "it = but_first([0,2,4,6,8])\n",
        "assert type(it) == type(iter([])) # type(it) では it は消費されない\n",
        "assert list(it) == [2,4,6,8]"
      ]
    },
    {
      "cell_type": "markdown",
      "metadata": {
        "id": "2NJI3e-yKwje"
      },
      "source": [
        "## ファイルオブジェクトはイテレータ\n",
        "\n",
        "ファイルオブジェクトは `readline` メソッドによって、一行ずつ消費しながら、行の文字列を取り出せます。\n",
        "そして、for文で末尾まで繰り返すと、for文で繰り返すことはもうできません。\n",
        "\n",
        "ここまで読んだ方は既に気付いているでしょうが、ファイルオブジェクトはイテレータです。\n",
        "\n"
      ]
    },
    {
      "cell_type": "code",
      "execution_count": 25,
      "metadata": {
        "id": "je1JXzF6Kwje"
      },
      "outputs": [],
      "source": [
        "f = open('sample.txt', 'r')"
      ]
    },
    {
      "cell_type": "code",
      "execution_count": 26,
      "metadata": {
        "id": "bFvAZRDoKwjs",
        "outputId": "5ae98849-6da2-4452-a1e4-4414390015c5",
        "colab": {
          "base_uri": "https://localhost:8080/",
          "height": 52
        }
      },
      "outputs": [
        {
          "output_type": "execute_result",
          "data": {
            "text/plain": [
              "'Lorem ipsum dolor sit amet, consectetur adipiscing elit, sed do eiusmod tempor incididunt ut labore et dolore magna aliqua. Ut enim ad minim veniam, quis nostrud exercitation ullamco laboris nisi ut aliquip ex ea commodo consequat.\\n'"
            ],
            "application/vnd.google.colaboratory.intrinsic+json": {
              "type": "string"
            }
          },
          "metadata": {},
          "execution_count": 26
        }
      ],
      "source": [
        "next(f)"
      ]
    },
    {
      "cell_type": "code",
      "execution_count": 27,
      "metadata": {
        "id": "oIqgBvcXKwjt",
        "outputId": "de31bf23-e8ed-4fab-ecfa-9f39398a44c1",
        "colab": {
          "base_uri": "https://localhost:8080/",
          "height": 35
        }
      },
      "outputs": [
        {
          "output_type": "execute_result",
          "data": {
            "text/plain": [
              "'Duis aute irure dolor in reprehenderit in voluptate velit esse cillum dolore eu fugiat nulla pariatur.\\n'"
            ],
            "application/vnd.google.colaboratory.intrinsic+json": {
              "type": "string"
            }
          },
          "metadata": {},
          "execution_count": 27
        }
      ],
      "source": [
        "next(f)"
      ]
    },
    {
      "cell_type": "code",
      "execution_count": 28,
      "metadata": {
        "id": "d5-E5AzpKwjt",
        "outputId": "ce4fa6a5-b707-4cc0-e386-0a3929346c1d",
        "colab": {
          "base_uri": "https://localhost:8080/",
          "height": 35
        }
      },
      "outputs": [
        {
          "output_type": "execute_result",
          "data": {
            "text/plain": [
              "'Excepteur sint occaecat cupidatat non proident, sunt in culpa qui officia deserunt mollit anim id est laborum.\\n'"
            ],
            "application/vnd.google.colaboratory.intrinsic+json": {
              "type": "string"
            }
          },
          "metadata": {},
          "execution_count": 28
        }
      ],
      "source": [
        "next(f)"
      ]
    },
    {
      "cell_type": "code",
      "execution_count": 29,
      "metadata": {
        "tags": [
          "raises-exception"
        ],
        "id": "HTetV3l2Kwjt",
        "outputId": "baf637af-4d62-48b9-df4c-c258772e5487",
        "colab": {
          "base_uri": "https://localhost:8080/",
          "height": 141
        }
      },
      "outputs": [
        {
          "output_type": "error",
          "ename": "StopIteration",
          "evalue": "",
          "traceback": [
            "\u001b[0;31m---------------------------------------------------------------------------\u001b[0m",
            "\u001b[0;31mStopIteration\u001b[0m                             Traceback (most recent call last)",
            "\u001b[0;32m/tmp/ipython-input-4256387510.py\u001b[0m in \u001b[0;36m<cell line: 0>\u001b[0;34m()\u001b[0m\n\u001b[0;32m----> 1\u001b[0;31m \u001b[0mnext\u001b[0m\u001b[0;34m(\u001b[0m\u001b[0mf\u001b[0m\u001b[0;34m)\u001b[0m\u001b[0;34m\u001b[0m\u001b[0;34m\u001b[0m\u001b[0m\n\u001b[0m",
            "\u001b[0;31mStopIteration\u001b[0m: "
          ]
        }
      ],
      "source": [
        "next(f)"
      ]
    },
    {
      "cell_type": "markdown",
      "metadata": {
        "id": "Xq7aFF7oKwjt"
      },
      "source": [
        "ファイルオブジェクト `f` に対する `f.readline()` と `next(f)` の振舞いは、`f` が終端に到達していないときは同一です。\n",
        "`f` が終端にあるときは、`f.readline()` は `''` を返しますが、`next(f)` は `StopIteration` を発生させます。"
      ]
    },
    {
      "cell_type": "code",
      "execution_count": 30,
      "metadata": {
        "id": "tbzBcxxaKwjt"
      },
      "outputs": [],
      "source": [
        "f.close()"
      ]
    },
    {
      "cell_type": "markdown",
      "metadata": {
        "id": "ibeB_Pb7Kwjt"
      },
      "source": [
        "## イテラブルはイテレータではない\n",
        "\n",
        "イテラブルは一般に、イテレータではありません。\n",
        "具体的には、リスト・タプル・文字列・辞書はイテラブルですが、イテレータではありません。\n",
        "[3-2](../3/3-2.ipynb)で紹介した `range` 関数の返す range オブジェクトも、イテラブルですがイテレータではありません。\n",
        "\n",
        "したがって、`next` が適用可能ではなく、`iter` の適用によって毎回別のイテレータが返されます。\n",
        "つまり、これまで見てきたように、複数のfor文で何度も繰り返す処理が実行できます。"
      ]
    },
    {
      "cell_type": "code",
      "execution_count": 31,
      "metadata": {
        "tags": [],
        "id": "Uifw0KscKwjt",
        "outputId": "bbdef621-29d8-46b5-8be1-21e89f6f4e53",
        "colab": {
          "base_uri": "https://localhost:8080/"
        }
      },
      "outputs": [
        {
          "output_type": "stream",
          "name": "stdout",
          "text": [
            "1\n",
            "2\n",
            "3\n",
            "1\n",
            "2\n",
            "3\n"
          ]
        }
      ],
      "source": [
        "xs = [1,2,3]\n",
        "for x in xs:\n",
        "    print(x)\n",
        "for x in xs:\n",
        "    print(x)"
      ]
    },
    {
      "cell_type": "code",
      "execution_count": 32,
      "metadata": {
        "id": "RKIFIZZnKwjt",
        "outputId": "678cfa8a-1502-48c2-da91-6fb688773a8f",
        "colab": {
          "base_uri": "https://localhost:8080/"
        }
      },
      "outputs": [
        {
          "output_type": "stream",
          "name": "stdout",
          "text": [
            "0\n",
            "1\n",
            "2\n",
            "0\n",
            "1\n",
            "2\n"
          ]
        }
      ],
      "source": [
        "r = range(3)\n",
        "for x in r:\n",
        "    print(x)\n",
        "for x in r:\n",
        "    print(x)"
      ]
    },
    {
      "cell_type": "markdown",
      "metadata": {
        "id": "LJcy8wIaKwju"
      },
      "source": [
        "## イテレータを返す `enumerate`\n",
        "\n",
        "[3-2](../3/3-2.ipynb)で紹介した組み込み関数の **`enumerate`** は、イテレータを返します。"
      ]
    },
    {
      "cell_type": "code",
      "execution_count": 33,
      "metadata": {
        "id": "T3AJHwYkKwju"
      },
      "outputs": [],
      "source": [
        "it = enumerate([10,20,30])"
      ]
    },
    {
      "cell_type": "code",
      "execution_count": 34,
      "metadata": {
        "id": "enwss0OpKwju",
        "outputId": "92ef5a0d-610c-4626-efcd-f7ac63b6ed82",
        "colab": {
          "base_uri": "https://localhost:8080/"
        }
      },
      "outputs": [
        {
          "output_type": "execute_result",
          "data": {
            "text/plain": [
              "(0, 10)"
            ]
          },
          "metadata": {},
          "execution_count": 34
        }
      ],
      "source": [
        "next(it)"
      ]
    },
    {
      "cell_type": "code",
      "execution_count": 35,
      "metadata": {
        "id": "aKOX36coKwju",
        "outputId": "d0507908-0eaa-4917-cd11-b5efd33e16fd",
        "colab": {
          "base_uri": "https://localhost:8080/"
        }
      },
      "outputs": [
        {
          "output_type": "stream",
          "name": "stdout",
          "text": [
            "(1, 20)\n",
            "(2, 30)\n"
          ]
        }
      ],
      "source": [
        "for x in it:\n",
        "    print(x)"
      ]
    },
    {
      "cell_type": "code",
      "execution_count": 36,
      "metadata": {
        "id": "bsJta8y6Kwju",
        "outputId": "990cd2ed-f769-4da7-e2f7-c089f068db8c",
        "colab": {
          "base_uri": "https://localhost:8080/"
        }
      },
      "outputs": [
        {
          "output_type": "stream",
          "name": "stdout",
          "text": [
            "0 番目の文字 = A\n",
            "1 番目の文字 = C\n",
            "2 番目の文字 = D\n",
            "3 番目の文字 = B\n"
          ]
        }
      ],
      "source": [
        "for i, c in enumerate('ACDB'):\n",
        "    print(i, '番目の文字 =', c)"
      ]
    },
    {
      "cell_type": "markdown",
      "metadata": {
        "id": "KPyp-yZMKwju"
      },
      "source": [
        "一方、`enumerate` はイテラブルを引数として受け取ります。上の例で、リストも文字列もイテラブルです。\n",
        "\n",
        "イテレータもイテラブルなので、`enumerate` の引数になり得ます。\n",
        "したがって、ファイルオブジェクトも、次のように `enumerate` に与えることができます。"
      ]
    },
    {
      "cell_type": "code",
      "execution_count": 37,
      "metadata": {
        "id": "g6KrWWGfKwju",
        "outputId": "f9433f3d-c842-47d2-9bfe-7266c47240fd",
        "colab": {
          "base_uri": "https://localhost:8080/"
        }
      },
      "outputs": [
        {
          "output_type": "stream",
          "name": "stdout",
          "text": [
            "0 行目:\n",
            "Lorem ipsum dolor sit amet, consectetur adipiscing elit, sed do eiusmod tempor incididunt ut labore et dolore magna aliqua. Ut enim ad minim veniam, quis nostrud exercitation ullamco laboris nisi ut aliquip ex ea commodo consequat.\n",
            "\n",
            "1 行目:\n",
            "Duis aute irure dolor in reprehenderit in voluptate velit esse cillum dolore eu fugiat nulla pariatur.\n",
            "\n",
            "2 行目:\n",
            "Excepteur sint occaecat cupidatat non proident, sunt in culpa qui officia deserunt mollit anim id est laborum.\n",
            "\n"
          ]
        }
      ],
      "source": [
        "with open('sample.txt', 'r') as f:\n",
        "    for i, s in enumerate(f):\n",
        "        print(i, '行目:')\n",
        "        print(s)"
      ]
    },
    {
      "cell_type": "markdown",
      "metadata": {
        "id": "0Kv3hJCBKwju"
      },
      "source": [
        "変数 `i` は `0` から順に増えていきます。変数 `s` には各行の文字列が代入されます。\n",
        "`i` は `0` から始まりますが、各行の行番号と考えられます。"
      ]
    },
    {
      "cell_type": "markdown",
      "metadata": {
        "id": "wAWLKcZeKwju"
      },
      "source": [
        "## ▲イテラブルとイテレータの定義\n",
        "\n",
        "イテラブルとイテレータの形式的な定義をまとめます。\n",
        "\n",
        "* イテラブル：\n",
        "  - `iter` を適用可能。 **`__iter__`** メソッドを持つ。\n",
        "* イテレータ：\n",
        "  - `next` を適用可能。 **`__next__`** メソッドを持つ。\n",
        "  - `iter` を適用したとき、引数のオブジェクトをそのまま返す。\n",
        "\n",
        "`iter(x)` は `x.__iter__()` と等価なので、`iter` を適用可能であることと、`__iter__` メソッドを持つことは同義です。\n",
        "同様に、`next(x)` は `x.__next__()` と等価なので、 `next` を適用可能であることと、`__next__` メソッドを持つことは同義です。\n",
        "\n",
        "`__iter__` メソッドと `__next__` メソッドについては、[6-3](../6/6-3.ipynb)で改めて説明します。"
      ]
    },
    {
      "cell_type": "markdown",
      "metadata": {
        "id": "KiJFY7hqKwjv"
      },
      "source": [
        "## 練習の解答"
      ]
    },
    {
      "cell_type": "code",
      "execution_count": null,
      "metadata": {
        "id": "zT3jGHurKwjv"
      },
      "outputs": [],
      "source": [
        "def last_line(name):\n",
        "    with open(name, 'r', encoding='utf-8') as f:\n",
        "        for line in f:\n",
        "            pass\n",
        "    return line"
      ]
    },
    {
      "cell_type": "code",
      "execution_count": null,
      "metadata": {
        "id": "fj4LTHxdKwjv"
      },
      "outputs": [],
      "source": [
        "def last_line(name):\n",
        "    f = open(name, 'r', encoding='utf-8')\n",
        "    for line in f:\n",
        "        pass\n",
        "    f.close()\n",
        "    return line"
      ]
    },
    {
      "cell_type": "code",
      "execution_count": null,
      "metadata": {
        "id": "EOD1GVSsKwjv"
      },
      "outputs": [],
      "source": [
        "def but_first(ls):\n",
        "    it = iter(ls)\n",
        "    next(it)\n",
        "    return it"
      ]
    },
    {
      "cell_type": "code",
      "execution_count": null,
      "metadata": {
        "id": "U_H14fSmKwjv"
      },
      "outputs": [],
      "source": []
    }
  ],
  "metadata": {
    "kernelspec": {
      "display_name": "Python 3",
      "language": "python",
      "name": "python3"
    },
    "language_info": {
      "name": "python"
    },
    "colab": {
      "provenance": [],
      "include_colab_link": true
    }
  },
  "nbformat": 4,
  "nbformat_minor": 0
}