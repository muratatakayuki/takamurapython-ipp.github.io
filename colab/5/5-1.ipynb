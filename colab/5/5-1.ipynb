{
  "cells": [
    {
      "cell_type": "markdown",
      "metadata": {
        "id": "view-in-github",
        "colab_type": "text"
      },
      "source": [
        "<a href=\"https://colab.research.google.com/github/muratatakayuki/takamurapython-ipp.github.io/blob/master/colab/5/5-1.ipynb\" target=\"_parent\"><img src=\"https://colab.research.google.com/assets/colab-badge.svg\" alt=\"Open In Colab\"/></a>"
      ]
    },
    {
      "cell_type": "code",
      "execution_count": 1,
      "metadata": {
        "id": "jXXf9qFyr6zX",
        "outputId": "8b294775-3adf-4d7b-843f-506e052a3fd2",
        "colab": {
          "base_uri": "https://localhost:8080/"
        }
      },
      "outputs": [
        {
          "output_type": "stream",
          "name": "stdout",
          "text": [
            "--2025-09-01 09:51:07--  https://raw.githubusercontent.com/utokyo-ipp/utokyo-ipp.github.io/master/colab/5/factorial.py\n",
            "Resolving raw.githubusercontent.com (raw.githubusercontent.com)... 185.199.108.133, 185.199.109.133, 185.199.110.133, ...\n",
            "Connecting to raw.githubusercontent.com (raw.githubusercontent.com)|185.199.108.133|:443... connected.\n",
            "HTTP request sent, awaiting response... 200 OK\n",
            "Length: 109 [text/plain]\n",
            "Saving to: ‘./factorial.py’\n",
            "\n",
            "\rfactorial.py          0%[                    ]       0  --.-KB/s               \rfactorial.py        100%[===================>]     109  --.-KB/s    in 0s      \n",
            "\n",
            "2025-09-01 09:51:07 (1.67 MB/s) - ‘./factorial.py’ saved [109/109]\n",
            "\n",
            "--2025-09-01 09:51:07--  https://raw.githubusercontent.com/utokyo-ipp/utokyo-ipp.github.io/master/colab/5/fig/py_open_2.png\n",
            "Resolving raw.githubusercontent.com (raw.githubusercontent.com)... 185.199.108.133, 185.199.109.133, 185.199.110.133, ...\n",
            "Connecting to raw.githubusercontent.com (raw.githubusercontent.com)|185.199.108.133|:443... connected.\n",
            "HTTP request sent, awaiting response... 200 OK\n",
            "Length: 22815 (22K) [image/png]\n",
            "Saving to: ‘fig/py_open_2.png’\n",
            "\n",
            "py_open_2.png       100%[===================>]  22.28K  --.-KB/s    in 0.003s  \n",
            "\n",
            "2025-09-01 09:51:08 (8.60 MB/s) - ‘fig/py_open_2.png’ saved [22815/22815]\n",
            "\n",
            "--2025-09-01 09:51:08--  https://raw.githubusercontent.com/utokyo-ipp/utokyo-ipp.github.io/master/colab/5/fig/py_open_1.png\n",
            "Resolving raw.githubusercontent.com (raw.githubusercontent.com)... 185.199.108.133, 185.199.109.133, 185.199.111.133, ...\n",
            "Connecting to raw.githubusercontent.com (raw.githubusercontent.com)|185.199.108.133|:443... connected.\n",
            "HTTP request sent, awaiting response... 200 OK\n",
            "Length: 36596 (36K) [image/png]\n",
            "Saving to: ‘fig/py_open_1.png’\n",
            "\n",
            "py_open_1.png       100%[===================>]  35.74K  --.-KB/s    in 0.01s   \n",
            "\n",
            "2025-09-01 09:51:08 (3.39 MB/s) - ‘fig/py_open_1.png’ saved [36596/36596]\n",
            "\n",
            "--2025-09-01 09:51:08--  https://raw.githubusercontent.com/utokyo-ipp/utokyo-ipp.github.io/master/colab/5/fig/py_conv_1.png\n",
            "Resolving raw.githubusercontent.com (raw.githubusercontent.com)... 185.199.108.133, 185.199.109.133, 185.199.111.133, ...\n",
            "Connecting to raw.githubusercontent.com (raw.githubusercontent.com)|185.199.108.133|:443... connected.\n",
            "HTTP request sent, awaiting response... 200 OK\n",
            "Length: 27636 (27K) [image/png]\n",
            "Saving to: ‘fig/py_conv_1.png’\n",
            "\n",
            "py_conv_1.png       100%[===================>]  26.99K  --.-KB/s    in 0.003s  \n",
            "\n",
            "2025-09-01 09:51:08 (10.5 MB/s) - ‘fig/py_conv_1.png’ saved [27636/27636]\n",
            "\n",
            "--2025-09-01 09:51:08--  https://raw.githubusercontent.com/utokyo-ipp/utokyo-ipp.github.io/master/colab/5/fig/py_conv_2.png\n",
            "Resolving raw.githubusercontent.com (raw.githubusercontent.com)... 185.199.108.133, 185.199.109.133, 185.199.110.133, ...\n",
            "Connecting to raw.githubusercontent.com (raw.githubusercontent.com)|185.199.108.133|:443... connected.\n",
            "HTTP request sent, awaiting response... 200 OK\n",
            "Length: 59488 (58K) [image/png]\n",
            "Saving to: ‘fig/py_conv_2.png’\n",
            "\n",
            "py_conv_2.png       100%[===================>]  58.09K  --.-KB/s    in 0.01s   \n",
            "\n",
            "2025-09-01 09:51:08 (4.32 MB/s) - ‘fig/py_conv_2.png’ saved [59488/59488]\n",
            "\n"
          ]
        }
      ],
      "source": [
        "##================================================\n",
        "## このセルを最初に実行せよ---Run this cell first.\n",
        "##================================================\n",
        "!wget -P . https://raw.githubusercontent.com/utokyo-ipp/utokyo-ipp.github.io/master/colab/5/factorial.py\n",
        "!wget -P fig https://raw.githubusercontent.com/utokyo-ipp/utokyo-ipp.github.io/master/colab/5/fig/py_open_2.png\n",
        "!wget -P fig https://raw.githubusercontent.com/utokyo-ipp/utokyo-ipp.github.io/master/colab/5/fig/py_open_1.png\n",
        "!wget -P fig https://raw.githubusercontent.com/utokyo-ipp/utokyo-ipp.github.io/master/colab/5/fig/py_conv_1.png\n",
        "!wget -P fig https://raw.githubusercontent.com/utokyo-ipp/utokyo-ipp.github.io/master/colab/5/fig/py_conv_2.png"
      ]
    },
    {
      "cell_type": "markdown",
      "metadata": {
        "id": "NJ0N0Cjmr6zY"
      },
      "source": [
        "# 5-1. モジュールの使い方\n",
        "モジュールの使い方について説明します。\n",
        "\n",
        "参考\n",
        "\n",
        "- https://docs.python.org/ja/3/reference/import.html\n",
        "- https://docs.python.org/ja/3/tutorial/modules.html\n",
        "- https://docs.python.org/ja/3/library/math.html\n",
        "\n",
        "## モジュールのインポート\n",
        "\n",
        "Pythonでは特別な関数や値をまとめたもの（これを**モジュール**といいます）を使うために、**`import`** という文を使います（第1回 (1-1) においても説明しました）。具体的には次のように記述します。\n",
        "\n",
        "---\n",
        "```Python\n",
        "import モジュール名\n",
        "```\n",
        "---\n",
        "\n",
        "たとえば、数学関係の機能をまとめた `math` というモジュールがあります。これらの関数や値を使いたいときは、以下のようにして `math` モジュールを `import` で**インポート**します。そうすると、`math.関数名` という形で関数を用いることができます。"
      ]
    },
    {
      "cell_type": "code",
      "execution_count": 2,
      "metadata": {
        "id": "88LGwAe1r6za",
        "outputId": "85d7c556-55f9-423f-e213-566c270c5679",
        "colab": {
          "base_uri": "https://localhost:8080/"
        }
      },
      "outputs": [
        {
          "output_type": "stream",
          "name": "stdout",
          "text": [
            "1.4142135623730951\n",
            "3.141592653589793\n",
            "0.7071067811865475\n",
            "1.0\n",
            "5.0\n"
          ]
        }
      ],
      "source": [
        "import math# importは大抵セルの一番上に記述します\n",
        "print(math.sqrt(2)) # sqrt は平方根を計算する関数\n",
        "print(math.pi) # πの値\n",
        "print(math.sin(math.pi/4)) # sin関数\n",
        "print(math.cos(0)) # cos関数\n",
        "print(math.log(32,2)) # 2を底とする32の対数（texで記述すると、$\\log_2 32$）"
      ]
    },
    {
      "cell_type": "markdown",
      "metadata": {
        "id": "S4GFf3EXr6za"
      },
      "source": [
        "上の例では、`math` モジュールの中の関数や値を使用しています。\n",
        "\n",
        "注意しなければならないのは、モジュールの中の関数を使う場合には、\n",
        "\n",
        "---\n",
        "```Python\n",
        "モジュール名.モジュールの中の関数名\n",
        "```\n",
        "---\n",
        "\n",
        "とする必要があるということです。\n",
        "\n",
        "モジュールの中の値（たとえば `math.pi`）も同様です。\n",
        "\n",
        "なお、複数の関数名をコンマ `,` で区切って並べて同時にインポートすることもできます。"
      ]
    },
    {
      "cell_type": "markdown",
      "metadata": {
        "id": "DQp7bjuOr6za"
      },
      "source": [
        "## `from`\n",
        "\n",
        "モジュール内で定義されている関数を「モジュールの中の関数名」のようにして、「モジュール名.」を付けずにそのままの名前で、モジュールの読み込み元のプログラムで使いたい場合には、**`from`** を以下のように書くことで利用することができます。\n",
        "\n",
        "---\n",
        "```Python\n",
        "from モジュール名 import モジュールの中の関数名\n",
        "```\n",
        "---\n",
        "\n",
        "たとえば、次のようになります。"
      ]
    },
    {
      "cell_type": "code",
      "execution_count": 4,
      "metadata": {
        "id": "flOB8mbGr6zb",
        "outputId": "bdc7798c-9982-48bd-f536-63cf3982e1d0",
        "colab": {
          "base_uri": "https://localhost:8080/"
        }
      },
      "outputs": [
        {
          "output_type": "stream",
          "name": "stdout",
          "text": [
            "1.4142135623730951\n",
            "3.141592653589793\n",
            "0.7071067811865475\n",
            "1.0\n",
            "5.0\n"
          ]
        }
      ],
      "source": [
        "from math import sqrt#mathからsqrtを使用できるようにする\n",
        "print(sqrt(2)) # sqrt は平方根を計算する関数\n",
        "from math import pi\n",
        "print(pi) # πの値\n",
        "from math import sin\n",
        "print(sin(math.pi/4)) # sin関数\n",
        "from math import cos\n",
        "print(cos(0)) # cos関数\n",
        "from math import log\n",
        "print(log(32,2)) # 2を底とする32の対数（texで記述すると、$\\log_2 32$）"
      ]
    },
    {
      "cell_type": "markdown",
      "metadata": {
        "id": "sijEJF1br6zb"
      },
      "source": [
        "この方法では、関数ごとに `from` を用いてインポートする必要があります。\n",
        "\n",
        "なお、関数だけではなく、グローバル変数や後に学習するクラスも、\n",
        "このようにしてインポートすることができます。\n",
        "\n",
        "別の方法として、**ワイルドカード** **`*`** を利用する方法もあります。\n",
        "\n",
        "---\n",
        "```Python\n",
        "from math import *\n",
        "```\n",
        "---\n",
        "\n",
        "この方法ではアンダースコア `_` で始まるものを除いた全ての名前が読み込まれるため、明示的に名前を指定する必要はありません。\n"
      ]
    },
    {
      "cell_type": "code",
      "execution_count": 5,
      "metadata": {
        "id": "TxZCYTWhr6zb",
        "outputId": "947d986d-3c11-4acc-992e-0c566df777a7",
        "colab": {
          "base_uri": "https://localhost:8080/"
        }
      },
      "outputs": [
        {
          "output_type": "stream",
          "name": "stdout",
          "text": [
            "120\n",
            "2\n",
            "2.718281828459045\n"
          ]
        }
      ],
      "source": [
        "from math import *\n",
        "print(factorial(5)) # 5 の階乗 # import mathを使う場合、math.factorial(5)\n",
        "print(floor(2.31)) # 2.31以下の最大の整数  # import mathを使う場合、math.floor(2.31)\n",
        "print(e) # ネイピア数 # import mathを使う場合、math.e"
      ]
    },
    {
      "cell_type": "markdown",
      "metadata": {
        "id": "OtvU6P4Xr6zc"
      },
      "source": [
        "ただしこの方法は推奨されていません。理由は読み込んだモジュール内の未知の名前とプログラム内の名前が衝突する可能性があるためです。"
      ]
    },
    {
      "cell_type": "code",
      "execution_count": 6,
      "metadata": {
        "id": "OUtE5j7_r6zc",
        "outputId": "124b3882-b844-4cb4-f46a-0e6ac655c4f6",
        "colab": {
          "base_uri": "https://localhost:8080/"
        }
      },
      "outputs": [
        {
          "output_type": "stream",
          "name": "stdout",
          "text": [
            "パイ\n",
            "3.141592653589793\n"
          ]
        }
      ],
      "source": [
        "pi = 'パイ' # piという変数に文字列「パイ」を代入する\n",
        "print(pi)\n",
        "from math import *\n",
        "print(pi) # mathモジュールのpiの値で上書きされる（衝突）"
      ]
    },
    {
      "cell_type": "markdown",
      "metadata": {
        "id": "_fxSeiXTr6zc"
      },
      "source": [
        "## `as`\n",
        "\n",
        "モジュール名が長すぎるなどの理由から別の名前としたい場合は、**`as`** を利用する方法もあります。\n",
        "たとえば、5-3において学習するNumPyというライブラリは `numpy` モジュールとして提供されていますが、\n",
        "次のように、 `numpy` を `np` という略称で使うことがあります。"
      ]
    },
    {
      "cell_type": "code",
      "execution_count": 7,
      "metadata": {
        "id": "6geHGogRr6zd",
        "outputId": "9b745269-0d37-481a-e130-445b006a089c",
        "colab": {
          "base_uri": "https://localhost:8080/"
        }
      },
      "outputs": [
        {
          "output_type": "stream",
          "name": "stdout",
          "text": [
            "[[1. 1. 1. 1. 1.]\n",
            " [1. 1. 1. 1. 1.]\n",
            " [1. 1. 1. 1. 1.]]\n",
            "[[1. 1. 1. 1. 1.]\n",
            " [1. 1. 1. 1. 1.]\n",
            " [1. 1. 1. 1. 1.]]\n"
          ]
        }
      ],
      "source": [
        "import numpy\n",
        "print(numpy.ones((3, 5))) # 3×5の行列を表示\n",
        "import numpy as np\n",
        "print(np.ones((3, 5))) # np という短い名称で同じ関数を利用する"
      ]
    },
    {
      "cell_type": "markdown",
      "metadata": {
        "id": "MIaH9HoCr6zd"
      },
      "source": [
        "個々の関数ごとに別の名前を付けることもできます。"
      ]
    },
    {
      "cell_type": "code",
      "execution_count": 8,
      "metadata": {
        "id": "3QkB_Ojsr6zd",
        "outputId": "b8a0b92e-e33d-492d-a058-0bcb7915bf94",
        "colab": {
          "base_uri": "https://localhost:8080/"
        }
      },
      "outputs": [
        {
          "output_type": "stream",
          "name": "stdout",
          "text": [
            "120\n",
            "120\n"
          ]
        }
      ],
      "source": [
        "import math\n",
        "print(math.factorial(5)) # 階乗を求める関数factorial # 5の階乗\n",
        "from math import factorial as fact # fact という名前でmath.factorialを使用したい\n",
        "print(fact(5))"
      ]
    },
    {
      "cell_type": "markdown",
      "metadata": {
        "id": "bACwTjtfr6zd"
      },
      "source": [
        "## 練習\n",
        "第1回では、数学関数を以下のようにインポートし、`math.sqrt()` のようにして、数学関数や数学関係の変数を利用していました。\n",
        "\n",
        "---\n",
        "```Python\n",
        "import math\n",
        "print(math.sqrt(2))\n",
        "print(math.sin(math.pi))\n",
        "```\n",
        "\n",
        "---\n",
        "\n",
        "以下のセルを、モジュール名を付けないでこれらの関数や変数を参照できるように変更してください。"
      ]
    },
    {
      "cell_type": "code",
      "execution_count": 9,
      "metadata": {
        "tags": [
          "raises-exception"
        ],
        "id": "iMC2oRoUr6zd",
        "outputId": "1716d930-1cb3-4fed-9389-9ee42a8c490f",
        "colab": {
          "base_uri": "https://localhost:8080/"
        }
      },
      "outputs": [
        {
          "output_type": "stream",
          "name": "stdout",
          "text": [
            "1.4142135623730951\n",
            "1.2246467991473532e-16\n"
          ]
        }
      ],
      "source": [
        "from math import *\n",
        "print(sqrt(2))\n",
        "print(sin(pi))"
      ]
    },
    {
      "cell_type": "markdown",
      "metadata": {
        "id": "N7Pg7A4Vr6zd"
      },
      "source": [
        "## 練習の解答\n",
        "\n",
        "`from` を使ってモジュールを指定、参照する関数を `import` でインポートしてください。"
      ]
    },
    {
      "cell_type": "code",
      "execution_count": 10,
      "metadata": {
        "id": "FSvmqUW9r6ze",
        "outputId": "086d8c2e-210c-4318-a5d0-37726d456b68",
        "colab": {
          "base_uri": "https://localhost:8080/"
        }
      },
      "outputs": [
        {
          "output_type": "stream",
          "name": "stdout",
          "text": [
            "1.4142135623730951\n",
            "1.2246467991473532e-16\n"
          ]
        }
      ],
      "source": [
        "from math import sqrt, sin, pi\n",
        "print(sqrt(2))\n",
        "print(sin(pi))"
      ]
    }
  ],
  "metadata": {
    "kernelspec": {
      "display_name": "Python 3",
      "language": "python",
      "name": "python3"
    },
    "language_info": {
      "name": "python"
    },
    "colab": {
      "provenance": [],
      "include_colab_link": true
    }
  },
  "nbformat": 4,
  "nbformat_minor": 0
}