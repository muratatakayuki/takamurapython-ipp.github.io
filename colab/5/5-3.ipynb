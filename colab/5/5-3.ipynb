{
  "cells": [
    {
      "cell_type": "markdown",
      "metadata": {
        "id": "view-in-github",
        "colab_type": "text"
      },
      "source": [
        "<a href=\"https://colab.research.google.com/github/muratatakayuki/takamurapython-ipp.github.io/blob/master/colab/5/5-3.ipynb\" target=\"_parent\"><img src=\"https://colab.research.google.com/assets/colab-badge.svg\" alt=\"Open In Colab\"/></a>"
      ]
    },
    {
      "cell_type": "code",
      "execution_count": 4,
      "metadata": {
        "id": "xEIM9CqRQncR",
        "outputId": "77963700-4878-4f55-e5f6-9664820d05d9",
        "colab": {
          "base_uri": "https://localhost:8080/"
        }
      },
      "outputs": [
        {
          "output_type": "stream",
          "name": "stdout",
          "text": [
            "--2025-09-13 04:09:54--  https://raw.githubusercontent.com/utokyo-ipp/utokyo-ipp.github.io/master/colab/5/factorial.py\n",
            "Resolving raw.githubusercontent.com (raw.githubusercontent.com)... 185.199.108.133, 185.199.111.133, 185.199.109.133, ...\n",
            "Connecting to raw.githubusercontent.com (raw.githubusercontent.com)|185.199.108.133|:443... connected.\n",
            "HTTP request sent, awaiting response... 200 OK\n",
            "Length: 109 [text/plain]\n",
            "Saving to: ‘./factorial.py’\n",
            "\n",
            "\rfactorial.py          0%[                    ]       0  --.-KB/s               \rfactorial.py        100%[===================>]     109  --.-KB/s    in 0s      \n",
            "\n",
            "2025-09-13 04:09:54 (5.74 MB/s) - ‘./factorial.py’ saved [109/109]\n",
            "\n",
            "--2025-09-13 04:09:54--  https://raw.githubusercontent.com/utokyo-ipp/utokyo-ipp.github.io/master/colab/5/fig/py_open_2.png\n",
            "Resolving raw.githubusercontent.com (raw.githubusercontent.com)... 185.199.110.133, 185.199.109.133, 185.199.111.133, ...\n",
            "Connecting to raw.githubusercontent.com (raw.githubusercontent.com)|185.199.110.133|:443... connected.\n",
            "HTTP request sent, awaiting response... 200 OK\n",
            "Length: 22815 (22K) [image/png]\n",
            "Saving to: ‘fig/py_open_2.png’\n",
            "\n",
            "py_open_2.png       100%[===================>]  22.28K  --.-KB/s    in 0s      \n",
            "\n",
            "2025-09-13 04:09:54 (94.6 MB/s) - ‘fig/py_open_2.png’ saved [22815/22815]\n",
            "\n",
            "--2025-09-13 04:09:54--  https://raw.githubusercontent.com/utokyo-ipp/utokyo-ipp.github.io/master/colab/5/fig/py_open_1.png\n",
            "Resolving raw.githubusercontent.com (raw.githubusercontent.com)... 185.199.108.133, 185.199.109.133, 185.199.110.133, ...\n",
            "Connecting to raw.githubusercontent.com (raw.githubusercontent.com)|185.199.108.133|:443... connected.\n",
            "HTTP request sent, awaiting response... 200 OK\n",
            "Length: 36596 (36K) [image/png]\n",
            "Saving to: ‘fig/py_open_1.png’\n",
            "\n",
            "py_open_1.png       100%[===================>]  35.74K  --.-KB/s    in 0.002s  \n",
            "\n",
            "2025-09-13 04:09:55 (23.2 MB/s) - ‘fig/py_open_1.png’ saved [36596/36596]\n",
            "\n",
            "--2025-09-13 04:09:55--  https://raw.githubusercontent.com/utokyo-ipp/utokyo-ipp.github.io/master/colab/5/fig/py_conv_1.png\n",
            "Resolving raw.githubusercontent.com (raw.githubusercontent.com)... 185.199.108.133, 185.199.109.133, 185.199.110.133, ...\n",
            "Connecting to raw.githubusercontent.com (raw.githubusercontent.com)|185.199.108.133|:443... connected.\n",
            "HTTP request sent, awaiting response... 200 OK\n",
            "Length: 27636 (27K) [image/png]\n",
            "Saving to: ‘fig/py_conv_1.png’\n",
            "\n",
            "py_conv_1.png       100%[===================>]  26.99K  --.-KB/s    in 0s      \n",
            "\n",
            "2025-09-13 04:09:55 (106 MB/s) - ‘fig/py_conv_1.png’ saved [27636/27636]\n",
            "\n",
            "--2025-09-13 04:09:55--  https://raw.githubusercontent.com/utokyo-ipp/utokyo-ipp.github.io/master/colab/5/fig/py_conv_2.png\n",
            "Resolving raw.githubusercontent.com (raw.githubusercontent.com)... 185.199.108.133, 185.199.109.133, 185.199.110.133, ...\n",
            "Connecting to raw.githubusercontent.com (raw.githubusercontent.com)|185.199.108.133|:443... connected.\n",
            "HTTP request sent, awaiting response... 200 OK\n",
            "Length: 59488 (58K) [image/png]\n",
            "Saving to: ‘fig/py_conv_2.png’\n",
            "\n",
            "py_conv_2.png       100%[===================>]  58.09K  --.-KB/s    in 0.002s  \n",
            "\n",
            "2025-09-13 04:09:55 (24.3 MB/s) - ‘fig/py_conv_2.png’ saved [59488/59488]\n",
            "\n"
          ]
        }
      ],
      "source": [
        "##================================================\n",
        "## このセルを最初に実行せよ---Run this cell first.\n",
        "##================================================\n",
        "!wget -P . https://raw.githubusercontent.com/utokyo-ipp/utokyo-ipp.github.io/master/colab/5/factorial.py\n",
        "!wget -P fig https://raw.githubusercontent.com/utokyo-ipp/utokyo-ipp.github.io/master/colab/5/fig/py_open_2.png\n",
        "!wget -P fig https://raw.githubusercontent.com/utokyo-ipp/utokyo-ipp.github.io/master/colab/5/fig/py_open_1.png\n",
        "!wget -P fig https://raw.githubusercontent.com/utokyo-ipp/utokyo-ipp.github.io/master/colab/5/fig/py_conv_1.png\n",
        "!wget -P fig https://raw.githubusercontent.com/utokyo-ipp/utokyo-ipp.github.io/master/colab/5/fig/py_conv_2.png"
      ]
    },
    {
      "cell_type": "markdown",
      "metadata": {
        "id": "dTQrMQLlQncS"
      },
      "source": [
        "# 5-3. NumPyライブラリ\n",
        "\n",
        "NumPyについて説明します。\n",
        "\n",
        "参考\n",
        "\n",
        "- https://docs.scipy.org/doc/numpy/user/quickstart.html\n",
        "- https://docs.scipy.org/doc/numpy/user/basics.html\n",
        "\n",
        "**NumPy**とは、多次元配列を効率的に扱うライブラリです。\n",
        "Pythonの標準ライブラリではありませんが、科学技術計算や機械学習など、ベクトルや行列の演算が多用される分野では、事実上の標準ライブラリとしての地位を確立しています。\n",
        "\n",
        "NumPyを用いるには、まず、**`numpy`** モジュールをインポートする必要があります。\n",
        "慣習として、`np` と別名をつけて利用されます。"
      ]
    },
    {
      "cell_type": "code",
      "execution_count": 5,
      "metadata": {
        "id": "af-2KhqoQncT"
      },
      "outputs": [],
      "source": [
        "import numpy as np"
      ]
    },
    {
      "cell_type": "markdown",
      "metadata": {
        "id": "q3CEEdukQncT"
      },
      "source": [
        "NumPyでは、Python標準の数値やリストの代わりに、特別な数値や配列を用いることで、格段に効率的な配列演算を実現します。\n",
        "以下では、配列の基本的な操作や機能を説明します。"
      ]
    },
    {
      "cell_type": "markdown",
      "metadata": {
        "id": "QSzUpuuEQncU"
      },
      "source": [
        "## 配列の構築\n",
        "\n",
        "**配列**とは、特定の型の値の並びです。\n",
        "**`numpy.array()`** 関数で構築できます。\n",
        "このとき、配列の要素はPython標準のリストやタプルで指定します。\n",
        "どちらを用いて作成しても全く同じ配列を作成できます。"
      ]
    },
    {
      "cell_type": "code",
      "execution_count": 6,
      "metadata": {
        "id": "1QdKFPrSQncU",
        "outputId": "76eb7a50-de70-4cc9-b88b-5b8349796830",
        "colab": {
          "base_uri": "https://localhost:8080/"
        }
      },
      "outputs": [
        {
          "output_type": "stream",
          "name": "stdout",
          "text": [
            "[1 2 3]\n",
            "[1 2 3]\n"
          ]
        }
      ],
      "source": [
        "a = np.array([1,2,3]) # リストから配列作成\n",
        "print(a)\n",
        "b = np.array((1,2,3)) # タプルからの配列作成\n",
        "print(b)"
      ]
    },
    {
      "cell_type": "markdown",
      "metadata": {
        "id": "GCeewAQuQncU"
      },
      "source": [
        "`print` の結果はリストと似ていますが、要素が `,` ではなく空白で区切られているに注意してください。\n",
        "`print` ではなく、式の評価結果の場合、より違いが明示されます。"
      ]
    },
    {
      "cell_type": "code",
      "execution_count": 7,
      "metadata": {
        "id": "qXsfWP30QncV",
        "outputId": "c96c9e48-7288-4226-cab0-206e82a34b8f",
        "colab": {
          "base_uri": "https://localhost:8080/"
        }
      },
      "outputs": [
        {
          "output_type": "execute_result",
          "data": {
            "text/plain": [
              "array([1, 2, 3])"
            ]
          },
          "metadata": {},
          "execution_count": 7
        }
      ],
      "source": [
        "a"
      ]
    },
    {
      "cell_type": "markdown",
      "metadata": {
        "id": "0Ixg0rz4QncV"
      },
      "source": [
        "配列は **`numpy.ndarray`** というデータ型によって実現されています。\n",
        "組み込み関数 `type()` を使うと、データ型を調べられます。"
      ]
    },
    {
      "cell_type": "code",
      "execution_count": 8,
      "metadata": {
        "id": "P7AuxU4eQncV",
        "outputId": "1e25df9e-0fed-4609-d618-66b8642465d0",
        "colab": {
          "base_uri": "https://localhost:8080/"
        }
      },
      "outputs": [
        {
          "output_type": "execute_result",
          "data": {
            "text/plain": [
              "numpy.ndarray"
            ]
          },
          "metadata": {},
          "execution_count": 8
        }
      ],
      "source": [
        "type(np.array([1,2,3,4,5])) # 配列の型"
      ]
    },
    {
      "cell_type": "code",
      "execution_count": 9,
      "metadata": {
        "id": "MFdjfnkUQncV",
        "outputId": "beff32d7-e5cd-4c60-e2f7-ef486799e7df",
        "colab": {
          "base_uri": "https://localhost:8080/"
        }
      },
      "outputs": [
        {
          "output_type": "execute_result",
          "data": {
            "text/plain": [
              "list"
            ]
          },
          "metadata": {},
          "execution_count": 9
        }
      ],
      "source": [
        "type([1,2,3,4,5])"
      ]
    },
    {
      "cell_type": "markdown",
      "metadata": {
        "id": "X6Bd4O9tQncV"
      },
      "source": [
        "`array()` が、リストではなく `ndarray` を返していることがわかります。\n",
        "\n",
        "### 要素型\n",
        "\n",
        "配列の要素を構成する値には幾つかの型がありますが、次の4つの型を知っていればとりあえずは十分です。\n",
        "\n",
        "| 型名       | 説明           |\n",
        "|---         |---             |\n",
        "| **`numpy.int32`**      | 整数（32-bit）を表す型   |\n",
        "| **`numpy.float64`**    | 実数（64-bit）を表す型   |\n",
        "| **`numpy.complex128`** | 複素数（64-bit実数の組）を表す型 |\n",
        "| **`numpy.bool_`**      | 真理値を表す型 |\n",
        "\n",
        "配列は、リストと異なり、型の異なる要素を混在させることはできません。\n",
        "\n",
        "`array()` の `dtype` 引数に、要素型を表すオブジェクトや文字列値を与えることで、指定された要素型の配列を構築できます。"
      ]
    },
    {
      "cell_type": "code",
      "execution_count": 10,
      "metadata": {
        "id": "G7CA6MjXQncV",
        "outputId": "b87a8ee3-d769-472a-8844-3dca8bd7fabc",
        "colab": {
          "base_uri": "https://localhost:8080/"
        }
      },
      "outputs": [
        {
          "output_type": "stream",
          "name": "stdout",
          "text": [
            "[-1  0  1]\n"
          ]
        }
      ],
      "source": [
        "print(np.array([-1,0,1], dtype=np.int32)) # np.int32の代わりに'int32'でも同じ"
      ]
    },
    {
      "cell_type": "markdown",
      "metadata": {
        "id": "7Bl-NZCjQncW"
      },
      "source": [
        "実数には、小数点が付与されて印字されます。"
      ]
    },
    {
      "cell_type": "code",
      "execution_count": 11,
      "metadata": {
        "id": "zwfp70ccQncW",
        "outputId": "f2bf0ee9-8323-4c72-eec0-8c26b083a86d",
        "colab": {
          "base_uri": "https://localhost:8080/"
        }
      },
      "outputs": [
        {
          "output_type": "stream",
          "name": "stdout",
          "text": [
            "[-1.  0.  1.]\n"
          ]
        }
      ],
      "source": [
        "print(np.array([-1,0,1], dtype=np.float64)) # np.float64の代わりに'float64'でも同じ"
      ]
    },
    {
      "cell_type": "markdown",
      "metadata": {
        "id": "ny1L4DNqQncW"
      },
      "source": [
        "複素数は実部と虚部を表す実数の組であり、虚部には `j` が付与されて印字されます。"
      ]
    },
    {
      "cell_type": "code",
      "execution_count": 12,
      "metadata": {
        "id": "Xdjwg-CTQncW",
        "outputId": "fd905533-75ff-4b3a-e99a-d8b59420593f",
        "colab": {
          "base_uri": "https://localhost:8080/"
        }
      },
      "outputs": [
        {
          "output_type": "stream",
          "name": "stdout",
          "text": [
            "[-1.+0.j  0.+0.j  1.+0.j]\n"
          ]
        }
      ],
      "source": [
        "print(np.array([-1,0,1], dtype=np.complex128)) # np.complex128の代わりに'complex128'でも同じ"
      ]
    },
    {
      "cell_type": "markdown",
      "metadata": {
        "id": "l0xSMxOHQncW"
      },
      "source": [
        "数値から真理値への変換では、`0` が `False` で、`0` 以外が `True` になります。"
      ]
    },
    {
      "cell_type": "code",
      "execution_count": 13,
      "metadata": {
        "id": "TBb3JZ1MQncW",
        "outputId": "97a60442-386f-40c8-97e0-4c6229a0c11e",
        "colab": {
          "base_uri": "https://localhost:8080/"
        }
      },
      "outputs": [
        {
          "output_type": "stream",
          "name": "stdout",
          "text": [
            "[ True False  True]\n"
          ]
        }
      ],
      "source": [
        "print(np.array([-1,0,1], dtype=np.bool_)) # np.bool_の代わりに'bool'でも同じ"
      ]
    },
    {
      "cell_type": "markdown",
      "metadata": {
        "id": "pOvf2odHQncW"
      },
      "source": [
        "### 多次元配列\n",
        "\n",
        "**多次元配列**は、配列の中に配列がある入れ子の配列です。\n",
        "入れ子のリストやタプルを `numpy.array()` に渡すことで構築できます。"
      ]
    },
    {
      "cell_type": "code",
      "execution_count": 14,
      "metadata": {
        "id": "Q_H9WBX9QncW",
        "outputId": "8e11b561-fecf-4959-b44d-0d473829a05f",
        "colab": {
          "base_uri": "https://localhost:8080/"
        }
      },
      "outputs": [
        {
          "output_type": "stream",
          "name": "stdout",
          "text": [
            "[[1 2]\n",
            " [3 4]]\n"
          ]
        }
      ],
      "source": [
        "print(np.array([[1,2],[3,4]])) # 2次元配列の構築"
      ]
    },
    {
      "cell_type": "code",
      "execution_count": 15,
      "metadata": {
        "id": "CPPIYXWHQncW",
        "outputId": "322d0903-cbff-49e8-a7a1-8a3d9d828192",
        "colab": {
          "base_uri": "https://localhost:8080/"
        }
      },
      "outputs": [
        {
          "output_type": "stream",
          "name": "stdout",
          "text": [
            "[[[1 2]\n",
            "  [3 4]]\n",
            "\n",
            " [[5 6]\n",
            "  [7 8]]]\n"
          ]
        }
      ],
      "source": [
        "print(np.array([[[1,2],[3,4]],[[5,6],[7,8]]])) # 3次元配列の構築"
      ]
    },
    {
      "cell_type": "markdown",
      "metadata": {
        "id": "sLUdvQ5TQncW"
      },
      "source": [
        "上の例からわかるように、2次元配列は行列のように、3次元配列は行列の配列のように印字されます。\n",
        "\n",
        "多次元配列は、要素となる配列の長さが等しいことが想定されます。\n",
        "つまり、2次元配列は、行列のように各行の長さが等しくなければなりません。"
      ]
    },
    {
      "cell_type": "code",
      "execution_count": 16,
      "metadata": {
        "id": "9qJyAkhcQncW",
        "outputId": "c8cb97e7-33f0-4768-eb5b-dbc50e4dee36",
        "colab": {
          "base_uri": "https://localhost:8080/",
          "height": 149
        }
      },
      "outputs": [
        {
          "output_type": "error",
          "ename": "ValueError",
          "evalue": "setting an array element with a sequence. The requested array has an inhomogeneous shape after 1 dimensions. The detected shape was (2,) + inhomogeneous part.",
          "traceback": [
            "\u001b[0;31m---------------------------------------------------------------------------\u001b[0m",
            "\u001b[0;31mValueError\u001b[0m                                Traceback (most recent call last)",
            "\u001b[0;32m/tmp/ipython-input-2398807576.py\u001b[0m in \u001b[0;36m<cell line: 0>\u001b[0;34m()\u001b[0m\n\u001b[0;32m----> 1\u001b[0;31m \u001b[0mprint\u001b[0m\u001b[0;34m(\u001b[0m\u001b[0mnp\u001b[0m\u001b[0;34m.\u001b[0m\u001b[0marray\u001b[0m\u001b[0;34m(\u001b[0m\u001b[0;34m[\u001b[0m\u001b[0;34m[\u001b[0m\u001b[0;36m1\u001b[0m\u001b[0;34m,\u001b[0m\u001b[0;36m2\u001b[0m\u001b[0;34m]\u001b[0m\u001b[0;34m,\u001b[0m\u001b[0;34m[\u001b[0m\u001b[0;36m3\u001b[0m\u001b[0;34m]\u001b[0m\u001b[0;34m]\u001b[0m\u001b[0;34m)\u001b[0m\u001b[0;34m)\u001b[0m \u001b[0;31m# 行の長さが異なる場合\u001b[0m\u001b[0;34m\u001b[0m\u001b[0;34m\u001b[0m\u001b[0m\n\u001b[0m",
            "\u001b[0;31mValueError\u001b[0m: setting an array element with a sequence. The requested array has an inhomogeneous shape after 1 dimensions. The detected shape was (2,) + inhomogeneous part."
          ]
        }
      ],
      "source": [
        "print(np.array([[1,2],[3]])) # 行の長さが異なる場合"
      ]
    },
    {
      "cell_type": "markdown",
      "metadata": {
        "id": "QAV2dHrBQncW"
      },
      "source": [
        "このように行の長さが異なる場合は、多次元配列とは見做されません。\n",
        "\n",
        "多次元配列の各次元の長さの組を、多次元配列の**形** (shape) と呼びます。\n",
        "特に2次元配列の場合、行列と同様に、行数（内側にある配列の数）と列数（内側にある配列の要素数）の組を使って、行数×列数で形を表記します。\n",
        "\n",
        "1次元配列に対して **`reshape()`** メソッドを使うと、引数で指定された形の多次元配列に変換することができます。"
      ]
    },
    {
      "cell_type": "code",
      "execution_count": 17,
      "metadata": {
        "id": "ghlY4DaZQncX",
        "outputId": "d80ef1a2-5b5e-43ea-b3bc-508e8386958d",
        "colab": {
          "base_uri": "https://localhost:8080/"
        }
      },
      "outputs": [
        {
          "output_type": "execute_result",
          "data": {
            "text/plain": [
              "array([[0, 1, 2],\n",
              "       [3, 4, 5]])"
            ]
          },
          "metadata": {},
          "execution_count": 17
        }
      ],
      "source": [
        "a1 = np.array([0, 1, 2, 3, 4, 5]) # 1次元配列\n",
        "a2 = a1.reshape(2,3)              # 2×3の2次元配列\n",
        "a2"
      ]
    },
    {
      "cell_type": "markdown",
      "metadata": {
        "id": "9wMFZg5fQncX"
      },
      "source": [
        "ここで、`reshape()` を適用する前後の配列（ここでは `a1` と `a2`）は、内部的にデータを共有していることに注意してください。\n",
        "つまり、`a1` の要素を更新すると、`a2` にも影響を及ぼします。"
      ]
    },
    {
      "cell_type": "code",
      "execution_count": 18,
      "metadata": {
        "id": "ftvUDz_qQncX",
        "outputId": "112649f8-6bc9-44b3-8094-525b233976d3",
        "colab": {
          "base_uri": "https://localhost:8080/"
        }
      },
      "outputs": [
        {
          "output_type": "stream",
          "name": "stdout",
          "text": [
            "[0 6 2 3 4 5]\n",
            "[[0 6 2]\n",
            " [3 4 5]]\n"
          ]
        }
      ],
      "source": [
        "a1[1] = 6\n",
        "print(a1)\n",
        "print(a2)"
      ]
    },
    {
      "cell_type": "markdown",
      "metadata": {
        "id": "Ej_snNtWQncX"
      },
      "source": [
        "**`ravel()`** メソッドを使うと、多次元配列を1次元配列に戻すことができます。"
      ]
    },
    {
      "cell_type": "code",
      "execution_count": 24,
      "metadata": {
        "id": "28a3e-mGQncX",
        "outputId": "4e9f9655-9790-433b-a58d-ef8682d07db9",
        "colab": {
          "base_uri": "https://localhost:8080/"
        }
      },
      "outputs": [
        {
          "output_type": "stream",
          "name": "stdout",
          "text": [
            "[[0 1 2]\n",
            " [3 4 5]]\n",
            "[0 1 2 3 4 5]\n"
          ]
        }
      ],
      "source": [
        "a = np.array([0, 1, 2, 3, 4, 5]).reshape(2,3)\n",
        "print(a)\n",
        "print(a.ravel())"
      ]
    },
    {
      "cell_type": "markdown",
      "metadata": {
        "id": "_UE1WpFwQncX"
      },
      "source": [
        "`ravel()` の結果も、`reshape()` と同様に、元の配列と要素を共有します。"
      ]
    },
    {
      "cell_type": "code",
      "execution_count": 22,
      "metadata": {
        "id": "NMeAyLWtQncX",
        "outputId": "630ad756-0b5d-473c-a76e-74de833d076b",
        "colab": {
          "base_uri": "https://localhost:8080/"
        }
      },
      "outputs": [
        {
          "output_type": "stream",
          "name": "stdout",
          "text": [
            "[0 6 2 3 4 5]\n"
          ]
        }
      ],
      "source": [
        "elems = np.array([0, 1, 2, 3, 4, 5])\n",
        "a = elems.reshape(2,3).ravel() # ravel()は要素をelemsと共有\n",
        "elems[1] = 6\n",
        "print(a)"
      ]
    },
    {
      "cell_type": "markdown",
      "metadata": {
        "id": "2ZgU9nLtQncX"
      },
      "source": [
        "なお、要素をコピーして変換する **`flatten()`** メソッドもありますが、コピーしない `ravel()` の方が効率的です。"
      ]
    },
    {
      "cell_type": "markdown",
      "metadata": {
        "id": "jwVaN022QncX"
      },
      "source": [
        "### ▲**配列のデータ属性**\n",
        "\n",
        "配列はオブジェクトであり、その配列に関する様々な情報を属性として保持します。\n",
        "（オブジェクトの属性については6-3に簡単な説明があります。）\n",
        "配列が持つ代表的なデータ属性（メソッド以外の属性）を次の表にまとめます。\n",
        "\n",
        "| 属性 | 意味 |\n",
        "|---   |---   |\n",
        "| `a.dtype` | 配列 `a` の要素型 |\n",
        "| `a.shape` | 配列 `a` の形（各次元の長さのタプル）|\n",
        "| `a.ndim` | 配列 `a` の次元数（`len(a.shape)` と等しい）|\n",
        "| `a.size` | 配列 `a` の要素数（`a.shape` の総乗と等しい）|\n",
        "| `a.flat` | 配列 `a` の1次元表現（`a.ravel()` と等しい）|\n",
        "| `a.T` | 配列 `a` を転置した配列（`a` と要素を共有）|"
      ]
    },
    {
      "cell_type": "markdown",
      "metadata": {
        "id": "nK2FX67eQncX"
      },
      "source": [
        "## 配列要素を生成する構築関数\n",
        "\n",
        "要素を生成して配列を構築する代表的な関数を紹介します。\n",
        "特に断りが無い場合、ここで紹介する関数は、`array()` と同様に `dtype` 引数で要素型を指定可能です。\n",
        "\n",
        "### `arange`\n",
        "\n",
        "**`numpy.arange()`** は、組み込み関数 `range()` の配列版です（`arange` は array range の略）。\n",
        "開始値・終了値・刻み幅を引数にとります。\n",
        "デフォルトの開始値は `0`、刻み幅は `1` です。\n",
        "`range()` と違って、引数の値は整数に限定されません。\n"
      ]
    },
    {
      "cell_type": "code",
      "execution_count": 25,
      "metadata": {
        "id": "SaQPuyHlQncX",
        "outputId": "f23c5f89-5000-4d54-9d76-0ad850bbb0bc",
        "colab": {
          "base_uri": "https://localhost:8080/"
        }
      },
      "outputs": [
        {
          "output_type": "stream",
          "name": "stdout",
          "text": [
            "[0 1 2]\n",
            "[0.  0.2 0.4 0.6 0.8]\n"
          ]
        }
      ],
      "source": [
        "print(np.arange(3)) # range(3)に対応する配列\n",
        "print(np.arange(0, 1, 0.2)) # 0を開始値として0.2刻みで1未満の要素を生成"
      ]
    },
    {
      "cell_type": "markdown",
      "metadata": {
        "id": "loU8a3J-QncX"
      },
      "source": [
        "### `linspace`\n",
        "**`numpy.linspace()`** 関数は、範囲を等分割した値からなる配列を生成します。\n",
        "第1引数と第2引数には、それぞれ範囲の開始値と終了値、第3引数には分割数を指定します。"
      ]
    },
    {
      "cell_type": "code",
      "execution_count": 26,
      "metadata": {
        "id": "Z6BDrg9IQncX",
        "outputId": "8b434679-afc3-42bf-bcac-0b56ea4f1855",
        "colab": {
          "base_uri": "https://localhost:8080/"
        }
      },
      "outputs": [
        {
          "output_type": "stream",
          "name": "stdout",
          "text": [
            "[0.         0.33333333 0.66666667 1.        ]\n"
          ]
        }
      ],
      "source": [
        "print(np.linspace(0, 1, 4)) # 0から1の値を4分割した値を要素に持つ配列"
      ]
    },
    {
      "cell_type": "markdown",
      "metadata": {
        "id": "keqORm8kQncX"
      },
      "source": [
        "### `zeros` と `ones`\n",
        "**`numpy.zeros()`** 関数は、`0` からなる配列を生成します。\n",
        "同様に、**`numpy.ones()`** 関数は、`1` からなる配列を生成します。\n",
        "どちらも、生成される形を第1引数に取ります。\n",
        "デフォルトの要素型は、実数です。"
      ]
    },
    {
      "cell_type": "code",
      "execution_count": 27,
      "metadata": {
        "id": "_kFcBTKNQnci",
        "outputId": "dd83b8d6-497c-49a4-81dd-7b2aeeba690e",
        "colab": {
          "base_uri": "https://localhost:8080/"
        }
      },
      "outputs": [
        {
          "output_type": "stream",
          "name": "stdout",
          "text": [
            "[0. 0. 0. 0.]\n",
            "[[0. 0. 0.]\n",
            " [0. 0. 0.]]\n",
            "[1. 1. 1. 1.]\n",
            "[[1. 1. 1.]\n",
            " [1. 1. 1.]]\n"
          ]
        }
      ],
      "source": [
        "print(np.zeros(4))     # 長さ4の1次元配列\n",
        "print(np.zeros((2,3))) # 2×3の2次元配列を生成\n",
        "print(np.ones(4))     # 長さ4の1次元配列\n",
        "print(np.ones((2,3))) # 2×3の2次元配列を生成"
      ]
    },
    {
      "cell_type": "markdown",
      "metadata": {
        "id": "aVvAosIwQnci"
      },
      "source": [
        "### `random.rand`\n",
        "**`numpy.random.rand()`** 関数は、0 以上 1 未満の乱数からなる配列を生成します。\n",
        "引数には生成される配列の形を指定します。\n",
        "要素型は実数に限定されます。"
      ]
    },
    {
      "cell_type": "code",
      "execution_count": 30,
      "metadata": {
        "id": "B9pcwpklQnci",
        "outputId": "e38809f3-48c2-4e65-ae04-57b67adb70ce",
        "colab": {
          "base_uri": "https://localhost:8080/"
        }
      },
      "outputs": [
        {
          "output_type": "stream",
          "name": "stdout",
          "text": [
            "[0.38554538 0.43757867 0.82864302 0.23817906]\n",
            "[[0.67038774 0.47471239 0.79046607]\n",
            " [0.690672   0.30470164 0.79980312]]\n"
          ]
        }
      ],
      "source": [
        "print(np.random.rand(4))   # 長さ4の1次元配列\n",
        "print(np.random.rand(2,3)) # 2×3の2次元配列を生成"
      ]
    },
    {
      "cell_type": "markdown",
      "metadata": {
        "id": "QUDlL3U1Qnci"
      },
      "source": [
        "この他にも、**`numpy.random.randn()`**・**`numpy.random.binomial()`**・**`numpy.random.poisson()`** は、それぞれ、正規分布・二項分布・ポアソン分布の乱数からなる配列を生成します。"
      ]
    },
    {
      "cell_type": "markdown",
      "metadata": {
        "id": "_zKsHke6Qnci"
      },
      "source": [
        "## 練習\n",
        "\n",
        "引数に整数 $n$ を取り、$i$ から始まる連番の整数からなる配列を$i$番目 ($i\\ge 0$) の行として持つ $n\\times n$ の2次元配列を返す関数 `range_square_matrix()` を、`arange()` を用いて定義してください。\n",
        "\n",
        "たとえば、`range_square_matrix(3)` は、\n",
        "```\n",
        "[[0 1 2]\n",
        " [1 2 3]\n",
        " [2 3 4]]\n",
        "```\n",
        "と印字されるような2次元配列を返します。"
      ]
    },
    {
      "cell_type": "code",
      "execution_count": 37,
      "metadata": {
        "id": "ATm8ZkfyQnci"
      },
      "outputs": [],
      "source": [
        "def arange_square_matrix(n):\n",
        "    np.array([np.arange(i, n+i) for i in range(n)])\n",
        "    return np.array([np.arange(i, n+i) for i in range(n)])"
      ]
    },
    {
      "cell_type": "markdown",
      "metadata": {
        "id": "b0bYZsS9Qnci"
      },
      "source": [
        "以下のセルを実行して、`True` が表示されることを確認してください。"
      ]
    },
    {
      "cell_type": "code",
      "execution_count": 38,
      "metadata": {
        "tags": [
          "raises-exception"
        ],
        "id": "56kbbm_UQnci",
        "outputId": "f57c3d84-d54c-4236-a2e1-57038b1d38c1",
        "colab": {
          "base_uri": "https://localhost:8080/"
        }
      },
      "outputs": [
        {
          "output_type": "stream",
          "name": "stdout",
          "text": [
            "True\n"
          ]
        }
      ],
      "source": [
        "print(all(map(all,(arange_square_matrix(3) == np.array([[0,1,2],[1,2,3],[2,3,4]])))))"
      ]
    },
    {
      "cell_type": "markdown",
      "metadata": {
        "id": "iIDrzJChQnci"
      },
      "source": [
        "## 配列要素の操作\n",
        "\n",
        "### インデックスアクセス\n",
        "\n",
        "配列の要素には、リストの場合と同様に、`0` から始まるインデックスを使って参照できます。\n",
        "リストと同じく、配列の先頭要素のインデックスは `0`、最後の要素のインデックスは `-1` となります。"
      ]
    },
    {
      "cell_type": "code",
      "execution_count": 39,
      "metadata": {
        "id": "L53pW5XlQnci",
        "outputId": "480b2839-48a8-4e78-c2f9-cde7637a0b5c",
        "colab": {
          "base_uri": "https://localhost:8080/"
        }
      },
      "outputs": [
        {
          "output_type": "stream",
          "name": "stdout",
          "text": [
            "[0 1 2]\n"
          ]
        }
      ],
      "source": [
        "a = np.arange(3)\n",
        "print(a)"
      ]
    },
    {
      "cell_type": "code",
      "execution_count": 40,
      "metadata": {
        "id": "2nDUl7r_Qncj",
        "outputId": "682950e5-d228-4585-9da6-ee6d6bad5ae7",
        "colab": {
          "base_uri": "https://localhost:8080/"
        }
      },
      "outputs": [
        {
          "output_type": "execute_result",
          "data": {
            "text/plain": [
              "np.int64(0)"
            ]
          },
          "metadata": {},
          "execution_count": 40
        }
      ],
      "source": [
        "a[0]"
      ]
    },
    {
      "cell_type": "code",
      "execution_count": 41,
      "metadata": {
        "id": "IQL4BhC2Qncj",
        "outputId": "023e67e3-b782-458c-fedc-47f3c64f2d69",
        "colab": {
          "base_uri": "https://localhost:8080/"
        }
      },
      "outputs": [
        {
          "output_type": "execute_result",
          "data": {
            "text/plain": [
              "np.int64(2)"
            ]
          },
          "metadata": {},
          "execution_count": 41
        }
      ],
      "source": [
        "a[-1]"
      ]
    },
    {
      "cell_type": "code",
      "execution_count": 44,
      "metadata": {
        "id": "Xtokvg2rQncj",
        "outputId": "a7152d2e-cd18-48bf-a001-b68b873d967c",
        "colab": {
          "base_uri": "https://localhost:8080/"
        }
      },
      "outputs": [
        {
          "output_type": "stream",
          "name": "stdout",
          "text": [
            "[0 1 3]\n"
          ]
        }
      ],
      "source": [
        "a[-1] = 3 # 要素への代入もできる\n",
        "print(a)"
      ]
    },
    {
      "cell_type": "markdown",
      "metadata": {
        "id": "_zg38MIJQncj"
      },
      "source": [
        "多次元配列では、高次元（入れ子の外側）から順にインデックスを指定します。\n",
        "特に2次元配列、すなわち行列の場合は、行インデックスと列インデックスを順に指定します。"
      ]
    },
    {
      "cell_type": "code",
      "execution_count": 45,
      "metadata": {
        "id": "dxoUiI2fQncj",
        "outputId": "5f894a62-e396-481d-e250-37f14f0a7baa",
        "colab": {
          "base_uri": "https://localhost:8080/"
        }
      },
      "outputs": [
        {
          "output_type": "stream",
          "name": "stdout",
          "text": [
            "[[0 1 2]\n",
            " [3 4 5]]\n"
          ]
        }
      ],
      "source": [
        "a = np.arange(6).reshape(2,3)\n",
        "print(a)"
      ]
    },
    {
      "cell_type": "code",
      "execution_count": 46,
      "metadata": {
        "id": "xMQN4pTYQncj",
        "outputId": "1212bfee-c6fb-44ba-9a4d-1513ff013a93",
        "colab": {
          "base_uri": "https://localhost:8080/"
        }
      },
      "outputs": [
        {
          "output_type": "execute_result",
          "data": {
            "text/plain": [
              "np.int64(5)"
            ]
          },
          "metadata": {},
          "execution_count": 46
        }
      ],
      "source": [
        "a[1,2] # 行と列のインデックスをまとめて指定"
      ]
    },
    {
      "cell_type": "code",
      "execution_count": 47,
      "metadata": {
        "id": "4wUrkX0XQncj",
        "outputId": "207f5651-5e42-453e-8c9d-5b50f9240855",
        "colab": {
          "base_uri": "https://localhost:8080/"
        }
      },
      "outputs": [
        {
          "output_type": "stream",
          "name": "stdout",
          "text": [
            "[[0 1 2]\n",
            " [3 4 6]]\n"
          ]
        }
      ],
      "source": [
        "a[1,2] = 6 # 要素への代入もできる\n",
        "print(a)"
      ]
    },
    {
      "cell_type": "markdown",
      "metadata": {
        "id": "2Z0m2N0RQncj"
      },
      "source": [
        "### スライス\n",
        "\n",
        "リストと同様に、配列の**スライス**を構築できます。"
      ]
    },
    {
      "cell_type": "code",
      "execution_count": 48,
      "metadata": {
        "id": "1S33o1flQncj",
        "outputId": "cffb29e0-f93e-4f07-a8e6-56d705adbf88",
        "colab": {
          "base_uri": "https://localhost:8080/"
        }
      },
      "outputs": [
        {
          "output_type": "stream",
          "name": "stdout",
          "text": [
            "[0 1 2 3 4]\n",
            "[1 2 3]\n",
            "[1 2 3 4]\n",
            "[0 1 2]\n",
            "[0 2 4]\n",
            "[4 3 2 1 0]\n"
          ]
        }
      ],
      "source": [
        "a = np.arange(5)\n",
        "print(a)\n",
        "print(a[1:4])\n",
        "print(a[1:])\n",
        "print(a[:-2])\n",
        "print(a[::2])\n",
        "print(a[::-1])"
      ]
    },
    {
      "cell_type": "markdown",
      "metadata": {
        "id": "gHbac1yHQncj"
      },
      "source": [
        "配列のスライスに対して代入すると、右辺の値がコピーされて、スライス元の配列にまとめて代入されます。"
      ]
    },
    {
      "cell_type": "code",
      "execution_count": 49,
      "metadata": {
        "id": "0y6W_-5YQncj",
        "outputId": "bf683df6-cc5d-4443-a2fd-66ccccb4978c",
        "colab": {
          "base_uri": "https://localhost:8080/"
        }
      },
      "outputs": [
        {
          "output_type": "stream",
          "name": "stdout",
          "text": [
            "[0 1 2 3 4]\n",
            "[0 6 6 6 4]\n",
            "[6 1 6 3 6]\n"
          ]
        }
      ],
      "source": [
        "a = np.arange(5)\n",
        "print(a)\n",
        "a[1:4] = 6\n",
        "print(a)\n",
        "a = np.arange(5)\n",
        "a[::2] = 6\n",
        "print(a)"
      ]
    },
    {
      "cell_type": "markdown",
      "metadata": {
        "id": "hYDjENfcQncj"
      },
      "source": [
        "一方、リストに対しては、以下はエラーになります。"
      ]
    },
    {
      "cell_type": "code",
      "execution_count": 50,
      "metadata": {
        "tags": [
          "raises-exception"
        ],
        "id": "WBsaaR6sQncj",
        "outputId": "c9e929c0-21fd-4d41-cce9-f083fe452b94",
        "colab": {
          "base_uri": "https://localhost:8080/",
          "height": 205
        }
      },
      "outputs": [
        {
          "output_type": "stream",
          "name": "stdout",
          "text": [
            "[0, 1, 2, 3, 4]\n"
          ]
        },
        {
          "output_type": "error",
          "ename": "TypeError",
          "evalue": "must assign iterable to extended slice",
          "traceback": [
            "\u001b[0;31m---------------------------------------------------------------------------\u001b[0m",
            "\u001b[0;31mTypeError\u001b[0m                                 Traceback (most recent call last)",
            "\u001b[0;32m/tmp/ipython-input-2878747097.py\u001b[0m in \u001b[0;36m<cell line: 0>\u001b[0;34m()\u001b[0m\n\u001b[1;32m      1\u001b[0m \u001b[0ma\u001b[0m \u001b[0;34m=\u001b[0m \u001b[0;34m[\u001b[0m\u001b[0;36m0\u001b[0m\u001b[0;34m,\u001b[0m\u001b[0;36m1\u001b[0m\u001b[0;34m,\u001b[0m\u001b[0;36m2\u001b[0m\u001b[0;34m,\u001b[0m\u001b[0;36m3\u001b[0m\u001b[0;34m,\u001b[0m\u001b[0;36m4\u001b[0m\u001b[0;34m]\u001b[0m\u001b[0;34m\u001b[0m\u001b[0;34m\u001b[0m\u001b[0m\n\u001b[1;32m      2\u001b[0m \u001b[0mprint\u001b[0m\u001b[0;34m(\u001b[0m\u001b[0ma\u001b[0m\u001b[0;34m)\u001b[0m\u001b[0;34m\u001b[0m\u001b[0;34m\u001b[0m\u001b[0m\n\u001b[0;32m----> 3\u001b[0;31m \u001b[0ma\u001b[0m\u001b[0;34m[\u001b[0m\u001b[0;36m1\u001b[0m\u001b[0;34m:\u001b[0m\u001b[0;36m4\u001b[0m\u001b[0;34m]\u001b[0m \u001b[0;34m=\u001b[0m \u001b[0;36m6\u001b[0m\u001b[0;34m\u001b[0m\u001b[0;34m\u001b[0m\u001b[0m\n\u001b[0m",
            "\u001b[0;31mTypeError\u001b[0m: must assign iterable to extended slice"
          ]
        }
      ],
      "source": [
        "a = [0,1,2,3,4]\n",
        "print(a)\n",
        "a[1:4] = 6"
      ]
    },
    {
      "cell_type": "code",
      "execution_count": 51,
      "metadata": {
        "id": "sJQNCE53Qncj",
        "outputId": "90a93cbf-3da6-405e-be8b-8d422039b6af",
        "colab": {
          "base_uri": "https://localhost:8080/"
        }
      },
      "outputs": [
        {
          "output_type": "stream",
          "name": "stdout",
          "text": [
            "[0, 1, 2, 3, 4]\n",
            "[0, 6, 4]\n"
          ]
        }
      ],
      "source": [
        "a = [0,1,2,3,4]\n",
        "print(a)\n",
        "a[1:4] = [6]\n",
        "print(a)"
      ]
    },
    {
      "cell_type": "markdown",
      "metadata": {
        "id": "PNR5KSncQnck"
      },
      "source": [
        "このように、配列のスライスに対する代入の振舞いは、リストの場合と異なることに注意してください。\n",
        "\n",
        "多次元配列に対しては、インデックスの参照と同様に、高い次元のスライスから順に並べて指定します。"
      ]
    },
    {
      "cell_type": "code",
      "execution_count": 52,
      "metadata": {
        "id": "XQm3JcvRQnck",
        "outputId": "62b5b019-fbc4-484c-ccd6-1e979ed92c61",
        "colab": {
          "base_uri": "https://localhost:8080/"
        }
      },
      "outputs": [
        {
          "output_type": "stream",
          "name": "stdout",
          "text": [
            "[[0 1 2]\n",
            " [3 4 5]\n",
            " [6 7 8]]\n",
            "[[0 1]\n",
            " [3 4]]\n",
            "[[4 5]\n",
            " [7 8]]\n"
          ]
        }
      ],
      "source": [
        "a = np.arange(9).reshape(3,3)\n",
        "print(a)\n",
        "print(a[:2,:2])\n",
        "print(a[1:,1:])"
      ]
    },
    {
      "cell_type": "markdown",
      "metadata": {
        "id": "M8V2RmnsQnck"
      },
      "source": [
        "多次元配列に対するスライスは、入れ子リストに対するスライスとは意味が異なることに注意してください。"
      ]
    },
    {
      "cell_type": "markdown",
      "metadata": {
        "id": "Q5rycQAXQnck"
      },
      "source": [
        "### for文\n",
        "\n",
        "リストと同様に、for文を用いて、配列要素への反復処理を記述できます。"
      ]
    },
    {
      "cell_type": "code",
      "execution_count": 53,
      "metadata": {
        "id": "uO_w43WaQnck",
        "outputId": "7a22df6e-c590-4fe7-d5de-91284043123d",
        "colab": {
          "base_uri": "https://localhost:8080/"
        }
      },
      "outputs": [
        {
          "output_type": "stream",
          "name": "stdout",
          "text": [
            "0\n",
            "1\n",
            "2\n"
          ]
        }
      ],
      "source": [
        "for v in np.arange(3):\n",
        "    print(v)"
      ]
    },
    {
      "cell_type": "markdown",
      "metadata": {
        "id": "zV-Ly48OQnck"
      },
      "source": [
        "多次元配列の場合は、最外の配列に対して反復します。\n",
        "つまり、2次元配列の場合、行の配列に対する反復処理となります。"
      ]
    },
    {
      "cell_type": "code",
      "execution_count": 54,
      "metadata": {
        "id": "kJIlwTHQQnck",
        "outputId": "07e1e380-153a-4ed8-f718-c5f178d23a52",
        "colab": {
          "base_uri": "https://localhost:8080/"
        }
      },
      "outputs": [
        {
          "output_type": "stream",
          "name": "stdout",
          "text": [
            "[0 1 2]\n",
            "[3 4 5]\n"
          ]
        }
      ],
      "source": [
        "for row in np.arange(6).reshape(2,3):\n",
        "    print(row)"
      ]
    },
    {
      "cell_type": "markdown",
      "metadata": {
        "id": "BtnBEaPDQnck"
      },
      "source": [
        "for文と併用される `enumerate()` の多次元配列版として、`numpy.ndenumerate()` 関数が提供されています。\n",
        "`numpy.ndenumerate()` は、（多次元）インデックスと要素の組を列挙します。"
      ]
    },
    {
      "cell_type": "code",
      "execution_count": 55,
      "metadata": {
        "id": "oQZoj1gUQnck",
        "outputId": "4bf26783-19d7-4a7b-d744-969ef31b0f55",
        "colab": {
          "base_uri": "https://localhost:8080/"
        }
      },
      "outputs": [
        {
          "output_type": "stream",
          "name": "stdout",
          "text": [
            "(0, 0) 0\n",
            "(0, 1) 1\n",
            "(0, 2) 2\n",
            "(1, 0) 3\n",
            "(1, 1) 4\n",
            "(1, 2) 5\n"
          ]
        }
      ],
      "source": [
        "for idx, e in np.ndenumerate(np.arange(6).reshape(2,3)):\n",
        "    print(idx, e)"
      ]
    },
    {
      "cell_type": "code",
      "execution_count": 56,
      "metadata": {
        "id": "OBN4uGY7Qnck",
        "outputId": "b0333e1b-51d5-46b6-a391-f58d07cbf351",
        "colab": {
          "base_uri": "https://localhost:8080/"
        }
      },
      "outputs": [
        {
          "output_type": "stream",
          "name": "stdout",
          "text": [
            "(0,) 0\n",
            "(1,) 1\n",
            "(2,) 2\n"
          ]
        }
      ],
      "source": [
        "for idx, e in np.ndenumerate(np.arange(3)):\n",
        "    print(idx, e)"
      ]
    },
    {
      "cell_type": "markdown",
      "metadata": {
        "id": "oa_c1C1FQnck"
      },
      "source": [
        "## 要素毎の演算\n",
        "\n",
        "配列に対する要素毎の演算は、簡潔に記述できます。\n",
        "しかも、for文で記述するより、効率がよいです。\n",
        "要素毎の演算を上手く使えるかどうかが、NumPyプログラミングの肝と言っても過言ではないでしょう。\n",
        "\n",
        "### **配列のスカラ演算**\n",
        "\n",
        "配列とスカラとの算術演算を記述すると、要素毎のスカラ演算となります。\n",
        "演算結果として、新しい配列が返ります。"
      ]
    },
    {
      "cell_type": "code",
      "execution_count": 57,
      "metadata": {
        "id": "GmeJhpC6Qnck",
        "outputId": "8aec7ef0-2371-413b-ef4a-2f522abb776b",
        "colab": {
          "base_uri": "https://localhost:8080/"
        }
      },
      "outputs": [
        {
          "output_type": "stream",
          "name": "stdout",
          "text": [
            "[0 1 2 3]\n",
            "[1 2 3 4]\n",
            "[-1  0  1  2]\n",
            "[0 2 4 6]\n",
            "[0.  0.5 1.  1.5]\n",
            "[0 0 1 1]\n",
            "[0 1 0 1]\n",
            "[0 1 4 9]\n",
            "[1 2 3 4]\n",
            "[ 1  0 -1 -2]\n",
            "[0 2 4 6]\n",
            "[1.         0.5        0.33333333 0.25      ]\n",
            "[9 4 3 2]\n"
          ]
        }
      ],
      "source": [
        "a = np.arange(4)\n",
        "print(a)\n",
        "\n",
        "print(a + 1) # 各要素に1を加算\n",
        "print(a - 1) # 各要素に1を減算\n",
        "print(a * 2) # 各要素に2を乗算\n",
        "print(a / 2) # 各要素を2で除算\n",
        "print(a // 2) # 各要素を2で整数除算\n",
        "print(a % 2) # 各要素に2の剰余演算\n",
        "print(a ** 2) # 各要素を2乗\n",
        "\n",
        "print(1 + a) # 左側がスカラでもよい\n",
        "print(1 - a) # 左側がスカラでもよい\n",
        "print(2 * a) # 左側がスカラでもよい\n",
        "b = a + 1\n",
        "print(1 / b) # 左側がスカラでもよい\n",
        "print(9 // b) # 左側がスカラでもよい"
      ]
    },
    {
      "cell_type": "markdown",
      "metadata": {
        "id": "59Z-Ja7hQncl"
      },
      "source": [
        "### **配列同士の演算**\n",
        "\n",
        "形が同じ配列同士の算術演算は、同じ位置の要素同士の演算となります。\n",
        "演算結果として、新しい配列が返ります。"
      ]
    },
    {
      "cell_type": "code",
      "execution_count": 58,
      "metadata": {
        "id": "w9XvT66CQncl",
        "outputId": "ff78619e-4e1c-4ce9-fd87-894038b389ea",
        "colab": {
          "base_uri": "https://localhost:8080/"
        }
      },
      "outputs": [
        {
          "output_type": "stream",
          "name": "stdout",
          "text": [
            "[[0 1]\n",
            " [2 3]]\n",
            "[[1 2]\n",
            " [3 4]]\n",
            "[[1 3]\n",
            " [5 7]]\n",
            "[[-1 -1]\n",
            " [-1 -1]]\n",
            "[[ 0  2]\n",
            " [ 6 12]]\n",
            "[[0.         0.5       ]\n",
            " [0.66666667 0.75      ]]\n",
            "[[0 1]\n",
            " [2 2]]\n",
            "[[0 1]\n",
            " [2 3]]\n",
            "[[ 0  1]\n",
            " [ 8 81]]\n"
          ]
        }
      ],
      "source": [
        "a = np.arange(4).reshape(2,2)\n",
        "b = np.arange(1,5).reshape(2,2)\n",
        "print(a)\n",
        "print(b)\n",
        "print(a + b)\n",
        "print(a - b)\n",
        "print(a * b)\n",
        "print(a / b)\n",
        "c = 3 * a\n",
        "print(c // b)\n",
        "print(a % b)\n",
        "print(a ** b)"
      ]
    },
    {
      "cell_type": "markdown",
      "metadata": {
        "id": "UU0hRDXnQncl"
      },
      "source": [
        "実は、形が同じでない配列同士の算術演算も可能ですが、振舞いが複雑なので間違いやすいです。\n",
        "配列同士の算術演算は、形が同じ配列に限定する方が賢明です。"
      ]
    },
    {
      "cell_type": "markdown",
      "metadata": {
        "id": "AxU6xvkmQncl"
      },
      "source": [
        "### ユニバーサル関数\n",
        "\n",
        "NumPyには**ユニバーサル関数**と呼ばれる、任意の形の配列を取り、各要素に所定の演算を与えた結果を返す関数があります。\n",
        "その代表例は、**`numpy.sqrt()`** 関数です。"
      ]
    },
    {
      "cell_type": "code",
      "execution_count": 59,
      "metadata": {
        "id": "wWcfz5nKQncl",
        "outputId": "3b4d4f86-3388-4046-8e66-ab12fe30359f",
        "colab": {
          "base_uri": "https://localhost:8080/"
        }
      },
      "outputs": [
        {
          "output_type": "stream",
          "name": "stdout",
          "text": [
            "[2. 2. 2.]\n",
            "[1.41421356 1.41421356 1.41421356]\n",
            "[[1.41421356 1.41421356]\n",
            " [1.41421356 1.41421356]]\n",
            "1.4142135623730951\n"
          ]
        }
      ],
      "source": [
        "a = np.zeros(3) + 2\n",
        "print(a)\n",
        "print(np.sqrt(a)) # 各要素はsqrt(2)\n",
        "b = np.zeros((2,2)) + 2\n",
        "print(np.sqrt(b)) # 各要素はsqrt(2)\n",
        "print(np.sqrt(2)) # スカラ（0次元配列）も扱える"
      ]
    },
    {
      "cell_type": "markdown",
      "metadata": {
        "id": "jtkriU46Qncl"
      },
      "source": [
        "この他にも、多数のユニバーサル関数が提供されています。\n",
        "詳しくは、[ユニバーサル関数の一覧](https://docs.scipy.org/doc/numpy-1.14.0/reference/ufuncs.html#available-ufuncs)を参照してください。"
      ]
    },
    {
      "cell_type": "markdown",
      "metadata": {
        "id": "ti0j4gPIQncl"
      },
      "source": [
        "## よく使われる配列操作\n",
        "### `dot`\n",
        "\n",
        "**`numpy.dot()`** は、2つの配列を引数に取り、そのドット積を返します。\n",
        "両者が1次元配列のときは、ベクトル内積と等しいです。"
      ]
    },
    {
      "cell_type": "code",
      "execution_count": 60,
      "metadata": {
        "id": "_F_1ZQhVQncl",
        "outputId": "6e6e9e51-48d2-49c1-9274-3f0e2f5e47bb",
        "colab": {
          "base_uri": "https://localhost:8080/"
        }
      },
      "outputs": [
        {
          "output_type": "execute_result",
          "data": {
            "text/plain": [
              "np.int64(20)"
            ]
          },
          "metadata": {},
          "execution_count": 60
        }
      ],
      "source": [
        "np.dot(np.arange(4), np.arange(1,5)) # 0*1 + 1*2 + 2*3 + 3*4"
      ]
    },
    {
      "cell_type": "markdown",
      "metadata": {
        "id": "mzE-qDQNQncl"
      },
      "source": [
        "2次元配列同士だと、行列乗算と等しいです。"
      ]
    },
    {
      "cell_type": "code",
      "execution_count": 61,
      "metadata": {
        "id": "fb0ARssVQncl",
        "outputId": "a3d55fa1-23dd-49ca-d20b-e63294bd1cd4",
        "colab": {
          "base_uri": "https://localhost:8080/"
        }
      },
      "outputs": [
        {
          "output_type": "stream",
          "name": "stdout",
          "text": [
            "[[ 3  4]\n",
            " [11 16]]\n"
          ]
        }
      ],
      "source": [
        "# [[0 1]     [[1 2]\n",
        "#  [2 3]] と  [3 4]] の行列積\n",
        "print(np.dot(np.arange(4).reshape(2,2), np.arange(1,5).reshape(2,2)))"
      ]
    },
    {
      "cell_type": "markdown",
      "metadata": {
        "id": "DFUT96F6Qncl"
      },
      "source": [
        "### `sort`\n",
        "\n",
        "**`numpy.sort()`** 関数は、昇順でソートされた新しい配列を返します。\n",
        "これは、組み込み関数 `sorted()` の配列版です。"
      ]
    },
    {
      "cell_type": "code",
      "execution_count": 66,
      "metadata": {
        "id": "RapUVAaUQncl",
        "outputId": "931cee70-92d5-470d-8c48-1286e7605d23",
        "colab": {
          "base_uri": "https://localhost:8080/"
        }
      },
      "outputs": [
        {
          "output_type": "stream",
          "name": "stdout",
          "text": [
            "[ 3  4 -1  0  2]\n",
            "[-1  0  2  3  4]\n",
            "[1, 2, 3, 4, 5, 45]\n"
          ]
        }
      ],
      "source": [
        "a = np.array([3, 4, -1, 0, 2])\n",
        "print(a)\n",
        "print(np.sort(a))\n",
        "print(sorted((4,2,5,3,1,45)))"
      ]
    },
    {
      "cell_type": "markdown",
      "metadata": {
        "id": "Oymh46YSQncl"
      },
      "source": [
        "一方、配列の **`sort()`** メソッドは、配列を破壊的に（インプレースで）ソートします。\n",
        "これは、リストの `sort()` メソッドの配列版です。"
      ]
    },
    {
      "cell_type": "code",
      "execution_count": 69,
      "metadata": {
        "id": "kXi_ebBqQncm",
        "outputId": "a3fe72e4-c720-4245-c305-fc1eeb11cf60",
        "colab": {
          "base_uri": "https://localhost:8080/"
        }
      },
      "outputs": [
        {
          "output_type": "stream",
          "name": "stdout",
          "text": [
            "[ 3  4 -1  0  2]\n",
            "[-1  0  2  3  4]\n"
          ]
        }
      ],
      "source": [
        "a = np.array([3, 4, -1, 0, 2])\n",
        "print(a)\n",
        "a.sort()\n",
        "print(a)"
      ]
    },
    {
      "cell_type": "markdown",
      "metadata": {
        "id": "UX8XrTcCQncm"
      },
      "source": [
        "### `sum`, `max`, `min`, `mean`\n",
        "\n",
        "配列のメソッド **`sum()`**・**`max()`**・**`min()`**・**`mean()`** は、それぞれ総和・最大値・最小値・算術平均を返します。\n",
        "これらのメソッドは、引数が与えられない場合、全要素を集計した結果を返します。\n",
        "多次元配列の場合、集計する次元を指定できます。\n",
        "具体的には、2次元配列の場合、`0` を指定すると各列に、`1` を指定すると各行に、対応するメソッドを適用した結果が返されます。"
      ]
    },
    {
      "cell_type": "code",
      "execution_count": 70,
      "metadata": {
        "id": "GB0Me8cwQncm",
        "outputId": "eb1fa2c8-c5fc-4970-fe35-1c8a920d668c",
        "colab": {
          "base_uri": "https://localhost:8080/"
        }
      },
      "outputs": [
        {
          "output_type": "stream",
          "name": "stdout",
          "text": [
            "[[0 1 2]\n",
            " [3 4 5]]\n",
            "15\n",
            "[3 5 7]\n",
            "[ 3 12]\n"
          ]
        }
      ],
      "source": [
        "a = np.arange(6).reshape(2,3)\n",
        "print(a)\n",
        "print(a.sum())\n",
        "print(a.sum(0))\n",
        "print(a.sum(1))"
      ]
    },
    {
      "cell_type": "markdown",
      "metadata": {
        "id": "WyZiVJKRQncm"
      },
      "source": [
        "この他にも、多数の数学・統計関連のメソッドや関数が提供されています。\n",
        "詳しくは、[数学関数](https://docs.scipy.org/doc/numpy/reference/routines.math.html)や[統計関数](https://docs.scipy.org/doc/numpy/reference/routines.statistics.html)を参照してください。"
      ]
    },
    {
      "cell_type": "markdown",
      "metadata": {
        "id": "-11RSQn-Qncm"
      },
      "source": [
        "## 配列の保存と復元\n",
        "\n",
        "配列は、ファイルに保存したり、ファイルから読み出したりすることが、簡単にできます。\n",
        "\n",
        "**`numpy.savetxt()`** 関数は、与えられた配列を指定されたファイル名をつけてテキスト形式で保存します。"
      ]
    },
    {
      "cell_type": "code",
      "execution_count": 71,
      "metadata": {
        "id": "8_nPgS8iQncm"
      },
      "outputs": [],
      "source": [
        "np.savetxt('arange3.txt', np.arange(3))"
      ]
    },
    {
      "cell_type": "markdown",
      "metadata": {
        "id": "bXF_y-beQncm"
      },
      "source": [
        "この `arange3.txt` は、次のような内容になっているはずです。\n",
        "```\n",
        "0.000000000000000000e+00\n",
        "1.000000000000000000e+00\n",
        "2.000000000000000000e+00\n",
        "```\n",
        "2次元配列は、列が空白区切りで保存されます"
      ]
    },
    {
      "cell_type": "code",
      "execution_count": 72,
      "metadata": {
        "id": "36utNYEnQncm"
      },
      "outputs": [],
      "source": [
        "np.savetxt('arange2x3.txt', np.arange(6).reshape(2,3))"
      ]
    },
    {
      "cell_type": "markdown",
      "metadata": {
        "id": "XstNDliuQncm"
      },
      "source": [
        "この `arange2x3.txt` は、次のような内容になっているはずです。\n",
        "```\n",
        "0.000000000000000000e+00 1.000000000000000000e+00 2.000000000000000000e+00\n",
        "3.000000000000000000e+00 4.000000000000000000e+00 5.000000000000000000e+00\n",
        "```\n",
        "\n",
        "一方、**`numpy.loadtxt()`** 関数は、与えられた名前のファイルに保存された配列を復元します。"
      ]
    },
    {
      "cell_type": "code",
      "execution_count": 73,
      "metadata": {
        "id": "_9-LnCKmQncm",
        "outputId": "9ff6b0f7-2b33-4e8b-aeb0-e5e8cae8a38d",
        "colab": {
          "base_uri": "https://localhost:8080/"
        }
      },
      "outputs": [
        {
          "output_type": "stream",
          "name": "stdout",
          "text": [
            "[[0. 1. 2.]\n",
            " [3. 4. 5.]]\n"
          ]
        }
      ],
      "source": [
        "a = np.loadtxt('arange2x3.txt')\n",
        "print(a)"
      ]
    },
    {
      "cell_type": "markdown",
      "metadata": {
        "id": "2Brt2ixAQncm"
      },
      "source": [
        "保存するときに、列の区切り文字をデフォルトの `' '` 以外にしたい場合、`savetxt()` の `delimiter` 引数に区切り文字（列）を指定します。これを復元するときには、`loadtxt()` の `delimiter` 引数に同じ値を指定する必要があります。\n",
        "ただし、区切り文字列はASCII（正確にはLatin-1）で解釈可能でなければなりません。\n",
        "\n",
        "大規模な配列をテキスト形式で保存すると、ファイルサイズがとても大きくなります。\n",
        "そういう場合、圧縮保存が有用です。\n",
        "\n",
        "保存するファイル名の拡張子を `.gz` とすることで、`savetxt()` は自動的にGZip形式で圧縮して保存します。\n",
        "復元するファイル名の拡張子が `.gz` であれば、`loadtxt()` はGZip形式だと判断して、自動的に解凍して復元します。"
      ]
    },
    {
      "cell_type": "markdown",
      "metadata": {
        "id": "V6sm4p50Qncm"
      },
      "source": [
        "## ▲**真理値配列によるインデックスアクセス**\n",
        "\n",
        "配列に対して、比較演算を適用すると、算術演算と同様に要素毎に演算されて、真理値の配列が返ります。"
      ]
    },
    {
      "cell_type": "code",
      "execution_count": 74,
      "metadata": {
        "id": "MG-VuU8LQncm",
        "outputId": "b0aba301-b100-4832-9a9f-f277dcbd62fa",
        "colab": {
          "base_uri": "https://localhost:8080/"
        }
      },
      "outputs": [
        {
          "output_type": "stream",
          "name": "stdout",
          "text": [
            "[0 1 2 3 4 5]\n",
            "[ True  True  True False False False]\n"
          ]
        }
      ],
      "source": [
        "a = np.arange(6)\n",
        "print(a)\n",
        "print(a < 3)"
      ]
    },
    {
      "cell_type": "markdown",
      "metadata": {
        "id": "201ymvcUQncm"
      },
      "source": [
        "このように作られた真理値配列は、インデックスとして利用することができます。\n",
        "これによって、条件を満たす範囲を取り出すような記述が可能になります。\n",
        "次の具体例を見てみましょう。"
      ]
    },
    {
      "cell_type": "code",
      "execution_count": 77,
      "metadata": {
        "id": "54uYgcPBQncm",
        "outputId": "5d8f6ede-b44d-4148-af47-9ed76686152c",
        "colab": {
          "base_uri": "https://localhost:8080/"
        }
      },
      "outputs": [
        {
          "output_type": "stream",
          "name": "stdout",
          "text": [
            "[ 0  1  2 -3 -4  5 -6 -7]\n",
            "[-3 -4 -6 -7]\n",
            "[-4 -6]\n",
            "[0 1 2 8 8 5 8 8]\n"
          ]
        }
      ],
      "source": [
        "a = np.array([0,1,2,-3,-4,5,-6,-7])\n",
        "print(a)\n",
        "print(a[a < 0]) # 負の要素を取り出し\n",
        "print(a[(a < 0) & (a % 2 == 0)]) # 負で偶数の要素を取り出し\n",
        "a[a < 0] = 8 # 負の要素を8に上書き\n",
        "print(a)"
      ]
    },
    {
      "cell_type": "markdown",
      "metadata": {
        "id": "UQOeAD91Qncm"
      },
      "source": [
        "一見すると単なる条件式のように見えますが、インデックスとなるのは真理値ではなく真理値の配列です。\n",
        "したがって、真理値を返す `and`・`or`・`not` の代わりに、要素毎の演算を行う `&`・`|`・`~` を用いる必要があります。\n",
        "\n",
        "同様の記法は、7-1で扱うpandasライブラリでも利用されます。"
      ]
    },
    {
      "cell_type": "markdown",
      "metadata": {
        "id": "2XLSCuDeQncn"
      },
      "source": [
        "## ▲線形代数の演算\n",
        "\n",
        "`numpy.dot()` は、2次元配列を与えたときには、行列積となりました。\n",
        "それだけでなく、行列積専用の **`numpy.matmul()`** も提供されています。\n",
        "\n",
        "また、単位行列は **`numpy.identity()`** 関数で作成することができます。\n",
        "引数に行列のサイズを指定します。"
      ]
    },
    {
      "cell_type": "code",
      "execution_count": 78,
      "metadata": {
        "id": "utTO9mCdQncn",
        "outputId": "326350a1-aa83-4881-cc49-f5fef4394097",
        "colab": {
          "base_uri": "https://localhost:8080/"
        }
      },
      "outputs": [
        {
          "output_type": "stream",
          "name": "stdout",
          "text": [
            "[[1. 0. 0.]\n",
            " [0. 1. 0.]\n",
            " [0. 0. 1.]]\n",
            "[[0 1 2]\n",
            " [3 4 5]\n",
            " [6 7 8]]\n",
            "[[0. 1. 2.]\n",
            " [3. 4. 5.]\n",
            " [6. 7. 8.]]\n"
          ]
        }
      ],
      "source": [
        "I = np.identity(3)\n",
        "print(I)\n",
        "a = np.arange(9).reshape(3,3)\n",
        "print(a)\n",
        "print(np.matmul(a, I))"
      ]
    },
    {
      "cell_type": "markdown",
      "metadata": {
        "id": "o13eVfNxQncn"
      },
      "source": [
        "**`numpy.linalg.norm()`** 関数は、与えられたベクトル（1次元配列）もしくは行列（2次元配列）のノルムを返します。"
      ]
    },
    {
      "cell_type": "code",
      "execution_count": 79,
      "metadata": {
        "id": "dAPhPE94Qncn",
        "outputId": "77cd7de8-23d7-496e-96b1-ea963045425c",
        "colab": {
          "base_uri": "https://localhost:8080/"
        }
      },
      "outputs": [
        {
          "output_type": "execute_result",
          "data": {
            "text/plain": [
              "np.float64(1.7320508075688772)"
            ]
          },
          "metadata": {},
          "execution_count": 79
        }
      ],
      "source": [
        "np.linalg.norm(np.ones(3)) # ユークリッドノルムを計算するのでsqrt(3)と等しい"
      ]
    },
    {
      "cell_type": "markdown",
      "metadata": {
        "id": "65CI8riDQncn"
      },
      "source": [
        "NumPyでは、行列の分解、転置、行列式などの計算を含む線形代数の演算は、**`numpy.linalg`** モジュールで提供されています。\n",
        "詳しくは、[線形代数関連関数](https://docs.scipy.org/doc/numpy/reference/routines.linalg.html)を参照してください。"
      ]
    },
    {
      "cell_type": "markdown",
      "metadata": {
        "id": "_mAeWnLrQncn"
      },
      "source": [
        "## 練習の解答"
      ]
    },
    {
      "cell_type": "code",
      "execution_count": null,
      "metadata": {
        "id": "3J5ZoQoWQncn"
      },
      "outputs": [],
      "source": [
        "def arange_square_matrix(n):\n",
        "    return np.array([np.arange(i, n+i) for i in range(n)])"
      ]
    }
  ],
  "metadata": {
    "kernelspec": {
      "display_name": "Python 3",
      "language": "python",
      "name": "python3"
    },
    "language_info": {
      "name": "python"
    },
    "colab": {
      "provenance": [],
      "include_colab_link": true
    }
  },
  "nbformat": 4,
  "nbformat_minor": 0
}